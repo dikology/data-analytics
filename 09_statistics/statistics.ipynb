{
 "cells": [
  {
   "cell_type": "markdown",
   "metadata": {},
   "source": [
    "# Описание проекта\n",
    "\n",
    "Аналитика популярного сервиса аренды самокатов GoFast. Нам передали данные о некоторых пользователях из нескольких городов, а также об их поездках. Необходимо проанализировать данные и проверить некоторые гипотезы, которые могут помочь бизнесу вырасти.\n",
    "\n",
    "Чтобы совершать поездки по городу, пользователи сервиса GoFast пользуются мобильным приложением. Сервисом можно пользоваться:\n",
    "- без подписки\n",
    "  - абонентская плата отсутствует;\n",
    "  - стоимость одной минуты поездки — 8 рублей;\n",
    "  - стоимость старта (начала поездки) — 50 рублей;\n",
    "- с подпиской Ultra\n",
    "  - абонентская плата — 199 рублей в месяц;\n",
    "  - стоимость одной минуты поездки — 6 рублей;\n",
    "  - стоимость старта — бесплатно."
   ]
  },
  {
   "cell_type": "markdown",
   "metadata": {},
   "source": [
    "## Описание данных\n",
    "\n",
    "В основных данных есть информация о пользователях, их поездках и подписках."
   ]
  },
  {
   "cell_type": "markdown",
   "metadata": {},
   "source": [
    "### Пользователи — `users_go.csv`\n",
    "\n",
    "- `user_id`\tуникальный идентификатор пользователя\n",
    "- `name`\tимя пользователя\n",
    "- `age`\tвозраст\n",
    "- `city`\tгород\n",
    "- `subscription_type`\tтип подписки (free, ultra)"
   ]
  },
  {
   "cell_type": "markdown",
   "metadata": {},
   "source": [
    "### Поездки — `rides_go.csv`\n",
    "\n",
    "- `user_id`\tуникальный идентификатор пользователя\n",
    "- `distance`\tрасстояние, которое пользователь проехал в текущей сессии (в метрах)\n",
    "- `duration`\tпродолжительность сессии (в минутах) — время с того момента, как - пользователь нажал кнопку «Начать поездку» до момента, как он нажал кнопку «Завершить поездку»\n",
    "- `date`\tдата совершения поездки"
   ]
  },
  {
   "cell_type": "markdown",
   "metadata": {},
   "source": [
    "### Подписки — `subscriptions_go.csv`\n",
    "\n",
    "- `subscription_type`\tтип подписки\n",
    "- `minute_price`\tстоимость одной минуты поездки по данной подписке\n",
    "- `start_ride_price`\tстоимость начала поездки\n",
    "- `subscription_fee`\tстоимость ежемесячного платежа"
   ]
  },
  {
   "cell_type": "markdown",
   "metadata": {},
   "source": [
    "## Оглавление\n",
    "\n",
    "1. [Загрузка данных](#start)\n",
    "2. [Предобработка данных](#preparation)\n",
    "3. [Исследовательский анализ данных](#eda)\n",
    "4. [Объединение данных](#merge)\n",
    "5. [Подсчёт выручки](#revenue)\n",
    "6. [Проверка гипотез](#hypoteses)\n",
    "7. [Распределения](#spread)\n",
    "8. [Выводы и рекомендации](#conclusion)"
   ]
  },
  {
   "cell_type": "markdown",
   "metadata": {},
   "source": [
    "<a id=\"start\"></a>\n",
    "## Загрузка данных\n",
    "\n",
    "Считаем CSV-файлы с данными, выведем первые строки каждого набора данных. Изучим общую информацию о каждом датафрейме."
   ]
  },
  {
   "cell_type": "code",
   "execution_count": 1,
   "metadata": {},
   "outputs": [],
   "source": [
    "# импорт библиотек\n",
    "import pandas as pd\n",
    "import seaborn as sns\n",
    "import matplotlib.pyplot as plt\n",
    "import plotly.express as px\n",
    "from datetime import datetime, timedelta\n",
    "import numpy as np\n",
    "from scipy import stats as st\n",
    "from math import factorial, sqrt\n",
    "\n",
    "\n",
    "\n",
    "\n",
    "# зададим стиль по-умолчанию для графиков\n",
    "plt.style.use('ggplot')"
   ]
  },
  {
   "cell_type": "code",
   "execution_count": 2,
   "metadata": {},
   "outputs": [],
   "source": [
    "# загружаем CSV-файлы с данными и сохраняем их в датафреймы\n",
    "try:\n",
    "    users = pd.read_csv('/datasets/users_go.csv')\n",
    "    rides = pd.read_csv('/datasets/rides_go.csv')\n",
    "    subscriptions = pd.read_csv('/datasets/subscriptions_go.csv')\n",
    "except:\n",
    "    users = pd.read_csv('../datasets/users_go.csv')\n",
    "    rides = pd.read_csv('../datasets/rides_go.csv')\n",
    "    subscriptions = pd.read_csv('../datasets/subscriptions_go.csv')"
   ]
  },
  {
   "cell_type": "code",
   "execution_count": 3,
   "metadata": {},
   "outputs": [
    {
     "name": "stdout",
     "output_type": "stream",
     "text": [
      "dataframe 0 \n",
      "\n",
      "    user_id        name  age            city subscription_type\n",
      "0        1        Кира   22          Тюмень             ultra\n",
      "1        2   Станислав   31            Омск             ultra\n",
      "2        3     Алексей   20          Москва             ultra\n",
      "3        4  Константин   26  Ростов-на-Дону             ultra\n",
      "4        5       Адель   28            Омск             ultra\n",
      "\n",
      "<class 'pandas.core.frame.DataFrame'>\n",
      "RangeIndex: 1565 entries, 0 to 1564\n",
      "Data columns (total 5 columns):\n",
      " #   Column             Non-Null Count  Dtype \n",
      "---  ------             --------------  ----- \n",
      " 0   user_id            1565 non-null   int64 \n",
      " 1   name               1565 non-null   object\n",
      " 2   age                1565 non-null   int64 \n",
      " 3   city               1565 non-null   object\n",
      " 4   subscription_type  1565 non-null   object\n",
      "dtypes: int64(2), object(3)\n",
      "memory usage: 61.3+ KB\n"
     ]
    },
    {
     "data": {
      "text/plain": [
       "None"
      ]
     },
     "metadata": {},
     "output_type": "display_data"
    },
    {
     "name": "stdout",
     "output_type": "stream",
     "text": [
      "\n",
      "dataframe 1 \n",
      "\n",
      "    user_id     distance   duration        date\n",
      "0        1  4409.919140  25.599769  2021-01-01\n",
      "1        1  2617.592153  15.816871  2021-01-18\n",
      "2        1   754.159807   6.232113  2021-04-20\n",
      "3        1  2694.783254  18.511000  2021-08-11\n",
      "4        1  4028.687306  26.265803  2021-08-28\n",
      "\n",
      "<class 'pandas.core.frame.DataFrame'>\n",
      "RangeIndex: 18068 entries, 0 to 18067\n",
      "Data columns (total 4 columns):\n",
      " #   Column    Non-Null Count  Dtype  \n",
      "---  ------    --------------  -----  \n",
      " 0   user_id   18068 non-null  int64  \n",
      " 1   distance  18068 non-null  float64\n",
      " 2   duration  18068 non-null  float64\n",
      " 3   date      18068 non-null  object \n",
      "dtypes: float64(2), int64(1), object(1)\n",
      "memory usage: 564.8+ KB\n"
     ]
    },
    {
     "data": {
      "text/plain": [
       "None"
      ]
     },
     "metadata": {},
     "output_type": "display_data"
    },
    {
     "name": "stdout",
     "output_type": "stream",
     "text": [
      "\n",
      "dataframe 2 \n",
      "\n",
      "   subscription_type  minute_price  start_ride_price  subscription_fee\n",
      "0              free             8                50                 0\n",
      "1             ultra             6                 0               199\n",
      "\n",
      "<class 'pandas.core.frame.DataFrame'>\n",
      "RangeIndex: 2 entries, 0 to 1\n",
      "Data columns (total 4 columns):\n",
      " #   Column             Non-Null Count  Dtype \n",
      "---  ------             --------------  ----- \n",
      " 0   subscription_type  2 non-null      object\n",
      " 1   minute_price       2 non-null      int64 \n",
      " 2   start_ride_price   2 non-null      int64 \n",
      " 3   subscription_fee   2 non-null      int64 \n",
      "dtypes: int64(3), object(1)\n",
      "memory usage: 192.0+ bytes\n"
     ]
    },
    {
     "data": {
      "text/plain": [
       "None"
      ]
     },
     "metadata": {},
     "output_type": "display_data"
    },
    {
     "name": "stdout",
     "output_type": "stream",
     "text": [
      "\n"
     ]
    }
   ],
   "source": [
    "# Выведем первые строки каждого набора данных. Изучим общую информацию о каждом датафрейме\n",
    "def print_df_heads(df):\n",
    "    \"\"\"Выводит первые строки каждого набора данных из переданного списка\n",
    "    \n",
    "    :param list df: Список для работы.\n",
    "    \"\"\"\n",
    "    for id, item in enumerate(df):\n",
    "        try:\n",
    "            print(f'dataframe {id} \\n\\n', item.head())\n",
    "            print ('')\n",
    "            display(item.info())\n",
    "            print ('')\n",
    "        except:\n",
    "            print('Невозможно вывести информацию')\n",
    "\n",
    "print_df_heads([users, rides, subscriptions])"
   ]
  },
  {
   "cell_type": "markdown",
   "metadata": {},
   "source": [
    "### Промежуточные итоги\n",
    "\n",
    "- `users`: 1565 записей (проверить на дубликаты), пропусков нет, типы данных корректные\n",
    "- `rides`: 18068 записей (поездок)(проверить на дубликаты), пропусков нет, для даты нужно сменить тип данных\n",
    "- `subscriptions`: две записи, соответствуют данным в описании"
   ]
  },
  {
   "cell_type": "markdown",
   "metadata": {},
   "source": [
    "<a id=\"spreparationtart\"></a>\n",
    "## Предобработка данных\n",
    "\n",
    "- 2.1 Приведём столбец `date` к типу даты pandas.\n",
    "- 2.2 Создадим новый столбец с номером месяца на основе столбца `date`.\n",
    "- 2.3 Проверим наличие пропущенных значений и дубликатов в датафреймах. "
   ]
  },
  {
   "cell_type": "code",
   "execution_count": 4,
   "metadata": {},
   "outputs": [
    {
     "data": {
      "text/plain": [
       "user_id              int64\n",
       "distance           float64\n",
       "duration           float64\n",
       "date        datetime64[ns]\n",
       "dtype: object"
      ]
     },
     "execution_count": 4,
     "metadata": {},
     "output_type": "execute_result"
    }
   ],
   "source": [
    "# Приведём столбец `date` к типу даты pandas.\n",
    "rides['date'] = pd.to_datetime(rides['date'])\n",
    "rides.dtypes"
   ]
  },
  {
   "cell_type": "code",
   "execution_count": 5,
   "metadata": {},
   "outputs": [
    {
     "data": {
      "image/png": "[encoded data removed]",
      "text/plain": [
       "<Figure size 432x288 with 1 Axes>"
      ]
     },
     "metadata": {},
     "output_type": "display_data"
    }
   ],
   "source": [
    "# посмотрим, за какой период представлены данные, чтобы убедиться что данные за несколько лет не склеиются при агрегации по месяцам\n",
    "sns.histplot(rides['date'])\n",
    "plt.show()"
   ]
  },
  {
   "cell_type": "code",
   "execution_count": 6,
   "metadata": {},
   "outputs": [
    {
     "data": {
      "text/plain": [
       "2021-01-01    56\n",
       "2021-01-02    54\n",
       "2021-01-03    57\n",
       "2021-01-04    37\n",
       "2021-01-05    59\n",
       "              ..\n",
       "2021-12-26    38\n",
       "2021-12-27    69\n",
       "2021-12-28    56\n",
       "2021-12-29    46\n",
       "2021-12-30    48\n",
       "Name: date, Length: 364, dtype: int64"
      ]
     },
     "execution_count": 6,
     "metadata": {},
     "output_type": "execute_result"
    }
   ],
   "source": [
    "rides['date'].value_counts().sort_index()"
   ]
  },
  {
   "cell_type": "markdown",
   "metadata": {},
   "source": [
    "в данных только 2021 год, поэтому хранить можно только месяц без указания года"
   ]
  },
  {
   "cell_type": "code",
   "execution_count": 7,
   "metadata": {},
   "outputs": [
    {
     "data": {
      "text/plain": [
       "1     1585\n",
       "5     1560\n",
       "6     1553\n",
       "3     1544\n",
       "7     1529\n",
       "12    1527\n",
       "8     1518\n",
       "9     1517\n",
       "4     1506\n",
       "10    1475\n",
       "11    1418\n",
       "2     1336\n",
       "Name: month, dtype: int64"
      ]
     },
     "execution_count": 7,
     "metadata": {},
     "output_type": "execute_result"
    }
   ],
   "source": [
    "# Создадим новый столбец с номером месяца на основе столбца `date`.\n",
    "# в данных только 2021 год, поэтому хранить можно только месяц без указания года\n",
    "rides['month'] = rides['date'].dt.month\n",
    "rides['month'].value_counts()"
   ]
  },
  {
   "cell_type": "code",
   "execution_count": 8,
   "metadata": {},
   "outputs": [
    {
     "name": "stdout",
     "output_type": "stream",
     "text": [
      "dataframe 0 \n",
      "\n",
      " Количество дубликатов: 31\n",
      "\n",
      "user_id              0\n",
      "name                 0\n",
      "age                  0\n",
      "city                 0\n",
      "subscription_type    0\n",
      "dtype: int64\n",
      "\n",
      "dataframe 1 \n",
      "\n",
      " Количество дубликатов: 0\n",
      "\n",
      "user_id     0\n",
      "distance    0\n",
      "duration    0\n",
      "date        0\n",
      "month       0\n",
      "dtype: int64\n",
      "\n",
      "dataframe 2 \n",
      "\n",
      " Количество дубликатов: 0\n",
      "\n",
      "subscription_type    0\n",
      "minute_price         0\n",
      "start_ride_price     0\n",
      "subscription_fee     0\n",
      "dtype: int64\n",
      "\n"
     ]
    }
   ],
   "source": [
    "#Проверим наличие пропущенных значений и дубликатов в датафреймах. \n",
    "def duplicates_empty_values(df):\n",
    "    \"\"\"Выводит количество пропусков и полных дубликатов каждого набора данных из переданного списка\n",
    "    \n",
    "    :param list df: Список для работы.\n",
    "    \"\"\"\n",
    "    for id, item in enumerate(df):\n",
    "        try:\n",
    "            print(f'dataframe {id} \\n\\n', f'Количество дубликатов: {item.duplicated().sum()}')\n",
    "            print ('')\n",
    "            print(item.isna().sum())\n",
    "            print ('')\n",
    "        except:\n",
    "            print('Невозможно вывести информацию')\n",
    "\n",
    "duplicates_empty_values([users, rides, subscriptions])"
   ]
  },
  {
   "cell_type": "code",
   "execution_count": 9,
   "metadata": {},
   "outputs": [
    {
     "data": {
      "text/html": [
       "<div>\n",
       "<style scoped>\n",
       "    .dataframe tbody tr th:only-of-type {\n",
       "        vertical-align: middle;\n",
       "    }\n",
       "\n",
       "    .dataframe tbody tr th {\n",
       "        vertical-align: top;\n",
       "    }\n",
       "\n",
       "    .dataframe thead th {\n",
       "        text-align: right;\n",
       "    }\n",
       "</style>\n",
       "<table border=\"1\" class=\"dataframe\">\n",
       "  <thead>\n",
       "    <tr style=\"text-align: right;\">\n",
       "      <th></th>\n",
       "      <th>user_id</th>\n",
       "      <th>name</th>\n",
       "      <th>age</th>\n",
       "      <th>city</th>\n",
       "      <th>subscription_type</th>\n",
       "    </tr>\n",
       "  </thead>\n",
       "  <tbody>\n",
       "    <tr>\n",
       "      <th>15</th>\n",
       "      <td>16</td>\n",
       "      <td>Амалия</td>\n",
       "      <td>27</td>\n",
       "      <td>Краснодар</td>\n",
       "      <td>ultra</td>\n",
       "    </tr>\n",
       "    <tr>\n",
       "      <th>1535</th>\n",
       "      <td>16</td>\n",
       "      <td>Амалия</td>\n",
       "      <td>27</td>\n",
       "      <td>Краснодар</td>\n",
       "      <td>ultra</td>\n",
       "    </tr>\n",
       "    <tr>\n",
       "      <th>42</th>\n",
       "      <td>43</td>\n",
       "      <td>Стефания</td>\n",
       "      <td>22</td>\n",
       "      <td>Омск</td>\n",
       "      <td>ultra</td>\n",
       "    </tr>\n",
       "    <tr>\n",
       "      <th>1539</th>\n",
       "      <td>43</td>\n",
       "      <td>Стефания</td>\n",
       "      <td>22</td>\n",
       "      <td>Омск</td>\n",
       "      <td>ultra</td>\n",
       "    </tr>\n",
       "    <tr>\n",
       "      <th>1563</th>\n",
       "      <td>47</td>\n",
       "      <td>Юрий</td>\n",
       "      <td>28</td>\n",
       "      <td>Тюмень</td>\n",
       "      <td>ultra</td>\n",
       "    </tr>\n",
       "    <tr>\n",
       "      <th>...</th>\n",
       "      <td>...</td>\n",
       "      <td>...</td>\n",
       "      <td>...</td>\n",
       "      <td>...</td>\n",
       "      <td>...</td>\n",
       "    </tr>\n",
       "    <tr>\n",
       "      <th>1554</th>\n",
       "      <td>1198</td>\n",
       "      <td>Демид</td>\n",
       "      <td>29</td>\n",
       "      <td>Ростов-на-Дону</td>\n",
       "      <td>free</td>\n",
       "    </tr>\n",
       "    <tr>\n",
       "      <th>1558</th>\n",
       "      <td>1237</td>\n",
       "      <td>Евгения</td>\n",
       "      <td>23</td>\n",
       "      <td>Тюмень</td>\n",
       "      <td>free</td>\n",
       "    </tr>\n",
       "    <tr>\n",
       "      <th>1236</th>\n",
       "      <td>1237</td>\n",
       "      <td>Евгения</td>\n",
       "      <td>23</td>\n",
       "      <td>Тюмень</td>\n",
       "      <td>free</td>\n",
       "    </tr>\n",
       "    <tr>\n",
       "      <th>1544</th>\n",
       "      <td>1245</td>\n",
       "      <td>Регина</td>\n",
       "      <td>27</td>\n",
       "      <td>Пятигорск</td>\n",
       "      <td>free</td>\n",
       "    </tr>\n",
       "    <tr>\n",
       "      <th>1244</th>\n",
       "      <td>1245</td>\n",
       "      <td>Регина</td>\n",
       "      <td>27</td>\n",
       "      <td>Пятигорск</td>\n",
       "      <td>free</td>\n",
       "    </tr>\n",
       "  </tbody>\n",
       "</table>\n",
       "<p>62 rows × 5 columns</p>\n",
       "</div>"
      ],
      "text/plain": [
       "      user_id      name  age            city subscription_type\n",
       "15         16    Амалия   27       Краснодар             ultra\n",
       "1535       16    Амалия   27       Краснодар             ultra\n",
       "42         43  Стефания   22            Омск             ultra\n",
       "1539       43  Стефания   22            Омск             ultra\n",
       "1563       47      Юрий   28          Тюмень             ultra\n",
       "...       ...       ...  ...             ...               ...\n",
       "1554     1198     Демид   29  Ростов-на-Дону              free\n",
       "1558     1237   Евгения   23          Тюмень              free\n",
       "1236     1237   Евгения   23          Тюмень              free\n",
       "1544     1245    Регина   27       Пятигорск              free\n",
       "1244     1245    Регина   27       Пятигорск              free\n",
       "\n",
       "[62 rows x 5 columns]"
      ]
     },
     "execution_count": 9,
     "metadata": {},
     "output_type": "execute_result"
    }
   ],
   "source": [
    "# Нашлись дубликаты в таблице пользователей \n",
    "duplicateRows = users[users.duplicated(keep=False)]\n",
    "duplicateRows.sort_values(by='user_id')"
   ]
  },
  {
   "cell_type": "code",
   "execution_count": 10,
   "metadata": {},
   "outputs": [
    {
     "name": "stdout",
     "output_type": "stream",
     "text": [
      "<class 'pandas.core.frame.DataFrame'>\n",
      "Int64Index: 1534 entries, 0 to 1533\n",
      "Data columns (total 5 columns):\n",
      " #   Column             Non-Null Count  Dtype \n",
      "---  ------             --------------  ----- \n",
      " 0   user_id            1534 non-null   int64 \n",
      " 1   name               1534 non-null   object\n",
      " 2   age                1534 non-null   int64 \n",
      " 3   city               1534 non-null   object\n",
      " 4   subscription_type  1534 non-null   object\n",
      "dtypes: int64(2), object(3)\n",
      "memory usage: 71.9+ KB\n"
     ]
    }
   ],
   "source": [
    "users = users.drop_duplicates()\n",
    "users.info()"
   ]
  },
  {
   "cell_type": "markdown",
   "metadata": {},
   "source": [
    "### Промежуточные итоги\n",
    "- Привели столбец `date` к типу даты pandas.\n",
    "- Создали новый столбец с номером месяца на основе столбца `date`.\n",
    "- Проверили наличие пропущенных значений (их нет) и дубликатов в датафреймах. Нашли и удалили дубликаты в таблице пользователей"
   ]
  },
  {
   "cell_type": "markdown",
   "metadata": {},
   "source": [
    "<a id=\"eda\"></a>\n",
    "## Исследовательский анализ данных\n",
    "\n",
    "Опишем и визуализируем общую информацию о пользователях и поездках:\n",
    "- 3.1 частота встречаемости городов;\n",
    "- 3.2 соотношение пользователей с подпиской и без подписки;\n",
    "- 3.3 возраст пользователей;\n",
    "- 3.4 расстояние, которое пользователь преодолел за одну поездку;\n",
    "- 3.5 продолжительность поездок."
   ]
  },
  {
   "cell_type": "code",
   "execution_count": 11,
   "metadata": {},
   "outputs": [
    {
     "data": {
      "text/plain": [
       "Пятигорск         219\n",
       "Екатеринбург      204\n",
       "Ростов-на-Дону    198\n",
       "Краснодар         193\n",
       "Сочи              189\n",
       "Омск              183\n",
       "Тюмень            180\n",
       "Москва            168\n",
       "Name: city, dtype: int64"
      ]
     },
     "execution_count": 11,
     "metadata": {},
     "output_type": "execute_result"
    }
   ],
   "source": [
    "# частота встречаемости городов;\n",
    "\n",
    "city_count = users['city'].value_counts()\n",
    "city_count\n"
   ]
  },
  {
   "cell_type": "code",
   "execution_count": 12,
   "metadata": {},
   "outputs": [
    {
     "data": {
      "image/png": "[encoded data removed]",
      "text/plain": [
       "<Figure size 720x360 with 1 Axes>"
      ]
     },
     "metadata": {},
     "output_type": "display_data"
    }
   ],
   "source": [
    "# Plotting a bar graph of the number of users in each city, listed in the column 'city'\n",
    "plt.figure(figsize=(10,5))\n",
    "splot = sns.barplot(y=city_count.index, x=city_count.values, alpha=0.8)\n",
    "\n",
    "for p in splot.patches:\n",
    "    width = p.get_width()\n",
    "    plt.text(5+p.get_width(), p.get_y()+0.55*p.get_height(),\n",
    "             '{0:g}'.format(width),\n",
    "             ha='center', va='center')\n",
    "\n",
    "plt.title('Частота встречаемости городов')\n",
    "plt.ylabel('Город', fontsize=12)\n",
    "plt.xlabel('Количество пользователей', fontsize=12)\n",
    "\n",
    "plt.show()"
   ]
  },
  {
   "cell_type": "code",
   "execution_count": null,
   "metadata": {},
   "outputs": [],
   "source": []
  },
  {
   "cell_type": "code",
   "execution_count": 13,
   "metadata": {},
   "outputs": [
    {
     "data": {
      "text/plain": [
       "subscription_type\n",
       "free     835\n",
       "ultra    699\n",
       "Name: user_id, dtype: int64"
      ]
     },
     "execution_count": 13,
     "metadata": {},
     "output_type": "execute_result"
    }
   ],
   "source": [
    "# соотношение пользователей с подпиской и без подписки;\n",
    "subscription_users = users.groupby('subscription_type')['user_id'].agg('count')\n",
    "subscription_users"
   ]
  },
  {
   "cell_type": "code",
   "execution_count": 14,
   "metadata": {},
   "outputs": [
    {
     "data": {
      "image/png": "[encoded data removed]",
      "text/plain": [
       "<Figure size 432x288 with 1 Axes>"
      ]
     },
     "metadata": {},
     "output_type": "display_data"
    }
   ],
   "source": [
    "#define Seaborn color palette to use\n",
    "colors = sns.color_palette('pastel')[0:5]\n",
    "\n",
    "#create pie chart\n",
    "plt.pie(subscription_users.values, labels = subscription_users.index, colors=colors, autopct='%.0f%%')\n",
    "\n",
    "plt.title('соотношение пользователей с подпиской и без подписки')\n",
    "plt.show()"
   ]
  },
  {
   "cell_type": "code",
   "execution_count": 15,
   "metadata": {},
   "outputs": [
    {
     "data": {
      "text/plain": [
       "12      4\n",
       "13      8\n",
       "14      9\n",
       "15     13\n",
       "16     19\n",
       "17     26\n",
       "18     46\n",
       "19     47\n",
       "20     71\n",
       "21     93\n",
       "22    119\n",
       "23    129\n",
       "24    132\n",
       "25    145\n",
       "26    131\n",
       "27    119\n",
       "28    112\n",
       "29     68\n",
       "30     68\n",
       "31     48\n",
       "32     41\n",
       "33     39\n",
       "34     19\n",
       "35     15\n",
       "36      6\n",
       "37      2\n",
       "38      3\n",
       "39      1\n",
       "43      1\n",
       "Name: age, dtype: int64"
      ]
     },
     "execution_count": 15,
     "metadata": {},
     "output_type": "execute_result"
    }
   ],
   "source": [
    "# возраст пользователей;\n",
    "\n",
    "user_age = users['age'].value_counts().sort_index()\n",
    "user_age"
   ]
  },
  {
   "cell_type": "code",
   "execution_count": 16,
   "metadata": {},
   "outputs": [
    {
     "data": {
      "image/png": "[encoded data removed]",
      "text/plain": [
       "<Figure size 720x360 with 1 Axes>"
      ]
     },
     "metadata": {},
     "output_type": "display_data"
    }
   ],
   "source": [
    "#\n",
    "\n",
    "plt.figure(figsize=(10,5))\n",
    "splot = sns.barplot(x=user_age.index, y=user_age.values, alpha=0.8)\n",
    "\n",
    "plt.title('Возраст пользователей')\n",
    "plt.ylabel('Количество пользователей', fontsize=12)\n",
    "plt.xlabel('Возраст', fontsize=12)\n",
    "\n",
    "plt.show()"
   ]
  },
  {
   "cell_type": "code",
   "execution_count": 17,
   "metadata": {},
   "outputs": [
    {
     "data": {
      "image/png": "[encoded data removed]",
      "text/plain": [
       "<Figure size 432x288 with 1 Axes>"
      ]
     },
     "metadata": {},
     "output_type": "display_data"
    }
   ],
   "source": [
    "# расстояние, которое пользователь преодолел за одну поездку;\n",
    "\n",
    "# посмотрим на гистограмму `distance`\n",
    "sns.histplot(rides['distance'])\n",
    "\n",
    "plt.title('расстояние, которое пользователь преодолел за одну поездку')\n",
    "plt.ylabel('Количество пользователей', fontsize=12)\n",
    "plt.xlabel('Расстояние', fontsize=12)\n",
    "\n",
    "plt.show()"
   ]
  },
  {
   "cell_type": "code",
   "execution_count": 18,
   "metadata": {},
   "outputs": [
    {
     "data": {
      "image/png": "[encoded data removed]",
      "text/plain": [
       "<Figure size 432x288 with 1 Axes>"
      ]
     },
     "metadata": {},
     "output_type": "display_data"
    }
   ],
   "source": [
    "# продолжительность поездок.\n",
    "\n",
    "# посмотрим на гистограмму `duration`\n",
    "sns.histplot(rides['duration'])\n",
    "\n",
    "plt.title('продолжительность поездок')\n",
    "plt.ylabel('Количество пользователей', fontsize=12)\n",
    "plt.xlabel('Продолжительность', fontsize=12)\n",
    "\n",
    "plt.show()"
   ]
  },
  {
   "cell_type": "code",
   "execution_count": 19,
   "metadata": {},
   "outputs": [
    {
     "data": {
      "text/html": [
       "<div>\n",
       "<style scoped>\n",
       "    .dataframe tbody tr th:only-of-type {\n",
       "        vertical-align: middle;\n",
       "    }\n",
       "\n",
       "    .dataframe tbody tr th {\n",
       "        vertical-align: top;\n",
       "    }\n",
       "\n",
       "    .dataframe thead th {\n",
       "        text-align: right;\n",
       "    }\n",
       "</style>\n",
       "<table border=\"1\" class=\"dataframe\">\n",
       "  <thead>\n",
       "    <tr style=\"text-align: right;\">\n",
       "      <th></th>\n",
       "      <th>user_id</th>\n",
       "      <th>distance</th>\n",
       "      <th>duration</th>\n",
       "      <th>date</th>\n",
       "      <th>month</th>\n",
       "    </tr>\n",
       "  </thead>\n",
       "  <tbody>\n",
       "    <tr>\n",
       "      <th>6531</th>\n",
       "      <td>701</td>\n",
       "      <td>4196.445201</td>\n",
       "      <td>0.500000</td>\n",
       "      <td>2021-08-31</td>\n",
       "      <td>8</td>\n",
       "    </tr>\n",
       "    <tr>\n",
       "      <th>6570</th>\n",
       "      <td>704</td>\n",
       "      <td>4830.824371</td>\n",
       "      <td>0.500000</td>\n",
       "      <td>2021-10-14</td>\n",
       "      <td>10</td>\n",
       "    </tr>\n",
       "    <tr>\n",
       "      <th>6680</th>\n",
       "      <td>712</td>\n",
       "      <td>4684.004397</td>\n",
       "      <td>0.500000</td>\n",
       "      <td>2021-03-04</td>\n",
       "      <td>3</td>\n",
       "    </tr>\n",
       "    <tr>\n",
       "      <th>6691</th>\n",
       "      <td>712</td>\n",
       "      <td>23.963062</td>\n",
       "      <td>2.053251</td>\n",
       "      <td>2021-11-22</td>\n",
       "      <td>11</td>\n",
       "    </tr>\n",
       "    <tr>\n",
       "      <th>6695</th>\n",
       "      <td>713</td>\n",
       "      <td>5215.642710</td>\n",
       "      <td>0.500000</td>\n",
       "      <td>2021-02-25</td>\n",
       "      <td>2</td>\n",
       "    </tr>\n",
       "    <tr>\n",
       "      <th>...</th>\n",
       "      <td>...</td>\n",
       "      <td>...</td>\n",
       "      <td>...</td>\n",
       "      <td>...</td>\n",
       "      <td>...</td>\n",
       "    </tr>\n",
       "    <tr>\n",
       "      <th>17505</th>\n",
       "      <td>1496</td>\n",
       "      <td>5722.551787</td>\n",
       "      <td>0.500000</td>\n",
       "      <td>2021-02-14</td>\n",
       "      <td>2</td>\n",
       "    </tr>\n",
       "    <tr>\n",
       "      <th>17663</th>\n",
       "      <td>1507</td>\n",
       "      <td>214.587357</td>\n",
       "      <td>2.495202</td>\n",
       "      <td>2021-05-25</td>\n",
       "      <td>5</td>\n",
       "    </tr>\n",
       "    <tr>\n",
       "      <th>17712</th>\n",
       "      <td>1510</td>\n",
       "      <td>166.223109</td>\n",
       "      <td>2.343910</td>\n",
       "      <td>2021-09-06</td>\n",
       "      <td>9</td>\n",
       "    </tr>\n",
       "    <tr>\n",
       "      <th>17802</th>\n",
       "      <td>1516</td>\n",
       "      <td>393.696926</td>\n",
       "      <td>2.874882</td>\n",
       "      <td>2021-07-28</td>\n",
       "      <td>7</td>\n",
       "    </tr>\n",
       "    <tr>\n",
       "      <th>17909</th>\n",
       "      <td>1524</td>\n",
       "      <td>4103.998874</td>\n",
       "      <td>0.500000</td>\n",
       "      <td>2021-06-18</td>\n",
       "      <td>6</td>\n",
       "    </tr>\n",
       "  </tbody>\n",
       "</table>\n",
       "<p>128 rows × 5 columns</p>\n",
       "</div>"
      ],
      "text/plain": [
       "       user_id     distance  duration       date  month\n",
       "6531       701  4196.445201  0.500000 2021-08-31      8\n",
       "6570       704  4830.824371  0.500000 2021-10-14     10\n",
       "6680       712  4684.004397  0.500000 2021-03-04      3\n",
       "6691       712    23.963062  2.053251 2021-11-22     11\n",
       "6695       713  5215.642710  0.500000 2021-02-25      2\n",
       "...        ...          ...       ...        ...    ...\n",
       "17505     1496  5722.551787  0.500000 2021-02-14      2\n",
       "17663     1507   214.587357  2.495202 2021-05-25      5\n",
       "17712     1510   166.223109  2.343910 2021-09-06      9\n",
       "17802     1516   393.696926  2.874882 2021-07-28      7\n",
       "17909     1524  4103.998874  0.500000 2021-06-18      6\n",
       "\n",
       "[128 rows x 5 columns]"
      ]
     },
     "execution_count": 19,
     "metadata": {},
     "output_type": "execute_result"
    }
   ],
   "source": [
    "# изучим аномальный выброс на данных, где продолжительность поездки около 0\n",
    "rides.loc[rides['duration'] < 3]"
   ]
  },
  {
   "cell_type": "code",
   "execution_count": 20,
   "metadata": {},
   "outputs": [
    {
     "data": {
      "text/html": [
       "<div>\n",
       "<style scoped>\n",
       "    .dataframe tbody tr th:only-of-type {\n",
       "        vertical-align: middle;\n",
       "    }\n",
       "\n",
       "    .dataframe tbody tr th {\n",
       "        vertical-align: top;\n",
       "    }\n",
       "\n",
       "    .dataframe thead th {\n",
       "        text-align: right;\n",
       "    }\n",
       "</style>\n",
       "<table border=\"1\" class=\"dataframe\">\n",
       "  <thead>\n",
       "    <tr style=\"text-align: right;\">\n",
       "      <th></th>\n",
       "      <th>user_id</th>\n",
       "      <th>distance</th>\n",
       "      <th>duration</th>\n",
       "      <th>date</th>\n",
       "      <th>month</th>\n",
       "    </tr>\n",
       "  </thead>\n",
       "  <tbody>\n",
       "    <tr>\n",
       "      <th>6531</th>\n",
       "      <td>701</td>\n",
       "      <td>4196.445201</td>\n",
       "      <td>0.5</td>\n",
       "      <td>2021-08-31</td>\n",
       "      <td>8</td>\n",
       "    </tr>\n",
       "    <tr>\n",
       "      <th>6570</th>\n",
       "      <td>704</td>\n",
       "      <td>4830.824371</td>\n",
       "      <td>0.5</td>\n",
       "      <td>2021-10-14</td>\n",
       "      <td>10</td>\n",
       "    </tr>\n",
       "    <tr>\n",
       "      <th>6680</th>\n",
       "      <td>712</td>\n",
       "      <td>4684.004397</td>\n",
       "      <td>0.5</td>\n",
       "      <td>2021-03-04</td>\n",
       "      <td>3</td>\n",
       "    </tr>\n",
       "    <tr>\n",
       "      <th>6695</th>\n",
       "      <td>713</td>\n",
       "      <td>5215.642710</td>\n",
       "      <td>0.5</td>\n",
       "      <td>2021-02-25</td>\n",
       "      <td>2</td>\n",
       "    </tr>\n",
       "    <tr>\n",
       "      <th>6768</th>\n",
       "      <td>718</td>\n",
       "      <td>5197.436649</td>\n",
       "      <td>0.5</td>\n",
       "      <td>2021-02-11</td>\n",
       "      <td>2</td>\n",
       "    </tr>\n",
       "    <tr>\n",
       "      <th>...</th>\n",
       "      <td>...</td>\n",
       "      <td>...</td>\n",
       "      <td>...</td>\n",
       "      <td>...</td>\n",
       "      <td>...</td>\n",
       "    </tr>\n",
       "    <tr>\n",
       "      <th>17004</th>\n",
       "      <td>1460</td>\n",
       "      <td>5531.335845</td>\n",
       "      <td>0.5</td>\n",
       "      <td>2021-01-19</td>\n",
       "      <td>1</td>\n",
       "    </tr>\n",
       "    <tr>\n",
       "      <th>17242</th>\n",
       "      <td>1477</td>\n",
       "      <td>6724.932981</td>\n",
       "      <td>0.5</td>\n",
       "      <td>2021-01-12</td>\n",
       "      <td>1</td>\n",
       "    </tr>\n",
       "    <tr>\n",
       "      <th>17314</th>\n",
       "      <td>1483</td>\n",
       "      <td>4445.481070</td>\n",
       "      <td>0.5</td>\n",
       "      <td>2021-03-06</td>\n",
       "      <td>3</td>\n",
       "    </tr>\n",
       "    <tr>\n",
       "      <th>17505</th>\n",
       "      <td>1496</td>\n",
       "      <td>5722.551787</td>\n",
       "      <td>0.5</td>\n",
       "      <td>2021-02-14</td>\n",
       "      <td>2</td>\n",
       "    </tr>\n",
       "    <tr>\n",
       "      <th>17909</th>\n",
       "      <td>1524</td>\n",
       "      <td>4103.998874</td>\n",
       "      <td>0.5</td>\n",
       "      <td>2021-06-18</td>\n",
       "      <td>6</td>\n",
       "    </tr>\n",
       "  </tbody>\n",
       "</table>\n",
       "<p>95 rows × 5 columns</p>\n",
       "</div>"
      ],
      "text/plain": [
       "       user_id     distance  duration       date  month\n",
       "6531       701  4196.445201       0.5 2021-08-31      8\n",
       "6570       704  4830.824371       0.5 2021-10-14     10\n",
       "6680       712  4684.004397       0.5 2021-03-04      3\n",
       "6695       713  5215.642710       0.5 2021-02-25      2\n",
       "6768       718  5197.436649       0.5 2021-02-11      2\n",
       "...        ...          ...       ...        ...    ...\n",
       "17004     1460  5531.335845       0.5 2021-01-19      1\n",
       "17242     1477  6724.932981       0.5 2021-01-12      1\n",
       "17314     1483  4445.481070       0.5 2021-03-06      3\n",
       "17505     1496  5722.551787       0.5 2021-02-14      2\n",
       "17909     1524  4103.998874       0.5 2021-06-18      6\n",
       "\n",
       "[95 rows x 5 columns]"
      ]
     },
     "execution_count": 20,
     "metadata": {},
     "output_type": "execute_result"
    }
   ],
   "source": [
    "# видим аномальное значение 0.5 минут при котором дальность поездки высокая\n",
    "rides.loc[rides['duration'] == 0.5]"
   ]
  },
  {
   "cell_type": "code",
   "execution_count": 21,
   "metadata": {},
   "outputs": [
    {
     "data": {
      "image/png": "[encoded data removed]",
      "text/plain": [
       "<Figure size 432x288 with 1 Axes>"
      ]
     },
     "metadata": {},
     "output_type": "display_data"
    }
   ],
   "source": [
    "rides.loc[rides['duration'] == 0.5]['distance'].hist()\n",
    "plt.show()"
   ]
  },
  {
   "cell_type": "markdown",
   "metadata": {},
   "source": [
    "Решили оставить эти данные, так как за эти поездки могла начисляться плата. Из-за чего \"поплывут\" контрольные числа по объединению данных, созданию отдельных датафреймов и расчету выручки."
   ]
  },
  {
   "cell_type": "markdown",
   "metadata": {},
   "source": [
    "### Промежуточные итоги\n",
    "1. В датасете 8 городов, разброс пользователей между ними небольшой - от 168 до 219 пользователей\n",
    "2. Из 1534 пользователей 46% с подпиской и 54% без подписки;\n",
    "3. возраст пользователей распределён нормально, от 12 до 43 лет\n",
    "4. расстояние, которое пользователь преодолел за одну поездку — у распределения два пика\n",
    "  - небольшие поездки до 1км\n",
    "  - длинные поездки чуть больше 3км\n",
    "5. продолжительность поездок - распределение нормальное за исключением небольшого пика в области в области 0.5 минут - эти аномальные поездки решили оставить"
   ]
  },
  {
   "cell_type": "markdown",
   "metadata": {},
   "source": [
    "<a id=\"merge\"></a>\n",
    "## Объединение данных\n",
    "\n",
    "- 4.1 Объединим данные о пользователях, поездках и подписках в один датафрейм.\n",
    "- 4.2 Создадим ещё два датафрейма из датафрейма, созданного на этапе 4.1:\n",
    "  - c данными о пользователях без подписки;\n",
    "  - с данными о пользователях с подпиской.\n",
    "- 4.3 Визуализируем информацию о расстоянии и времени поездок для пользователей обеих категорий."
   ]
  },
  {
   "cell_type": "code",
   "execution_count": 22,
   "metadata": {},
   "outputs": [
    {
     "name": "stdout",
     "output_type": "stream",
     "text": [
      "<class 'pandas.core.frame.DataFrame'>\n",
      "Int64Index: 18068 entries, 0 to 18067\n",
      "Data columns (total 12 columns):\n",
      " #   Column             Non-Null Count  Dtype         \n",
      "---  ------             --------------  -----         \n",
      " 0   user_id            18068 non-null  int64         \n",
      " 1   distance           18068 non-null  float64       \n",
      " 2   duration           18068 non-null  float64       \n",
      " 3   date               18068 non-null  datetime64[ns]\n",
      " 4   month              18068 non-null  int64         \n",
      " 5   name               18068 non-null  object        \n",
      " 6   age                18068 non-null  int64         \n",
      " 7   city               18068 non-null  object        \n",
      " 8   subscription_type  18068 non-null  object        \n",
      " 9   minute_price       18068 non-null  int64         \n",
      " 10  start_ride_price   18068 non-null  int64         \n",
      " 11  subscription_fee   18068 non-null  int64         \n",
      "dtypes: datetime64[ns](1), float64(2), int64(6), object(3)\n",
      "memory usage: 1.8+ MB\n"
     ]
    }
   ],
   "source": [
    "# Объединим данные о пользователях, поездках и подписках в один датафрейм\n",
    "users_subscriptions = users.merge(subscriptions, how='left', on='subscription_type')\n",
    "df = rides.merge(users_subscriptions, on='user_id', how='left')\n",
    "df.info()"
   ]
  },
  {
   "cell_type": "code",
   "execution_count": 23,
   "metadata": {},
   "outputs": [
    {
     "name": "stdout",
     "output_type": "stream",
     "text": [
      "<class 'pandas.core.frame.DataFrame'>\n",
      "Int64Index: 11568 entries, 6500 to 18067\n",
      "Data columns (total 12 columns):\n",
      " #   Column             Non-Null Count  Dtype         \n",
      "---  ------             --------------  -----         \n",
      " 0   user_id            11568 non-null  int64         \n",
      " 1   distance           11568 non-null  float64       \n",
      " 2   duration           11568 non-null  float64       \n",
      " 3   date               11568 non-null  datetime64[ns]\n",
      " 4   month              11568 non-null  int64         \n",
      " 5   name               11568 non-null  object        \n",
      " 6   age                11568 non-null  int64         \n",
      " 7   city               11568 non-null  object        \n",
      " 8   subscription_type  11568 non-null  object        \n",
      " 9   minute_price       11568 non-null  int64         \n",
      " 10  start_ride_price   11568 non-null  int64         \n",
      " 11  subscription_fee   11568 non-null  int64         \n",
      "dtypes: datetime64[ns](1), float64(2), int64(6), object(3)\n",
      "memory usage: 1.1+ MB\n"
     ]
    }
   ],
   "source": [
    "users_without_sub = df[df['subscription_type'] == 'free']\n",
    "users_without_sub.info()"
   ]
  },
  {
   "cell_type": "code",
   "execution_count": 24,
   "metadata": {},
   "outputs": [
    {
     "name": "stdout",
     "output_type": "stream",
     "text": [
      "<class 'pandas.core.frame.DataFrame'>\n",
      "Int64Index: 6500 entries, 0 to 6499\n",
      "Data columns (total 12 columns):\n",
      " #   Column             Non-Null Count  Dtype         \n",
      "---  ------             --------------  -----         \n",
      " 0   user_id            6500 non-null   int64         \n",
      " 1   distance           6500 non-null   float64       \n",
      " 2   duration           6500 non-null   float64       \n",
      " 3   date               6500 non-null   datetime64[ns]\n",
      " 4   month              6500 non-null   int64         \n",
      " 5   name               6500 non-null   object        \n",
      " 6   age                6500 non-null   int64         \n",
      " 7   city               6500 non-null   object        \n",
      " 8   subscription_type  6500 non-null   object        \n",
      " 9   minute_price       6500 non-null   int64         \n",
      " 10  start_ride_price   6500 non-null   int64         \n",
      " 11  subscription_fee   6500 non-null   int64         \n",
      "dtypes: datetime64[ns](1), float64(2), int64(6), object(3)\n",
      "memory usage: 660.2+ KB\n"
     ]
    }
   ],
   "source": [
    "users_with_sub = df[df['subscription_type'] == 'ultra']\n",
    "users_with_sub.info()"
   ]
  },
  {
   "cell_type": "code",
   "execution_count": 25,
   "metadata": {},
   "outputs": [
    {
     "data": {
      "image/png": "[encoded data removed]",
      "text/plain": [
       "<Figure size 432x288 with 1 Axes>"
      ]
     },
     "metadata": {},
     "output_type": "display_data"
    }
   ],
   "source": [
    "# Визуализируем информацию о расстоянии и времени поездок для пользователей обеих категорий.\n",
    "sns.histplot(data = df, hue='subscription_type', x='duration')\n",
    "\n",
    "plt.title('продолжительность поездок')\n",
    "plt.ylabel('Количество пользователей', fontsize=12)\n",
    "plt.xlabel('Продолжительность', fontsize=12)\n",
    "\n",
    "plt.show()"
   ]
  },
  {
   "cell_type": "markdown",
   "metadata": {},
   "source": [
    "Пользователи с подпиской, судя по графикам, могут делать более длительные поездки - среди них очень мало поездок < 5 минут и есть поездкиболее 35 минут. В целом оба распределения нормальные"
   ]
  },
  {
   "cell_type": "code",
   "execution_count": 26,
   "metadata": {},
   "outputs": [
    {
     "data": {
      "image/png": "[encoded data removed]",
      "text/plain": [
       "<Figure size 432x288 with 1 Axes>"
      ]
     },
     "metadata": {},
     "output_type": "display_data"
    }
   ],
   "source": [
    "sns.histplot(data = df, hue='subscription_type', x='distance')\n",
    "\n",
    "plt.title('расстояние, которое пользователь преодолел за одну поездку')\n",
    "plt.ylabel('Количество пользователей', fontsize=12)\n",
    "plt.xlabel('Расстояние', fontsize=12)\n",
    "\n",
    "plt.show()"
   ]
  },
  {
   "cell_type": "markdown",
   "metadata": {},
   "source": [
    "Распределения похожи, однако тут также у платных пользователей есть отличия - более дальние поездки в левой части (1км), и большее количество пользователей в центральной части колокола."
   ]
  },
  {
   "cell_type": "code",
   "execution_count": 27,
   "metadata": {},
   "outputs": [
    {
     "data": {
      "image/png": "[encoded data removed]",
      "text/plain": [
       "<Figure size 432x288 with 1 Axes>"
      ]
     },
     "metadata": {},
     "output_type": "display_data"
    }
   ],
   "source": [
    "sns.scatterplot(data = df, hue='subscription_type', x='distance', y='duration')\n",
    "\n",
    "plt.show()"
   ]
  },
  {
   "cell_type": "markdown",
   "metadata": {},
   "source": [
    "Отличий не очень много, однако есть пользователи с платной подпиской, которые делают наиболее дальние и долгие поездки"
   ]
  },
  {
   "cell_type": "markdown",
   "metadata": {},
   "source": [
    "### Промежуточные итоги\n",
    "- Объединили данные о пользователях, поездках и подписках в один датафрейм.\n",
    "- Визуализировали информацию о расстоянии и времени поездок для пользователей обеих категорий:\n",
    "  - Пользователи с подпиской, судя по графикам, могут делать более длительные поездки - среди них очень мало поездок < 5 минут и есть поездкиболее 35 минут. В целом оба распределения нормальные\n",
    "  - Распределения по расстоянию похожи, однако тут также у платных пользователей есть отличия - более дальние поездки в левой части (1км), и большее количество пользователей в центральной части колокола.\n",
    "  - Отличий не очень много, однако есть пользователи с платной подпиской, которые делают наиболее дальние и долгие поездки"
   ]
  },
  {
   "cell_type": "markdown",
   "metadata": {},
   "source": [
    "<a id=\"revenue\"></a>\n",
    "## Подсчёт выручки\n",
    "\n",
    "- 5.1 Создадим датафрейм с агрегированными данными о поездках на основе датафрейма с объединёнными данными из шага 4: найдём суммарное расстояние, количество поездок и суммарное время для каждого пользователя за каждый месяц.\n",
    "- 5.2 В этот же датафрейм добавим столбец с помесячной выручкой, которую принёс каждый пользователь. Для этого обратимся к информации об условиях оплаты для подписчиков и тех, у кого нет подписки. Продолжительность каждой поездки в каждой строке исходного датафрейма для подсчёта стоимости округляется до следующего целого числа. (с помощью метода «потолок» библиотеки numpy — np.ceil())"
   ]
  },
  {
   "cell_type": "code",
   "execution_count": 28,
   "metadata": {},
   "outputs": [
    {
     "data": {
      "text/html": [
       "<div>\n",
       "<style scoped>\n",
       "    .dataframe tbody tr th:only-of-type {\n",
       "        vertical-align: middle;\n",
       "    }\n",
       "\n",
       "    .dataframe tbody tr th {\n",
       "        vertical-align: top;\n",
       "    }\n",
       "\n",
       "    .dataframe thead th {\n",
       "        text-align: right;\n",
       "    }\n",
       "</style>\n",
       "<table border=\"1\" class=\"dataframe\">\n",
       "  <thead>\n",
       "    <tr style=\"text-align: right;\">\n",
       "      <th></th>\n",
       "      <th>user_id</th>\n",
       "      <th>distance</th>\n",
       "      <th>duration</th>\n",
       "      <th>date</th>\n",
       "      <th>month</th>\n",
       "      <th>name</th>\n",
       "      <th>age</th>\n",
       "      <th>city</th>\n",
       "      <th>subscription_type</th>\n",
       "      <th>minute_price</th>\n",
       "      <th>start_ride_price</th>\n",
       "      <th>subscription_fee</th>\n",
       "    </tr>\n",
       "  </thead>\n",
       "  <tbody>\n",
       "    <tr>\n",
       "      <th>0</th>\n",
       "      <td>1</td>\n",
       "      <td>4409.919140</td>\n",
       "      <td>25.599769</td>\n",
       "      <td>2021-01-01</td>\n",
       "      <td>1</td>\n",
       "      <td>Кира</td>\n",
       "      <td>22</td>\n",
       "      <td>Тюмень</td>\n",
       "      <td>ultra</td>\n",
       "      <td>6</td>\n",
       "      <td>0</td>\n",
       "      <td>199</td>\n",
       "    </tr>\n",
       "    <tr>\n",
       "      <th>1</th>\n",
       "      <td>1</td>\n",
       "      <td>2617.592153</td>\n",
       "      <td>15.816871</td>\n",
       "      <td>2021-01-18</td>\n",
       "      <td>1</td>\n",
       "      <td>Кира</td>\n",
       "      <td>22</td>\n",
       "      <td>Тюмень</td>\n",
       "      <td>ultra</td>\n",
       "      <td>6</td>\n",
       "      <td>0</td>\n",
       "      <td>199</td>\n",
       "    </tr>\n",
       "    <tr>\n",
       "      <th>2</th>\n",
       "      <td>1</td>\n",
       "      <td>754.159807</td>\n",
       "      <td>6.232113</td>\n",
       "      <td>2021-04-20</td>\n",
       "      <td>4</td>\n",
       "      <td>Кира</td>\n",
       "      <td>22</td>\n",
       "      <td>Тюмень</td>\n",
       "      <td>ultra</td>\n",
       "      <td>6</td>\n",
       "      <td>0</td>\n",
       "      <td>199</td>\n",
       "    </tr>\n",
       "    <tr>\n",
       "      <th>3</th>\n",
       "      <td>1</td>\n",
       "      <td>2694.783254</td>\n",
       "      <td>18.511000</td>\n",
       "      <td>2021-08-11</td>\n",
       "      <td>8</td>\n",
       "      <td>Кира</td>\n",
       "      <td>22</td>\n",
       "      <td>Тюмень</td>\n",
       "      <td>ultra</td>\n",
       "      <td>6</td>\n",
       "      <td>0</td>\n",
       "      <td>199</td>\n",
       "    </tr>\n",
       "    <tr>\n",
       "      <th>4</th>\n",
       "      <td>1</td>\n",
       "      <td>4028.687306</td>\n",
       "      <td>26.265803</td>\n",
       "      <td>2021-08-28</td>\n",
       "      <td>8</td>\n",
       "      <td>Кира</td>\n",
       "      <td>22</td>\n",
       "      <td>Тюмень</td>\n",
       "      <td>ultra</td>\n",
       "      <td>6</td>\n",
       "      <td>0</td>\n",
       "      <td>199</td>\n",
       "    </tr>\n",
       "  </tbody>\n",
       "</table>\n",
       "</div>"
      ],
      "text/plain": [
       "   user_id     distance   duration       date  month  name  age    city  \\\n",
       "0        1  4409.919140  25.599769 2021-01-01      1  Кира   22  Тюмень   \n",
       "1        1  2617.592153  15.816871 2021-01-18      1  Кира   22  Тюмень   \n",
       "2        1   754.159807   6.232113 2021-04-20      4  Кира   22  Тюмень   \n",
       "3        1  2694.783254  18.511000 2021-08-11      8  Кира   22  Тюмень   \n",
       "4        1  4028.687306  26.265803 2021-08-28      8  Кира   22  Тюмень   \n",
       "\n",
       "  subscription_type  minute_price  start_ride_price  subscription_fee  \n",
       "0             ultra             6                 0               199  \n",
       "1             ultra             6                 0               199  \n",
       "2             ultra             6                 0               199  \n",
       "3             ultra             6                 0               199  \n",
       "4             ultra             6                 0               199  "
      ]
     },
     "execution_count": 28,
     "metadata": {},
     "output_type": "execute_result"
    }
   ],
   "source": [
    "df.head()"
   ]
  },
  {
   "cell_type": "code",
   "execution_count": 29,
   "metadata": {},
   "outputs": [
    {
     "data": {
      "text/html": [
       "<div>\n",
       "<style scoped>\n",
       "    .dataframe tbody tr th:only-of-type {\n",
       "        vertical-align: middle;\n",
       "    }\n",
       "\n",
       "    .dataframe tbody tr th {\n",
       "        vertical-align: top;\n",
       "    }\n",
       "\n",
       "    .dataframe thead th {\n",
       "        text-align: right;\n",
       "    }\n",
       "</style>\n",
       "<table border=\"1\" class=\"dataframe\">\n",
       "  <thead>\n",
       "    <tr style=\"text-align: right;\">\n",
       "      <th></th>\n",
       "      <th></th>\n",
       "      <th>distance</th>\n",
       "      <th>rides</th>\n",
       "      <th>duration</th>\n",
       "      <th>subscription</th>\n",
       "      <th>minute_price</th>\n",
       "      <th>start_ride_price</th>\n",
       "      <th>subscription_fee</th>\n",
       "    </tr>\n",
       "    <tr>\n",
       "      <th>user_id</th>\n",
       "      <th>month</th>\n",
       "      <th></th>\n",
       "      <th></th>\n",
       "      <th></th>\n",
       "      <th></th>\n",
       "      <th></th>\n",
       "      <th></th>\n",
       "      <th></th>\n",
       "    </tr>\n",
       "  </thead>\n",
       "  <tbody>\n",
       "    <tr>\n",
       "      <th rowspan=\"6\" valign=\"top\">1</th>\n",
       "      <th>1</th>\n",
       "      <td>7027.511294</td>\n",
       "      <td>2</td>\n",
       "      <td>42.0</td>\n",
       "      <td>ultra</td>\n",
       "      <td>6</td>\n",
       "      <td>0</td>\n",
       "      <td>199</td>\n",
       "    </tr>\n",
       "    <tr>\n",
       "      <th>4</th>\n",
       "      <td>754.159807</td>\n",
       "      <td>1</td>\n",
       "      <td>7.0</td>\n",
       "      <td>ultra</td>\n",
       "      <td>6</td>\n",
       "      <td>0</td>\n",
       "      <td>199</td>\n",
       "    </tr>\n",
       "    <tr>\n",
       "      <th>8</th>\n",
       "      <td>6723.470560</td>\n",
       "      <td>2</td>\n",
       "      <td>46.0</td>\n",
       "      <td>ultra</td>\n",
       "      <td>6</td>\n",
       "      <td>0</td>\n",
       "      <td>199</td>\n",
       "    </tr>\n",
       "    <tr>\n",
       "      <th>10</th>\n",
       "      <td>5809.911100</td>\n",
       "      <td>2</td>\n",
       "      <td>32.0</td>\n",
       "      <td>ultra</td>\n",
       "      <td>6</td>\n",
       "      <td>0</td>\n",
       "      <td>199</td>\n",
       "    </tr>\n",
       "    <tr>\n",
       "      <th>11</th>\n",
       "      <td>7003.499363</td>\n",
       "      <td>3</td>\n",
       "      <td>56.0</td>\n",
       "      <td>ultra</td>\n",
       "      <td>6</td>\n",
       "      <td>0</td>\n",
       "      <td>199</td>\n",
       "    </tr>\n",
       "    <tr>\n",
       "      <th>12</th>\n",
       "      <td>6751.629942</td>\n",
       "      <td>2</td>\n",
       "      <td>28.0</td>\n",
       "      <td>ultra</td>\n",
       "      <td>6</td>\n",
       "      <td>0</td>\n",
       "      <td>199</td>\n",
       "    </tr>\n",
       "    <tr>\n",
       "      <th rowspan=\"7\" valign=\"top\">2</th>\n",
       "      <th>3</th>\n",
       "      <td>10187.723006</td>\n",
       "      <td>3</td>\n",
       "      <td>63.0</td>\n",
       "      <td>ultra</td>\n",
       "      <td>6</td>\n",
       "      <td>0</td>\n",
       "      <td>199</td>\n",
       "    </tr>\n",
       "    <tr>\n",
       "      <th>4</th>\n",
       "      <td>6164.381824</td>\n",
       "      <td>2</td>\n",
       "      <td>40.0</td>\n",
       "      <td>ultra</td>\n",
       "      <td>6</td>\n",
       "      <td>0</td>\n",
       "      <td>199</td>\n",
       "    </tr>\n",
       "    <tr>\n",
       "      <th>6</th>\n",
       "      <td>3255.338202</td>\n",
       "      <td>1</td>\n",
       "      <td>14.0</td>\n",
       "      <td>ultra</td>\n",
       "      <td>6</td>\n",
       "      <td>0</td>\n",
       "      <td>199</td>\n",
       "    </tr>\n",
       "    <tr>\n",
       "      <th>7</th>\n",
       "      <td>6780.722964</td>\n",
       "      <td>2</td>\n",
       "      <td>48.0</td>\n",
       "      <td>ultra</td>\n",
       "      <td>6</td>\n",
       "      <td>0</td>\n",
       "      <td>199</td>\n",
       "    </tr>\n",
       "    <tr>\n",
       "      <th>8</th>\n",
       "      <td>923.007439</td>\n",
       "      <td>1</td>\n",
       "      <td>7.0</td>\n",
       "      <td>ultra</td>\n",
       "      <td>6</td>\n",
       "      <td>0</td>\n",
       "      <td>199</td>\n",
       "    </tr>\n",
       "    <tr>\n",
       "      <th>10</th>\n",
       "      <td>2824.636598</td>\n",
       "      <td>1</td>\n",
       "      <td>19.0</td>\n",
       "      <td>ultra</td>\n",
       "      <td>6</td>\n",
       "      <td>0</td>\n",
       "      <td>199</td>\n",
       "    </tr>\n",
       "    <tr>\n",
       "      <th>12</th>\n",
       "      <td>3828.248580</td>\n",
       "      <td>1</td>\n",
       "      <td>12.0</td>\n",
       "      <td>ultra</td>\n",
       "      <td>6</td>\n",
       "      <td>0</td>\n",
       "      <td>199</td>\n",
       "    </tr>\n",
       "    <tr>\n",
       "      <th rowspan=\"7\" valign=\"top\">3</th>\n",
       "      <th>1</th>\n",
       "      <td>3061.777147</td>\n",
       "      <td>1</td>\n",
       "      <td>13.0</td>\n",
       "      <td>ultra</td>\n",
       "      <td>6</td>\n",
       "      <td>0</td>\n",
       "      <td>199</td>\n",
       "    </tr>\n",
       "    <tr>\n",
       "      <th>2</th>\n",
       "      <td>5421.152016</td>\n",
       "      <td>2</td>\n",
       "      <td>39.0</td>\n",
       "      <td>ultra</td>\n",
       "      <td>6</td>\n",
       "      <td>0</td>\n",
       "      <td>199</td>\n",
       "    </tr>\n",
       "    <tr>\n",
       "      <th>4</th>\n",
       "      <td>2956.651632</td>\n",
       "      <td>1</td>\n",
       "      <td>21.0</td>\n",
       "      <td>ultra</td>\n",
       "      <td>6</td>\n",
       "      <td>0</td>\n",
       "      <td>199</td>\n",
       "    </tr>\n",
       "    <tr>\n",
       "      <th>5</th>\n",
       "      <td>9064.026918</td>\n",
       "      <td>3</td>\n",
       "      <td>63.0</td>\n",
       "      <td>ultra</td>\n",
       "      <td>6</td>\n",
       "      <td>0</td>\n",
       "      <td>199</td>\n",
       "    </tr>\n",
       "    <tr>\n",
       "      <th>7</th>\n",
       "      <td>10919.595403</td>\n",
       "      <td>3</td>\n",
       "      <td>67.0</td>\n",
       "      <td>ultra</td>\n",
       "      <td>6</td>\n",
       "      <td>0</td>\n",
       "      <td>199</td>\n",
       "    </tr>\n",
       "    <tr>\n",
       "      <th>9</th>\n",
       "      <td>2891.012822</td>\n",
       "      <td>1</td>\n",
       "      <td>23.0</td>\n",
       "      <td>ultra</td>\n",
       "      <td>6</td>\n",
       "      <td>0</td>\n",
       "      <td>199</td>\n",
       "    </tr>\n",
       "    <tr>\n",
       "      <th>12</th>\n",
       "      <td>2593.381928</td>\n",
       "      <td>1</td>\n",
       "      <td>13.0</td>\n",
       "      <td>ultra</td>\n",
       "      <td>6</td>\n",
       "      <td>0</td>\n",
       "      <td>199</td>\n",
       "    </tr>\n",
       "  </tbody>\n",
       "</table>\n",
       "</div>"
      ],
      "text/plain": [
       "                   distance  rides  duration subscription  minute_price  \\\n",
       "user_id month                                                             \n",
       "1       1       7027.511294      2      42.0        ultra             6   \n",
       "        4        754.159807      1       7.0        ultra             6   \n",
       "        8       6723.470560      2      46.0        ultra             6   \n",
       "        10      5809.911100      2      32.0        ultra             6   \n",
       "        11      7003.499363      3      56.0        ultra             6   \n",
       "        12      6751.629942      2      28.0        ultra             6   \n",
       "2       3      10187.723006      3      63.0        ultra             6   \n",
       "        4       6164.381824      2      40.0        ultra             6   \n",
       "        6       3255.338202      1      14.0        ultra             6   \n",
       "        7       6780.722964      2      48.0        ultra             6   \n",
       "        8        923.007439      1       7.0        ultra             6   \n",
       "        10      2824.636598      1      19.0        ultra             6   \n",
       "        12      3828.248580      1      12.0        ultra             6   \n",
       "3       1       3061.777147      1      13.0        ultra             6   \n",
       "        2       5421.152016      2      39.0        ultra             6   \n",
       "        4       2956.651632      1      21.0        ultra             6   \n",
       "        5       9064.026918      3      63.0        ultra             6   \n",
       "        7      10919.595403      3      67.0        ultra             6   \n",
       "        9       2891.012822      1      23.0        ultra             6   \n",
       "        12      2593.381928      1      13.0        ultra             6   \n",
       "\n",
       "               start_ride_price  subscription_fee  \n",
       "user_id month                                      \n",
       "1       1                     0               199  \n",
       "        4                     0               199  \n",
       "        8                     0               199  \n",
       "        10                    0               199  \n",
       "        11                    0               199  \n",
       "        12                    0               199  \n",
       "2       3                     0               199  \n",
       "        4                     0               199  \n",
       "        6                     0               199  \n",
       "        7                     0               199  \n",
       "        8                     0               199  \n",
       "        10                    0               199  \n",
       "        12                    0               199  \n",
       "3       1                     0               199  \n",
       "        2                     0               199  \n",
       "        4                     0               199  \n",
       "        5                     0               199  \n",
       "        7                     0               199  \n",
       "        9                     0               199  \n",
       "        12                    0               199  "
      ]
     },
     "execution_count": 29,
     "metadata": {},
     "output_type": "execute_result"
    }
   ],
   "source": [
    "# добавим в датафрейм столбец с округлённой длительностью поездки\n",
    "df['duration_round'] = np.ceil(df['duration'])\n",
    "\n",
    "# датафрейм с агрегированными данными о поездках на основе датафрейма с объединёнными данными\n",
    "df_users = df.groupby(['user_id', 'month']).agg(\n",
    "    distance = ('distance', 'sum'),\n",
    "    rides = ('user_id', 'count'),\n",
    "    duration = ('duration_round', 'sum'),\n",
    "    subscription = ('subscription_type', 'first'),\n",
    "    minute_price = ('minute_price', 'first'),\n",
    "    start_ride_price = ('start_ride_price', 'first'),\n",
    "    subscription_fee = ('subscription_fee', 'first')\n",
    ")\n",
    "\n",
    "\n",
    "df_users.head(20)"
   ]
  },
  {
   "cell_type": "code",
   "execution_count": 30,
   "metadata": {},
   "outputs": [
    {
     "data": {
      "text/plain": [
       "distance            0\n",
       "rides               0\n",
       "duration            0\n",
       "subscription        0\n",
       "minute_price        0\n",
       "start_ride_price    0\n",
       "subscription_fee    0\n",
       "dtype: int64"
      ]
     },
     "execution_count": 30,
     "metadata": {},
     "output_type": "execute_result"
    }
   ],
   "source": [
    "# Перед расчетом выручки проверим пропуски в сводной таблице\n",
    "df_users.isna().sum()"
   ]
  },
  {
   "cell_type": "code",
   "execution_count": 31,
   "metadata": {},
   "outputs": [
    {
     "data": {
      "text/html": [
       "<div>\n",
       "<style scoped>\n",
       "    .dataframe tbody tr th:only-of-type {\n",
       "        vertical-align: middle;\n",
       "    }\n",
       "\n",
       "    .dataframe tbody tr th {\n",
       "        vertical-align: top;\n",
       "    }\n",
       "\n",
       "    .dataframe thead th {\n",
       "        text-align: right;\n",
       "    }\n",
       "</style>\n",
       "<table border=\"1\" class=\"dataframe\">\n",
       "  <thead>\n",
       "    <tr style=\"text-align: right;\">\n",
       "      <th></th>\n",
       "      <th></th>\n",
       "      <th>distance</th>\n",
       "      <th>rides</th>\n",
       "      <th>duration</th>\n",
       "      <th>subscription</th>\n",
       "      <th>minute_price</th>\n",
       "      <th>start_ride_price</th>\n",
       "      <th>subscription_fee</th>\n",
       "      <th>monthly_revenue</th>\n",
       "    </tr>\n",
       "    <tr>\n",
       "      <th>user_id</th>\n",
       "      <th>month</th>\n",
       "      <th></th>\n",
       "      <th></th>\n",
       "      <th></th>\n",
       "      <th></th>\n",
       "      <th></th>\n",
       "      <th></th>\n",
       "      <th></th>\n",
       "      <th></th>\n",
       "    </tr>\n",
       "  </thead>\n",
       "  <tbody>\n",
       "    <tr>\n",
       "      <th rowspan=\"5\" valign=\"top\">1</th>\n",
       "      <th>1</th>\n",
       "      <td>7027.511294</td>\n",
       "      <td>2</td>\n",
       "      <td>42.0</td>\n",
       "      <td>ultra</td>\n",
       "      <td>6</td>\n",
       "      <td>0</td>\n",
       "      <td>199</td>\n",
       "      <td>451.0</td>\n",
       "    </tr>\n",
       "    <tr>\n",
       "      <th>4</th>\n",
       "      <td>754.159807</td>\n",
       "      <td>1</td>\n",
       "      <td>7.0</td>\n",
       "      <td>ultra</td>\n",
       "      <td>6</td>\n",
       "      <td>0</td>\n",
       "      <td>199</td>\n",
       "      <td>241.0</td>\n",
       "    </tr>\n",
       "    <tr>\n",
       "      <th>8</th>\n",
       "      <td>6723.470560</td>\n",
       "      <td>2</td>\n",
       "      <td>46.0</td>\n",
       "      <td>ultra</td>\n",
       "      <td>6</td>\n",
       "      <td>0</td>\n",
       "      <td>199</td>\n",
       "      <td>475.0</td>\n",
       "    </tr>\n",
       "    <tr>\n",
       "      <th>10</th>\n",
       "      <td>5809.911100</td>\n",
       "      <td>2</td>\n",
       "      <td>32.0</td>\n",
       "      <td>ultra</td>\n",
       "      <td>6</td>\n",
       "      <td>0</td>\n",
       "      <td>199</td>\n",
       "      <td>391.0</td>\n",
       "    </tr>\n",
       "    <tr>\n",
       "      <th>11</th>\n",
       "      <td>7003.499363</td>\n",
       "      <td>3</td>\n",
       "      <td>56.0</td>\n",
       "      <td>ultra</td>\n",
       "      <td>6</td>\n",
       "      <td>0</td>\n",
       "      <td>199</td>\n",
       "      <td>535.0</td>\n",
       "    </tr>\n",
       "  </tbody>\n",
       "</table>\n",
       "</div>"
      ],
      "text/plain": [
       "                  distance  rides  duration subscription  minute_price  \\\n",
       "user_id month                                                            \n",
       "1       1      7027.511294      2      42.0        ultra             6   \n",
       "        4       754.159807      1       7.0        ultra             6   \n",
       "        8      6723.470560      2      46.0        ultra             6   \n",
       "        10     5809.911100      2      32.0        ultra             6   \n",
       "        11     7003.499363      3      56.0        ultra             6   \n",
       "\n",
       "               start_ride_price  subscription_fee  monthly_revenue  \n",
       "user_id month                                                       \n",
       "1       1                     0               199            451.0  \n",
       "        4                     0               199            241.0  \n",
       "        8                     0               199            475.0  \n",
       "        10                    0               199            391.0  \n",
       "        11                    0               199            535.0  "
      ]
     },
     "execution_count": 31,
     "metadata": {},
     "output_type": "execute_result"
    }
   ],
   "source": [
    "\n",
    "# Помесячная выручка считается по формуле: стоимость старта поездки × количество поездок \n",
    "# + стоимость одной минуты поездки × общая продолжительность всех поездок в минутах + стоимость подписки.\n",
    "df_users['monthly_revenue'] = df_users['start_ride_price'] * df_users['rides'] + df_users['minute_price'] * df_users['duration'] + df_users['subscription_fee']\n",
    "\n",
    "df_users.head()"
   ]
  },
  {
   "cell_type": "markdown",
   "metadata": {},
   "source": [
    "<a id=\"hypoteses\"></a>\n",
    "## Проверка гипотез\n",
    "\n",
    "Продакт-менеджеры сервиса хотят увеличить количество пользователей с подпиской. Для этого они будут проводить различные акции, но сначала нужно выяснить несколько важных моментов.\n",
    "- 6.1 Важно понять, тратят ли пользователи с подпиской больше времени на поездки? Если да, то пользователи с подпиской могут быть «выгоднее» для компании. \n",
    "- 6.2 Расстояние одной поездки в 3130 метров — оптимальное с точки зрения износа самоката. Можно ли сказать, что среднее расстояние, которое проезжают пользователи с подпиской за одну поездку, не превышает 3130 метров? \n",
    "- 6.3 Проверим гипотезу о том, будет ли помесячная выручка от пользователей с подпиской по месяцам выше, чем выручка от пользователей без подписки. \n",
    "- 6.4 Представим такую ситуацию: техническая команда сервиса обновила сервера, с которыми взаимодействует мобильное приложение. Она надеется, что из-за этого количество обращений в техподдержку значимо снизилось. Некоторый файл содержит для каждого пользователя данные о количестве обращений до обновления и после него. Какой тест понадобился бы для проверки этой гипотезы?"
   ]
  },
  {
   "cell_type": "code",
   "execution_count": 32,
   "metadata": {},
   "outputs": [
    {
     "data": {
      "image/png": "[encoded data removed]",
      "text/plain": [
       "<Figure size 432x288 with 1 Axes>"
      ]
     },
     "metadata": {},
     "output_type": "display_data"
    }
   ],
   "source": [
    "# сначала попробуем посмотреть визуально - тратят ли пользователи с подпиской больше времени на поездки\n",
    "sns.boxplot(data=df, x='duration', y='subscription_type')\n",
    "plt.show()"
   ]
  },
  {
   "cell_type": "markdown",
   "metadata": {},
   "source": [
    "Видим, что длительность поездок пользователей с подпиской действительно в среднем выше"
   ]
  },
  {
   "cell_type": "code",
   "execution_count": 33,
   "metadata": {},
   "outputs": [
    {
     "data": {
      "text/html": [
       "<div>\n",
       "<style scoped>\n",
       "    .dataframe tbody tr th:only-of-type {\n",
       "        vertical-align: middle;\n",
       "    }\n",
       "\n",
       "    .dataframe tbody tr th {\n",
       "        vertical-align: top;\n",
       "    }\n",
       "\n",
       "    .dataframe thead th {\n",
       "        text-align: right;\n",
       "    }\n",
       "</style>\n",
       "<table border=\"1\" class=\"dataframe\">\n",
       "  <thead>\n",
       "    <tr style=\"text-align: right;\">\n",
       "      <th></th>\n",
       "      <th>count</th>\n",
       "      <th>mean</th>\n",
       "      <th>std</th>\n",
       "      <th>min</th>\n",
       "      <th>25%</th>\n",
       "      <th>50%</th>\n",
       "      <th>75%</th>\n",
       "      <th>max</th>\n",
       "    </tr>\n",
       "    <tr>\n",
       "      <th>subscription_type</th>\n",
       "      <th></th>\n",
       "      <th></th>\n",
       "      <th></th>\n",
       "      <th></th>\n",
       "      <th></th>\n",
       "      <th></th>\n",
       "      <th></th>\n",
       "      <th></th>\n",
       "    </tr>\n",
       "  </thead>\n",
       "  <tbody>\n",
       "    <tr>\n",
       "      <th>free</th>\n",
       "      <td>11568.0</td>\n",
       "      <td>17.390909</td>\n",
       "      <td>6.326803</td>\n",
       "      <td>0.500000</td>\n",
       "      <td>12.958437</td>\n",
       "      <td>17.326890</td>\n",
       "      <td>21.594071</td>\n",
       "      <td>34.948498</td>\n",
       "    </tr>\n",
       "    <tr>\n",
       "      <th>ultra</th>\n",
       "      <td>6500.0</td>\n",
       "      <td>18.541985</td>\n",
       "      <td>5.572048</td>\n",
       "      <td>3.760353</td>\n",
       "      <td>14.524654</td>\n",
       "      <td>18.178153</td>\n",
       "      <td>21.884129</td>\n",
       "      <td>40.823963</td>\n",
       "    </tr>\n",
       "  </tbody>\n",
       "</table>\n",
       "</div>"
      ],
      "text/plain": [
       "                     count       mean       std       min        25%  \\\n",
       "subscription_type                                                      \n",
       "free               11568.0  17.390909  6.326803  0.500000  12.958437   \n",
       "ultra               6500.0  18.541985  5.572048  3.760353  14.524654   \n",
       "\n",
       "                         50%        75%        max  \n",
       "subscription_type                                   \n",
       "free               17.326890  21.594071  34.948498  \n",
       "ultra              18.178153  21.884129  40.823963  "
      ]
     },
     "execution_count": 33,
     "metadata": {},
     "output_type": "execute_result"
    }
   ],
   "source": [
    "df.groupby('subscription_type')['duration'].describe()"
   ]
  },
  {
   "cell_type": "markdown",
   "metadata": {},
   "source": [
    "Нулевая гипотеза: средние значения времени в поездках пользователей из двух групп равны.\n",
    "Альтернативная гипотеза: среднее значение времени в поездках пользователей с подпиской больше, чем среднее значение времени в поездках пользователей без подписки"
   ]
  },
  {
   "cell_type": "code",
   "execution_count": 34,
   "metadata": {},
   "outputs": [
    {
     "name": "stdout",
     "output_type": "stream",
     "text": [
      "p-значение: 1.2804098316645618e-34\n",
      "Отвергаем нулевую гипотезу\n"
     ]
    }
   ],
   "source": [
    "# пользователи с подпиской\n",
    "sample_1 = users_with_sub['duration']\n",
    "#пользователи без подписки\n",
    "sample_2 = users_without_sub['duration']\n",
    "\n",
    "alpha = 0.05 # уровень статистической значимости\n",
    "# если p-value окажется меньше него, отвергнем гипотезу\n",
    "\n",
    "results = st.ttest_ind(sample_1, sample_2, alternative='greater')\n",
    "\n",
    "print('p-значение:', results.pvalue)\n",
    "\n",
    "if results.pvalue < alpha:\n",
    "    print('Отвергаем нулевую гипотезу')\n",
    "else:\n",
    "    print('Не получилось отвергнуть нулевую гипотезу') "
   ]
  },
  {
   "cell_type": "markdown",
   "metadata": {},
   "source": [
    "Считаем, что среднее значение времени в поездках пользователей с подпиской больше, чем среднее значение времени в поездках пользователей без подписки"
   ]
  },
  {
   "cell_type": "markdown",
   "metadata": {},
   "source": [
    "Расстояние одной поездки в 3130 метров — оптимальное с точки зрения износа самоката. Можно ли сказать, что среднее расстояние, которое проезжают пользователи с подпиской за одну поездку, не превышает 3130 метров?\n",
    "\n",
    "Нулевая гипотеза: среднее расстояние, которое проезжают пользователи с подпиской за одну поездку, равняется 3130 метров.\n",
    "Альтернативная гипотеза: среднее расстояние, которое проезжают пользователи с подпиской за одну поездку, превышает 3130 метров."
   ]
  },
  {
   "cell_type": "code",
   "execution_count": 35,
   "metadata": {},
   "outputs": [
    {
     "name": "stdout",
     "output_type": "stream",
     "text": [
      "p-значение: 0.9195368847849785\n",
      "Не отвергаем нулевую гипотезу\n"
     ]
    }
   ],
   "source": [
    "distances = users_with_sub['distance']\n",
    "\n",
    "optimal_distance = 3130\n",
    "\n",
    "alpha = 0.05 # уровень статистической значимости\n",
    "\n",
    "results = st.ttest_1samp(\n",
    "    distances, \n",
    "    optimal_distance,\n",
    "      alternative='greater')\n",
    "\n",
    "print('p-значение:', results.pvalue)\n",
    "\n",
    "if (results.pvalue < alpha):\n",
    "    print('Отвергаем нулевую гипотезу')\n",
    "else:\n",
    "    print('Не отвергаем нулевую гипотезу') "
   ]
  },
  {
   "cell_type": "markdown",
   "metadata": {},
   "source": [
    "Гипотезу подтверждаем (так как недостаточно данных, чтобы её опровергнуть) - Можно сказать, что среднее расстояние, которое проезжают пользователи с подпиской за одну поездку, не превышает 3130 метров\n",
    "\n",
    "Значит, износ самокатов оптимальный"
   ]
  },
  {
   "cell_type": "markdown",
   "metadata": {},
   "source": [
    "Проверим гипотезу о том, будет ли помесячная выручка от пользователей с подпиской по месяцам выше, чем выручка от пользователей без подписки:\n",
    "\n",
    "- Нулевая гипотеза: помесячная выручка от пользователей с подпиской равняется выручке от пользователей без подписки. \n",
    "- Альтернативная гипотеза: помесячная выручка от пользователей с подпиской по месяцам выше, чем выручка от пользователей без подписки."
   ]
  },
  {
   "cell_type": "code",
   "execution_count": 36,
   "metadata": {},
   "outputs": [
    {
     "name": "stdout",
     "output_type": "stream",
     "text": [
      "p-значение: 1.8850394384715216e-31\n",
      "Отвергаем нулевую гипотезу\n"
     ]
    }
   ],
   "source": [
    "# пользователи с подпиской\n",
    "sample_1 = df_users[df_users['subscription'] == 'ultra']['monthly_revenue']\n",
    "#пользователи без подписки\n",
    "sample_2 = df_users[df_users['subscription'] == 'free']['monthly_revenue']\n",
    "\n",
    "alpha = 0.05 # уровень статистической значимости\n",
    "# если p-value окажется меньше него, отвергнем гипотезу\n",
    "\n",
    "results = st.ttest_ind(sample_1, sample_2, alternative='greater')\n",
    "\n",
    "print('p-значение:', results.pvalue)\n",
    "\n",
    "if results.pvalue < alpha:\n",
    "    print('Отвергаем нулевую гипотезу')\n",
    "else:\n",
    "    print('Не получилось отвергнуть нулевую гипотезу') "
   ]
  },
  {
   "cell_type": "markdown",
   "metadata": {},
   "source": [
    "Гипотезу подтверждаем - помесячная выручка от пользователей с подпиской по месяцам выше, чем выручка от пользователей без подписки"
   ]
  },
  {
   "cell_type": "markdown",
   "metadata": {},
   "source": [
    "техническая команда сервиса обновила сервера, с которыми взаимодействует мобильное приложение. Она надеется, что из-за этого количество обращений в техподдержку значимо снизилось. Некоторый файл содержит для каждого пользователя данные о количестве обращений до обновления и после него. Какой тест вам понадобился бы для проверки этой гипотезы?\n",
    "\n",
    "Гипотеза о равенстве средних для зависимых (парных) выборок - проверяться будет одностороняя (левая) гипотеза\n",
    "- Нулевая гипотеза: количество обращений в техподдержку после обновления равняется количеству обращений в техподдержку до обновления. \n",
    "- Альтернативная гипотеза: количество обращений в техподдержку после обновления ниже количества обращений в техподдержку до обновления."
   ]
  },
  {
   "cell_type": "markdown",
   "metadata": {},
   "source": [
    "### Промежуточные \n",
    "\n",
    "Проверили несколько гипотез:\n",
    "\n",
    "- Считаем, что среднее значение времени в поездках пользователей с подпиской больше, чем среднее значение времени в поездках пользователей без подписки\n",
    "- Расстояние одной поездки в 3130 метров — оптимальное с точки зрения износа самоката. Можно сказать, что среднее расстояние, которое проезжают пользователи с подпиской за одну поездку, не превышает 3130 метров. Значит, износ самокатов оптимальный.\n",
    "- Помесячная выручка от пользователей с подпиской по месяцам выше, чем выручка от пользователей без подписки. \n",
    "- Техническая команда сервиса обновила сервера, с которыми взаимодействует мобильное приложение. Она надеется, что из-за этого количество обращений в техподдержку значимо снизилось. Некоторый файл содержит для каждого пользователя данные о количестве обращений до обновления и после него. \n",
    "\n",
    "Чтобы проверить гипотезу о равенстве среднего генеральной совокупности для зависимых (парных) выборок в Python применяется метод `scipy.stats.ttest_rel()`."
   ]
  },
  {
   "cell_type": "markdown",
   "metadata": {},
   "source": [
    "<a id=\"spread\"></a>\n",
    "## Распределения\n",
    "\n",
    "7.1 Отделу маркетинга GoFast поставили задачу: нужно провести акцию с раздачей промокодов на один бесплатный месяц подписки, в рамках которой как минимум 100 существующих клиентов должны продлить эту подписку. То есть по завершении периода действия подписки пользователь может либо отказаться от неё, либо продлить, совершив соответствующий платёж. \n",
    "Эта акция уже проводилась ранее и по итогу выяснилось, что после бесплатного пробного периода подписку продлевают 10 % пользователей. Выясните, какое минимальное количество промокодов нужно разослать, чтобы вероятность не выполнить план была примерно 5 %. \n",
    "\n",
    "\n",
    "7.2 Отдел маркетинга рассылает клиентам push-уведомления в мобильном приложении. Клиенты могут открыть его или не открывать. Известно, что уведомления открывают около 40 % получивших клиентов. Отдел планирует разослать 1 млн уведомлений. С помощью аппроксимации постройте примерный график распределения и оцените вероятность того, что уведомление откроют не более 399,5 тыс. пользователей."
   ]
  },
  {
   "cell_type": "code",
   "execution_count": 37,
   "metadata": {},
   "outputs": [
    {
     "name": "stderr",
     "output_type": "stream",
     "text": [
      "/opt/conda/lib/python3.9/site-packages/scipy/stats/_discrete_distns.py:78: RuntimeWarning: divide by zero encountered in _binom_pdf\n",
      "  return _boost._binom_pdf(x, n, p)\n"
     ]
    },
    {
     "data": {
      "image/png": "[encoded data removed]",
      "text/plain": [
       "<Figure size 432x288 with 1 Axes>"
      ]
     },
     "metadata": {},
     "output_type": "display_data"
    }
   ],
   "source": [
    "# Подберём параметры распределения, описывающего ситуацию 7.1, построим график распределения и сформулируем ответ на вопрос о количестве промокодов.\n",
    "# Нужно использовать биномиальное распределение, которое описывает указанную ситуацию. Затем подобрать подходящее значение параметра N для заданного параметра p=0.1 с помощью графиков и метода cdf().\n",
    "\n",
    "# после бесплатного пробного периода подписку продлевают 10 % пользователей\n",
    "p = 0.1\n",
    "\n",
    "# план - 100 клиентов, вероятность не выполнить план должна быть примерно 5 %\n",
    "n = 1171\n",
    "\n",
    "# значение, для которого хотим найти вероятность\n",
    "x = 100\n",
    "\n",
    "distr = []\n",
    "\n",
    "for k in range(0, n + 1):\n",
    "    prob = st.binom.pmf(k, n, p)\n",
    "    distr.append(prob)\n",
    "    \n",
    "plt.bar(range(0, n + 1), distr)\n",
    "plt.xlim(0,300)\n",
    "plt.show()"
   ]
  },
  {
   "cell_type": "code",
   "execution_count": 38,
   "metadata": {},
   "outputs": [
    {
     "data": {
      "text/plain": [
       "0.0505235199072141"
      ]
     },
     "execution_count": 38,
     "metadata": {},
     "output_type": "execute_result"
    }
   ],
   "source": [
    "prob = st.binom.cdf(x, n, p)\n",
    "prob"
   ]
  },
  {
   "cell_type": "markdown",
   "metadata": {},
   "source": [
    "- Если взять 1000 промокодов - вероятность не выполнить план - 53%\n",
    "- Если взять 1200 промокодов - вероятность не выполнить план - 2.8%\n",
    "- Если взять 1100 промокодов - вероятность не выполнить план - 17%\n",
    "- Если взять 1150 промокодов - вероятность не выполнить план - 7.5%\n",
    "- Если взять 1171 промокод - вероятность не выполнить план - 5%"
   ]
  },
  {
   "cell_type": "code",
   "execution_count": 39,
   "metadata": {},
   "outputs": [
    {
     "data": {
      "text/plain": [
       "0.15371708296369768"
      ]
     },
     "execution_count": 39,
     "metadata": {},
     "output_type": "execute_result"
    }
   ],
   "source": [
    "#  Известно, что уведомления открывают около 40 % получивших клиентов. Отдел планирует разослать 1 млн уведомлений. \n",
    "# С помощью аппроксимации построим примерный график распределения и оценим вероятность того, что уведомление откроют не более 399,5 тыс. пользователей.\n",
    "\n",
    "# задаём параметры биномиального распределения\n",
    "n = 1000000\n",
    "p = 0.4\n",
    "\n",
    "# задаём параметры нормального распределения равными\n",
    "# мат.ожиданию и дисперсии биномиального распределения\n",
    "mu = n * p\n",
    "sigma = sqrt(n * p * (1 - p))\n",
    "\n",
    "# задаём нормальное распределение\n",
    "distr = st.norm(mu, sigma) \n",
    "\n",
    "# считаем вероятность хвоста слева от 399500\n",
    "result = distr.cdf(399500)\n",
    "result"
   ]
  },
  {
   "cell_type": "code",
   "execution_count": 40,
   "metadata": {},
   "outputs": [
    {
     "data": {
      "image/png": "[encoded data removed]",
      "text/plain": [
       "<Figure size 720x432 with 1 Axes>"
      ]
     },
     "metadata": {},
     "output_type": "display_data"
    }
   ],
   "source": [
    "# границы промежутка, в котором будем строить аппроксимацию -\n",
    "# от n*p минус 4 ст.отклонения бином.распределения\n",
    "# до n*p плюс 4 ст.отклонения бином.распределения\n",
    "# (там, где вероятности значений почти не равны нулю)\n",
    "left = int(n * p - 4 * sqrt(n * p * (1 - p)))\n",
    "right = int(n * p + 4 * sqrt(n * p * (1 - p)))\n",
    " \n",
    "# зададим набор значений биномиальной величины на выбранном промежутке:\n",
    "# все неотрицательные целые числа от left до right\n",
    "x = list(range(max(0, left), right))\n",
    "plt.figure(figsize=(10,6))\n",
    "# рисуем график биномиального распределения\n",
    "ax = plt.subplot()\n",
    "\n",
    "# зададим параметры нормального распределения равными\n",
    "# мат.ожиданию и дисперсии биномиального распределения\n",
    "mu = n * p\n",
    "sigma = sqrt(n * p * (1 - p))\n",
    " \n",
    "# рисуем график нормального распределения:\n",
    "# получим список из 100 чисел от left до right\n",
    "x = np.linspace(left, right, 100)\n",
    "# используем красную линию ширины 3 и прозрачности 0.3\n",
    "ax.plot(x, st.norm.pdf(x, mu, sigma), 'r-', lw=3, alpha=0.3, label='плотность вероятности нормального распределения')\n",
    "\n",
    "# настраиваем оптимальное расположение легенды и выводим график\n",
    "ax.legend(loc='best')\n",
    "plt.show()"
   ]
  },
  {
   "cell_type": "code",
   "execution_count": 41,
   "metadata": {},
   "outputs": [
    {
     "data": {
      "image/png": "[encoded data removed]",
      "text/plain": [
       "<Figure size 432x288 with 1 Axes>"
      ]
     },
     "metadata": {},
     "output_type": "display_data"
    }
   ],
   "source": [
    "plt.plot(x, st.norm.cdf(x, mu, sigma))\n",
    "plt.show()"
   ]
  },
  {
   "cell_type": "markdown",
   "metadata": {},
   "source": [
    "### Промежуточные итоги\n",
    "- Если взять 1171 промокод - вероятность не выполнить план - 5%\n",
    "- Вероятность того, что уведомление откроют не более 399,5 тыс. пользователей - 15%"
   ]
  },
  {
   "cell_type": "markdown",
   "metadata": {},
   "source": [
    "<a id=\"conclusion\"></a>\n",
    "## Выводы"
   ]
  },
  {
   "cell_type": "markdown",
   "metadata": {},
   "source": [
    "Нам передали данные о некоторых пользователях из нескольких городов, а также об их поездках сервиса аренды самокатов GoFast. Необходимо было проанализировать данные и проверить некоторые гипотезы, которые могут помочь бизнесу вырасти.\n",
    "\n",
    "### Провели предобработку:\n",
    "- Привели столбец `date` к типу даты pandas.\n",
    "- Создали новый столбец с номером месяца на основе столбца `date`.\n",
    "- Проверили наличие пропущенных значений (их нет) и дубликатов в датафреймах. Нашли и удалили дубликаты в таблице пользователей\n",
    "\n",
    "### Провели исследовательский анализ данных:\n",
    "1. В датасете 8 городов, разброс пользователей между ними небольшой - от 168 до 219 пользователей\n",
    "2. Из 1534 пользователей 46% с подпиской и 54% без подписки;\n",
    "3. возраст пользователей распределён нормально, от 12 до 43 лет\n",
    "4. расстояние, которое пользователь преодолел за одну поездку — у распределения два пика\n",
    "  - небольшие поездки до 1км\n",
    "  - длинные поездки чуть больше 3км\n",
    "5. продолжительность поездок - распределение нормальное за исключением небольшого пика в области 0.5 минут - эти аномальные поездки решили оставить\n",
    "\n",
    "- Объединили данные о пользователях, поездках и подписках в один датафрейм.\n",
    "- Визуализировали информацию о расстоянии и времени поездок для пользователей обеих категорий:\n",
    "  - Пользователи с подпиской, судя по графикам, могут делать более длительные поездки - среди них очень мало поездок < 5 минут и есть поездкиболее 35 минут. В целом оба распределения нормальные\n",
    "  - Распределения по расстоянию похожи, однако тут также у платных пользователей есть отличия - более дальние поездки в левой части (1км), и большее количество пользователей в центральной части колокола.\n",
    "  - Отличий не очень много, однако есть пользователи с платной подпиской, которые делают наиболее дальние и долгие поездки\n",
    "\n",
    "### Проверили несколько гипотез:\n",
    "\n",
    "- Считаем, что среднее значение времени в поездках пользователей с подпиской больше, чем среднее значение времени в поездках пользователей без подписки\n",
    "- Расстояние одной поездки в 3130 метров — оптимальное с точки зрения износа самоката. Можно сказать, что среднее расстояние, которое проезжают пользователи с подпиской за одну поездку, не превышает 3130 метров. Значит, износ самокатов оптимальный.\n",
    "- Помесячная выручка от пользователей с подпиской по месяцам выше, чем выручка от пользователей без подписки. \n",
    "- Техническая команда сервиса обновила сервера, с которыми взаимодействует мобильное приложение. Она надеется, что из-за этого количество обращений в техподдержку значимо снизилось. Некоторый файл содержит для каждого пользователя данные о количестве обращений до обновления и после него. \n",
    "\n",
    "Чтобы проверить гипотезу о равенстве среднего генеральной совокупности для зависимых (парных) выборок в Python применяется метод `scipy.stats.ttest_rel()`. Гипотеза о равенстве средних для зависимых (парных) выборок - проверяться будет одностороняя (левая) гипотеза\n",
    "\n",
    "\n",
    "\n",
    "### Проверили гипотезы отдела маркетинга\n",
    "- Если взять 1171 промокод - вероятность не выполнить план - 5%\n",
    "- Вероятность того, что уведомление откроют не более 399,5 тыс. пользователей - 15%"
   ]
  }
 ],
 "metadata": {
  "ExecuteTimeLog": [
   {
    "duration": 1414,
    "start_time": "2023-10-08T14:50:38.190Z"
   },
   {
    "duration": 204,
    "start_time": "2023-10-08T14:50:39.606Z"
   },
   {
    "duration": 33,
    "start_time": "2023-10-08T14:50:39.811Z"
   },
   {
    "duration": 10,
    "start_time": "2023-10-08T14:50:39.845Z"
   },
   {
    "duration": 20,
    "start_time": "2023-10-08T14:50:39.857Z"
   },
   {
    "duration": 19,
    "start_time": "2023-10-08T14:50:39.878Z"
   },
   {
    "duration": 13,
    "start_time": "2023-10-08T14:50:39.898Z"
   },
   {
    "duration": 15,
    "start_time": "2023-10-08T14:50:39.913Z"
   },
   {
    "duration": 7,
    "start_time": "2023-10-08T14:50:39.929Z"
   },
   {
    "duration": 180,
    "start_time": "2023-10-08T14:50:39.949Z"
   },
   {
    "duration": 6,
    "start_time": "2023-10-08T14:50:40.131Z"
   },
   {
    "duration": 66,
    "start_time": "2023-10-08T14:50:40.149Z"
   },
   {
    "duration": 6,
    "start_time": "2023-10-08T14:50:40.217Z"
   },
   {
    "duration": 296,
    "start_time": "2023-10-08T14:50:40.225Z"
   },
   {
    "duration": 244,
    "start_time": "2023-10-08T14:50:40.523Z"
   },
   {
    "duration": 218,
    "start_time": "2023-10-08T14:50:40.769Z"
   },
   {
    "duration": 14,
    "start_time": "2023-10-08T14:50:40.989Z"
   },
   {
    "duration": 13,
    "start_time": "2023-10-08T14:50:41.004Z"
   },
   {
    "duration": 219,
    "start_time": "2023-10-08T14:50:41.019Z"
   },
   {
    "duration": 11,
    "start_time": "2023-10-08T14:50:41.240Z"
   },
   {
    "duration": 219,
    "start_time": "2023-10-08T14:50:41.253Z"
   },
   {
    "duration": 23,
    "start_time": "2023-10-08T14:50:41.474Z"
   },
   {
    "duration": 16,
    "start_time": "2023-10-08T14:50:41.499Z"
   },
   {
    "duration": 21,
    "start_time": "2023-10-08T14:50:41.516Z"
   },
   {
    "duration": 346,
    "start_time": "2023-10-08T14:50:41.550Z"
   },
   {
    "duration": 383,
    "start_time": "2023-10-08T14:50:41.898Z"
   },
   {
    "duration": 598,
    "start_time": "2023-10-08T14:50:42.283Z"
   },
   {
    "duration": 13,
    "start_time": "2023-10-08T14:50:42.885Z"
   },
   {
    "duration": 54,
    "start_time": "2023-10-08T14:50:42.899Z"
   },
   {
    "duration": 123,
    "start_time": "2023-10-08T14:50:42.954Z"
   },
   {
    "duration": 19,
    "start_time": "2023-10-08T14:50:43.079Z"
   },
   {
    "duration": 5,
    "start_time": "2023-10-08T14:50:43.100Z"
   },
   {
    "duration": 15,
    "start_time": "2023-10-08T14:50:43.106Z"
   },
   {
    "duration": 9,
    "start_time": "2023-10-08T14:50:43.123Z"
   },
   {
    "duration": 1676,
    "start_time": "2023-10-08T14:50:43.150Z"
   },
   {
    "duration": 5,
    "start_time": "2023-10-08T14:50:44.827Z"
   },
   {
    "duration": 16,
    "start_time": "2023-10-08T14:50:44.834Z"
   },
   {
    "duration": 177,
    "start_time": "2023-10-08T14:50:44.852Z"
   },
   {
    "duration": 121,
    "start_time": "2023-10-08T14:50:45.030Z"
   },
   {
    "duration": 48,
    "start_time": "2023-10-10T16:39:06.258Z"
   },
   {
    "duration": 1439,
    "start_time": "2023-10-10T16:39:12.936Z"
   },
   {
    "duration": 200,
    "start_time": "2023-10-10T16:39:14.378Z"
   },
   {
    "duration": 40,
    "start_time": "2023-10-10T16:39:14.580Z"
   },
   {
    "duration": 11,
    "start_time": "2023-10-10T16:39:14.622Z"
   },
   {
    "duration": 10,
    "start_time": "2023-10-10T16:39:14.634Z"
   },
   {
    "duration": 17,
    "start_time": "2023-10-10T16:39:14.646Z"
   },
   {
    "duration": 15,
    "start_time": "2023-10-10T16:39:14.664Z"
   },
   {
    "duration": 10,
    "start_time": "2023-10-10T16:39:14.681Z"
   },
   {
    "duration": 6,
    "start_time": "2023-10-10T16:39:14.723Z"
   },
   {
    "duration": 194,
    "start_time": "2023-10-10T16:39:14.731Z"
   },
   {
    "duration": 6,
    "start_time": "2023-10-10T16:39:14.927Z"
   },
   {
    "duration": 89,
    "start_time": "2023-10-10T16:39:14.935Z"
   },
   {
    "duration": 6,
    "start_time": "2023-10-10T16:39:15.026Z"
   },
   {
    "duration": 353,
    "start_time": "2023-10-10T16:39:15.033Z"
   },
   {
    "duration": 257,
    "start_time": "2023-10-10T16:39:15.388Z"
   },
   {
    "duration": 242,
    "start_time": "2023-10-10T16:39:15.647Z"
   },
   {
    "duration": 15,
    "start_time": "2023-10-10T16:39:15.891Z"
   },
   {
    "duration": 27,
    "start_time": "2023-10-10T16:39:15.908Z"
   },
   {
    "duration": 229,
    "start_time": "2023-10-10T16:39:15.936Z"
   },
   {
    "duration": 6,
    "start_time": "2023-10-10T16:39:16.167Z"
   },
   {
    "duration": 279,
    "start_time": "2023-10-10T16:39:16.175Z"
   },
   {
    "duration": 33,
    "start_time": "2023-10-10T16:39:16.457Z"
   },
   {
    "duration": 36,
    "start_time": "2023-10-10T16:39:16.492Z"
   },
   {
    "duration": 16,
    "start_time": "2023-10-10T16:39:16.530Z"
   },
   {
    "duration": 450,
    "start_time": "2023-10-10T16:39:16.549Z"
   },
   {
    "duration": 428,
    "start_time": "2023-10-10T16:39:17.001Z"
   },
   {
    "duration": 587,
    "start_time": "2023-10-10T16:39:17.431Z"
   },
   {
    "duration": 12,
    "start_time": "2023-10-10T16:39:18.022Z"
   },
   {
    "duration": 60,
    "start_time": "2023-10-10T16:39:18.036Z"
   },
   {
    "duration": 130,
    "start_time": "2023-10-10T16:39:18.098Z"
   },
   {
    "duration": 20,
    "start_time": "2023-10-10T16:39:18.230Z"
   },
   {
    "duration": 7,
    "start_time": "2023-10-10T16:39:18.251Z"
   },
   {
    "duration": 29,
    "start_time": "2023-10-10T16:39:18.259Z"
   },
   {
    "duration": 18,
    "start_time": "2023-10-10T16:39:18.290Z"
   },
   {
    "duration": 1766,
    "start_time": "2023-10-10T16:39:18.310Z"
   },
   {
    "duration": 4,
    "start_time": "2023-10-10T16:39:20.078Z"
   },
   {
    "duration": 91,
    "start_time": "2023-10-10T16:39:20.083Z"
   },
   {
    "duration": 315,
    "start_time": "2023-10-10T16:39:20.175Z"
   },
   {
    "duration": 134,
    "start_time": "2023-10-10T16:39:20.492Z"
   },
   {
    "duration": 325,
    "start_time": "2023-10-10T16:41:49.354Z"
   },
   {
    "duration": 400,
    "start_time": "2023-10-10T16:42:28.710Z"
   },
   {
    "duration": 7,
    "start_time": "2023-10-10T16:42:51.692Z"
   },
   {
    "duration": 100,
    "start_time": "2023-10-10T16:43:34.333Z"
   },
   {
    "duration": 10,
    "start_time": "2023-10-10T16:43:42.503Z"
   },
   {
    "duration": 7,
    "start_time": "2023-10-10T16:43:58.246Z"
   },
   {
    "duration": 9,
    "start_time": "2023-10-10T16:44:26.781Z"
   },
   {
    "duration": 7,
    "start_time": "2023-10-10T16:44:53.606Z"
   },
   {
    "duration": 14,
    "start_time": "2023-10-10T16:45:43.057Z"
   },
   {
    "duration": 7,
    "start_time": "2023-10-10T16:45:50.580Z"
   },
   {
    "duration": 7,
    "start_time": "2023-10-10T16:46:08.238Z"
   },
   {
    "duration": 1224,
    "start_time": "2023-10-10T16:54:57.264Z"
   },
   {
    "duration": 71,
    "start_time": "2023-10-10T16:54:58.490Z"
   },
   {
    "duration": 42,
    "start_time": "2023-10-10T16:54:58.563Z"
   },
   {
    "duration": 23,
    "start_time": "2023-10-10T16:54:58.606Z"
   },
   {
    "duration": 352,
    "start_time": "2023-10-10T16:54:58.631Z"
   },
   {
    "duration": 8,
    "start_time": "2023-10-10T16:54:58.984Z"
   },
   {
    "duration": 35,
    "start_time": "2023-10-10T16:54:58.993Z"
   },
   {
    "duration": 36,
    "start_time": "2023-10-10T16:54:59.030Z"
   },
   {
    "duration": 48,
    "start_time": "2023-10-10T16:54:59.067Z"
   },
   {
    "duration": 32,
    "start_time": "2023-10-10T16:54:59.117Z"
   },
   {
    "duration": 33,
    "start_time": "2023-10-10T16:54:59.151Z"
   },
   {
    "duration": 243,
    "start_time": "2023-10-10T16:54:59.186Z"
   },
   {
    "duration": 7,
    "start_time": "2023-10-10T16:54:59.430Z"
   },
   {
    "duration": 173,
    "start_time": "2023-10-10T16:54:59.439Z"
   },
   {
    "duration": 48,
    "start_time": "2023-10-10T16:54:59.613Z"
   },
   {
    "duration": 363,
    "start_time": "2023-10-10T16:54:59.663Z"
   },
   {
    "duration": 283,
    "start_time": "2023-10-10T16:55:00.028Z"
   },
   {
    "duration": 266,
    "start_time": "2023-10-10T16:55:00.313Z"
   },
   {
    "duration": 36,
    "start_time": "2023-10-10T16:55:00.581Z"
   },
   {
    "duration": 46,
    "start_time": "2023-10-10T16:55:00.619Z"
   },
   {
    "duration": 160,
    "start_time": "2023-10-10T16:55:00.666Z"
   },
   {
    "duration": 25,
    "start_time": "2023-10-10T16:55:00.828Z"
   },
   {
    "duration": 53,
    "start_time": "2023-10-10T16:55:00.855Z"
   },
   {
    "duration": 42,
    "start_time": "2023-10-10T16:55:00.916Z"
   },
   {
    "duration": 455,
    "start_time": "2023-10-10T16:55:00.960Z"
   },
   {
    "duration": 541,
    "start_time": "2023-10-10T16:55:01.416Z"
   },
   {
    "duration": 635,
    "start_time": "2023-10-10T16:55:01.959Z"
   },
   {
    "duration": 13,
    "start_time": "2023-10-10T16:55:02.596Z"
   },
   {
    "duration": 406,
    "start_time": "2023-10-10T16:55:02.611Z"
   },
   {
    "duration": 8,
    "start_time": "2023-10-10T16:55:03.018Z"
   },
   {
    "duration": 58,
    "start_time": "2023-10-10T16:55:03.028Z"
   },
   {
    "duration": 126,
    "start_time": "2023-10-10T16:55:03.087Z"
   },
   {
    "duration": 22,
    "start_time": "2023-10-10T16:55:03.215Z"
   },
   {
    "duration": 65,
    "start_time": "2023-10-10T16:55:03.238Z"
   },
   {
    "duration": 42,
    "start_time": "2023-10-10T16:55:03.305Z"
   },
   {
    "duration": 69,
    "start_time": "2023-10-10T16:55:03.349Z"
   },
   {
    "duration": 1768,
    "start_time": "2023-10-10T16:55:03.419Z"
   },
   {
    "duration": 4,
    "start_time": "2023-10-10T16:55:05.189Z"
   },
   {
    "duration": 44,
    "start_time": "2023-10-10T16:55:05.194Z"
   },
   {
    "duration": 227,
    "start_time": "2023-10-10T16:55:05.240Z"
   },
   {
    "duration": 148,
    "start_time": "2023-10-10T16:55:05.472Z"
   },
   {
    "duration": 1225,
    "start_time": "2023-10-10T17:04:06.881Z"
   },
   {
    "duration": 70,
    "start_time": "2023-10-10T17:04:08.108Z"
   },
   {
    "duration": 102,
    "start_time": "2023-10-10T17:04:08.180Z"
   },
   {
    "duration": 52,
    "start_time": "2023-10-10T17:04:08.284Z"
   },
   {
    "duration": 349,
    "start_time": "2023-10-10T17:04:08.338Z"
   },
   {
    "duration": 9,
    "start_time": "2023-10-10T17:04:08.689Z"
   },
   {
    "duration": 48,
    "start_time": "2023-10-10T17:04:08.699Z"
   },
   {
    "duration": 40,
    "start_time": "2023-10-10T17:04:08.749Z"
   },
   {
    "duration": 23,
    "start_time": "2023-10-10T17:04:08.790Z"
   },
   {
    "duration": 19,
    "start_time": "2023-10-10T17:04:08.816Z"
   },
   {
    "duration": 25,
    "start_time": "2023-10-10T17:04:08.837Z"
   },
   {
    "duration": 208,
    "start_time": "2023-10-10T17:04:08.864Z"
   },
   {
    "duration": 6,
    "start_time": "2023-10-10T17:04:09.074Z"
   },
   {
    "duration": 91,
    "start_time": "2023-10-10T17:04:09.082Z"
   },
   {
    "duration": 7,
    "start_time": "2023-10-10T17:04:09.175Z"
   },
   {
    "duration": 425,
    "start_time": "2023-10-10T17:04:09.184Z"
   },
   {
    "duration": 268,
    "start_time": "2023-10-10T17:04:09.612Z"
   },
   {
    "duration": 266,
    "start_time": "2023-10-10T17:04:09.882Z"
   },
   {
    "duration": 13,
    "start_time": "2023-10-10T17:04:10.150Z"
   },
   {
    "duration": 13,
    "start_time": "2023-10-10T17:04:10.165Z"
   },
   {
    "duration": 191,
    "start_time": "2023-10-10T17:04:10.179Z"
   },
   {
    "duration": 28,
    "start_time": "2023-10-10T17:04:10.373Z"
   },
   {
    "duration": 24,
    "start_time": "2023-10-10T17:04:10.403Z"
   },
   {
    "duration": 105,
    "start_time": "2023-10-10T17:04:10.430Z"
   },
   {
    "duration": 452,
    "start_time": "2023-10-10T17:04:10.536Z"
   },
   {
    "duration": 530,
    "start_time": "2023-10-10T17:04:10.990Z"
   },
   {
    "duration": 633,
    "start_time": "2023-10-10T17:04:11.521Z"
   },
   {
    "duration": 13,
    "start_time": "2023-10-10T17:04:12.157Z"
   },
   {
    "duration": 40,
    "start_time": "2023-10-10T17:04:12.171Z"
   },
   {
    "duration": 6,
    "start_time": "2023-10-10T17:04:12.213Z"
   },
   {
    "duration": 26,
    "start_time": "2023-10-10T17:04:12.220Z"
   },
   {
    "duration": 127,
    "start_time": "2023-10-10T17:04:12.248Z"
   },
   {
    "duration": 19,
    "start_time": "2023-10-10T17:04:12.376Z"
   },
   {
    "duration": 6,
    "start_time": "2023-10-10T17:04:12.396Z"
   },
   {
    "duration": 23,
    "start_time": "2023-10-10T17:04:12.403Z"
   },
   {
    "duration": 40,
    "start_time": "2023-10-10T17:04:12.428Z"
   },
   {
    "duration": 1766,
    "start_time": "2023-10-10T17:04:12.470Z"
   },
   {
    "duration": 4,
    "start_time": "2023-10-10T17:04:14.238Z"
   },
   {
    "duration": 23,
    "start_time": "2023-10-10T17:04:14.244Z"
   },
   {
    "duration": 190,
    "start_time": "2023-10-10T17:04:14.268Z"
   },
   {
    "duration": 125,
    "start_time": "2023-10-10T17:04:14.460Z"
   },
   {
    "duration": 1425,
    "start_time": "2023-10-10T19:24:05.351Z"
   },
   {
    "duration": 210,
    "start_time": "2023-10-10T19:24:06.786Z"
   },
   {
    "duration": 65,
    "start_time": "2023-10-10T19:24:06.998Z"
   },
   {
    "duration": 21,
    "start_time": "2023-10-10T19:24:07.073Z"
   },
   {
    "duration": 390,
    "start_time": "2023-10-10T19:24:07.095Z"
   },
   {
    "duration": 9,
    "start_time": "2023-10-10T19:24:07.499Z"
   },
   {
    "duration": 11,
    "start_time": "2023-10-10T19:24:07.510Z"
   },
   {
    "duration": 36,
    "start_time": "2023-10-10T19:24:07.523Z"
   },
   {
    "duration": 29,
    "start_time": "2023-10-10T19:24:07.564Z"
   },
   {
    "duration": 14,
    "start_time": "2023-10-10T19:24:07.599Z"
   },
   {
    "duration": 5,
    "start_time": "2023-10-10T19:24:07.615Z"
   },
   {
    "duration": 239,
    "start_time": "2023-10-10T19:24:07.622Z"
   },
   {
    "duration": 12,
    "start_time": "2023-10-10T19:24:07.863Z"
   },
   {
    "duration": 99,
    "start_time": "2023-10-10T19:24:07.879Z"
   },
   {
    "duration": 6,
    "start_time": "2023-10-10T19:24:07.979Z"
   },
   {
    "duration": 414,
    "start_time": "2023-10-10T19:24:07.986Z"
   },
   {
    "duration": 286,
    "start_time": "2023-10-10T19:24:08.402Z"
   },
   {
    "duration": 281,
    "start_time": "2023-10-10T19:24:08.695Z"
   },
   {
    "duration": 16,
    "start_time": "2023-10-10T19:24:08.989Z"
   },
   {
    "duration": 17,
    "start_time": "2023-10-10T19:24:09.006Z"
   },
   {
    "duration": 168,
    "start_time": "2023-10-10T19:24:09.024Z"
   },
   {
    "duration": 22,
    "start_time": "2023-10-10T19:24:09.199Z"
   },
   {
    "duration": 37,
    "start_time": "2023-10-10T19:24:09.223Z"
   },
   {
    "duration": 40,
    "start_time": "2023-10-10T19:24:09.270Z"
   },
   {
    "duration": 456,
    "start_time": "2023-10-10T19:24:09.311Z"
   },
   {
    "duration": 532,
    "start_time": "2023-10-10T19:24:09.769Z"
   },
   {
    "duration": 766,
    "start_time": "2023-10-10T19:24:10.305Z"
   },
   {
    "duration": 18,
    "start_time": "2023-10-10T19:24:11.086Z"
   },
   {
    "duration": 58,
    "start_time": "2023-10-10T19:24:11.106Z"
   },
   {
    "duration": 14,
    "start_time": "2023-10-10T19:24:11.168Z"
   },
   {
    "duration": 18,
    "start_time": "2023-10-10T19:24:11.187Z"
   },
   {
    "duration": 129,
    "start_time": "2023-10-10T19:24:11.207Z"
   },
   {
    "duration": 45,
    "start_time": "2023-10-10T19:24:11.337Z"
   },
   {
    "duration": 8,
    "start_time": "2023-10-10T19:24:11.392Z"
   },
   {
    "duration": 7,
    "start_time": "2023-10-10T19:24:11.401Z"
   },
   {
    "duration": 74,
    "start_time": "2023-10-10T19:24:11.409Z"
   },
   {
    "duration": 1873,
    "start_time": "2023-10-10T19:24:11.499Z"
   },
   {
    "duration": 5,
    "start_time": "2023-10-10T19:24:13.373Z"
   },
   {
    "duration": 10,
    "start_time": "2023-10-10T19:24:13.379Z"
   },
   {
    "duration": 218,
    "start_time": "2023-10-10T19:24:13.390Z"
   },
   {
    "duration": 152,
    "start_time": "2023-10-10T19:24:13.610Z"
   },
   {
    "duration": 11,
    "start_time": "2023-10-10T19:27:12.158Z"
   }
  ],
  "kernelspec": {
   "display_name": "Python 3 (ipykernel)",
   "language": "python",
   "name": "python3"
  },
  "language_info": {
   "codemirror_mode": {
    "name": "ipython",
    "version": 3
   },
   "file_extension": ".py",
   "mimetype": "text/x-python",
   "name": "python",
   "nbconvert_exporter": "python",
   "pygments_lexer": "ipython3",
   "version": "3.9.5"
  },
  "toc": {
   "base_numbering": 1,
   "nav_menu": {},
   "number_sections": true,
   "sideBar": true,
   "skip_h1_title": true,
   "title_cell": "Table of Contents",
   "title_sidebar": "Contents",
   "toc_cell": false,
   "toc_position": {},
   "toc_section_display": true,
   "toc_window_display": false
  }
 },
 "nbformat": 4,
 "nbformat_minor": 2
}
