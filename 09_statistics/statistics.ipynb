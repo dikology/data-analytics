{
 "cells": [
  {
   "attachments": {},
   "cell_type": "markdown",
   "metadata": {},
   "source": [
    "# Описание проекта\n",
    "\n",
    "Аналитика популярного сервиса аренды самокатов GoFast. Нам передали данные о некоторых пользователях из нескольких городов, а также об их поездках. Необходимо проанализировать данные и проверить некоторые гипотезы, которые могут помочь бизнесу вырасти.\n",
    "\n",
    "Чтобы совершать поездки по городу, пользователи сервиса GoFast пользуются мобильным приложением. Сервисом можно пользоваться:\n",
    "- без подписки\n",
    "  - абонентская плата отсутствует;\n",
    "  - стоимость одной минуты поездки — 8 рублей;\n",
    "  - стоимость старта (начала поездки) — 50 рублей;\n",
    "- с подпиской Ultra\n",
    "  - абонентская плата — 199 рублей в месяц;\n",
    "  - стоимость одной минуты поездки — 6 рублей;\n",
    "  - стоимость старта — бесплатно."
   ]
  },
  {
   "attachments": {},
   "cell_type": "markdown",
   "metadata": {},
   "source": [
    "## Описание данных\n",
    "\n",
    "В основных данных есть информация о пользователях, их поездках и подписках."
   ]
  },
  {
   "attachments": {},
   "cell_type": "markdown",
   "metadata": {},
   "source": [
    "### Пользователи — `users_go.csv`\n",
    "\n",
    "- `user_id`\tуникальный идентификатор пользователя\n",
    "- `name`\tимя пользователя\n",
    "- `age`\tвозраст\n",
    "- `city`\tгород\n",
    "- `subscription_type`\tтип подписки (free, ultra)"
   ]
  },
  {
   "attachments": {},
   "cell_type": "markdown",
   "metadata": {},
   "source": [
    "### Поездки — `rides_go.csv`\n",
    "\n",
    "- `user_id`\tуникальный идентификатор пользователя\n",
    "- `distance`\tрасстояние, которое пользователь проехал в текущей сессии (в метрах)\n",
    "- `duration`\tпродолжительность сессии (в минутах) — время с того момента, как - пользователь нажал кнопку «Начать поездку» до момента, как он нажал кнопку «Завершить поездку»\n",
    "- `date`\tдата совершения поездки"
   ]
  },
  {
   "attachments": {},
   "cell_type": "markdown",
   "metadata": {},
   "source": [
    "### Подписки — `subscriptions_go.csv`\n",
    "\n",
    "- `subscription_type`\tтип подписки\n",
    "- `minute_price`\tстоимость одной минуты поездки по данной подписке\n",
    "- `start_ride_price`\tстоимость начала поездки\n",
    "- `subscription_fee`\tстоимость ежемесячного платежа"
   ]
  },
  {
   "attachments": {},
   "cell_type": "markdown",
   "metadata": {},
   "source": [
    "## План работ\n",
    "\n",
    "### Шаг 1. Загрузка данных\n",
    "### Шаг 2. Предобработка данных\n",
    "### Шаг 3. Исследовательский анализ данных\n",
    "### Шаг 4. Объединение данных\n",
    "### Шаг 5. Подсчёт выручки\n",
    "### Шаг 6. Проверка гипотез\n",
    "### Шаг 7. Распределения"
   ]
  },
  {
   "attachments": {},
   "cell_type": "markdown",
   "metadata": {},
   "source": [
    "## Оглавление\n",
    "\n",
    "1. [Загрузка данных](#start)\n",
    "2. [Предобработка данных](#preparation)\n",
    "3. [Исследовательский анализ данных](#eda)\n",
    "4. [Объединение данных](#merge)\n",
    "5. [Подсчёт выручки](#revenue)\n",
    "6. [Проверка гипотез](#hypoteses)\n",
    "7. [Распределения](#spread)\n",
    "8. [Выводы и рекомендации](#conclusion)"
   ]
  },
  {
   "attachments": {},
   "cell_type": "markdown",
   "metadata": {},
   "source": [
    "<a id=\"start\"></a>\n",
    "## Загрузка данных"
   ]
  },
  {
   "attachments": {},
   "cell_type": "markdown",
   "metadata": {},
   "source": [
    "### Промежуточные итоги"
   ]
  },
  {
   "attachments": {},
   "cell_type": "markdown",
   "metadata": {},
   "source": [
    "<a id=\"spreparationtart\"></a>\n",
    "## Предобработка данных"
   ]
  },
  {
   "attachments": {},
   "cell_type": "markdown",
   "metadata": {},
   "source": [
    "### Промежуточные итоги"
   ]
  },
  {
   "attachments": {},
   "cell_type": "markdown",
   "metadata": {},
   "source": [
    "<a id=\"eda\"></a>\n",
    "## Исследовательский анализ данны"
   ]
  },
  {
   "attachments": {},
   "cell_type": "markdown",
   "metadata": {},
   "source": [
    "### Промежуточные итоги"
   ]
  },
  {
   "attachments": {},
   "cell_type": "markdown",
   "metadata": {},
   "source": [
    "<a id=\"merge\"></a>\n",
    "## Объединение данных"
   ]
  },
  {
   "attachments": {},
   "cell_type": "markdown",
   "metadata": {},
   "source": [
    "### Промежуточные итоги"
   ]
  },
  {
   "attachments": {},
   "cell_type": "markdown",
   "metadata": {},
   "source": [
    "<a id=\"revenue\"></a>\n",
    "## Подсчёт выручки"
   ]
  },
  {
   "attachments": {},
   "cell_type": "markdown",
   "metadata": {},
   "source": [
    "### Промежуточные итоги"
   ]
  },
  {
   "attachments": {},
   "cell_type": "markdown",
   "metadata": {},
   "source": [
    "<a id=\"hypoteses\"></a>\n",
    "## Проверка гипотез"
   ]
  },
  {
   "attachments": {},
   "cell_type": "markdown",
   "metadata": {},
   "source": [
    "### Промежуточные итоги"
   ]
  },
  {
   "attachments": {},
   "cell_type": "markdown",
   "metadata": {},
   "source": [
    "<a id=\"spread\"></a>\n",
    "## Распределения"
   ]
  },
  {
   "attachments": {},
   "cell_type": "markdown",
   "metadata": {},
   "source": [
    "### Промежуточные итоги"
   ]
  },
  {
   "attachments": {},
   "cell_type": "markdown",
   "metadata": {},
   "source": [
    "<a id=\"conclusion\"></a>\n",
    "## Выводы и рекомендации"
   ]
  }
 ],
 "metadata": {
  "language_info": {
   "name": "python"
  },
  "orig_nbformat": 4
 },
 "nbformat": 4,
 "nbformat_minor": 2
}
