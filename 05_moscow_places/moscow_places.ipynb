{
 "cells": [
  {
   "cell_type": "markdown",
   "metadata": {},
   "source": [
    "# Исследование рынка общественного питания Москвы\n",
    "\n",
    "Заказчик этого исследования - фонд «Shut Up and Take My Money».\n",
    "\n",
    "Нужно подготовить исследование рынка Москвы, найти интересные особенности и презентовать полученные результаты, которые в будущем помогут в выборе подходящего места для заведения общественного питания.\n",
    "\n",
    "Нам доступен датасет с заведениями общественного питания Москвы, составленный на основе данных сервисов Яндекс Карты и Яндекс Бизнес на лето 2022 года. Информация, размещённая в сервисе Яндекс Бизнес, могла быть добавлена пользователями или найдена в общедоступных источниках. Она носит исключительно справочный характер."
   ]
  },
  {
   "cell_type": "markdown",
   "metadata": {},
   "source": [
    "### Описание данных\n",
    "\n",
    "Файл `moscow_places.csv`:\n",
    "\n",
    "- `name` — название заведения;\n",
    "- `address` — адрес заведения;\n",
    "- `category` — категория заведения, например «кафе», «пиццерия» или «кофейня»;\n",
    "- `hours` — информация о днях и часах работы;\n",
    "- `lat` — широта географической точки, в которой находится заведение;\n",
    "- `lng` — долгота географической точки, в которой находится заведение;\n",
    "- `rating` — рейтинг заведения по оценкам пользователей в Яндекс Картах (высшая оценка — `5.0`);\n",
    "- `price` — категория цен в заведении, например «средние», «ниже среднего», «выше среднего» и так далее;\n",
    "- `avg_bill` — строка, которая хранит среднюю стоимость заказа в виде диапазона, например:\n",
    "    - «Средний счёт: 1000–1500 ₽»;\n",
    "    - «Цена чашки капучино: 130–220 ₽»;\n",
    "    - «Цена бокала пива: 400–600 ₽».\n",
    "        \n",
    "        и так далее;\n",
    "        \n",
    "- `middle_avg_bill` — число с оценкой среднего чека, которое указано только для значений из столбца `avg_bill`, начинающихся с подстроки «Средний счёт»:\n",
    "    - Если в строке указан ценовой диапазон из двух значений, в столбец войдёт медиана этих двух значений.\n",
    "    - Если в строке указано одно число — цена без диапазона, то в столбец войдёт это число.\n",
    "    - Если значения нет или оно не начинается с подстроки «Средний счёт», то в столбец ничего не войдёт.\n",
    "- `middle_coffee_cup` — число с оценкой одной чашки капучино, которое указано только для значений из столбца `avg_bill`, начинающихся с подстроки «Цена одной чашки капучино»:\n",
    "    - Если в строке указан ценовой диапазон из двух значений, в столбец войдёт медиана этих двух значений.\n",
    "    - Если в строке указано одно число — цена без диапазона, то в столбец войдёт это число.\n",
    "    - Если значения нет или оно не начинается с подстроки «Цена одной чашки капучино», то в столбец ничего не войдёт.\n",
    "- `chain` — число, выраженное `0` или `1`, которое показывает, является ли заведение сетевым (для маленьких сетей могут встречаться ошибки):\n",
    "    - 0 — заведение не является сетевым\n",
    "    - 1 — заведение является сетевым\n",
    "- `district` — административный район, в котором находится заведение, например Центральный административный округ;\n",
    "- `seats` — количество посадочных мест."
   ]
  },
  {
   "cell_type": "markdown",
   "metadata": {},
   "source": [
    "### План работ\n",
    "\n",
    "**Шаг 1.** **Изучим файлы с данными**\n",
    "1. Загрузим данные из файлов в датафрейм.\n",
    "2. Изучим общую информацию о полученном датафрейме.\n",
    "\n",
    "**Шаг 2. Предобработка данных**\n",
    "\n",
    "1. Найдём и изучим пропущенные значения в столбцах\n",
    "2. Рассмотрим типы данных в каждом столбце\n",
    "3. Изучим уникальные значения и дубликаты\n",
    "\n",
    "**Шаг 3. Проведём исследовательский анализ данных:**\n",
    "\n",
    "1. Изучим параметры заведений\n",
    "2. Посмотрим, какие факторы больше всего влияют на целевые задачи исследования\n",
    "\n",
    "**Шаг 4. Исследование по открытию кофейни**\n",
    "\n",
    "**Шаг 5. Сделаем выводы и дадим рекомендации (презентация)**"
   ]
  },
  {
   "cell_type": "markdown",
   "metadata": {},
   "source": [
    "### Оглавление\n",
    "\n",
    "1. [Загрузка данных](#start)\n",
    "2. [Предобработка данных](#preprocessing)\n",
    "    * [Обработка дубликатов](#duplicates)\n",
    "    * [Обработка пропущенных значений](#null)\n",
    "    * [Типы данных](#dtypes)\n",
    "    * [Дополнительные столбцы](#newcolumns)\n",
    "3. [Анализ данных](#eda)\n",
    "4. [Открытие кофейни](#coffeeshop)\n",
    "5. [Подготовка презентации](#presentation)"
   ]
  },
  {
   "cell_type": "markdown",
   "metadata": {},
   "source": [
    "<a id=\"start\"></a>\n",
    "## Загрузка данных"
   ]
  },
  {
   "cell_type": "code",
   "execution_count": null,
   "metadata": {},
   "outputs": [],
   "source": [
    "# импорт библиотек\n",
    "import pandas as pd\n",
    "import seaborn as sns\n",
    "import matplotlib.pyplot as plt\n",
    "import plotly.express as px\n",
    "# импортируем карту, маркер и хороплет\n",
    "from folium import Map, Marker, Choropleth\n",
    "# импортируем кластер\n",
    "from folium.plugins import MarkerCluster\n",
    "\n",
    "# зададим стиль по-умолчанию для графиков\n",
    "plt.style.use('ggplot')"
   ]
  },
  {
   "cell_type": "code",
   "execution_count": null,
   "metadata": {},
   "outputs": [],
   "source": [
    "# загружаем датасет из файла\n",
    "try:\n",
    "    data = pd.read_csv('/datasets/moscow_places.csv')\n",
    "except:\n",
    "    data = pd.read_csv('../datasets/moscow_places.csv')"
   ]
  },
  {
   "cell_type": "code",
   "execution_count": null,
   "metadata": {},
   "outputs": [],
   "source": [
    "# выведем первые 5 строк датасета для ознакомления\n",
    "data.head()"
   ]
  },
  {
   "cell_type": "code",
   "execution_count": null,
   "metadata": {},
   "outputs": [],
   "source": [
    "# общая информация о датафрейме\n",
    "data.info()"
   ]
  },
  {
   "cell_type": "markdown",
   "metadata": {},
   "source": [
    "### Промежуточные итоги"
   ]
  },
  {
   "cell_type": "markdown",
   "metadata": {},
   "source": [
    "В датасете представлено 8406 заведений.\n",
    "- `name` — название заведения задано строками (стоит проверить на дубликаты);\n",
    "- `category` — категория заведения, задано строками, стоит проверить на неявные дубликаты и уникальные значения;\n",
    "- `address` — адрес заведения, задано строками (стоит проверить на дубликаты вместе с названием);\n",
    "- `district` — административный район, в котором находится заведение, задано строками;\n",
    "- `hours` — информация о днях и часах работы, задано строками, может быть перечислением, есть пропуски\n",
    "- `lat` — широта географической точки, в которой находится заведение - вещественное значение;\n",
    "- `lng` — долгота географической точки, в которой находится заведение - вещественное значение;\n",
    "- `rating` — рейтинг заведения по оценкам пользователей в Яндекс Картах (высшая оценка — `5.0`) - вещественное значение;\n",
    "- `price` — категория цен в заведении, например «средние», «ниже среднего», «выше среднего» и так далее - задано строками, стоит проверить уникальные значения, много пропусков (отсутствует информация - пропуски можно заменить заглушкой);\n",
    "- `avg_bill` — строка, которая хранит среднюю стоимость заказа в виде диапазона, - задано строками, много пропусков (отсутствует информация - пропуски можно заменить заглушкой);\n",
    "- `middle_avg_bill` — число с оценкой среднего чека, вещественное, много пропусков\n",
    "- `middle_coffee_cup` — число с оценкой одной чашки капучино, вещественное, много пропусков, но должна быть сумма с предыдущим столбцом\n",
    "- `chain` — число, выраженное `0` или `1`, целочисленное (можно заменить на boolean)\n",
    "- `seats` — количество посадочных мест, много пропусков (отсутствует информация), можно заменить на целочисленные"
   ]
  },
  {
   "cell_type": "markdown",
   "metadata": {},
   "source": [
    "<a id=\"preprocessing\"></a>\n",
    "## Предобработка данных"
   ]
  },
  {
   "cell_type": "markdown",
   "metadata": {},
   "source": [
    "<a id=\"duplicates\"></a>\n",
    "### Обработка дубликатов"
   ]
  },
  {
   "cell_type": "code",
   "execution_count": null,
   "metadata": {},
   "outputs": [],
   "source": [
    "# создадим отдельную переменную для очищенных данных\n",
    "df = data.copy()"
   ]
  },
  {
   "cell_type": "code",
   "execution_count": null,
   "metadata": {},
   "outputs": [],
   "source": [
    "# ищем полные дубликаты\n",
    "df.duplicated().sum()"
   ]
  },
  {
   "cell_type": "code",
   "execution_count": null,
   "metadata": {},
   "outputs": [],
   "source": [
    "# дубликаты по названию\n",
    "df.duplicated(subset=['name']).sum()"
   ]
  },
  {
   "cell_type": "code",
   "execution_count": null,
   "metadata": {},
   "outputs": [],
   "source": [
    "df[df.duplicated(subset=['name'])].head(10)"
   ]
  },
  {
   "cell_type": "markdown",
   "metadata": {},
   "source": [
    "Дубликатов по названию очень много, так как есть сети и неспецифические названия вроде \"Кафе\". Попробуем посмотреть название вместе с адресом"
   ]
  },
  {
   "cell_type": "code",
   "execution_count": null,
   "metadata": {},
   "outputs": [],
   "source": [
    "# дубликаты по названию и расположению\n",
    "df.duplicated(subset=['name', 'address']).sum()"
   ]
  },
  {
   "cell_type": "code",
   "execution_count": null,
   "metadata": {},
   "outputs": [],
   "source": [
    "# Проверим дубликаты, предварительно приведя значения к нижнему регистру\n",
    "lowercase = df.copy()\n",
    "lowercase['name'] = lowercase['name'].str.lower()\n",
    "lowercase['address'] = lowercase['address'].str.lower()\n",
    "\n",
    "lowercase.duplicated(subset=['name', 'address']).sum()"
   ]
  },
  {
   "cell_type": "code",
   "execution_count": null,
   "metadata": {},
   "outputs": [],
   "source": [
    "# посмотрим на найденные\n",
    "lowercase[lowercase.duplicated(subset=['name', 'address'], keep=False)]"
   ]
  },
  {
   "cell_type": "code",
   "execution_count": null,
   "metadata": {},
   "outputs": [],
   "source": [
    "# найдём эти заведения в оригинальном датасете\n",
    "df[lowercase.duplicated(subset=['name', 'address'], keep=False)]"
   ]
  },
  {
   "cell_type": "markdown",
   "metadata": {},
   "source": [
    "Неявных дубликатов немного. Можно было бы создать временные столбцы с нижним регистром для `drop_duplicates`, но тут, кажется, можно удалить дубликаты вручную. (проверили их по признаку сетевых, удаляем соответствующие)"
   ]
  },
  {
   "cell_type": "code",
   "execution_count": null,
   "metadata": {},
   "outputs": [],
   "source": [
    "df = df.drop([215, 1430, 2211, 3091])"
   ]
  },
  {
   "cell_type": "markdown",
   "metadata": {},
   "source": [
    "<div class=\"alert alert-info\">\n",
    "Денис: нашлось 4 дубликата. Удалил вручную, lowercase в адресе тоже надо учесть там, где делается анализ по улицам\n",
    "    \n",
    " \n",
    "</div>"
   ]
  },
  {
   "cell_type": "code",
   "execution_count": null,
   "metadata": {},
   "outputs": [],
   "source": [
    "# уникальные значения в категориях\n",
    "df['category'].value_counts()"
   ]
  },
  {
   "cell_type": "code",
   "execution_count": null,
   "metadata": {},
   "outputs": [],
   "source": [
    "# уникальные значения в категориях\n",
    "df['district'].value_counts()"
   ]
  },
  {
   "cell_type": "code",
   "execution_count": null,
   "metadata": {},
   "outputs": [],
   "source": [
    "# уникальные значения в категориях\n",
    "df['price'].value_counts()"
   ]
  },
  {
   "cell_type": "code",
   "execution_count": null,
   "metadata": {},
   "outputs": [],
   "source": [
    "# уникальные значения в категориях\n",
    "df['chain'].value_counts()"
   ]
  },
  {
   "cell_type": "markdown",
   "metadata": {},
   "source": [
    "<a id=\"null\"></a>\n",
    "### Обработка пропущенных значений"
   ]
  },
  {
   "cell_type": "code",
   "execution_count": null,
   "metadata": {},
   "outputs": [],
   "source": [
    "# количество пропусков в столбцах\n",
    "df.isna().sum()"
   ]
  },
  {
   "cell_type": "markdown",
   "metadata": {},
   "source": [
    "\n",
    "- `hours` — пропуски скорее всего из-за отсутствия информации, заменим на `'unknown'`\n",
    "- `price` — отсутствует информация - пропуски можно заменить заглушкой\n",
    "- `avg_bill` — отсутствует информация - пропуски можно заменить заглушкой\n",
    "- `middle_avg_bill` — оставим пропуски, данные зависят от содержимого `avg_bill`\n",
    "- `middle_coffee_cup` — оставим пропуски, данные зависят от содержимого `avg_bill`\n",
    "- `seats` — оставим пропуски, так как нет информации, а значения численные (0 будет неправильным)"
   ]
  },
  {
   "cell_type": "code",
   "execution_count": null,
   "metadata": {},
   "outputs": [],
   "source": [
    "# заменим пустые значения на заглушки\n",
    "df['hours'] = df['hours'].fillna('unknown')\n",
    "df['price'] = df['price'].fillna('unknown')\n",
    "df['avg_bill'] = df['avg_bill'].fillna('unknown')"
   ]
  },
  {
   "cell_type": "code",
   "execution_count": null,
   "metadata": {},
   "outputs": [],
   "source": [
    "# количество пропусков в столбцах\n",
    "df.isna().sum()"
   ]
  },
  {
   "cell_type": "markdown",
   "metadata": {},
   "source": [
    "<a id=\"newcolumns\"></a>\n",
    "### Дополнительные столбцы"
   ]
  },
  {
   "cell_type": "code",
   "execution_count": null,
   "metadata": {},
   "outputs": [],
   "source": [
    "df.head()"
   ]
  },
  {
   "cell_type": "markdown",
   "metadata": {},
   "source": [
    "- Создадим столбец `street` с названиями улиц из столбца с адресом."
   ]
  },
  {
   "cell_type": "code",
   "execution_count": null,
   "metadata": {},
   "outputs": [],
   "source": [
    "# формат адреса\n",
    "df['address'].unique()"
   ]
  },
  {
   "cell_type": "code",
   "execution_count": null,
   "metadata": {},
   "outputs": [],
   "source": [
    "def second_value(string):\n",
    "    \"\"\"\n",
    "    Возвращает вторые значения из списка, который передаётся строкой\n",
    "    \"\"\"\n",
    "    \n",
    "    try:\n",
    "        list = string.split(',')\n",
    "        return list[1].strip()\n",
    "    except:\n",
    "        return 'error'"
   ]
  },
  {
   "cell_type": "code",
   "execution_count": null,
   "metadata": {},
   "outputs": [],
   "source": [
    "df['street'] = df['address'].apply(second_value)"
   ]
  },
  {
   "cell_type": "code",
   "execution_count": null,
   "metadata": {},
   "outputs": [],
   "source": [
    "# посмотрим что получилось\n",
    "df['street'].unique()"
   ]
  },
  {
   "cell_type": "markdown",
   "metadata": {},
   "source": [
    "- Создадим столбец `is_24/7` с обозначением, что заведение работает ежедневно и круглосуточно (24/7):\n",
    "    - логическое значение `True` — если заведение работает ежедневно и круглосуточно;\n",
    "    - логическое значение `False` — в противоположном случае."
   ]
  },
  {
   "cell_type": "code",
   "execution_count": null,
   "metadata": {},
   "outputs": [],
   "source": [
    "df['is_24/7'] = df['hours'].str.contains('ежедневно, круглосуточно', regex=False)"
   ]
  },
  {
   "cell_type": "code",
   "execution_count": null,
   "metadata": {},
   "outputs": [],
   "source": [
    "# посмотрим что получилось\n",
    "df['is_24/7'].value_counts()"
   ]
  },
  {
   "cell_type": "markdown",
   "metadata": {},
   "source": [
    "### Промежуточные итоги\n",
    "- значимых дубликатов в данных не замечено\n",
    "- в трёх столбцах пропуски связаны с недостатком данных, заменили их на значение `'unknown'`, ещё в трёх столбцах пропуски оставили\n",
    "- создали новые столбцы"
   ]
  },
  {
   "cell_type": "markdown",
   "metadata": {},
   "source": [
    "<a id=\"eda\"></a>\n",
    "## Анализ данных"
   ]
  },
  {
   "cell_type": "markdown",
   "metadata": {},
   "source": [
    "- Какие категории заведений представлены в данных? Исследуем количество объектов общественного питания по категориям: рестораны, кофейни, пиццерии, бары и так далее. "
   ]
  },
  {
   "cell_type": "code",
   "execution_count": null,
   "metadata": {},
   "outputs": [],
   "source": [
    "# группируем данные по категориям6 считаем количество заведений\n",
    "categories = df.groupby('category').agg(total=('name','count'))\n",
    "categories"
   ]
  },
  {
   "cell_type": "markdown",
   "metadata": {},
   "source": [
    "Построим визуализацию"
   ]
  },
  {
   "cell_type": "code",
   "execution_count": null,
   "metadata": {},
   "outputs": [],
   "source": [
    "# сортируем по количеству\n",
    "categories.sort_values(by='total', inplace=True, ascending=True)\n",
    "\n",
    "# размер графика\n",
    "fig, ax = plt.subplots(figsize=(10,6), facecolor=(.94, .94, .94))\n",
    "\n",
    "ax.barh(categories.index, categories['total'])\n",
    "\n",
    "# аннотации\n",
    "for i in ax.patches:\n",
    "    plt.text(i.get_width()+0.2, i.get_y()+0.5,\n",
    "             str(round((i.get_width()), 2)),\n",
    "             fontsize = 10, fontweight ='bold',\n",
    "             color ='grey')\n",
    " \n",
    "# заголовок\n",
    "ax.set_title('Распределение заведений по категориям',\n",
    "             loc ='left', )\n",
    "\n",
    "ax.set_xlabel(\"Количество заведений\")\n",
    "ax.set_ylabel(\"Категория заведения\")\n",
    "\n",
    "plt.show()"
   ]
  },
  {
   "cell_type": "markdown",
   "metadata": {},
   "source": [
    "**Вывод**\n",
    "Больше всего в данных представлены кафе, рестораны и кофейни. \n",
    "Кофейни на третьем месте. Это означает высокую конкуренцию и необходимость грамотно подходить к выбору места для открытия."
   ]
  },
  {
   "cell_type": "markdown",
   "metadata": {},
   "source": [
    "- Исследуем количество посадочных мест в местах по категориям: рестораны, кофейни, пиццерии, бары и так далее. "
   ]
  },
  {
   "cell_type": "code",
   "execution_count": null,
   "metadata": {},
   "outputs": [],
   "source": [
    "plt.figure(figsize=(12, 6)) \n",
    "\n",
    "sns.stripplot(x='category', y='seats', data=df)\n",
    "plt.xlabel('категории заведений')\n",
    "plt.ylabel('количество посадочных мест')\n",
    "plt.title('Количество посадочных мест по категориям')\n",
    "plt.show()"
   ]
  },
  {
   "cell_type": "markdown",
   "metadata": {},
   "source": [
    "Очень мало заведений с количеством посадочных мест > 400"
   ]
  },
  {
   "cell_type": "code",
   "execution_count": null,
   "metadata": {},
   "outputs": [],
   "source": [
    "# \n",
    "plt.figure(figsize=(12, 5)) \n",
    "ax = sns.boxplot(x='category', y='seats', data=df)\n",
    "plt.ylim(top=400)\n",
    "plt.xlabel('категории заведений')\n",
    "plt.ylabel('количество посадочных мест')\n",
    "plt.title('Количество посадочных мест по категориям')\n",
    "plt.show()"
   ]
  },
  {
   "cell_type": "markdown",
   "metadata": {},
   "source": [
    "**Вывод**\n",
    "Большинство заведений имеют менее 300 посадочных мест. Большая часть заведений укладывается в диапазон 50-150 посадочных мест"
   ]
  },
  {
   "cell_type": "markdown",
   "metadata": {},
   "source": [
    "- Рассмотрим и изобразим соотношение сетевых и несетевых заведений в датасете. Каких заведений больше?\n"
   ]
  },
  {
   "cell_type": "code",
   "execution_count": null,
   "metadata": {},
   "outputs": [],
   "source": [
    "chains = df.groupby('chain').agg(total=('name','count'))\n",
    "chains.head()"
   ]
  },
  {
   "cell_type": "code",
   "execution_count": null,
   "metadata": {},
   "outputs": [],
   "source": [
    "ax = plt.bar(\n",
    "    height=chains['total'], \n",
    "    x=['несетевые', 'сетевые']\n",
    "    )\n",
    "\n",
    "# Add Title \n",
    "plt.title(\n",
    "    label=\"соотношение сетевых и несетевых заведений\", \n",
    "    fontdict={\"fontsize\":16},\n",
    "    pad=20\n",
    ")\n",
    "\n",
    "plt.show()"
   ]
  },
  {
   "cell_type": "markdown",
   "metadata": {},
   "source": [
    "**Вывод**\n",
    "В датасете больше несетевых заведений. "
   ]
  },
  {
   "cell_type": "markdown",
   "metadata": {},
   "source": [
    "- Какие категории заведений чаще являются сетевыми?\n"
   ]
  },
  {
   "cell_type": "code",
   "execution_count": null,
   "metadata": {},
   "outputs": [],
   "source": [
    "# создадим сводную таблицу по признаку сетевых заведений\n",
    "chain_categories = df.pivot_table(index='category', columns='chain', values='address', aggfunc='count')\n",
    "chain_categories"
   ]
  },
  {
   "cell_type": "code",
   "execution_count": null,
   "metadata": {},
   "outputs": [],
   "source": [
    "# данные\n",
    "groups = chain_categories.index\n",
    "values1 = chain_categories[0]\n",
    "values2 = chain_categories[1]\n",
    "\n",
    "# размер графика\n",
    "fig, ax = plt.subplots(figsize=(12,6), facecolor=(.94, .94, .94))\n",
    "\n",
    "# Stacked bar chart\n",
    "ax.bar(groups, values1, label = \"Несетевые\")\n",
    "ax.bar(groups, values2, bottom = values1, label = \"Сетевые\")\n",
    "\n",
    "# Labels\n",
    "for bar in ax.patches:\n",
    "  ax.text(bar.get_x() + bar.get_width() / 2,\n",
    "          bar.get_height() / 2 + bar.get_y(),\n",
    "          round(bar.get_height()), ha = 'center',\n",
    "          color = 'w', weight = 'bold', size = 10)\n",
    "\n",
    "ax.legend()\n",
    "ax.set_ylabel('Количество заведений')\n",
    "ax.set_xlabel('Категория заведения')\n",
    "\n",
    "plt.title('Количество сетевых и несетевых заведений')\n",
    "\n",
    "plt.show()"
   ]
  },
  {
   "cell_type": "markdown",
   "metadata": {},
   "source": [
    "**Вывод**\n",
    "Чаще всего сетевыми являются булочные и пиццерии. Кофейни тоже чаще сетевые, чем несетевые."
   ]
  },
  {
   "cell_type": "code",
   "execution_count": null,
   "metadata": {},
   "outputs": [],
   "source": [
    "# создадим новую сводную таблицу по признаку сетевых заведений\n",
    "chain_categories_2 = df.groupby('category').agg(total = ('name', 'count'), chain = ('chain', 'sum'))\n",
    "# добавим %\n",
    "chain_categories_2['chain_pct'] = round(chain_categories_2['chain']/chain_categories_2['total']*100)\n",
    "chain_categories_2 = chain_categories_2.sort_values(by = 'chain_pct', ascending=False)\n",
    "chain_categories_2"
   ]
  },
  {
   "cell_type": "code",
   "execution_count": null,
   "metadata": {
    "scrolled": true
   },
   "outputs": [],
   "source": [
    "# размер графика\n",
    "fig, ax = plt.subplots(figsize=(12,5), facecolor=(.94, .94, .94))\n",
    "\n",
    "ax.bar(chain_categories_2.index, chain_categories_2['chain_pct'])\n",
    " \n",
    "# заголовок\n",
    "ax.set_title('% сетевых заведений по категориям',\n",
    "             loc ='left', )\n",
    "\n",
    "ax.set_ylabel(\"% сетевых в общем количестве заведений\")\n",
    "ax.set_xlabel(\"Категория заведения\")\n",
    "\n",
    "plt.show()"
   ]
  },
  {
   "cell_type": "markdown",
   "metadata": {},
   "source": [
    "- Сгруппируем данные по названиям заведений и найдём топ-15 популярных сетей в Москве. Под популярностью понимается количество заведений этой сети в регионе. \n"
   ]
  },
  {
   "cell_type": "code",
   "execution_count": null,
   "metadata": {},
   "outputs": [],
   "source": [
    "# подготовим данные\n",
    "top_chains = df.groupby('name').agg(total = ('name', 'count')).sort_values(by = 'total', ascending=False)\n",
    "top_chains.head(15)"
   ]
  },
  {
   "cell_type": "code",
   "execution_count": null,
   "metadata": {},
   "outputs": [],
   "source": [
    "# Забыл про признак `\"chain\"`\n",
    "top_chains = df[df['chain'] == 1].groupby('name').agg(total = ('name', 'count')).sort_values(by = 'total', ascending=False)\n",
    "top_chains.head(15)"
   ]
  },
  {
   "cell_type": "code",
   "execution_count": null,
   "metadata": {},
   "outputs": [],
   "source": [
    "# размер графика\n",
    "fig = plt.subplots(figsize=(20,5), facecolor=(.94, .94, .94))\n",
    "ax = sns.barplot(x=top_chains[:15].index, y='total', data=top_chains[:15]) \n",
    "\n",
    "plt.xticks(rotation=30)\n",
    "\n",
    "for g in ax.patches:\n",
    "    ax.annotate(format(g.get_height(), '.1f'),\n",
    "                   (g.get_x() + g.get_width() / 2., g.get_height()),\n",
    "                   ha = 'center', va = 'center',\n",
    "                   xytext = (0, 9),\n",
    "                   textcoords = 'offset points')\n",
    "plt.xlabel(\"Название сети\", size = 14)\n",
    "plt.ylabel(\"Количество заведений\", size = 14)\n",
    "plt.tight_layout()\n",
    "\n",
    "plt.show()"
   ]
  },
  {
   "cell_type": "markdown",
   "metadata": {},
   "source": [
    "**Вывод**\n",
    "Основные популярные сетевые заведения - кафе, кофейни и пиццерии. "
   ]
  },
  {
   "cell_type": "markdown",
   "metadata": {},
   "source": [
    "- Какие административные районы Москвы присутствуют в датасете? Отобразим общее количество заведений и количество заведений каждой категории по районам. \n"
   ]
  },
  {
   "cell_type": "code",
   "execution_count": null,
   "metadata": {},
   "outputs": [],
   "source": [
    "districts = df.groupby(['district', 'category']).agg(категория=('name', 'count')).unstack()\n",
    "districts"
   ]
  },
  {
   "cell_type": "code",
   "execution_count": null,
   "metadata": {},
   "outputs": [],
   "source": [
    "ax = districts.sort_values(by=('категория','кофейня')).plot.barh(stacked=True, figsize=(13, 5))\n",
    "# setting label of y-axis\n",
    "plt.ylabel(\"районы\")\n",
    " \n",
    "# setting label of x-axis\n",
    "plt.xlabel(\"количество заведений\")\n",
    "plt.title(\"Количество заведений по районам\")\n",
    "\n",
    "for p in ax.patches:\n",
    "    width, height = p.get_width(), p.get_height()\n",
    "    x, y = p.get_xy() \n",
    "    ax.text(x+width/2, \n",
    "            y+height/2, \n",
    "            '{:.0f}'.format(width), \n",
    "            horizontalalignment='center', \n",
    "            verticalalignment='center',\n",
    "            color='white',\n",
    "            fontsize=10)\n",
    "\n",
    "plt.show()"
   ]
  },
  {
   "cell_type": "markdown",
   "metadata": {},
   "source": [
    "**Вывод**\n",
    "Ожидаемо самое большое количество заведений - в ЦАО. Меньше всего - в СЗАО. "
   ]
  },
  {
   "cell_type": "markdown",
   "metadata": {},
   "source": [
    "- Визуализируем распределение средних рейтингов по категориям заведений. Сильно ли различаются усреднённые рейтинги в разных типах общепита?\n"
   ]
  },
  {
   "cell_type": "code",
   "execution_count": null,
   "metadata": {},
   "outputs": [],
   "source": [
    "rating_categories = df.groupby('category').agg(rating=('rating', 'mean')).sort_values(by='rating', ascending=False)\n",
    "rating_categories"
   ]
  },
  {
   "cell_type": "code",
   "execution_count": null,
   "metadata": {},
   "outputs": [],
   "source": [
    "# размер графика\n",
    "fig, ax = plt.subplots(figsize=(10,6), facecolor=(.94, .94, .94))\n",
    "\n",
    "ax.plot(rating_categories.index, rating_categories['rating'])\n",
    " \n",
    "# заголовок\n",
    "ax.set_title('Распределение оценок заведений по категориям',\n",
    "             loc ='left', )\n",
    "\n",
    "ax.set_ylabel(\"Оценка заведения\")\n",
    "ax.set_xlabel(\"Категория заведения\")\n",
    "\n",
    "plt.show()"
   ]
  },
  {
   "cell_type": "markdown",
   "metadata": {},
   "source": [
    "**Вывод**\n",
    "Самые плохие рейтинги - у заведений быстрого питания и кафе. Лучше всего - у баров и пабов. "
   ]
  },
  {
   "cell_type": "code",
   "execution_count": null,
   "metadata": {
    "scrolled": true
   },
   "outputs": [],
   "source": [
    "# размер графика\n",
    "fig, ax = plt.subplots(figsize=(10,6), facecolor=(.94, .94, .94))\n",
    "\n",
    "ax.bar(rating_categories.index, rating_categories['rating'])\n",
    " \n",
    "# заголовок\n",
    "ax.set_title('Распределение оценок заведений по категориям',\n",
    "             loc ='left', )\n",
    "\n",
    "ax.set_ylabel(\"Оценка заведения\")\n",
    "ax.set_xlabel(\"Категория заведения\")\n",
    "ax.set_ylim(3)\n",
    "\n",
    "plt.show()"
   ]
  },
  {
   "cell_type": "markdown",
   "metadata": {},
   "source": [
    "- Построим фоновую картограмму (хороплет) со средним рейтингом заведений каждого района. Границы районов Москвы, которые встречаются в датасете, хранятся в файле `admin_level_geomap.geojson` "
   ]
  },
  {
   "cell_type": "code",
   "execution_count": null,
   "metadata": {},
   "outputs": [],
   "source": [
    "rating_df = df.groupby('district', as_index=False)['rating'].agg('mean')\n",
    "rating_df"
   ]
  },
  {
   "cell_type": "code",
   "execution_count": null,
   "metadata": {},
   "outputs": [],
   "source": [
    "# подключаем модуль для работы с JSON-форматом\n",
    "import json\n",
    "\n",
    "# читаем файл и сохраняем в переменной\n",
    "try:\n",
    "    with open('/datasets/admin_level_geomap.geojson', 'r') as f:\n",
    "        geo_json = json.load(f)\n",
    "except:\n",
    "    with open('../datasets/admin_level_geomap.geojson', 'r') as f:\n",
    "        geo_json = json.load(f)\n"
   ]
  },
  {
   "cell_type": "code",
   "execution_count": null,
   "metadata": {},
   "outputs": [],
   "source": [
    "# загружаем JSON-файл с границами округов Москвы\n",
    "state_geo = geo_json\n",
    "# moscow_lat - широта центра Москвы, moscow_lng - долгота центра Москвы\n",
    "moscow_lat, moscow_lng = 55.751244, 37.618423\n",
    "\n",
    "# создаём карту Москвы\n",
    "m = Map(location=[moscow_lat, moscow_lng], zoom_start=10)\n",
    "\n",
    "# создаём хороплет с помощью конструктора Choropleth и добавляем его на карту\n",
    "Choropleth(\n",
    "    geo_data=state_geo,\n",
    "    data=rating_df,\n",
    "    columns=['district', 'rating'],\n",
    "    key_on='feature.name',\n",
    "    fill_color='YlGn',\n",
    "    fill_opacity=0.8,\n",
    "    legend_name='Медианный рейтинг заведений по районам',\n",
    ").add_to(m)\n",
    "\n",
    "# выводим карту\n",
    "m"
   ]
  },
  {
   "cell_type": "markdown",
   "metadata": {},
   "source": [
    "**Вывод**\n",
    "Наиболее хорошо оценённые заведения - в центре и на северо-западе. Хуже ситуация на юго-востоке."
   ]
  },
  {
   "cell_type": "markdown",
   "metadata": {},
   "source": [
    "- Отобразм все заведения датасета на карте с помощью кластеров средствами библиотеки `folium`.\n"
   ]
  },
  {
   "cell_type": "code",
   "execution_count": null,
   "metadata": {},
   "outputs": [],
   "source": [
    "# moscow_lat - широта центра Москвы, moscow_lng - долгота центра Москвы\n",
    "moscow_lat, moscow_lng = 55.751244, 37.618423\n",
    "\n",
    "# создаём карту Москвы\n",
    "m = Map(location=[moscow_lat, moscow_lng], zoom_start=10)\n",
    "# создаём пустой кластер, добавляем его на карту\n",
    "marker_cluster = MarkerCluster().add_to(m)\n",
    "\n",
    "# пишем функцию, которая принимает строку датафрейма,\n",
    "# создаёт маркер в текущей точке и добавляет его в кластер marker_cluster\n",
    "def create_clusters(row):\n",
    "    Marker(\n",
    "        [row['lat'], row['lng']],\n",
    "        popup=f\"{row['name']} {row['rating']}\",\n",
    "    ).add_to(marker_cluster)\n",
    "\n",
    "# применяем функцию create_clusters() к каждой строке датафрейма\n",
    "df.apply(create_clusters, axis=1)\n",
    "\n",
    "# выводим карту\n",
    "m"
   ]
  },
  {
   "cell_type": "markdown",
   "metadata": {},
   "source": [
    "<div class=\"alert alert-info\">Чем дальше от центра - тем менее кучно расположены заведения. Особенно это заметно в южных направлениях\n",
    "    \n",
    " \n",
    "</div>\n"
   ]
  },
  {
   "cell_type": "markdown",
   "metadata": {},
   "source": [
    "- Найдём топ-15 улиц по количеству заведений. Построим график распределения количества заведений и их категорий по этим улицам. \n"
   ]
  },
  {
   "cell_type": "code",
   "execution_count": null,
   "metadata": {},
   "outputs": [],
   "source": [
    "# ищем топ улиц по количеству заведений\n",
    "top_streets = df.groupby('street').agg(total = ('name', 'count')).sort_values(by = 'total', ascending=False)\n",
    "mask = top_streets[:15].index\n",
    "\n",
    "#считаем заведения по категориям только на выбранных улицах\n",
    "df_filtered = df[df['street'].isin(mask)]\n",
    "\n",
    "top_streets_categories = df_filtered.pivot_table(index='street', columns='category', values='address', aggfunc='count')\n",
    "top_streets_categories"
   ]
  },
  {
   "cell_type": "code",
   "execution_count": null,
   "metadata": {},
   "outputs": [],
   "source": [
    "# stacked\n",
    "ax = top_streets_categories.plot.barh(stacked=True, figsize=(13, 5))\n",
    "# setting label of y-axis\n",
    "plt.ylabel(\"улицы\")\n",
    " \n",
    "# setting label of x-axis\n",
    "plt.xlabel(\"количество заведений\")\n",
    "plt.title(\"Количество заведений по улицам\")\n",
    "\n",
    "for p in ax.patches:\n",
    "    width, height = p.get_width(), p.get_height()\n",
    "    x, y = p.get_xy() \n",
    "    ax.text(x+width/2, \n",
    "            y+height/2, \n",
    "            '{:.0f}'.format(width), \n",
    "            horizontalalignment='center', \n",
    "            verticalalignment='center',\n",
    "            color='white',\n",
    "            fontsize=10)\n",
    "\n",
    "plt.show()"
   ]
  },
  {
   "cell_type": "markdown",
   "metadata": {},
   "source": [
    "**Вывод**\n",
    "Самое большое количество заведений - на проспекте Мира."
   ]
  },
  {
   "cell_type": "markdown",
   "metadata": {},
   "source": [
    "Это довольно протяжённый артериальный проспект с большим количеством станций метро и и автобусных маршрутов"
   ]
  },
  {
   "cell_type": "markdown",
   "metadata": {},
   "source": [
    "- Найдём улицы, на которых находится только один объект общепита. Что можно сказать об этих заведениях?\n"
   ]
  },
  {
   "cell_type": "code",
   "execution_count": null,
   "metadata": {},
   "outputs": [],
   "source": [
    "low_streets = df.groupby('street').agg(total = ('name', 'count'))\n",
    "low_streets = low_streets[low_streets['total'] == 1]\n",
    "\n",
    "\n",
    "# заведения только на выбранных улицах\n",
    "df_filtered_low = df[df['street'].isin(low_streets.index)]\n",
    "df_filtered_low.head()"
   ]
  },
  {
   "cell_type": "code",
   "execution_count": null,
   "metadata": {},
   "outputs": [],
   "source": [
    "# посмотрим на районы и категории заведений\n",
    "df_filtered_low_stats = df_filtered_low.pivot_table(index='district', columns='category', values='address', aggfunc='count')\n",
    "df_filtered_low_stats"
   ]
  },
  {
   "cell_type": "code",
   "execution_count": null,
   "metadata": {
    "scrolled": false
   },
   "outputs": [],
   "source": [
    "# stacked\n",
    "ax = df_filtered_low_stats.plot.barh(stacked=True, figsize=(13, 5))\n",
    "# setting label of y-axis\n",
    "plt.ylabel(\"районы\")\n",
    " \n",
    "# setting label of x-axis\n",
    "plt.xlabel(\"количество заведений\")\n",
    "plt.title(\"Количество заведений по районам\")\n",
    "\n",
    "for p in ax.patches:\n",
    "    width, height = p.get_width(), p.get_height()\n",
    "    x, y = p.get_xy() \n",
    "    ax.text(x+width/2, \n",
    "            y+height/2, \n",
    "            '{:.0f}'.format(width), \n",
    "            horizontalalignment='center', \n",
    "            verticalalignment='center',\n",
    "            color='white',\n",
    "            fontsize=10)\n",
    "\n",
    "plt.show()"
   ]
  },
  {
   "cell_type": "code",
   "execution_count": null,
   "metadata": {},
   "outputs": [],
   "source": [
    "low_districts = df_filtered_low.groupby(['district']).agg(total=('name', 'count'), rating=('rating', 'mean'), middle_avg_bill=('middle_avg_bill', 'mean'), chain=('chain', 'sum'), night=('is_24/7', 'sum'))\n",
    "low_districts"
   ]
  },
  {
   "cell_type": "markdown",
   "metadata": {},
   "source": [
    "- Значения средних чеков заведений хранятся в столбце `middle_avg_bill`. Эти числа показывают примерную стоимость заказа в рублях, которая чаще всего выражена диапазоном. Посчитаем медиану этого столбца для каждого района. Используем это значение в качестве ценового индикатора района. Построим фоновую картограмму (хороплет) с полученными значениями для каждого района. \n"
   ]
  },
  {
   "cell_type": "code",
   "execution_count": null,
   "metadata": {},
   "outputs": [],
   "source": [
    "df.head()"
   ]
  },
  {
   "cell_type": "code",
   "execution_count": null,
   "metadata": {},
   "outputs": [],
   "source": [
    "bill_districts = df.groupby(['district']).agg(middle_avg_bill=('middle_avg_bill', 'median'))\n",
    "bill_districts"
   ]
  },
  {
   "cell_type": "code",
   "execution_count": null,
   "metadata": {},
   "outputs": [],
   "source": [
    "# загружаем JSON-файл с границами округов Москвы\n",
    "state_geo = geo_json\n",
    "# moscow_lat - широта центра Москвы, moscow_lng - долгота центра Москвы\n",
    "moscow_lat, moscow_lng = 55.751244, 37.618423\n",
    "\n",
    "# создаём карту Москвы\n",
    "m = Map(location=[moscow_lat, moscow_lng], zoom_start=10)\n",
    "\n",
    "# создаём хороплет с помощью конструктора Choropleth и добавляем его на карту\n",
    "Choropleth(\n",
    "    geo_data=state_geo,\n",
    "    data=bill_districts,\n",
    "    columns=[bill_districts.index, 'middle_avg_bill'],\n",
    "    key_on='feature.name',\n",
    "    fill_color='YlGn',\n",
    "    fill_opacity=0.8,\n",
    "    legend_name='Медианная стоимость заказа в рублях',\n",
    ").add_to(m)\n",
    "\n",
    "# выводим карту\n",
    "m"
   ]
  },
  {
   "cell_type": "markdown",
   "metadata": {},
   "source": [
    "**Вывод**\n",
    "В Западном АО средний чек такой же как и в центре, уменьшается чек В северо-восточном, южном и юго-восточном округах"
   ]
  },
  {
   "cell_type": "markdown",
   "metadata": {},
   "source": [
    "### Промежуточные итоги\n",
    "- Больше всего в данных представлены кафе, рестораны и кофейни. Кофейни на третьем месте по количеству. Это означает высокую конкуренцию и необходимость грамотно подходить к выбору места для открытия.\n",
    "- Большинство заведений имеют менее 300 посадочных мест. Большая часть заведений укладывается в диапазон 50-150 посадочных мест\n",
    "- В датасете больше несетевых заведений, однако кофейни чаще сетевые, чем несетевые. Также сетевыми чаще являются булочные и пиццерии. \n",
    "- Среди популярных сетей есть кофейни - One Price Coffee, Cofix, КОФЕПОРТ. \n",
    "- Ожидаемо самое большое количество заведений - в ЦАО. Меньше всего - в СЗАО. \n",
    "- Самые плохие рейтинги - у заведений быстрого питания и кафе. Лучше всего - у баров и пабов. \n",
    "- Наиболее хорошо оценённые заведения - в центре и на северо-западе. Хуже ситуация на юго-востоке.\n",
    "- В Западном АО средний чек такой же как и в центре, уменьшается чек В северо-восточном, южном и юго-восточном округах"
   ]
  },
  {
   "cell_type": "markdown",
   "metadata": {},
   "source": [
    "<a id=\"coffeeshop\"></a>\n",
    "## Детализируем исследование: открытие кофейни"
   ]
  },
  {
   "cell_type": "markdown",
   "metadata": {},
   "source": [
    "Перед нами следующие вопросы:\n",
    "\n",
    "- Сколько всего кофеен в датасете? В каких районах их больше всего, каковы особенности их расположения?\n",
    "- Есть ли круглосуточные кофейни?\n",
    "- Какие у кофеен рейтинги? Как они распределяются по районам?\n",
    "- На какую стоимость чашки капучино стоит ориентироваться при открытии и почему?"
   ]
  },
  {
   "cell_type": "code",
   "execution_count": null,
   "metadata": {},
   "outputs": [],
   "source": [
    "# выделим из данных кофейни\n",
    "coffeeshops = df[df['category'] == 'кофейня'].copy()\n",
    "coffeeshops.head()"
   ]
  },
  {
   "cell_type": "code",
   "execution_count": null,
   "metadata": {},
   "outputs": [],
   "source": [
    "# информация о датасете\n",
    "coffeeshops.info()"
   ]
  },
  {
   "cell_type": "code",
   "execution_count": null,
   "metadata": {},
   "outputs": [],
   "source": [
    "coffee_districts = coffeeshops.groupby(['district']).agg(total=('name', 'count'), rating=('rating', 'mean'), middle_coffee_cup=('middle_coffee_cup', 'mean'), chain=('chain', 'sum'), night=('is_24/7', 'sum'))\n",
    "coffee_districts = coffee_districts.sort_values(by='total', ascending=False)\n",
    "coffee_districts\n"
   ]
  },
  {
   "cell_type": "code",
   "execution_count": null,
   "metadata": {},
   "outputs": [],
   "source": [
    "# отсортировать по количеству и показать по районам\n",
    "\n",
    "# данные\n",
    "groups = coffee_districts.index\n",
    "values1 = coffee_districts['total']\n",
    "values2 = coffee_districts['chain']\n",
    "\n",
    "# размер графика\n",
    "fig, ax = plt.subplots(figsize=(20,5), facecolor=(.94, .94, .94))\n",
    "\n",
    "# Stacked bar chart\n",
    "ax.bar(groups, values1, label = \"Несетевые\")\n",
    "ax.bar(groups, values2, bottom = values1, label = \"Сетевые\")\n",
    "\n",
    "# Labels\n",
    "for bar in ax.patches:\n",
    "  ax.text(bar.get_x() + bar.get_width() / 2,\n",
    "          bar.get_height() / 2 + bar.get_y(),\n",
    "          round(bar.get_height()), ha = 'center',\n",
    "          color = 'w', weight = 'bold', size = 10)\n",
    "\n",
    "ax.legend()\n",
    "ax.set_ylabel('Количество заведений')\n",
    "ax.set_xlabel('Район')\n",
    "\n",
    "plt.title('Количество сетевых и несетевых кофеен')\n",
    "\n",
    "plt.xticks(rotation=30)\n",
    "\n",
    "\n",
    "plt.show()"
   ]
  },
  {
   "cell_type": "code",
   "execution_count": null,
   "metadata": {},
   "outputs": [],
   "source": [
    "# moscow_lat - широта центра Москвы, moscow_lng - долгота центра Москвы\n",
    "moscow_lat, moscow_lng = 55.751244, 37.618423\n",
    "\n",
    "# создаём карту Москвы\n",
    "m = Map(location=[moscow_lat, moscow_lng], zoom_start=10)\n",
    "# создаём пустой кластер, добавляем его на карту\n",
    "marker_cluster = MarkerCluster().add_to(m)\n",
    "\n",
    "# пишем функцию, которая принимает строку датафрейма,\n",
    "# создаёт маркер в текущей точке и добавляет его в кластер marker_cluster\n",
    "def create_clusters(row):\n",
    "    Marker(\n",
    "        [row['lat'], row['lng']],\n",
    "        popup=f\"{row['name']} {row['rating']}\",\n",
    "    ).add_to(marker_cluster)\n",
    "\n",
    "# применяем функцию create_clusters() к каждой строке датафрейма\n",
    "coffeeshops.apply(create_clusters, axis=1)\n",
    "\n",
    "# выводим карту\n",
    "m"
   ]
  },
  {
   "cell_type": "code",
   "execution_count": null,
   "metadata": {},
   "outputs": [],
   "source": [
    "# загружаем JSON-файл с границами округов Москвы\n",
    "state_geo = geo_json\n",
    "# moscow_lat - широта центра Москвы, moscow_lng - долгота центра Москвы\n",
    "moscow_lat, moscow_lng = 55.751244, 37.618423\n",
    "\n",
    "# создаём карту Москвы\n",
    "m = Map(location=[moscow_lat, moscow_lng], zoom_start=10)\n",
    "\n",
    "# создаём хороплет с помощью конструктора Choropleth и добавляем его на карту\n",
    "Choropleth(\n",
    "    geo_data=state_geo,\n",
    "    data=coffeeshops,\n",
    "    columns=['district', 'rating'],\n",
    "    key_on='feature.name',\n",
    "    fill_color='YlGn',\n",
    "    fill_opacity=0.8,\n",
    "    legend_name='Медианный рейтинг заведений по районам',\n",
    ").add_to(m)\n",
    "\n",
    "# выводим карту\n",
    "m"
   ]
  },
  {
   "cell_type": "code",
   "execution_count": null,
   "metadata": {},
   "outputs": [],
   "source": [
    "plt.figure(figsize=(20, 5)) \n",
    "ax = sns.boxplot(x='district', y='seats', data=coffeeshops)\n",
    "plt.ylim(top=400)\n",
    "plt.xticks(rotation=30)\n",
    "\n",
    "ax.set_ylabel('Количество посадочных мест')\n",
    "ax.set_xlabel('Район')\n",
    "\n",
    "plt.title('Количество посадочных мест в кофейнях')\n",
    "\n",
    "plt.show()"
   ]
  },
  {
   "cell_type": "code",
   "execution_count": null,
   "metadata": {},
   "outputs": [],
   "source": [
    "coffeeshops.describe()"
   ]
  },
  {
   "cell_type": "markdown",
   "metadata": {},
   "source": [
    "### Промежуточные итоги\n",
    "- В датасете 1413 кофеен, больше всего кофеен в центре, на западе, на севере и северо-востоке\n",
    "- Есть круглосуточные кофейни, но их достаточно мало (больше всего в центре)\n",
    "- Медианный рейтинг кофеен лучше всего на северо-востоке и востоке. \n",
    "- Средняя стоимость чашки в нецентральных, но популярных районах с хорошими рейтингами заведений - 165р"
   ]
  },
  {
   "cell_type": "code",
   "execution_count": null,
   "metadata": {},
   "outputs": [],
   "source": []
  }
 ],
 "metadata": {
  "ExecuteTimeLog": [
   {
    "duration": 1623,
    "start_time": "2023-06-02T07:49:38.252Z"
   },
   {
    "duration": 109,
    "start_time": "2023-06-02T07:49:39.877Z"
   },
   {
    "duration": 19,
    "start_time": "2023-06-02T07:49:39.988Z"
   },
   {
    "duration": 14,
    "start_time": "2023-06-02T07:49:40.008Z"
   },
   {
    "duration": 26,
    "start_time": "2023-06-02T07:49:40.024Z"
   },
   {
    "duration": 74,
    "start_time": "2023-06-02T07:49:40.051Z"
   },
   {
    "duration": 5,
    "start_time": "2023-06-02T07:49:40.126Z"
   },
   {
    "duration": 37,
    "start_time": "2023-06-02T07:49:40.132Z"
   },
   {
    "duration": 27,
    "start_time": "2023-06-02T07:49:40.171Z"
   },
   {
    "duration": 30,
    "start_time": "2023-06-02T07:49:40.199Z"
   },
   {
    "duration": 29,
    "start_time": "2023-06-02T07:49:40.231Z"
   },
   {
    "duration": 22,
    "start_time": "2023-06-02T07:49:40.262Z"
   },
   {
    "duration": 27,
    "start_time": "2023-06-02T07:49:40.286Z"
   },
   {
    "duration": 27,
    "start_time": "2023-06-02T07:49:40.317Z"
   },
   {
    "duration": 17,
    "start_time": "2023-06-02T07:49:40.346Z"
   },
   {
    "duration": 32,
    "start_time": "2023-06-02T07:49:40.365Z"
   },
   {
    "duration": 20,
    "start_time": "2023-06-02T07:49:40.399Z"
   },
   {
    "duration": 22,
    "start_time": "2023-06-02T07:49:40.421Z"
   },
   {
    "duration": 12,
    "start_time": "2023-06-02T07:49:40.444Z"
   },
   {
    "duration": 15,
    "start_time": "2023-06-02T07:49:40.458Z"
   },
   {
    "duration": 14,
    "start_time": "2023-06-02T07:49:40.475Z"
   },
   {
    "duration": 27,
    "start_time": "2023-06-02T07:49:40.491Z"
   },
   {
    "duration": 8,
    "start_time": "2023-06-02T07:49:40.520Z"
   },
   {
    "duration": 18,
    "start_time": "2023-06-02T07:49:40.530Z"
   },
   {
    "duration": 178,
    "start_time": "2023-06-02T07:49:40.550Z"
   },
   {
    "duration": 217,
    "start_time": "2023-06-02T07:49:40.730Z"
   },
   {
    "duration": 215,
    "start_time": "2023-06-02T07:49:40.949Z"
   },
   {
    "duration": 11,
    "start_time": "2023-06-02T07:49:41.165Z"
   },
   {
    "duration": 165,
    "start_time": "2023-06-02T07:49:41.177Z"
   },
   {
    "duration": 17,
    "start_time": "2023-06-02T07:49:41.343Z"
   },
   {
    "duration": 221,
    "start_time": "2023-06-02T07:49:41.361Z"
   },
   {
    "duration": 18,
    "start_time": "2023-06-02T07:49:41.583Z"
   },
   {
    "duration": 483,
    "start_time": "2023-06-02T07:49:41.602Z"
   },
   {
    "duration": 20,
    "start_time": "2023-06-02T07:49:42.086Z"
   },
   {
    "duration": 681,
    "start_time": "2023-06-02T07:49:42.117Z"
   },
   {
    "duration": 12,
    "start_time": "2023-06-02T07:49:42.799Z"
   },
   {
    "duration": 160,
    "start_time": "2023-06-02T07:49:42.812Z"
   },
   {
    "duration": 9,
    "start_time": "2023-06-02T07:49:42.974Z"
   },
   {
    "duration": 102,
    "start_time": "2023-06-02T07:49:42.985Z"
   },
   {
    "duration": 91,
    "start_time": "2023-06-02T07:49:43.089Z"
   },
   {
    "duration": 8525,
    "start_time": "2023-06-02T07:49:43.184Z"
   },
   {
    "duration": 38,
    "start_time": "2023-06-02T07:49:51.711Z"
   },
   {
    "duration": 1091,
    "start_time": "2023-06-02T07:49:51.751Z"
   },
   {
    "duration": 24,
    "start_time": "2023-06-02T07:49:52.843Z"
   },
   {
    "duration": 36,
    "start_time": "2023-06-02T07:49:52.868Z"
   },
   {
    "duration": 28,
    "start_time": "2023-06-02T07:49:52.906Z"
   },
   {
    "duration": 84,
    "start_time": "2023-06-02T07:49:52.935Z"
   },
   {
    "duration": 21,
    "start_time": "2023-06-02T07:49:53.021Z"
   },
   {
    "duration": 35,
    "start_time": "2023-06-02T07:49:53.043Z"
   },
   {
    "duration": 43,
    "start_time": "2023-06-02T07:49:53.079Z"
   },
   {
    "duration": 300,
    "start_time": "2023-06-02T07:49:53.123Z"
   },
   {
    "duration": 1680,
    "start_time": "2023-06-02T07:49:53.425Z"
   },
   {
    "duration": 108,
    "start_time": "2023-06-02T07:49:55.107Z"
   },
   {
    "duration": 270,
    "start_time": "2023-06-02T07:49:55.217Z"
   },
   {
    "duration": 29,
    "start_time": "2023-06-02T07:49:55.488Z"
   },
   {
    "duration": 1995,
    "start_time": "2023-06-02T10:26:25.793Z"
   },
   {
    "duration": 702,
    "start_time": "2023-06-02T10:26:27.790Z"
   },
   {
    "duration": 28,
    "start_time": "2023-06-02T10:26:28.494Z"
   },
   {
    "duration": 26,
    "start_time": "2023-06-02T10:26:28.524Z"
   },
   {
    "duration": 10,
    "start_time": "2023-06-02T10:26:28.553Z"
   },
   {
    "duration": 42,
    "start_time": "2023-06-02T10:26:28.566Z"
   },
   {
    "duration": 8,
    "start_time": "2023-06-02T10:26:28.610Z"
   },
   {
    "duration": 28,
    "start_time": "2023-06-02T10:26:28.623Z"
   },
   {
    "duration": 13,
    "start_time": "2023-06-02T10:26:28.653Z"
   },
   {
    "duration": 8,
    "start_time": "2023-06-02T10:26:28.668Z"
   },
   {
    "duration": 20,
    "start_time": "2023-06-02T10:26:28.678Z"
   },
   {
    "duration": 33,
    "start_time": "2023-06-02T10:26:28.702Z"
   },
   {
    "duration": 25,
    "start_time": "2023-06-02T10:26:28.737Z"
   },
   {
    "duration": 22,
    "start_time": "2023-06-02T10:26:28.766Z"
   },
   {
    "duration": 10,
    "start_time": "2023-06-02T10:26:28.790Z"
   },
   {
    "duration": 18,
    "start_time": "2023-06-02T10:26:28.802Z"
   },
   {
    "duration": 26,
    "start_time": "2023-06-02T10:26:28.823Z"
   },
   {
    "duration": 23,
    "start_time": "2023-06-02T10:26:28.851Z"
   },
   {
    "duration": 10,
    "start_time": "2023-06-02T10:26:28.880Z"
   },
   {
    "duration": 14,
    "start_time": "2023-06-02T10:26:28.893Z"
   },
   {
    "duration": 28,
    "start_time": "2023-06-02T10:26:28.909Z"
   },
   {
    "duration": 11,
    "start_time": "2023-06-02T10:26:28.939Z"
   },
   {
    "duration": 19,
    "start_time": "2023-06-02T10:26:28.952Z"
   },
   {
    "duration": 19,
    "start_time": "2023-06-02T10:26:28.973Z"
   },
   {
    "duration": 312,
    "start_time": "2023-06-02T10:26:28.993Z"
   },
   {
    "duration": 398,
    "start_time": "2023-06-02T10:26:29.308Z"
   },
   {
    "duration": 374,
    "start_time": "2023-06-02T10:26:29.708Z"
   },
   {
    "duration": 15,
    "start_time": "2023-06-02T10:26:30.083Z"
   },
   {
    "duration": 249,
    "start_time": "2023-06-02T10:26:30.099Z"
   },
   {
    "duration": 34,
    "start_time": "2023-06-02T10:26:30.352Z"
   },
   {
    "duration": 361,
    "start_time": "2023-06-02T10:26:30.392Z"
   },
   {
    "duration": 23,
    "start_time": "2023-06-02T10:26:30.754Z"
   },
   {
    "duration": 533,
    "start_time": "2023-06-02T10:26:30.779Z"
   },
   {
    "duration": 35,
    "start_time": "2023-06-02T10:26:31.313Z"
   },
   {
    "duration": 941,
    "start_time": "2023-06-02T10:26:31.350Z"
   },
   {
    "duration": 17,
    "start_time": "2023-06-02T10:26:32.293Z"
   },
   {
    "duration": 197,
    "start_time": "2023-06-02T10:26:32.312Z"
   },
   {
    "duration": 15,
    "start_time": "2023-06-02T10:26:32.511Z"
   },
   {
    "duration": 166,
    "start_time": "2023-06-02T10:26:32.527Z"
   },
   {
    "duration": 149,
    "start_time": "2023-06-02T10:26:32.695Z"
   },
   {
    "duration": 14056,
    "start_time": "2023-06-02T10:26:32.850Z"
   },
   {
    "duration": 71,
    "start_time": "2023-06-02T10:26:46.908Z"
   },
   {
    "duration": 1700,
    "start_time": "2023-06-02T10:26:47.026Z"
   },
   {
    "duration": 34,
    "start_time": "2023-06-02T10:26:48.728Z"
   },
   {
    "duration": 30,
    "start_time": "2023-06-02T10:26:48.766Z"
   },
   {
    "duration": 15,
    "start_time": "2023-06-02T10:26:48.798Z"
   },
   {
    "duration": 175,
    "start_time": "2023-06-02T10:26:48.816Z"
   },
   {
    "duration": 54,
    "start_time": "2023-06-02T10:26:48.993Z"
   },
   {
    "duration": 20,
    "start_time": "2023-06-02T10:26:49.049Z"
   },
   {
    "duration": 37,
    "start_time": "2023-06-02T10:26:49.072Z"
   },
   {
    "duration": 433,
    "start_time": "2023-06-02T10:26:49.111Z"
   },
   {
    "duration": 2432,
    "start_time": "2023-06-02T10:26:49.555Z"
   },
   {
    "duration": 169,
    "start_time": "2023-06-02T10:26:51.989Z"
   },
   {
    "duration": 361,
    "start_time": "2023-06-02T10:26:52.161Z"
   },
   {
    "duration": 45,
    "start_time": "2023-06-02T10:26:52.523Z"
   },
   {
    "duration": 1908,
    "start_time": "2023-06-02T14:22:03.770Z"
   },
   {
    "duration": 147,
    "start_time": "2023-06-02T14:22:05.680Z"
   },
   {
    "duration": 26,
    "start_time": "2023-06-02T14:22:05.829Z"
   },
   {
    "duration": 51,
    "start_time": "2023-06-02T14:22:05.857Z"
   },
   {
    "duration": 14,
    "start_time": "2023-06-02T14:22:05.910Z"
   },
   {
    "duration": 47,
    "start_time": "2023-06-02T14:22:05.925Z"
   },
   {
    "duration": 33,
    "start_time": "2023-06-02T14:22:05.974Z"
   },
   {
    "duration": 32,
    "start_time": "2023-06-02T14:22:06.009Z"
   },
   {
    "duration": 45,
    "start_time": "2023-06-02T14:22:06.043Z"
   },
   {
    "duration": 40,
    "start_time": "2023-06-02T14:22:06.089Z"
   },
   {
    "duration": 34,
    "start_time": "2023-06-02T14:22:06.131Z"
   },
   {
    "duration": 45,
    "start_time": "2023-06-02T14:22:06.166Z"
   },
   {
    "duration": 7,
    "start_time": "2023-06-02T14:22:06.213Z"
   },
   {
    "duration": 29,
    "start_time": "2023-06-02T14:22:06.224Z"
   },
   {
    "duration": 53,
    "start_time": "2023-06-02T14:22:06.254Z"
   },
   {
    "duration": 93,
    "start_time": "2023-06-02T14:22:06.309Z"
   },
   {
    "duration": 31,
    "start_time": "2023-06-02T14:22:06.403Z"
   },
   {
    "duration": 57,
    "start_time": "2023-06-02T14:22:06.436Z"
   },
   {
    "duration": 32,
    "start_time": "2023-06-02T14:22:06.494Z"
   },
   {
    "duration": 60,
    "start_time": "2023-06-02T14:22:06.529Z"
   },
   {
    "duration": 26,
    "start_time": "2023-06-02T14:22:06.591Z"
   },
   {
    "duration": 55,
    "start_time": "2023-06-02T14:22:06.620Z"
   },
   {
    "duration": 34,
    "start_time": "2023-06-02T14:22:06.677Z"
   },
   {
    "duration": 87,
    "start_time": "2023-06-02T14:22:06.713Z"
   },
   {
    "duration": 23,
    "start_time": "2023-06-02T14:22:06.802Z"
   },
   {
    "duration": 15,
    "start_time": "2023-06-02T14:22:06.827Z"
   },
   {
    "duration": 69,
    "start_time": "2023-06-02T14:22:06.844Z"
   },
   {
    "duration": 30,
    "start_time": "2023-06-02T14:22:06.914Z"
   },
   {
    "duration": 280,
    "start_time": "2023-06-02T14:22:06.945Z"
   },
   {
    "duration": 279,
    "start_time": "2023-06-02T14:22:07.227Z"
   },
   {
    "duration": 278,
    "start_time": "2023-06-02T14:22:07.508Z"
   },
   {
    "duration": 14,
    "start_time": "2023-06-02T14:22:07.789Z"
   },
   {
    "duration": 209,
    "start_time": "2023-06-02T14:22:07.805Z"
   },
   {
    "duration": 19,
    "start_time": "2023-06-02T14:22:08.016Z"
   },
   {
    "duration": 306,
    "start_time": "2023-06-02T14:22:08.055Z"
   },
   {
    "duration": 26,
    "start_time": "2023-06-02T14:22:08.373Z"
   },
   {
    "duration": 556,
    "start_time": "2023-06-02T14:22:08.401Z"
   },
   {
    "duration": 26,
    "start_time": "2023-06-02T14:22:08.959Z"
   },
   {
    "duration": 896,
    "start_time": "2023-06-02T14:22:08.987Z"
   },
   {
    "duration": 15,
    "start_time": "2023-06-02T14:22:09.885Z"
   },
   {
    "duration": 189,
    "start_time": "2023-06-02T14:22:09.904Z"
   },
   {
    "duration": 10,
    "start_time": "2023-06-02T14:22:10.094Z"
   },
   {
    "duration": 136,
    "start_time": "2023-06-02T14:22:10.106Z"
   },
   {
    "duration": 126,
    "start_time": "2023-06-02T14:22:10.244Z"
   },
   {
    "duration": 11570,
    "start_time": "2023-06-02T14:22:10.371Z"
   },
   {
    "duration": 54,
    "start_time": "2023-06-02T14:22:21.946Z"
   },
   {
    "duration": 1505,
    "start_time": "2023-06-02T14:22:22.049Z"
   },
   {
    "duration": 35,
    "start_time": "2023-06-02T14:22:23.556Z"
   },
   {
    "duration": 30,
    "start_time": "2023-06-02T14:22:23.593Z"
   },
   {
    "duration": 71,
    "start_time": "2023-06-02T14:22:23.625Z"
   },
   {
    "duration": 141,
    "start_time": "2023-06-02T14:22:23.698Z"
   },
   {
    "duration": 27,
    "start_time": "2023-06-02T14:22:23.841Z"
   },
   {
    "duration": 54,
    "start_time": "2023-06-02T14:22:23.870Z"
   },
   {
    "duration": 81,
    "start_time": "2023-06-02T14:22:23.926Z"
   },
   {
    "duration": 380,
    "start_time": "2023-06-02T14:22:24.009Z"
   },
   {
    "duration": 2020,
    "start_time": "2023-06-02T14:22:24.393Z"
   },
   {
    "duration": 167,
    "start_time": "2023-06-02T14:22:26.415Z"
   },
   {
    "duration": 360,
    "start_time": "2023-06-02T14:22:26.584Z"
   },
   {
    "duration": 45,
    "start_time": "2023-06-02T14:22:26.952Z"
   },
   {
    "duration": 17,
    "start_time": "2023-06-02T14:25:31.007Z"
   },
   {
    "duration": 23,
    "start_time": "2023-06-02T14:30:05.271Z"
   },
   {
    "duration": 24,
    "start_time": "2023-06-02T14:30:11.254Z"
   },
   {
    "duration": 19,
    "start_time": "2023-06-02T14:30:32.887Z"
   },
   {
    "duration": 29,
    "start_time": "2023-06-02T14:32:16.977Z"
   },
   {
    "duration": 21,
    "start_time": "2023-06-02T14:35:02.379Z"
   },
   {
    "duration": 209,
    "start_time": "2023-06-02T14:36:42.089Z"
   },
   {
    "duration": 179,
    "start_time": "2023-06-02T14:37:14.538Z"
   },
   {
    "duration": 36,
    "start_time": "2023-06-02T14:41:01.544Z"
   },
   {
    "duration": 450,
    "start_time": "2023-06-02T14:42:28.892Z"
   },
   {
    "duration": 149,
    "start_time": "2023-06-02T14:44:33.833Z"
   },
   {
    "duration": 11,
    "start_time": "2023-06-02T14:44:49.296Z"
   },
   {
    "duration": 22,
    "start_time": "2023-06-02T14:45:09.915Z"
   },
   {
    "duration": 20,
    "start_time": "2023-06-02T14:45:15.371Z"
   },
   {
    "duration": 1664,
    "start_time": "2023-06-02T14:48:05.965Z"
   },
   {
    "duration": 75,
    "start_time": "2023-06-02T14:48:07.631Z"
   },
   {
    "duration": 21,
    "start_time": "2023-06-02T14:48:07.707Z"
   },
   {
    "duration": 19,
    "start_time": "2023-06-02T14:48:07.730Z"
   },
   {
    "duration": 10,
    "start_time": "2023-06-02T14:48:07.756Z"
   },
   {
    "duration": 35,
    "start_time": "2023-06-02T14:48:07.769Z"
   },
   {
    "duration": 9,
    "start_time": "2023-06-02T14:48:07.806Z"
   },
   {
    "duration": 48,
    "start_time": "2023-06-02T14:48:07.817Z"
   },
   {
    "duration": 8,
    "start_time": "2023-06-02T14:48:07.867Z"
   },
   {
    "duration": 29,
    "start_time": "2023-06-02T14:48:07.877Z"
   },
   {
    "duration": 23,
    "start_time": "2023-06-02T14:48:07.908Z"
   },
   {
    "duration": 33,
    "start_time": "2023-06-02T14:48:07.933Z"
   },
   {
    "duration": 5,
    "start_time": "2023-06-02T14:48:07.968Z"
   },
   {
    "duration": 14,
    "start_time": "2023-06-02T14:48:07.976Z"
   },
   {
    "duration": 11,
    "start_time": "2023-06-02T14:48:07.991Z"
   },
   {
    "duration": 15,
    "start_time": "2023-06-02T14:48:08.004Z"
   },
   {
    "duration": 24,
    "start_time": "2023-06-02T14:48:08.021Z"
   },
   {
    "duration": 24,
    "start_time": "2023-06-02T14:48:08.055Z"
   },
   {
    "duration": 7,
    "start_time": "2023-06-02T14:48:08.080Z"
   },
   {
    "duration": 20,
    "start_time": "2023-06-02T14:48:08.089Z"
   },
   {
    "duration": 33,
    "start_time": "2023-06-02T14:48:08.111Z"
   },
   {
    "duration": 20,
    "start_time": "2023-06-02T14:48:08.148Z"
   },
   {
    "duration": 29,
    "start_time": "2023-06-02T14:48:08.170Z"
   },
   {
    "duration": 21,
    "start_time": "2023-06-02T14:48:08.201Z"
   },
   {
    "duration": 40,
    "start_time": "2023-06-02T14:48:08.224Z"
   },
   {
    "duration": 34,
    "start_time": "2023-06-02T14:48:08.266Z"
   },
   {
    "duration": 19,
    "start_time": "2023-06-02T14:48:08.302Z"
   },
   {
    "duration": 52,
    "start_time": "2023-06-02T14:48:08.323Z"
   },
   {
    "duration": 230,
    "start_time": "2023-06-02T14:48:08.377Z"
   },
   {
    "duration": 279,
    "start_time": "2023-06-02T14:48:08.610Z"
   },
   {
    "duration": 270,
    "start_time": "2023-06-02T14:48:08.891Z"
   },
   {
    "duration": 14,
    "start_time": "2023-06-02T14:48:09.164Z"
   },
   {
    "duration": 193,
    "start_time": "2023-06-02T14:48:09.180Z"
   },
   {
    "duration": 20,
    "start_time": "2023-06-02T14:48:09.375Z"
   },
   {
    "duration": 275,
    "start_time": "2023-06-02T14:48:09.397Z"
   },
   {
    "duration": 22,
    "start_time": "2023-06-02T14:48:09.674Z"
   },
   {
    "duration": 199,
    "start_time": "2023-06-02T14:48:09.697Z"
   },
   {
    "duration": 22,
    "start_time": "2023-06-02T14:48:09.898Z"
   },
   {
    "duration": 39,
    "start_time": "2023-06-02T14:48:09.922Z"
   },
   {
    "duration": 487,
    "start_time": "2023-06-02T14:48:09.963Z"
   },
   {
    "duration": 21,
    "start_time": "2023-06-02T14:48:10.460Z"
   },
   {
    "duration": 873,
    "start_time": "2023-06-02T14:48:10.483Z"
   },
   {
    "duration": 14,
    "start_time": "2023-06-02T14:48:11.359Z"
   },
   {
    "duration": 185,
    "start_time": "2023-06-02T14:48:11.375Z"
   },
   {
    "duration": 11,
    "start_time": "2023-06-02T14:48:11.562Z"
   },
   {
    "duration": 37,
    "start_time": "2023-06-02T14:48:11.575Z"
   },
   {
    "duration": 105,
    "start_time": "2023-06-02T14:48:11.613Z"
   },
   {
    "duration": 11037,
    "start_time": "2023-06-02T14:48:11.720Z"
   },
   {
    "duration": 89,
    "start_time": "2023-06-02T14:48:22.759Z"
   },
   {
    "duration": 1249,
    "start_time": "2023-06-02T14:48:22.852Z"
   },
   {
    "duration": 26,
    "start_time": "2023-06-02T14:48:24.103Z"
   },
   {
    "duration": 35,
    "start_time": "2023-06-02T14:48:24.131Z"
   },
   {
    "duration": 15,
    "start_time": "2023-06-02T14:48:24.167Z"
   },
   {
    "duration": 107,
    "start_time": "2023-06-02T14:48:24.184Z"
   },
   {
    "duration": 20,
    "start_time": "2023-06-02T14:48:24.293Z"
   },
   {
    "duration": 45,
    "start_time": "2023-06-02T14:48:24.315Z"
   },
   {
    "duration": 28,
    "start_time": "2023-06-02T14:48:24.362Z"
   },
   {
    "duration": 329,
    "start_time": "2023-06-02T14:48:24.392Z"
   },
   {
    "duration": 1859,
    "start_time": "2023-06-02T14:48:24.722Z"
   },
   {
    "duration": 132,
    "start_time": "2023-06-02T14:48:26.583Z"
   },
   {
    "duration": 328,
    "start_time": "2023-06-02T14:48:26.716Z"
   },
   {
    "duration": 30,
    "start_time": "2023-06-02T14:48:27.055Z"
   },
   {
    "duration": 15,
    "start_time": "2023-06-02T14:49:15.457Z"
   },
   {
    "duration": 22,
    "start_time": "2023-06-02T14:49:59.593Z"
   },
   {
    "duration": 23,
    "start_time": "2023-06-02T14:50:40.257Z"
   },
   {
    "duration": 135,
    "start_time": "2023-06-02T14:52:50.598Z"
   },
   {
    "duration": 848,
    "start_time": "2023-06-02T14:53:12.175Z"
   },
   {
    "duration": 185,
    "start_time": "2023-06-02T14:54:22.410Z"
   },
   {
    "duration": 175,
    "start_time": "2023-06-02T14:54:51.069Z"
   },
   {
    "duration": 15,
    "start_time": "2023-06-02T14:56:28.496Z"
   },
   {
    "duration": 1544,
    "start_time": "2023-06-02T14:56:57.416Z"
   },
   {
    "duration": 68,
    "start_time": "2023-06-02T14:56:58.961Z"
   },
   {
    "duration": 20,
    "start_time": "2023-06-02T14:56:59.031Z"
   },
   {
    "duration": 14,
    "start_time": "2023-06-02T14:56:59.053Z"
   },
   {
    "duration": 4,
    "start_time": "2023-06-02T14:56:59.069Z"
   },
   {
    "duration": 22,
    "start_time": "2023-06-02T14:56:59.075Z"
   },
   {
    "duration": 6,
    "start_time": "2023-06-02T14:56:59.098Z"
   },
   {
    "duration": 48,
    "start_time": "2023-06-02T14:56:59.105Z"
   },
   {
    "duration": 8,
    "start_time": "2023-06-02T14:56:59.154Z"
   },
   {
    "duration": 36,
    "start_time": "2023-06-02T14:56:59.163Z"
   },
   {
    "duration": 19,
    "start_time": "2023-06-02T14:56:59.201Z"
   },
   {
    "duration": 35,
    "start_time": "2023-06-02T14:56:59.222Z"
   },
   {
    "duration": 6,
    "start_time": "2023-06-02T14:56:59.259Z"
   },
   {
    "duration": 7,
    "start_time": "2023-06-02T14:56:59.268Z"
   },
   {
    "duration": 9,
    "start_time": "2023-06-02T14:56:59.277Z"
   },
   {
    "duration": 14,
    "start_time": "2023-06-02T14:56:59.287Z"
   },
   {
    "duration": 11,
    "start_time": "2023-06-02T14:56:59.303Z"
   },
   {
    "duration": 31,
    "start_time": "2023-06-02T14:56:59.316Z"
   },
   {
    "duration": 7,
    "start_time": "2023-06-02T14:56:59.349Z"
   },
   {
    "duration": 16,
    "start_time": "2023-06-02T14:56:59.358Z"
   },
   {
    "duration": 24,
    "start_time": "2023-06-02T14:56:59.376Z"
   },
   {
    "duration": 19,
    "start_time": "2023-06-02T14:56:59.402Z"
   },
   {
    "duration": 4,
    "start_time": "2023-06-02T14:56:59.423Z"
   },
   {
    "duration": 17,
    "start_time": "2023-06-02T14:56:59.429Z"
   },
   {
    "duration": 19,
    "start_time": "2023-06-02T14:56:59.447Z"
   },
   {
    "duration": 11,
    "start_time": "2023-06-02T14:56:59.469Z"
   },
   {
    "duration": 19,
    "start_time": "2023-06-02T14:56:59.482Z"
   },
   {
    "duration": 22,
    "start_time": "2023-06-02T14:56:59.503Z"
   },
   {
    "duration": 193,
    "start_time": "2023-06-02T14:56:59.527Z"
   },
   {
    "duration": 236,
    "start_time": "2023-06-02T14:56:59.722Z"
   },
   {
    "duration": 224,
    "start_time": "2023-06-02T14:56:59.959Z"
   },
   {
    "duration": 13,
    "start_time": "2023-06-02T14:57:00.185Z"
   },
   {
    "duration": 189,
    "start_time": "2023-06-02T14:57:00.199Z"
   },
   {
    "duration": 19,
    "start_time": "2023-06-02T14:57:00.389Z"
   },
   {
    "duration": 254,
    "start_time": "2023-06-02T14:57:00.409Z"
   },
   {
    "duration": 21,
    "start_time": "2023-06-02T14:57:00.665Z"
   },
   {
    "duration": 205,
    "start_time": "2023-06-02T14:57:00.688Z"
   },
   {
    "duration": 21,
    "start_time": "2023-06-02T14:57:00.895Z"
   },
   {
    "duration": 51,
    "start_time": "2023-06-02T14:57:00.918Z"
   },
   {
    "duration": 501,
    "start_time": "2023-06-02T14:57:00.971Z"
   },
   {
    "duration": 22,
    "start_time": "2023-06-02T14:57:01.476Z"
   },
   {
    "duration": 981,
    "start_time": "2023-06-02T14:57:01.499Z"
   },
   {
    "duration": 22,
    "start_time": "2023-06-02T14:57:02.483Z"
   },
   {
    "duration": 207,
    "start_time": "2023-06-02T14:57:02.507Z"
   },
   {
    "duration": 212,
    "start_time": "2023-06-02T14:57:02.716Z"
   },
   {
    "duration": 23,
    "start_time": "2023-06-02T14:57:02.929Z"
   },
   {
    "duration": 149,
    "start_time": "2023-06-02T14:57:02.954Z"
   },
   {
    "duration": 112,
    "start_time": "2023-06-02T14:57:03.105Z"
   },
   {
    "duration": 10692,
    "start_time": "2023-06-02T14:57:03.219Z"
   },
   {
    "duration": 63,
    "start_time": "2023-06-02T14:57:13.913Z"
   },
   {
    "duration": 1352,
    "start_time": "2023-06-02T14:57:13.978Z"
   },
   {
    "duration": 34,
    "start_time": "2023-06-02T14:57:15.332Z"
   },
   {
    "duration": 16,
    "start_time": "2023-06-02T14:57:15.368Z"
   },
   {
    "duration": 21,
    "start_time": "2023-06-02T14:57:15.386Z"
   },
   {
    "duration": 98,
    "start_time": "2023-06-02T14:57:15.408Z"
   },
   {
    "duration": 41,
    "start_time": "2023-06-02T14:57:15.508Z"
   },
   {
    "duration": 13,
    "start_time": "2023-06-02T14:57:15.551Z"
   },
   {
    "duration": 50,
    "start_time": "2023-06-02T14:57:15.566Z"
   },
   {
    "duration": 308,
    "start_time": "2023-06-02T14:57:15.618Z"
   },
   {
    "duration": 1632,
    "start_time": "2023-06-02T14:57:15.928Z"
   },
   {
    "duration": 121,
    "start_time": "2023-06-02T14:57:17.562Z"
   },
   {
    "duration": 323,
    "start_time": "2023-06-02T14:57:17.685Z"
   },
   {
    "duration": 40,
    "start_time": "2023-06-02T14:57:18.010Z"
   },
   {
    "duration": 222,
    "start_time": "2023-06-02T14:58:01.194Z"
   },
   {
    "duration": 175,
    "start_time": "2023-06-02T14:58:24.134Z"
   },
   {
    "duration": 28,
    "start_time": "2023-06-02T15:15:29.969Z"
   },
   {
    "duration": 792,
    "start_time": "2023-06-02T15:16:26.393Z"
   },
   {
    "duration": 19,
    "start_time": "2023-06-02T15:19:05.741Z"
   },
   {
    "duration": 25,
    "start_time": "2023-06-02T15:19:13.156Z"
   },
   {
    "duration": 323,
    "start_time": "2023-06-02T15:24:00.015Z"
   },
   {
    "duration": 355,
    "start_time": "2023-06-02T15:24:03.727Z"
   },
   {
    "duration": 1606,
    "start_time": "2023-06-02T15:24:54.732Z"
   },
   {
    "duration": 68,
    "start_time": "2023-06-02T15:24:56.340Z"
   },
   {
    "duration": 20,
    "start_time": "2023-06-02T15:24:56.410Z"
   },
   {
    "duration": 16,
    "start_time": "2023-06-02T15:24:56.432Z"
   },
   {
    "duration": 4,
    "start_time": "2023-06-02T15:24:56.451Z"
   },
   {
    "duration": 21,
    "start_time": "2023-06-02T15:24:56.457Z"
   },
   {
    "duration": 7,
    "start_time": "2023-06-02T15:24:56.479Z"
   },
   {
    "duration": 23,
    "start_time": "2023-06-02T15:24:56.487Z"
   },
   {
    "duration": 35,
    "start_time": "2023-06-02T15:24:56.512Z"
   },
   {
    "duration": 24,
    "start_time": "2023-06-02T15:24:56.549Z"
   },
   {
    "duration": 21,
    "start_time": "2023-06-02T15:24:56.575Z"
   },
   {
    "duration": 21,
    "start_time": "2023-06-02T15:24:56.598Z"
   },
   {
    "duration": 30,
    "start_time": "2023-06-02T15:24:56.621Z"
   },
   {
    "duration": 26,
    "start_time": "2023-06-02T15:24:56.655Z"
   },
   {
    "duration": 12,
    "start_time": "2023-06-02T15:24:56.682Z"
   },
   {
    "duration": 15,
    "start_time": "2023-06-02T15:24:56.696Z"
   },
   {
    "duration": 9,
    "start_time": "2023-06-02T15:24:56.713Z"
   },
   {
    "duration": 16,
    "start_time": "2023-06-02T15:24:56.724Z"
   },
   {
    "duration": 9,
    "start_time": "2023-06-02T15:24:56.746Z"
   },
   {
    "duration": 20,
    "start_time": "2023-06-02T15:24:56.757Z"
   },
   {
    "duration": 21,
    "start_time": "2023-06-02T15:24:56.778Z"
   },
   {
    "duration": 12,
    "start_time": "2023-06-02T15:24:56.801Z"
   },
   {
    "duration": 6,
    "start_time": "2023-06-02T15:24:56.815Z"
   },
   {
    "duration": 24,
    "start_time": "2023-06-02T15:24:56.822Z"
   },
   {
    "duration": 17,
    "start_time": "2023-06-02T15:24:56.848Z"
   },
   {
    "duration": 23,
    "start_time": "2023-06-02T15:24:56.868Z"
   },
   {
    "duration": 17,
    "start_time": "2023-06-02T15:24:56.893Z"
   },
   {
    "duration": 18,
    "start_time": "2023-06-02T15:24:56.911Z"
   },
   {
    "duration": 199,
    "start_time": "2023-06-02T15:24:56.931Z"
   },
   {
    "duration": 245,
    "start_time": "2023-06-02T15:24:57.131Z"
   },
   {
    "duration": 244,
    "start_time": "2023-06-02T15:24:57.378Z"
   },
   {
    "duration": 22,
    "start_time": "2023-06-02T15:24:57.624Z"
   },
   {
    "duration": 174,
    "start_time": "2023-06-02T15:24:57.648Z"
   },
   {
    "duration": 33,
    "start_time": "2023-06-02T15:24:57.824Z"
   },
   {
    "duration": 263,
    "start_time": "2023-06-02T15:24:57.859Z"
   },
   {
    "duration": 29,
    "start_time": "2023-06-02T15:24:58.124Z"
   },
   {
    "duration": 183,
    "start_time": "2023-06-02T15:24:58.154Z"
   },
   {
    "duration": 26,
    "start_time": "2023-06-02T15:24:58.339Z"
   },
   {
    "duration": 15,
    "start_time": "2023-06-02T15:24:58.367Z"
   },
   {
    "duration": 459,
    "start_time": "2023-06-02T15:24:58.383Z"
   },
   {
    "duration": 20,
    "start_time": "2023-06-02T15:24:58.849Z"
   },
   {
    "duration": 809,
    "start_time": "2023-06-02T15:24:58.871Z"
   },
   {
    "duration": 14,
    "start_time": "2023-06-02T15:24:59.682Z"
   },
   {
    "duration": 199,
    "start_time": "2023-06-02T15:24:59.698Z"
   },
   {
    "duration": 206,
    "start_time": "2023-06-02T15:24:59.899Z"
   },
   {
    "duration": 24,
    "start_time": "2023-06-02T15:25:00.107Z"
   },
   {
    "duration": 89,
    "start_time": "2023-06-02T15:25:00.134Z"
   },
   {
    "duration": 96,
    "start_time": "2023-06-02T15:25:00.224Z"
   },
   {
    "duration": 10314,
    "start_time": "2023-06-02T15:25:00.323Z"
   },
   {
    "duration": 119,
    "start_time": "2023-06-02T15:25:10.639Z"
   },
   {
    "duration": 1457,
    "start_time": "2023-06-02T15:25:10.760Z"
   },
   {
    "duration": 37,
    "start_time": "2023-06-02T15:25:12.219Z"
   },
   {
    "duration": 30,
    "start_time": "2023-06-02T15:25:12.258Z"
   },
   {
    "duration": 922,
    "start_time": "2023-06-02T15:25:12.290Z"
   },
   {
    "duration": 37,
    "start_time": "2023-06-02T15:25:13.215Z"
   },
   {
    "duration": 34,
    "start_time": "2023-06-02T15:25:13.253Z"
   },
   {
    "duration": 24,
    "start_time": "2023-06-02T15:25:13.289Z"
   },
   {
    "duration": 115,
    "start_time": "2023-06-02T15:25:13.315Z"
   },
   {
    "duration": 29,
    "start_time": "2023-06-02T15:25:13.432Z"
   },
   {
    "duration": 17,
    "start_time": "2023-06-02T15:25:13.463Z"
   },
   {
    "duration": 43,
    "start_time": "2023-06-02T15:25:13.482Z"
   },
   {
    "duration": 372,
    "start_time": "2023-06-02T15:25:13.527Z"
   },
   {
    "duration": 1679,
    "start_time": "2023-06-02T15:25:13.901Z"
   },
   {
    "duration": 126,
    "start_time": "2023-06-02T15:25:15.582Z"
   },
   {
    "duration": 321,
    "start_time": "2023-06-02T15:25:15.710Z"
   },
   {
    "duration": 37,
    "start_time": "2023-06-02T15:25:16.033Z"
   },
   {
    "duration": 1615,
    "start_time": "2023-06-03T07:59:48.367Z"
   },
   {
    "duration": 120,
    "start_time": "2023-06-03T07:59:49.984Z"
   },
   {
    "duration": 17,
    "start_time": "2023-06-03T07:59:50.106Z"
   },
   {
    "duration": 16,
    "start_time": "2023-06-03T07:59:50.125Z"
   },
   {
    "duration": 5,
    "start_time": "2023-06-03T07:59:50.143Z"
   },
   {
    "duration": 25,
    "start_time": "2023-06-03T07:59:50.149Z"
   },
   {
    "duration": 5,
    "start_time": "2023-06-03T07:59:50.175Z"
   },
   {
    "duration": 18,
    "start_time": "2023-06-03T07:59:50.182Z"
   },
   {
    "duration": 7,
    "start_time": "2023-06-03T07:59:50.202Z"
   },
   {
    "duration": 21,
    "start_time": "2023-06-03T07:59:50.210Z"
   },
   {
    "duration": 18,
    "start_time": "2023-06-03T07:59:50.232Z"
   },
   {
    "duration": 40,
    "start_time": "2023-06-03T07:59:50.251Z"
   },
   {
    "duration": 5,
    "start_time": "2023-06-03T07:59:50.292Z"
   },
   {
    "duration": 7,
    "start_time": "2023-06-03T07:59:50.299Z"
   },
   {
    "duration": 8,
    "start_time": "2023-06-03T07:59:50.308Z"
   },
   {
    "duration": 14,
    "start_time": "2023-06-03T07:59:50.318Z"
   },
   {
    "duration": 8,
    "start_time": "2023-06-03T07:59:50.333Z"
   },
   {
    "duration": 16,
    "start_time": "2023-06-03T07:59:50.342Z"
   },
   {
    "duration": 19,
    "start_time": "2023-06-03T07:59:50.359Z"
   },
   {
    "duration": 11,
    "start_time": "2023-06-03T07:59:50.380Z"
   },
   {
    "duration": 25,
    "start_time": "2023-06-03T07:59:50.392Z"
   },
   {
    "duration": 22,
    "start_time": "2023-06-03T07:59:50.419Z"
   },
   {
    "duration": 11,
    "start_time": "2023-06-03T07:59:50.443Z"
   },
   {
    "duration": 13,
    "start_time": "2023-06-03T07:59:50.456Z"
   },
   {
    "duration": 18,
    "start_time": "2023-06-03T07:59:50.470Z"
   },
   {
    "duration": 8,
    "start_time": "2023-06-03T07:59:50.490Z"
   },
   {
    "duration": 25,
    "start_time": "2023-06-03T07:59:50.499Z"
   },
   {
    "duration": 24,
    "start_time": "2023-06-03T07:59:50.525Z"
   },
   {
    "duration": 180,
    "start_time": "2023-06-03T07:59:50.550Z"
   },
   {
    "duration": 216,
    "start_time": "2023-06-03T07:59:50.732Z"
   },
   {
    "duration": 210,
    "start_time": "2023-06-03T07:59:50.949Z"
   },
   {
    "duration": 21,
    "start_time": "2023-06-03T07:59:51.160Z"
   },
   {
    "duration": 158,
    "start_time": "2023-06-03T07:59:51.182Z"
   },
   {
    "duration": 17,
    "start_time": "2023-06-03T07:59:51.342Z"
   },
   {
    "duration": 244,
    "start_time": "2023-06-03T07:59:51.360Z"
   },
   {
    "duration": 19,
    "start_time": "2023-06-03T07:59:51.606Z"
   },
   {
    "duration": 182,
    "start_time": "2023-06-03T07:59:51.627Z"
   },
   {
    "duration": 18,
    "start_time": "2023-06-03T07:59:51.810Z"
   },
   {
    "duration": 18,
    "start_time": "2023-06-03T07:59:51.830Z"
   },
   {
    "duration": 529,
    "start_time": "2023-06-03T07:59:51.849Z"
   },
   {
    "duration": 19,
    "start_time": "2023-06-03T07:59:52.382Z"
   },
   {
    "duration": 767,
    "start_time": "2023-06-03T07:59:52.402Z"
   },
   {
    "duration": 13,
    "start_time": "2023-06-03T07:59:53.171Z"
   },
   {
    "duration": 160,
    "start_time": "2023-06-03T07:59:53.185Z"
   },
   {
    "duration": 166,
    "start_time": "2023-06-03T07:59:53.346Z"
   },
   {
    "duration": 11,
    "start_time": "2023-06-03T07:59:53.513Z"
   },
   {
    "duration": 120,
    "start_time": "2023-06-03T07:59:53.525Z"
   },
   {
    "duration": 94,
    "start_time": "2023-06-03T07:59:53.647Z"
   },
   {
    "duration": 9391,
    "start_time": "2023-06-03T07:59:53.743Z"
   },
   {
    "duration": 59,
    "start_time": "2023-06-03T08:00:03.136Z"
   },
   {
    "duration": 1360,
    "start_time": "2023-06-03T08:00:03.196Z"
   },
   {
    "duration": 38,
    "start_time": "2023-06-03T08:00:04.558Z"
   },
   {
    "duration": 25,
    "start_time": "2023-06-03T08:00:04.597Z"
   },
   {
    "duration": 714,
    "start_time": "2023-06-03T08:00:04.624Z"
   },
   {
    "duration": 24,
    "start_time": "2023-06-03T08:00:05.340Z"
   },
   {
    "duration": 32,
    "start_time": "2023-06-03T08:00:05.366Z"
   },
   {
    "duration": 49,
    "start_time": "2023-06-03T08:00:05.400Z"
   },
   {
    "duration": 112,
    "start_time": "2023-06-03T08:00:05.451Z"
   },
   {
    "duration": 25,
    "start_time": "2023-06-03T08:00:05.565Z"
   },
   {
    "duration": 27,
    "start_time": "2023-06-03T08:00:05.591Z"
   },
   {
    "duration": 37,
    "start_time": "2023-06-03T08:00:05.619Z"
   },
   {
    "duration": 336,
    "start_time": "2023-06-03T08:00:05.658Z"
   },
   {
    "duration": 1616,
    "start_time": "2023-06-03T08:00:05.996Z"
   },
   {
    "duration": 122,
    "start_time": "2023-06-03T08:00:07.614Z"
   },
   {
    "duration": 325,
    "start_time": "2023-06-03T08:00:07.738Z"
   },
   {
    "duration": 39,
    "start_time": "2023-06-03T08:00:08.065Z"
   }
  ],
  "kernelspec": {
   "display_name": "Python 3 (ipykernel)",
   "language": "python",
   "name": "python3"
  },
  "language_info": {
   "codemirror_mode": {
    "name": "ipython",
    "version": 3
   },
   "file_extension": ".py",
   "mimetype": "text/x-python",
   "name": "python",
   "nbconvert_exporter": "python",
   "pygments_lexer": "ipython3",
   "version": "3.9.5"
  },
  "toc": {
   "base_numbering": 1,
   "nav_menu": {},
   "number_sections": true,
   "sideBar": true,
   "skip_h1_title": true,
   "title_cell": "Table of Contents",
   "title_sidebar": "Contents",
   "toc_cell": false,
   "toc_position": {},
   "toc_section_display": true,
   "toc_window_display": false
  }
 },
 "nbformat": 4,
 "nbformat_minor": 2
}
