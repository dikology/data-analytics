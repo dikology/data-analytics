{
 "cells": [
  {
   "cell_type": "markdown",
   "metadata": {
    "deletable": false,
    "id": "E0vqbgi9ay0H"
   },
   "source": [
    "# Yandex.Music"
   ]
  },
  {
   "cell_type": "markdown",
   "metadata": {
    "deletable": false,
    "id": "VUC88oWjTJw2"
   },
   "source": [
    "The comparison of Moscow and St. Petersburg is surrounded by myths. For example:\n",
    " * Moscow is a metropolis subject to the rigid rhythm of the working week;\n",
    " * St. Petersburg is a cultural capital, with its own tastes.\n",
    "\n",
    "Using Yandex Music data, we will compare the behavior of users in the two capitals.\n",
    "\n",
    "**Research Purpose** - Test three hypotheses:\n",
    "1. User activity depends on the day of the week. Moreover, in Moscow and St. Petersburg this manifests itself in different ways.\n",
    "2. On Monday morning, certain genres prevail in Moscow, while others prevail in St. Petersburg. Similarly, Friday evenings are dominated by different genres, depending on the city. \n",
    "3. Moscow and St. Petersburg prefer different genres of music. In Moscow, they listen to pop music more often, in St. Petersburg - Russian rap.\n",
    "\n",
    "**Research Process**\n",
    "\n",
    "We will use data on user behavior from the `yandex_music_project.csv` file. Nothing is known about the quality of the data. Therefore, before testing hypotheses, a review of the data is required. \n",
    "\n",
    "We will check the data for errors and assess their impact on the study. Then, during the pre-processing phase, we will look for opportunities to correct the most critical data errors.\n",
    " \n",
    "Thus, the study will take place in three stages:\n",
    "  1. Data review.\n",
    "  2. Data preprocessing.\n",
    "  3. Hypothesis testing.\n",
    "\n"
   ]
  },
  {
   "cell_type": "markdown",
   "metadata": {
    "deletable": false,
    "id": "Ml1hmfXC_Zcs"
   },
   "source": [
    "## Browse data\n",
    "\n",
    "Get the first idea about Yandex Music data."
   ]
  },
  {
   "cell_type": "code",
   "execution_count": 1,
   "metadata": {
    "deletable": false,
    "id": "AXN7PHPN_Zcs"
   },
   "outputs": [],
   "source": [
    "# we will use the `pandas` library for this study\n",
    "import pandas as pd"
   ]
  },
  {
   "cell_type": "code",
   "execution_count": 2,
   "metadata": {
    "deletable": false,
    "id": "fFVu7vqh_Zct"
   },
   "outputs": [],
   "source": [
    "# read the dataset file and save it to `df`\n",
    "df = pd.read_csv('/datasets/yandex_music_project.csv')"
   ]
  },
  {
   "cell_type": "code",
   "execution_count": 3,
   "metadata": {
    "deletable": false,
    "id": "oWTVX3gW_Zct"
   },
   "outputs": [
    {
     "data": {
      "text/html": [
       "<div>\n",
       "<style scoped>\n",
       "    .dataframe tbody tr th:only-of-type {\n",
       "        vertical-align: middle;\n",
       "    }\n",
       "\n",
       "    .dataframe tbody tr th {\n",
       "        vertical-align: top;\n",
       "    }\n",
       "\n",
       "    .dataframe thead th {\n",
       "        text-align: right;\n",
       "    }\n",
       "</style>\n",
       "<table border=\"1\" class=\"dataframe\">\n",
       "  <thead>\n",
       "    <tr style=\"text-align: right;\">\n",
       "      <th></th>\n",
       "      <th>userID</th>\n",
       "      <th>Track</th>\n",
       "      <th>artist</th>\n",
       "      <th>genre</th>\n",
       "      <th>City</th>\n",
       "      <th>time</th>\n",
       "      <th>Day</th>\n",
       "    </tr>\n",
       "  </thead>\n",
       "  <tbody>\n",
       "    <tr>\n",
       "      <th>0</th>\n",
       "      <td>FFB692EC</td>\n",
       "      <td>Kamigata To Boots</td>\n",
       "      <td>The Mass Missile</td>\n",
       "      <td>rock</td>\n",
       "      <td>Saint-Petersburg</td>\n",
       "      <td>20:28:33</td>\n",
       "      <td>Wednesday</td>\n",
       "    </tr>\n",
       "    <tr>\n",
       "      <th>1</th>\n",
       "      <td>55204538</td>\n",
       "      <td>Delayed Because of Accident</td>\n",
       "      <td>Andreas Rönnberg</td>\n",
       "      <td>rock</td>\n",
       "      <td>Moscow</td>\n",
       "      <td>14:07:09</td>\n",
       "      <td>Friday</td>\n",
       "    </tr>\n",
       "    <tr>\n",
       "      <th>2</th>\n",
       "      <td>20EC38</td>\n",
       "      <td>Funiculì funiculà</td>\n",
       "      <td>Mario Lanza</td>\n",
       "      <td>pop</td>\n",
       "      <td>Saint-Petersburg</td>\n",
       "      <td>20:58:07</td>\n",
       "      <td>Wednesday</td>\n",
       "    </tr>\n",
       "    <tr>\n",
       "      <th>3</th>\n",
       "      <td>A3DD03C9</td>\n",
       "      <td>Dragons in the Sunset</td>\n",
       "      <td>Fire + Ice</td>\n",
       "      <td>folk</td>\n",
       "      <td>Saint-Petersburg</td>\n",
       "      <td>08:37:09</td>\n",
       "      <td>Monday</td>\n",
       "    </tr>\n",
       "    <tr>\n",
       "      <th>4</th>\n",
       "      <td>E2DC1FAE</td>\n",
       "      <td>Soul People</td>\n",
       "      <td>Space Echo</td>\n",
       "      <td>dance</td>\n",
       "      <td>Moscow</td>\n",
       "      <td>08:34:34</td>\n",
       "      <td>Monday</td>\n",
       "    </tr>\n",
       "    <tr>\n",
       "      <th>5</th>\n",
       "      <td>842029A1</td>\n",
       "      <td>Преданная</td>\n",
       "      <td>IMPERVTOR</td>\n",
       "      <td>rusrap</td>\n",
       "      <td>Saint-Petersburg</td>\n",
       "      <td>13:09:41</td>\n",
       "      <td>Friday</td>\n",
       "    </tr>\n",
       "    <tr>\n",
       "      <th>6</th>\n",
       "      <td>4CB90AA5</td>\n",
       "      <td>True</td>\n",
       "      <td>Roman Messer</td>\n",
       "      <td>dance</td>\n",
       "      <td>Moscow</td>\n",
       "      <td>13:00:07</td>\n",
       "      <td>Wednesday</td>\n",
       "    </tr>\n",
       "    <tr>\n",
       "      <th>7</th>\n",
       "      <td>F03E1C1F</td>\n",
       "      <td>Feeling This Way</td>\n",
       "      <td>Polina Griffith</td>\n",
       "      <td>dance</td>\n",
       "      <td>Moscow</td>\n",
       "      <td>20:47:49</td>\n",
       "      <td>Wednesday</td>\n",
       "    </tr>\n",
       "    <tr>\n",
       "      <th>8</th>\n",
       "      <td>8FA1D3BE</td>\n",
       "      <td>И вновь продолжается бой</td>\n",
       "      <td>NaN</td>\n",
       "      <td>ruspop</td>\n",
       "      <td>Moscow</td>\n",
       "      <td>09:17:40</td>\n",
       "      <td>Friday</td>\n",
       "    </tr>\n",
       "    <tr>\n",
       "      <th>9</th>\n",
       "      <td>E772D5C0</td>\n",
       "      <td>Pessimist</td>\n",
       "      <td>NaN</td>\n",
       "      <td>dance</td>\n",
       "      <td>Saint-Petersburg</td>\n",
       "      <td>21:20:49</td>\n",
       "      <td>Wednesday</td>\n",
       "    </tr>\n",
       "  </tbody>\n",
       "</table>\n",
       "</div>"
      ],
      "text/plain": [
       "     userID                        Track            artist   genre  \\\n",
       "0  FFB692EC            Kamigata To Boots  The Mass Missile    rock   \n",
       "1  55204538  Delayed Because of Accident  Andreas Rönnberg    rock   \n",
       "2    20EC38            Funiculì funiculà       Mario Lanza     pop   \n",
       "3  A3DD03C9        Dragons in the Sunset        Fire + Ice    folk   \n",
       "4  E2DC1FAE                  Soul People        Space Echo   dance   \n",
       "5  842029A1                    Преданная         IMPERVTOR  rusrap   \n",
       "6  4CB90AA5                         True      Roman Messer   dance   \n",
       "7  F03E1C1F             Feeling This Way   Polina Griffith   dance   \n",
       "8  8FA1D3BE     И вновь продолжается бой               NaN  ruspop   \n",
       "9  E772D5C0                    Pessimist               NaN   dance   \n",
       "\n",
       "             City        time        Day  \n",
       "0  Saint-Petersburg  20:28:33  Wednesday  \n",
       "1            Moscow  14:07:09     Friday  \n",
       "2  Saint-Petersburg  20:58:07  Wednesday  \n",
       "3  Saint-Petersburg  08:37:09     Monday  \n",
       "4            Moscow  08:34:34     Monday  \n",
       "5  Saint-Petersburg  13:09:41     Friday  \n",
       "6            Moscow  13:00:07  Wednesday  \n",
       "7            Moscow  20:47:49  Wednesday  \n",
       "8            Moscow  09:17:40     Friday  \n",
       "9  Saint-Petersburg  21:20:49  Wednesday  "
      ]
     },
     "execution_count": 3,
     "metadata": {},
     "output_type": "execute_result"
    }
   ],
   "source": [
    "# let's look at the first 10 rows of the `df` table\n",
    "df.head(10)"
   ]
  },
  {
   "cell_type": "code",
   "execution_count": 4,
   "metadata": {
    "deletable": false,
    "id": "DSf2kIb-_Zct"
   },
   "outputs": [
    {
     "name": "stdout",
     "output_type": "stream",
     "text": [
      "<class 'pandas.core.frame.DataFrame'>\n",
      "RangeIndex: 65079 entries, 0 to 65078\n",
      "Data columns (total 7 columns):\n",
      " #   Column    Non-Null Count  Dtype \n",
      "---  ------    --------------  ----- \n",
      " 0     userID  65079 non-null  object\n",
      " 1   Track     63848 non-null  object\n",
      " 2   artist    57876 non-null  object\n",
      " 3   genre     63881 non-null  object\n",
      " 4     City    65079 non-null  object\n",
      " 5   time      65079 non-null  object\n",
      " 6   Day       65079 non-null  object\n",
      "dtypes: object(7)\n",
      "memory usage: 3.5+ MB\n"
     ]
    }
   ],
   "source": [
    "# getting general information about the data in the `df` table\n",
    "df.info()"
   ]
  },
  {
   "cell_type": "markdown",
   "metadata": {
    "deletable": false,
    "id": "TaQ2Iwbr_Zct"
   },
   "source": [
    "So the table has seven columns. The data type in all columns is the `object`.\n",
    "\n",
    "According to the data documentation:\n",
    "* `userID` - user ID;\n",
    "* `Track` - track name;\n",
    "* `artist` - artist name;\n",
    "* `genre` - genre name;\n",
    "* `City` - user's city;\n",
    "* `time` - start time of listening;\n",
    "* `Day` is the day of the week.\n",
    "\n",
    "The number of values in the columns varies. This means there are missing values in the data."
   ]
  },
  {
   "cell_type": "markdown",
   "metadata": {
    "deletable": false,
    "id": "4P0UCWzswgEm",
    "tags": [
     "start_task"
    ]
   },
   "source": [
    "There are three style violations in the column headings:\n",
    "1. Lowercase letters are combined with uppercase.\n",
    "2. There are gaps.\n",
    "3. The userID column uses camelcase in addition to spaces. Better rename it to user_id"
   ]
  },
  {
   "cell_type": "markdown",
   "metadata": {
    "deletable": false,
    "id": "MCB6-dXG_Zct"
   },
   "source": [
    "**Conclusions**\n",
    "\n",
    "Each line of the table contains data about the track users have listened to. Some of the columns describe the composition itself: title, artist, and genre. The rest of the data tells about the user: what city he is from and when he listened to music.\n",
    "\n",
    "Preliminarily, it can be argued that there is enough data to test hypotheses. But there are gaps in the data, and discrepancies in the names of the columns with good style.\n",
    "\n",
    "To move forward, we need to fix problems in the data."
   ]
  },
  {
   "cell_type": "markdown",
   "metadata": {
    "deletable": false,
    "id": "SjYF6Ub9_Zct"
   },
   "source": [
    "## Data preprocessing\n",
    "\n",
    "Correct the style in the column headings, and eliminate gaps. Then check the data for duplicates."
   ]
  },
  {
   "cell_type": "markdown",
   "metadata": {
    "deletable": false,
    "id": "dIaKXr29_Zct",
    "tags": [
     "start_task"
    ]
   },
   "source": [
    "### Heading style"
   ]
  },
  {
   "cell_type": "code",
   "execution_count": 5,
   "metadata": {
    "deletable": false,
    "id": "oKOTdF_Q_Zct"
   },
   "outputs": [
    {
     "data": {
      "text/plain": [
       "Index(['  userID', 'Track', 'artist', 'genre', '  City  ', 'time', 'Day'], dtype='object')"
      ]
     },
     "execution_count": 5,
     "metadata": {},
     "output_type": "execute_result"
    }
   ],
   "source": [
    "# list of `df` table column names\n",
    "df.columns"
   ]
  },
  {
   "cell_type": "markdown",
   "metadata": {
    "deletable": false,
    "id": "zj5534cv_Zct",
    "tags": [
     "start_task"
    ]
   },
   "source": [
    "Bring titles in line with good style:\n",
    "* write a few words in the title in \"snake_register\",\n",
    "* make all characters lowercase,\n",
    "* eliminate spaces.\n",
    "\n",
    "To do this, rename the columns like this:\n",
    "* `'userID'` → `'user_id'`;\n",
    "* ``Track'` → `'track'`;\n",
    "* `'City'` → `'city'`;\n",
    "* `'Day'` → `'day'`."
   ]
  },
  {
   "cell_type": "code",
   "execution_count": 6,
   "metadata": {
    "deletable": false,
    "id": "ISlFqs5y_Zct"
   },
   "outputs": [],
   "source": [
    "# rename columns\n",
    "df = df.rename(columns = {'  userID' : 'user_id', 'Track' : 'track', '  City  ' : 'city', 'Day' : 'day'})"
   ]
  },
  {
   "cell_type": "code",
   "execution_count": 7,
   "metadata": {
    "deletable": false,
    "id": "d4NOAmTW_Zct"
   },
   "outputs": [
    {
     "data": {
      "text/plain": [
       "Index(['user_id', 'track', 'artist', 'genre', 'city', 'time', 'day'], dtype='object')"
      ]
     },
     "execution_count": 7,
     "metadata": {},
     "output_type": "execute_result"
    }
   ],
   "source": [
    "# check results - list column names\n",
    "df.columns"
   ]
  },
  {
   "cell_type": "markdown",
   "metadata": {
    "deletable": false,
    "id": "5ISfbcfY_Zct",
    "tags": [
     "start_task"
    ]
   },
   "source": [
    "### Missing values\n",
    "\n",
    "First, count how many missing values are in the table. "
   ]
  },
  {
   "cell_type": "code",
   "execution_count": 8,
   "metadata": {
    "deletable": false,
    "id": "RskX29qr_Zct"
   },
   "outputs": [
    {
     "data": {
      "text/plain": [
       "user_id       0\n",
       "track      1231\n",
       "artist     7203\n",
       "genre      1198\n",
       "city          0\n",
       "time          0\n",
       "day           0\n",
       "dtype: int64"
      ]
     },
     "execution_count": 8,
     "metadata": {},
     "output_type": "execute_result"
    }
   ],
   "source": [
    "# count missing values\n",
    "df.isna().sum()"
   ]
  },
  {
   "cell_type": "markdown",
   "metadata": {
    "deletable": false,
    "id": "qubhgnlO_Zct"
   },
   "source": [
    "Not all missing values affect the study. So in `track` and `artist`, the gaps are not important for our work. It suffices to replace them with explicit notation.\n",
    "\n",
    "But omissions in the `genre` can interfere with the comparison of musical tastes in Moscow and St. Petersburg. In practice, it would be correct to determine the cause of the gaps and restore the data. This option is not available in the curriculum. We have to:\n",
    "* fill in these gaps with explicit notation,\n",
    "* estimate how much they will damage the calculations."
   ]
  },
  {
   "cell_type": "markdown",
   "metadata": {
    "deletable": false,
    "id": "fSv2laPA_Zct",
    "tags": [
     "start_task"
    ]
   },
   "source": [
    "Replace the missing values in the `track`, `artist`, and `genre` columns with the string `'unknown'`. To do this, create a `columns_to_replace` list, iterate through its elements with a `for` loop, and for each column, replace the missing values:"
   ]
  },
  {
   "cell_type": "code",
   "execution_count": 9,
   "metadata": {
    "deletable": false,
    "id": "KplB5qWs_Zct"
   },
   "outputs": [],
   "source": [
    "# loop through column names and replace missing values with 'unknown'\n",
    "columns_to_replace = ['track', 'artist', 'genre'] # list with columns to replace values\n",
    "\n",
    "for column in columns_to_replace:\n",
    "    df[column] = df[column].fillna('unknown')"
   ]
  },
  {
   "cell_type": "markdown",
   "metadata": {
    "deletable": false,
    "id": "Ilsm-MZo_Zct",
    "tags": [
     "start_task"
    ]
   },
   "source": [
    "Make sure there are no gaps in the table. To do this, count the missing values again."
   ]
  },
  {
   "cell_type": "code",
   "execution_count": 10,
   "metadata": {
    "deletable": false,
    "id": "Tq4nYRX4_Zct"
   },
   "outputs": [
    {
     "data": {
      "text/plain": [
       "user_id    0\n",
       "track      0\n",
       "artist     0\n",
       "genre      0\n",
       "city       0\n",
       "time       0\n",
       "day        0\n",
       "dtype: int64"
      ]
     },
     "execution_count": 10,
     "metadata": {},
     "output_type": "execute_result"
    }
   ],
   "source": [
    "# count missing values\n",
    "df.isna().sum()"
   ]
  },
  {
   "cell_type": "markdown",
   "metadata": {
    "deletable": false,
    "id": "BWKRtBJ3_Zct",
    "tags": [
     "start_task"
    ]
   },
   "source": [
    "### Duplicates\n",
    "\n",
    "Count explicit duplicates in a table with one command:"
   ]
  },
  {
   "cell_type": "code",
   "execution_count": 11,
   "metadata": {
    "deletable": false,
    "id": "36eES_S0_Zct"
   },
   "outputs": [
    {
     "data": {
      "text/plain": [
       "3826"
      ]
     },
     "execution_count": 11,
     "metadata": {},
     "output_type": "execute_result"
    }
   ],
   "source": [
    "# counting explicit duplicates\n",
    "df.duplicated().sum()"
   ]
  },
  {
   "cell_type": "code",
   "execution_count": 12,
   "metadata": {
    "deletable": false,
    "id": "exFHq6tt_Zct"
   },
   "outputs": [],
   "source": [
    "# removal of explicit duplicates (with the removal of old indexes and the formation of new ones)\n",
    "df = df.drop_duplicates()"
   ]
  },
  {
   "cell_type": "markdown",
   "metadata": {
    "deletable": false,
    "id": "Im2YwBEG_Zct",
    "tags": [
     "start_task"
    ]
   },
   "source": [
    "Once again, count the explicit duplicates in the table - make sure we get rid of them completely:"
   ]
  },
  {
   "cell_type": "code",
   "execution_count": 13,
   "metadata": {
    "deletable": false,
    "id": "-8PuNWQ0_Zct"
   },
   "outputs": [
    {
     "data": {
      "text/plain": [
       "0"
      ]
     },
     "execution_count": 13,
     "metadata": {},
     "output_type": "execute_result"
    }
   ],
   "source": [
    "# check for duplicates\n",
    "df.duplicated().sum()"
   ]
  },
  {
   "cell_type": "markdown",
   "metadata": {
    "deletable": false,
    "id": "QlFBsxAr_Zct"
   },
   "source": [
    "Now get rid of the implicit duplicates in the `genre` column. For example, the name of the same genre can be spelled slightly differently. Such errors will also affect the result of the study."
   ]
  },
  {
   "cell_type": "markdown",
   "metadata": {
    "deletable": false,
    "id": "eSjWwsOh_Zct",
    "tags": [
     "start_task"
    ]
   },
   "source": [
    "Display a list of unique genre names sorted alphabetically. For this:\n",
    "* extract the desired data frame column,\n",
    "* apply a sort method to it,\n",
    "* for a sorted column, call a method that will return the unique values from the column."
   ]
  },
  {
   "cell_type": "code",
   "execution_count": 14,
   "metadata": {
    "deletable": false,
    "id": "JIUcqzZN_Zct"
   },
   "outputs": [
    {
     "data": {
      "text/plain": [
       "array(['acid', 'acoustic', 'action', 'adult', 'africa', 'afrikaans',\n",
       "       'alternative', 'alternativepunk', 'ambient', 'americana',\n",
       "       'animated', 'anime', 'arabesk', 'arabic', 'arena',\n",
       "       'argentinetango', 'art', 'audiobook', 'author', 'avantgarde',\n",
       "       'axé', 'baile', 'balkan', 'beats', 'bigroom', 'black', 'bluegrass',\n",
       "       'blues', 'bollywood', 'bossa', 'brazilian', 'breakbeat', 'breaks',\n",
       "       'broadway', 'cantautori', 'cantopop', 'canzone', 'caribbean',\n",
       "       'caucasian', 'celtic', 'chamber', 'chanson', 'children', 'chill',\n",
       "       'chinese', 'choral', 'christian', 'christmas', 'classical',\n",
       "       'classicmetal', 'club', 'colombian', 'comedy', 'conjazz',\n",
       "       'contemporary', 'country', 'cuban', 'dance', 'dancehall',\n",
       "       'dancepop', 'dark', 'death', 'deep', 'deutschrock', 'deutschspr',\n",
       "       'dirty', 'disco', 'dnb', 'documentary', 'downbeat', 'downtempo',\n",
       "       'drum', 'dub', 'dubstep', 'eastern', 'easy', 'electronic',\n",
       "       'electropop', 'emo', 'entehno', 'epicmetal', 'estrada', 'ethnic',\n",
       "       'eurofolk', 'european', 'experimental', 'extrememetal', 'fado',\n",
       "       'fairytail', 'film', 'fitness', 'flamenco', 'folk', 'folklore',\n",
       "       'folkmetal', 'folkrock', 'folktronica', 'forró', 'frankreich',\n",
       "       'französisch', 'french', 'funk', 'future', 'gangsta', 'garage',\n",
       "       'german', 'ghazal', 'gitarre', 'glitch', 'gospel', 'gothic',\n",
       "       'grime', 'grunge', 'gypsy', 'handsup', \"hard'n'heavy\", 'hardcore',\n",
       "       'hardstyle', 'hardtechno', 'hip', 'hip-hop', 'hiphop',\n",
       "       'historisch', 'holiday', 'hop', 'horror', 'house', 'hymn', 'idm',\n",
       "       'independent', 'indian', 'indie', 'indipop', 'industrial',\n",
       "       'inspirational', 'instrumental', 'international', 'irish', 'jam',\n",
       "       'japanese', 'jazz', 'jewish', 'jpop', 'jungle', 'k-pop',\n",
       "       'karadeniz', 'karaoke', 'kayokyoku', 'korean', 'laiko', 'latin',\n",
       "       'latino', 'leftfield', 'local', 'lounge', 'loungeelectronic',\n",
       "       'lovers', 'malaysian', 'mandopop', 'marschmusik', 'meditative',\n",
       "       'mediterranean', 'melodic', 'metal', 'metalcore', 'mexican',\n",
       "       'middle', 'minimal', 'miscellaneous', 'modern', 'mood', 'mpb',\n",
       "       'muslim', 'native', 'neoklassik', 'neue', 'new', 'newage',\n",
       "       'newwave', 'nu', 'nujazz', 'numetal', 'oceania', 'old', 'opera',\n",
       "       'orchestral', 'other', 'piano', 'podcasts', 'pop', 'popdance',\n",
       "       'popelectronic', 'popeurodance', 'poprussian', 'post',\n",
       "       'posthardcore', 'postrock', 'power', 'progmetal', 'progressive',\n",
       "       'psychedelic', 'punjabi', 'punk', 'quebecois', 'ragga', 'ram',\n",
       "       'rancheras', 'rap', 'rave', 'reggae', 'reggaeton', 'regional',\n",
       "       'relax', 'religious', 'retro', 'rhythm', 'rnb', 'rnr', 'rock',\n",
       "       'rockabilly', 'rockalternative', 'rockindie', 'rockother',\n",
       "       'romance', 'roots', 'ruspop', 'rusrap', 'rusrock', 'russian',\n",
       "       'salsa', 'samba', 'scenic', 'schlager', 'self', 'sertanejo',\n",
       "       'shanson', 'shoegazing', 'showtunes', 'singer', 'ska', 'skarock',\n",
       "       'slow', 'smooth', 'soft', 'soul', 'soulful', 'sound', 'soundtrack',\n",
       "       'southern', 'specialty', 'speech', 'spiritual', 'sport',\n",
       "       'stonerrock', 'surf', 'swing', 'synthpop', 'synthrock',\n",
       "       'sängerportrait', 'tango', 'tanzorchester', 'taraftar', 'tatar',\n",
       "       'tech', 'techno', 'teen', 'thrash', 'top', 'traditional',\n",
       "       'tradjazz', 'trance', 'tribal', 'trip', 'triphop', 'tropical',\n",
       "       'türk', 'türkçe', 'ukrrock', 'unknown', 'urban', 'uzbek',\n",
       "       'variété', 'vi', 'videogame', 'vocal', 'western', 'world',\n",
       "       'worldbeat', 'ïîï', 'электроника'], dtype=object)"
      ]
     },
     "execution_count": 14,
     "metadata": {},
     "output_type": "execute_result"
    }
   ],
   "source": [
    "# View Unique Genre Names\n",
    "unique_genres = df['genre'].sort_values().unique()\n",
    "unique_genres"
   ]
  },
  {
   "cell_type": "markdown",
   "metadata": {
    "deletable": false,
    "id": "qej-Qmuo_Zct",
    "tags": [
     "start_task"
    ]
   },
   "source": [
    "Look through the list and look for implicit duplicates of the name `hiphop`. These may be misspelled titles or alternative titles in the same genre.\n",
    "\n",
    "We see the following implicit duplicates:\n",
    "**hip*,\n",
    "**hop*,\n",
    "**hip-hop*.\n",
    "\n",
    "To clear them from the table, use the `replace()` method with two arguments: a list of duplicate strings (including *hip*, *hop*, and *hip-hop*) and a string with the correct value. You need to fix the `genre` column in the `df` table: replace each value from the list of duplicates with the correct one. Instead of `hip`, `hop` and `hip-hop` the table should have the value `hiphop`:"
   ]
  },
  {
   "cell_type": "code",
   "execution_count": 15,
   "metadata": {
    "deletable": false,
    "id": "ErNDkmns_Zct"
   },
   "outputs": [],
   "source": [
    "# Eliminate Implicit Duplicates\n",
    "duplicates = ['hip', 'hip-hop', 'hop'] # list of incorrect names\n",
    "correct = 'hiphop' # correct name\n",
    "df['genre'] = df['genre'].replace(duplicates, correct) # replacing all values from `duplicates` with `correct`\n"
   ]
  },
  {
   "cell_type": "markdown",
   "metadata": {
    "deletable": false,
    "id": "zQKF16_RG15m",
    "tags": [
     "start_task"
    ]
   },
   "source": [
    "Check that we have replaced the wrong names:\n",
    "\n",
    "* hip\n",
    "* hop\n",
    "* hip-hop\n",
    "\n",
    "Print a sorted list of unique values in the `genre` column:"
   ]
  },
  {
   "cell_type": "code",
   "execution_count": 16,
   "metadata": {
    "deletable": false,
    "id": "wvixALnFG15m"
   },
   "outputs": [
    {
     "data": {
      "text/plain": [
       "array(['acid', 'acoustic', 'action', 'adult', 'africa', 'afrikaans',\n",
       "       'alternative', 'alternativepunk', 'ambient', 'americana',\n",
       "       'animated', 'anime', 'arabesk', 'arabic', 'arena',\n",
       "       'argentinetango', 'art', 'audiobook', 'author', 'avantgarde',\n",
       "       'axé', 'baile', 'balkan', 'beats', 'bigroom', 'black', 'bluegrass',\n",
       "       'blues', 'bollywood', 'bossa', 'brazilian', 'breakbeat', 'breaks',\n",
       "       'broadway', 'cantautori', 'cantopop', 'canzone', 'caribbean',\n",
       "       'caucasian', 'celtic', 'chamber', 'chanson', 'children', 'chill',\n",
       "       'chinese', 'choral', 'christian', 'christmas', 'classical',\n",
       "       'classicmetal', 'club', 'colombian', 'comedy', 'conjazz',\n",
       "       'contemporary', 'country', 'cuban', 'dance', 'dancehall',\n",
       "       'dancepop', 'dark', 'death', 'deep', 'deutschrock', 'deutschspr',\n",
       "       'dirty', 'disco', 'dnb', 'documentary', 'downbeat', 'downtempo',\n",
       "       'drum', 'dub', 'dubstep', 'eastern', 'easy', 'electronic',\n",
       "       'electropop', 'emo', 'entehno', 'epicmetal', 'estrada', 'ethnic',\n",
       "       'eurofolk', 'european', 'experimental', 'extrememetal', 'fado',\n",
       "       'fairytail', 'film', 'fitness', 'flamenco', 'folk', 'folklore',\n",
       "       'folkmetal', 'folkrock', 'folktronica', 'forró', 'frankreich',\n",
       "       'französisch', 'french', 'funk', 'future', 'gangsta', 'garage',\n",
       "       'german', 'ghazal', 'gitarre', 'glitch', 'gospel', 'gothic',\n",
       "       'grime', 'grunge', 'gypsy', 'handsup', \"hard'n'heavy\", 'hardcore',\n",
       "       'hardstyle', 'hardtechno', 'hiphop', 'historisch', 'holiday',\n",
       "       'horror', 'house', 'hymn', 'idm', 'independent', 'indian', 'indie',\n",
       "       'indipop', 'industrial', 'inspirational', 'instrumental',\n",
       "       'international', 'irish', 'jam', 'japanese', 'jazz', 'jewish',\n",
       "       'jpop', 'jungle', 'k-pop', 'karadeniz', 'karaoke', 'kayokyoku',\n",
       "       'korean', 'laiko', 'latin', 'latino', 'leftfield', 'local',\n",
       "       'lounge', 'loungeelectronic', 'lovers', 'malaysian', 'mandopop',\n",
       "       'marschmusik', 'meditative', 'mediterranean', 'melodic', 'metal',\n",
       "       'metalcore', 'mexican', 'middle', 'minimal', 'miscellaneous',\n",
       "       'modern', 'mood', 'mpb', 'muslim', 'native', 'neoklassik', 'neue',\n",
       "       'new', 'newage', 'newwave', 'nu', 'nujazz', 'numetal', 'oceania',\n",
       "       'old', 'opera', 'orchestral', 'other', 'piano', 'podcasts', 'pop',\n",
       "       'popdance', 'popelectronic', 'popeurodance', 'poprussian', 'post',\n",
       "       'posthardcore', 'postrock', 'power', 'progmetal', 'progressive',\n",
       "       'psychedelic', 'punjabi', 'punk', 'quebecois', 'ragga', 'ram',\n",
       "       'rancheras', 'rap', 'rave', 'reggae', 'reggaeton', 'regional',\n",
       "       'relax', 'religious', 'retro', 'rhythm', 'rnb', 'rnr', 'rock',\n",
       "       'rockabilly', 'rockalternative', 'rockindie', 'rockother',\n",
       "       'romance', 'roots', 'ruspop', 'rusrap', 'rusrock', 'russian',\n",
       "       'salsa', 'samba', 'scenic', 'schlager', 'self', 'sertanejo',\n",
       "       'shanson', 'shoegazing', 'showtunes', 'singer', 'ska', 'skarock',\n",
       "       'slow', 'smooth', 'soft', 'soul', 'soulful', 'sound', 'soundtrack',\n",
       "       'southern', 'specialty', 'speech', 'spiritual', 'sport',\n",
       "       'stonerrock', 'surf', 'swing', 'synthpop', 'synthrock',\n",
       "       'sängerportrait', 'tango', 'tanzorchester', 'taraftar', 'tatar',\n",
       "       'tech', 'techno', 'teen', 'thrash', 'top', 'traditional',\n",
       "       'tradjazz', 'trance', 'tribal', 'trip', 'triphop', 'tropical',\n",
       "       'türk', 'türkçe', 'ukrrock', 'unknown', 'urban', 'uzbek',\n",
       "       'variété', 'vi', 'videogame', 'vocal', 'western', 'world',\n",
       "       'worldbeat', 'ïîï', 'электроника'], dtype=object)"
      ]
     },
     "execution_count": 16,
     "metadata": {},
     "output_type": "execute_result"
    }
   ],
   "source": [
    "# Checking for Implicit Duplicates\n",
    "unique_genres = df['genre'].sort_values().unique()\n",
    "unique_genres"
   ]
  },
  {
   "cell_type": "markdown",
   "metadata": {
    "deletable": false,
    "id": "jz6a9-7HQUDd"
   },
   "source": [
    "**Conclusions**\n",
    "\n",
    "Preprocessing found three problems in the data:\n",
    "\n",
    "- headline style violations,\n",
    "- missing values,\n",
    "- duplicates - explicit and implicit.\n",
    "\n",
    "We've fixed the headers to make the table easier to work with. Without duplicates, the study will become more accurate.\n",
    "\n",
    "We have replaced missing values with `'unknown'`. It remains to be seen whether the gaps in the `genre` column will harm the study.\n",
    "\n",
    "Now we can move on to hypothesis testing."
   ]
  },
  {
   "cell_type": "markdown",
   "metadata": {
    "deletable": false,
    "id": "WttZHXH0SqKk"
   },
   "source": [
    "## Testing hypotheses"
   ]
  },
  {
   "cell_type": "markdown",
   "metadata": {
    "deletable": false,
    "id": "Im936VVi_Zcu"
   },
   "source": [
    "### Comparison of user behavior in two capitals"
   ]
  },
  {
   "cell_type": "markdown",
   "metadata": {
    "deletable": false,
    "id": "nwt_MuaL_Zcu"
   },
   "source": [
    "The first hypothesis states that users listen to music differently in Moscow and St. Petersburg. Check this assumption against the data on the three days of the week - Monday, Wednesday and Friday. For this:\n",
    "\n",
    "* Separate Moscow and St. Petersburg users\n",
    "* Compare how many tracks each user group listened to on Monday, Wednesday and Friday."
   ]
  },
  {
   "cell_type": "markdown",
   "metadata": {
    "deletable": false,
    "id": "8Dw_YMmT_Zcu",
    "tags": [
     "start_task"
    ]
   },
   "source": [
    "For training, first, perform each of the calculations separately.\n",
    "\n",
    "Estimate user activity in each city. Group the data by city and count the plays in each group.\n",
    "\n"
   ]
  },
  {
   "cell_type": "code",
   "execution_count": 17,
   "metadata": {
    "deletable": false,
    "id": "0_Qs96oh_Zcu"
   },
   "outputs": [
    {
     "data": {
      "text/plain": [
       "city\n",
       "Moscow              42741\n",
       "Saint-Petersburg    18512\n",
       "Name: day, dtype: int64"
      ]
     },
     "execution_count": 17,
     "metadata": {},
     "output_type": "execute_result"
    }
   ],
   "source": [
    "# Counting plays in each city\n",
    "df.groupby('city')['day'].count()"
   ]
  },
  {
   "cell_type": "markdown",
   "metadata": {
    "deletable": false,
    "id": "dzli3w8o_Zcu",
    "tags": [
     "start_task"
    ]
   },
   "source": [
    "There are more tracks played in Moscow than in St. Petersburg. It does not follow from this that Moscow users listen to music more often. There are simply more users in Moscow.\n",
    "\n",
    "Now group the data by day of the week and count the plays on Monday, Wednesday, and Friday. Note that the data only contains information about the plays for these days only."
   ]
  },
  {
   "cell_type": "code",
   "execution_count": 18,
   "metadata": {
    "deletable": false,
    "id": "uZMKjiJz_Zcu"
   },
   "outputs": [
    {
     "data": {
      "text/plain": [
       "day\n",
       "Friday       21840\n",
       "Monday       21354\n",
       "Wednesday    18059\n",
       "Name: day, dtype: int64"
      ]
     },
     "execution_count": 18,
     "metadata": {},
     "output_type": "execute_result"
    }
   ],
   "source": [
    "# Play count for each of the three days\n",
    "df.groupby('day')['day'].count()"
   ]
  },
  {
   "cell_type": "markdown",
   "metadata": {
    "deletable": false,
    "id": "cC2tNrlL_Zcu"
   },
   "source": [
    "On average, users from the two cities are less active on Wednesdays. But the picture may change if we consider each city separately."
   ]
  },
  {
   "cell_type": "markdown",
   "metadata": {
    "deletable": false,
    "id": "POzs8bGa_Zcu",
    "tags": [
     "start_task"
    ]
   },
   "source": [
    "We have seen how grouping by city and by day of the week works. Now write a function that combines these two calculations.\n",
    "\n",
    "Create a `number_tracks()` function that will count the plays for a given day and city. It needs two parameters:\n",
    "* day of the week,\n",
    "* city name.\n",
    "\n",
    "In the function, save to a variable the rows of the source table that have the value:\n",
    "   * in the `day` column is equal to the `day` parameter,\n",
    "   * in the `city` column is equal to the `city` parameter.\n",
    "\n",
    "To do this, apply sequential filtering with logical indexing \n",
    "\n",
    "Then count the values in the `user_id` column of the resulting table. Save the result to a new variable. Return this variable from the function."
   ]
  },
  {
   "cell_type": "code",
   "execution_count": 19,
   "metadata": {
    "deletable": false,
    "id": "Nz3GdQB1_Zcu"
   },
   "outputs": [],
   "source": [
    "def number_tracks(day, city):\n",
    "    \"\"\"A function for counting plays for a specific city and day.\n",
    "     Using sequential filtering with logical indexing, it\n",
    "     first gets the rows with the desired day from the source table,\n",
    "     then from the result, it will filter the rows with the desired city,\n",
    "     the count() method will count the number of values in the user_id column.\n",
    "     The function will return this number as a result\"\"\"\n",
    "    \n",
    "    track_list = df[df['day'] == day]\n",
    "    track_list = track_list[track_list['city'] == city]\n",
    "\n",
    "    track_list_count = track_list['user_id'].count()\n",
    "    return track_list_count\n",
    "\n"
   ]
  },
  {
   "cell_type": "markdown",
   "metadata": {
    "deletable": false,
    "id": "ytf7xFrFJQ2r",
    "tags": [
     "start_task"
    ]
   },
   "source": [
    "Call `number_tracks()` six times, changing the parameters so that we get data for each city on each of the three days."
   ]
  },
  {
   "cell_type": "code",
   "execution_count": 20,
   "metadata": {
    "deletable": false,
    "id": "rJcRATNQ_Zcu"
   },
   "outputs": [
    {
     "data": {
      "text/plain": [
       "15740"
      ]
     },
     "execution_count": 20,
     "metadata": {},
     "output_type": "execute_result"
    }
   ],
   "source": [
    "# number of tracks played in Moscow on Mondays\n",
    "number_tracks('Monday', 'Moscow')"
   ]
  },
  {
   "cell_type": "code",
   "execution_count": 21,
   "metadata": {
    "deletable": false,
    "id": "hq_ncZ5T_Zcu"
   },
   "outputs": [
    {
     "data": {
      "text/plain": [
       "5614"
      ]
     },
     "execution_count": 21,
     "metadata": {},
     "output_type": "execute_result"
    }
   ],
   "source": [
    "# number of tracks played in Saint-Petersburg on Mondays\n",
    "number_tracks('Monday', 'Saint-Petersburg')"
   ]
  },
  {
   "cell_type": "code",
   "execution_count": 22,
   "metadata": {
    "deletable": false,
    "id": "_NTy2VPU_Zcu"
   },
   "outputs": [
    {
     "data": {
      "text/plain": [
       "11056"
      ]
     },
     "execution_count": 22,
     "metadata": {},
     "output_type": "execute_result"
    }
   ],
   "source": [
    "# number of tracks played in Moscow on Wednesdays\n",
    "number_tracks('Wednesday', 'Moscow')"
   ]
  },
  {
   "cell_type": "code",
   "execution_count": 23,
   "metadata": {
    "deletable": false,
    "id": "j2y3TAwo_Zcu"
   },
   "outputs": [
    {
     "data": {
      "text/plain": [
       "7003"
      ]
     },
     "execution_count": 23,
     "metadata": {},
     "output_type": "execute_result"
    }
   ],
   "source": [
    "# number of tracks played in Saint-Petersburg on Wednesdays\n",
    "number_tracks('Wednesday', 'Saint-Petersburg')"
   ]
  },
  {
   "cell_type": "code",
   "execution_count": 24,
   "metadata": {
    "deletable": false,
    "id": "vYDw5u_K_Zcu"
   },
   "outputs": [
    {
     "data": {
      "text/plain": [
       "15945"
      ]
     },
     "execution_count": 24,
     "metadata": {},
     "output_type": "execute_result"
    }
   ],
   "source": [
    "# number of tracks played in Moscow on Fridays\n",
    "number_tracks('Friday', 'Moscow')"
   ]
  },
  {
   "cell_type": "code",
   "execution_count": 25,
   "metadata": {
    "deletable": false,
    "id": "8_yzFtW3_Zcu"
   },
   "outputs": [
    {
     "data": {
      "text/plain": [
       "5895"
      ]
     },
     "execution_count": 25,
     "metadata": {},
     "output_type": "execute_result"
    }
   ],
   "source": [
    "# number of tracks played in Saint-Petersburg on Fridays\n",
    "number_tracks('Friday', 'Saint-Petersburg')"
   ]
  },
  {
   "cell_type": "markdown",
   "metadata": {
    "deletable": false,
    "id": "7QXffbO-_Zcu",
    "tags": [
     "start_task"
    ]
   },
   "source": [
    "Create a table using the `pd.DataFrame` constructor, where\n",
    "* column names - `['city', 'monday', 'wednesday', 'friday']`;\n",
    "* data is the results you got with `number_tracks`."
   ]
  },
  {
   "cell_type": "code",
   "execution_count": 26,
   "metadata": {
    "deletable": false,
    "id": "APAcLpOr_Zcu"
   },
   "outputs": [
    {
     "data": {
      "text/html": [
       "<div>\n",
       "<style scoped>\n",
       "    .dataframe tbody tr th:only-of-type {\n",
       "        vertical-align: middle;\n",
       "    }\n",
       "\n",
       "    .dataframe tbody tr th {\n",
       "        vertical-align: top;\n",
       "    }\n",
       "\n",
       "    .dataframe thead th {\n",
       "        text-align: right;\n",
       "    }\n",
       "</style>\n",
       "<table border=\"1\" class=\"dataframe\">\n",
       "  <thead>\n",
       "    <tr style=\"text-align: right;\">\n",
       "      <th></th>\n",
       "      <th>city</th>\n",
       "      <th>monday</th>\n",
       "      <th>wednesday</th>\n",
       "      <th>friday</th>\n",
       "    </tr>\n",
       "  </thead>\n",
       "  <tbody>\n",
       "    <tr>\n",
       "      <th>0</th>\n",
       "      <td>Moscow</td>\n",
       "      <td>15740</td>\n",
       "      <td>11056</td>\n",
       "      <td>15945</td>\n",
       "    </tr>\n",
       "    <tr>\n",
       "      <th>1</th>\n",
       "      <td>Saint-Petersburg</td>\n",
       "      <td>5614</td>\n",
       "      <td>7003</td>\n",
       "      <td>5895</td>\n",
       "    </tr>\n",
       "  </tbody>\n",
       "</table>\n",
       "</div>"
      ],
      "text/plain": [
       "               city  monday  wednesday  friday\n",
       "0            Moscow   15740      11056   15945\n",
       "1  Saint-Petersburg    5614       7003    5895"
      ]
     },
     "execution_count": 26,
     "metadata": {},
     "output_type": "execute_result"
    }
   ],
   "source": [
    "# Results table\n",
    "results = [['Moscow',15740,11056,15945], # Measurements are stored in a list of lists\n",
    "              ['Saint-Petersburg',5614, 7003,5895]]\n",
    "info = pd.DataFrame(data=results, columns=['city', 'monday', 'wednesday', 'friday'])\n",
    "info"
   ]
  },
  {
   "cell_type": "markdown",
   "metadata": {
    "deletable": false,
    "id": "-EgPIHYu_Zcu"
   },
   "source": [
    "**Conclusions**\n",
    "\n",
    "The data shows the difference in user behavior:\n",
    "\n",
    "- In Moscow, the peak of listening falls on Monday and Friday, and on Wednesday there is a noticeable decline.\n",
    "- In St. Petersburg, on the contrary, users listen to music more on Wednesdays. Activity on Monday and Friday here is almost equally inferior to Wednesday.\n",
    "\n",
    "So the data support the first hypothesis."
   ]
  },
  {
   "cell_type": "markdown",
   "metadata": {
    "deletable": false,
    "id": "atZAxtq4_Zcu"
   },
   "source": [
    "### Music at the beginning and end of the week"
   ]
  },
  {
   "cell_type": "markdown",
   "metadata": {
    "deletable": false,
    "id": "eXrQqXFH_Zcu"
   },
   "source": [
    "According to the second hypothesis, on Monday morning certain genres predominate in Moscow, while others dominate in St. Petersburg. Similarly, Friday evenings are dominated by different genres, depending on the city."
   ]
  },
  {
   "cell_type": "markdown",
   "metadata": {
    "deletable": false,
    "id": "S8UcW6Hw_Zcu",
    "tags": [
     "start_task"
    ]
   },
   "source": [
    "Save tables with data in two variables:\n",
    "* in Moscow - in `moscow_general`;\n",
    "* in St. Petersburg - in `spb_general`."
   ]
  },
  {
   "cell_type": "code",
   "execution_count": 27,
   "metadata": {
    "deletable": false,
    "id": "qeaFfM_P_Zcu"
   },
   "outputs": [],
   "source": [
    "# getting the moscow_general table from those rows of the df table,\n",
    "# for which the value in the 'city' column is 'Moscow'\n",
    "moscow_general = df[df['city']=='Moscow']"
   ]
  },
  {
   "cell_type": "code",
   "execution_count": 28,
   "metadata": {
    "deletable": false,
    "id": "ORaVRKto_Zcu"
   },
   "outputs": [],
   "source": [
    "# getting the spb_general table from those rows of the df table,\n",
    "# for which the value in the 'city' column is 'Saint-Petersburg'\n",
    "spb_general = df[df['city']=='Saint-Petersburg']"
   ]
  },
  {
   "cell_type": "markdown",
   "metadata": {
    "deletable": false,
    "id": "MEJV-CX2_Zcu",
    "tags": [
     "start_task"
    ]
   },
   "source": [
    "Create a function `genre_weekday()` with four parameters:\n",
    "* table (dataframe) with data,\n",
    "* day of the week,\n",
    "* start timestamp in 'hh:mm' format,\n",
    "* last timestamp in 'hh:mm' format.\n",
    "\n",
    "The function should return information about the top 10 genres of those tracks that were listened to on the specified day, in the interval between two timestamps."
   ]
  },
  {
   "cell_type": "code",
   "execution_count": 29,
   "metadata": {
    "deletable": false,
    "id": "laJT9BYl_Zcu"
   },
   "outputs": [],
   "source": [
    "def genre_weekday(df, day, time1, time2):\n",
    "    # sequential filtering\n",
    "    # leave in genre_df only those df lines whose day is equal to day\n",
    "    genre_df = df[df['day']==day]\n",
    "    # we leave in genre_df only those genre_df lines that have a time less than time2\n",
    "    genre_df = genre_df[genre_df['time'] < time2]\n",
    "    # we leave in genre_df only those genre_df lines that have a time greater than time1\n",
    "    genre_df = genre_df[genre_df['time'] > time1]\n",
    "    # group the filtered dataframe by a column with genre names, take the genre column and count the number of rows for each genre using the count() method\n",
    "    genre_df_grouped = genre_df.groupby('genre')['genre'].count()\n",
    "    # sort the result in descending order (so that the most popular genres are at the beginning of the Series)\n",
    "    genre_df_sorted = genre_df_grouped.sort_values(ascending=False)\n",
    "    # return a Series with the 10 most popular genres in the specified time period of the specified day\n",
    "    return genre_df_sorted[:10]"
   ]
  },
  {
   "cell_type": "markdown",
   "metadata": {
    "deletable": false,
    "id": "la2s2_PF_Zcu",
    "tags": [
     "start_task"
    ]
   },
   "source": [
    "Compare the results of the `genre_weekday()` function for Moscow and St. Petersburg on Monday morning (from 7:00 to 11:00) and Friday evening (from 17:00 to 23:00):"
   ]
  },
  {
   "cell_type": "code",
   "execution_count": 30,
   "metadata": {
    "deletable": false,
    "id": "yz7itPUQ_Zcu"
   },
   "outputs": [
    {
     "data": {
      "text/plain": [
       "genre\n",
       "pop            781\n",
       "dance          549\n",
       "electronic     480\n",
       "rock           474\n",
       "hiphop         286\n",
       "ruspop         186\n",
       "world          181\n",
       "rusrap         175\n",
       "alternative    164\n",
       "unknown        161\n",
       "Name: genre, dtype: int64"
      ]
     },
     "execution_count": 30,
     "metadata": {},
     "output_type": "execute_result"
    }
   ],
   "source": [
    "# function call for Monday morning in Moscow \n",
    "# time objects are strings and are compared as strings\n",
    "genre_weekday(moscow_general, 'Monday', '07:00', '11:00')"
   ]
  },
  {
   "cell_type": "code",
   "execution_count": 31,
   "metadata": {
    "deletable": false,
    "id": "kwUcHPdy_Zcu"
   },
   "outputs": [
    {
     "data": {
      "text/plain": [
       "genre\n",
       "pop            218\n",
       "dance          182\n",
       "rock           162\n",
       "electronic     147\n",
       "hiphop          80\n",
       "ruspop          64\n",
       "alternative     58\n",
       "rusrap          55\n",
       "jazz            44\n",
       "classical       40\n",
       "Name: genre, dtype: int64"
      ]
     },
     "execution_count": 31,
     "metadata": {},
     "output_type": "execute_result"
    }
   ],
   "source": [
    "# function call for Monday morning in St. Petersburg\n",
    "genre_weekday(spb_general, 'Monday', '07:00', '11:00')"
   ]
  },
  {
   "cell_type": "code",
   "execution_count": 32,
   "metadata": {
    "deletable": false,
    "id": "EzXVRE1o_Zcu"
   },
   "outputs": [
    {
     "data": {
      "text/plain": [
       "genre\n",
       "pop            713\n",
       "rock           517\n",
       "dance          495\n",
       "electronic     482\n",
       "hiphop         273\n",
       "world          208\n",
       "ruspop         170\n",
       "alternative    163\n",
       "classical      163\n",
       "rusrap         142\n",
       "Name: genre, dtype: int64"
      ]
     },
     "execution_count": 32,
     "metadata": {},
     "output_type": "execute_result"
    }
   ],
   "source": [
    "# function call for Friday evening in Moscow\n",
    "genre_weekday(moscow_general, 'Friday', '17:00', '23:00')"
   ]
  },
  {
   "cell_type": "code",
   "execution_count": 33,
   "metadata": {
    "deletable": false,
    "id": "JZaEKu5v_Zcu"
   },
   "outputs": [
    {
     "data": {
      "text/plain": [
       "genre\n",
       "pop            256\n",
       "electronic     216\n",
       "rock           216\n",
       "dance          210\n",
       "hiphop          97\n",
       "alternative     63\n",
       "jazz            61\n",
       "classical       60\n",
       "rusrap          59\n",
       "world           54\n",
       "Name: genre, dtype: int64"
      ]
     },
     "execution_count": 33,
     "metadata": {},
     "output_type": "execute_result"
    }
   ],
   "source": [
    "# function call for Friday evening in St. Petersburg\n",
    "genre_weekday(spb_general, 'Friday', '17:00', '23:00')"
   ]
  },
  {
   "cell_type": "markdown",
   "metadata": {
    "deletable": false,
    "id": "wrCe4MNX_Zcu"
   },
   "source": [
    "**Conclusions**\n",
    "\n",
    "If we compare the top 10 genres on Monday morning, we can draw the following conclusions:\n",
    "\n",
    "1. In Moscow and St. Petersburg they listen to similar music. The only difference is that the Moscow rating includes the “world” genre, while the St. Petersburg rating includes jazz and classical.\n",
    "\n",
    "2. There were so many missing values in Moscow that the value `'unknown'` took tenth place among the most popular genres. This means that missing values occupy a significant share of the data and threaten the reliability of the study.\n",
    "\n",
    "Friday night does not change this picture. Some genres rise a little higher, others go down, but overall the top 10 stays the same.\n",
    "\n",
    "Thus, the second hypothesis was only partially confirmed:\n",
    "* Users listen to similar music at the beginning of the week and at the end.\n",
    "* The difference between Moscow and St. Petersburg is not very pronounced. In Moscow, they listen to Russian popular music more often, in St. Petersburg - jazz.\n",
    "\n",
    "However, gaps in the data cast doubt on this result. There are so many of them in Moscow that the top 10 rankings could look different if it were not for the lost genre data."
   ]
  },
  {
   "cell_type": "markdown",
   "metadata": {
    "deletable": false,
    "id": "JolODAqr_Zcu"
   },
   "source": [
    "### Genre preferences in Moscow and St. Petersburg\n",
    "\n",
    "Hypothesis: St. Petersburg is the capital of rap, the music of this genre is listened to more often than in Moscow. And Moscow is a city of contrasts, which, nevertheless, is dominated by pop music."
   ]
  },
  {
   "cell_type": "markdown",
   "metadata": {
    "deletable": false,
    "id": "DlegSvaT_Zcu",
    "tags": [
     "start_task"
    ]
   },
   "source": [
    "Group the `moscow_general` table by genre and count the plays of each genre's tracks using the `count()` method. Then sort the result in descending order and store them in the `moscow_genres` table."
   ]
  },
  {
   "cell_type": "code",
   "execution_count": 34,
   "metadata": {
    "deletable": false,
    "id": "r19lIPke_Zcu"
   },
   "outputs": [],
   "source": [
    "# in one line: grouping the moscow_general table by the 'genre' column,\n",
    "# counting the number of 'genre' values in this grouping using the count() method,\n",
    "# sort the resulting Series in descending order and save to moscow_genres\n",
    "moscow_genres = moscow_general.groupby('genre')['genre'].count().sort_values(ascending=False)"
   ]
  },
  {
   "cell_type": "code",
   "execution_count": 35,
   "metadata": {
    "deletable": false,
    "id": "WhCSooF8_Zcv"
   },
   "outputs": [
    {
     "data": {
      "text/plain": [
       "genre\n",
       "pop            5892\n",
       "dance          4435\n",
       "rock           3965\n",
       "electronic     3786\n",
       "hiphop         2096\n",
       "classical      1616\n",
       "world          1432\n",
       "alternative    1379\n",
       "ruspop         1372\n",
       "rusrap         1161\n",
       "Name: genre, dtype: int64"
      ]
     },
     "execution_count": 35,
     "metadata": {},
     "output_type": "execute_result"
    }
   ],
   "source": [
    "# view the first 10 lines of moscow_genres\n",
    "moscow_genres.head(10)"
   ]
  },
  {
   "cell_type": "markdown",
   "metadata": {
    "deletable": false,
    "id": "cnPG2vnN_Zcv",
    "tags": [
     "start_task"
    ]
   },
   "source": [
    "Now repeat the same for Petersburg.\n",
    "\n",
    "Group the `spb_general` table by genre. Count the number of listens to tracks of each genre. Sort the result in descending order and store it in the `spb_genres` table:"
   ]
  },
  {
   "cell_type": "code",
   "execution_count": 36,
   "metadata": {
    "deletable": false,
    "id": "gluLIpE7_Zcv"
   },
   "outputs": [],
   "source": [
    "# in one line: group spb_general table by 'genre' column,\n",
    "# counting the number of 'genre' values in this grouping using the count() method,\n",
    "# sort the resulting Series in descending order and store it in spb_genres\n",
    "spb_genres = spb_general.groupby('genre')['genre'].count().sort_values(ascending=False)"
   ]
  },
  {
   "cell_type": "code",
   "execution_count": 37,
   "metadata": {
    "deletable": false,
    "id": "uaGJHjVU_Zcv"
   },
   "outputs": [
    {
     "data": {
      "text/plain": [
       "genre\n",
       "pop            2431\n",
       "dance          1932\n",
       "rock           1879\n",
       "electronic     1736\n",
       "hiphop          960\n",
       "alternative     649\n",
       "classical       646\n",
       "rusrap          564\n",
       "ruspop          538\n",
       "world           515\n",
       "Name: genre, dtype: int64"
      ]
     },
     "execution_count": 37,
     "metadata": {},
     "output_type": "execute_result"
    }
   ],
   "source": [
    "# view the first 10 lines of spb_genres\n",
    "spb_genres.head(10)"
   ]
  },
  {
   "cell_type": "markdown",
   "metadata": {
    "deletable": false,
    "id": "RY51YJYu_Zcv"
   },
   "source": [
    "**Conclusions**"
   ]
  },
  {
   "cell_type": "markdown",
   "metadata": {
    "deletable": false,
    "id": "nVhnJEm__Zcv"
   },
   "source": [
    "The hypothesis was partially confirmed:\n",
    "* Pop music is the most popular genre in Moscow, as the hypothesis suggested. Moreover, in the top 10 genres, there is a close genre - Russian popular music.\n",
    "* Contrary to expectations, rap is equally popular in Moscow and St. Petersburg."
   ]
  },
  {
   "cell_type": "markdown",
   "metadata": {
    "deletable": false,
    "id": "ykKQ0N65_Zcv"
   },
   "source": [
    "## Results of the study"
   ]
  },
  {
   "cell_type": "markdown",
   "metadata": {
    "deletable": false,
    "id": "tjUwbHb3_Zcv"
   },
   "source": [
    "We tested three hypotheses and found:\n",
    "\n",
    "1. The day of the week has a different effect on the activity of users in Moscow and St. Petersburg.\n",
    "\n",
    "The first hypothesis was fully confirmed.\n",
    "\n",
    "2. Musical preferences do not change much during the week - be it Moscow or St. Petersburg. Small differences are noticeable at the beginning of the week, on Mondays:\n",
    "* in Moscow users listen to the music of the “world” genre,\n",
    "* in St. Petersburg - jazz and classical music.\n",
    "\n",
    "Thus, the second hypothesis was only partly confirmed. This result could have been different were it not for gaps in the data.\n",
    "\n",
    "3. The tastes of users of Moscow and St. Petersburg have more in common than differences. Contrary to expectations, genre preferences in St. Petersburg resemble those in Moscow.\n",
    "\n",
    "The third hypothesis was not confirmed. If there are differences in preferences, they are invisible to the bulk of users.\n",
    "\n",
    "**In practice, studies contain tests of statistical hypotheses.**\n",
    "From the data of one service, it is not always possible to draw a conclusion about all the inhabitants of the city.\n",
    "Tests of statistical hypotheses will show how reliable they are, based on the available data.\n"
   ]
  }
 ],
 "metadata": {
  "ExecuteTimeLog": [
   {
    "duration": 394,
    "start_time": "2023-02-04T09:11:06.552Z"
   },
   {
    "duration": 226,
    "start_time": "2023-02-04T09:11:47.444Z"
   },
   {
    "duration": 17,
    "start_time": "2023-02-04T09:12:57.879Z"
   },
   {
    "duration": 27,
    "start_time": "2023-02-04T09:14:35.052Z"
   },
   {
    "duration": 3,
    "start_time": "2023-02-04T09:21:55.362Z"
   },
   {
    "duration": 5,
    "start_time": "2023-02-04T09:24:31.202Z"
   },
   {
    "duration": 21,
    "start_time": "2023-02-04T09:27:03.273Z"
   },
   {
    "duration": 16,
    "start_time": "2023-02-04T09:27:41.764Z"
   },
   {
    "duration": 16,
    "start_time": "2023-02-04T09:28:01.763Z"
   },
   {
    "duration": 5,
    "start_time": "2023-02-04T09:28:29.349Z"
   },
   {
    "duration": 21,
    "start_time": "2023-02-04T09:29:56.034Z"
   },
   {
    "duration": 19,
    "start_time": "2023-02-04T09:39:26.625Z"
   },
   {
    "duration": 22,
    "start_time": "2023-02-04T09:39:41.998Z"
   },
   {
    "duration": 56,
    "start_time": "2023-02-04T09:40:19.904Z"
   },
   {
    "duration": 78,
    "start_time": "2023-02-04T09:43:00.221Z"
   },
   {
    "duration": 57,
    "start_time": "2023-02-04T09:43:06.685Z"
   },
   {
    "duration": 70,
    "start_time": "2023-02-04T09:43:33.640Z"
   },
   {
    "duration": 55,
    "start_time": "2023-02-04T09:43:39.942Z"
   },
   {
    "duration": 72,
    "start_time": "2023-02-04T09:46:01.516Z"
   },
   {
    "duration": 57,
    "start_time": "2023-02-04T09:46:03.939Z"
   },
   {
    "duration": 52,
    "start_time": "2023-02-04T09:46:27.858Z"
   },
   {
    "duration": 429,
    "start_time": "2023-02-04T09:47:02.201Z"
   },
   {
    "duration": 217,
    "start_time": "2023-02-04T09:47:02.636Z"
   },
   {
    "duration": 22,
    "start_time": "2023-02-04T09:47:02.854Z"
   },
   {
    "duration": 33,
    "start_time": "2023-02-04T09:47:02.879Z"
   },
   {
    "duration": 24,
    "start_time": "2023-02-04T09:47:02.913Z"
   },
   {
    "duration": 4,
    "start_time": "2023-02-04T09:47:02.939Z"
   },
   {
    "duration": 12,
    "start_time": "2023-02-04T09:47:02.944Z"
   },
   {
    "duration": 8,
    "start_time": "2023-02-04T09:47:02.957Z"
   },
   {
    "duration": 24,
    "start_time": "2023-02-04T09:47:02.966Z"
   },
   {
    "duration": 20,
    "start_time": "2023-02-04T09:47:02.992Z"
   },
   {
    "duration": 23,
    "start_time": "2023-02-04T09:47:03.036Z"
   },
   {
    "duration": 62,
    "start_time": "2023-02-04T09:47:03.061Z"
   },
   {
    "duration": 72,
    "start_time": "2023-02-04T09:47:03.137Z"
   },
   {
    "duration": 69,
    "start_time": "2023-02-04T09:47:03.211Z"
   },
   {
    "duration": 2,
    "start_time": "2023-02-04T09:47:03.283Z"
   },
   {
    "duration": 7,
    "start_time": "2023-02-04T09:47:03.287Z"
   },
   {
    "duration": 5,
    "start_time": "2023-02-04T09:47:03.295Z"
   },
   {
    "duration": 6,
    "start_time": "2023-02-04T09:47:03.302Z"
   },
   {
    "duration": 6,
    "start_time": "2023-02-04T09:47:03.309Z"
   },
   {
    "duration": 20,
    "start_time": "2023-02-04T09:47:03.317Z"
   },
   {
    "duration": 13,
    "start_time": "2023-02-04T09:47:03.339Z"
   },
   {
    "duration": 5,
    "start_time": "2023-02-04T09:47:03.353Z"
   },
   {
    "duration": 5,
    "start_time": "2023-02-04T09:47:03.360Z"
   },
   {
    "duration": 5,
    "start_time": "2023-02-04T09:47:03.367Z"
   },
   {
    "duration": 7,
    "start_time": "2023-02-04T09:47:03.374Z"
   },
   {
    "duration": 5,
    "start_time": "2023-02-04T09:47:03.382Z"
   },
   {
    "duration": 6,
    "start_time": "2023-02-04T09:47:03.388Z"
   },
   {
    "duration": 4,
    "start_time": "2023-02-04T09:47:03.397Z"
   },
   {
    "duration": 12,
    "start_time": "2023-02-04T09:47:03.403Z"
   },
   {
    "duration": 43,
    "start_time": "2023-02-04T09:47:03.416Z"
   },
   {
    "duration": 0,
    "start_time": "2023-02-04T09:47:03.460Z"
   },
   {
    "duration": 0,
    "start_time": "2023-02-04T09:47:03.462Z"
   },
   {
    "duration": 0,
    "start_time": "2023-02-04T09:47:03.463Z"
   },
   {
    "duration": 0,
    "start_time": "2023-02-04T09:47:03.464Z"
   },
   {
    "duration": 0,
    "start_time": "2023-02-04T09:47:03.466Z"
   },
   {
    "duration": 0,
    "start_time": "2023-02-04T09:47:03.467Z"
   },
   {
    "duration": 0,
    "start_time": "2023-02-04T09:47:03.469Z"
   },
   {
    "duration": 0,
    "start_time": "2023-02-04T09:47:03.470Z"
   },
   {
    "duration": 72,
    "start_time": "2023-02-04T09:48:03.877Z"
   },
   {
    "duration": 60,
    "start_time": "2023-02-04T09:48:06.196Z"
   },
   {
    "duration": 86,
    "start_time": "2023-02-04T09:48:35.560Z"
   },
   {
    "duration": 83,
    "start_time": "2023-02-04T09:48:55.924Z"
   },
   {
    "duration": 76,
    "start_time": "2023-02-04T09:49:05.191Z"
   },
   {
    "duration": 335,
    "start_time": "2023-02-04T09:49:22.991Z"
   },
   {
    "duration": 148,
    "start_time": "2023-02-04T09:49:23.328Z"
   },
   {
    "duration": 16,
    "start_time": "2023-02-04T09:49:23.478Z"
   },
   {
    "duration": 25,
    "start_time": "2023-02-04T09:49:23.496Z"
   },
   {
    "duration": 3,
    "start_time": "2023-02-04T09:49:23.536Z"
   },
   {
    "duration": 7,
    "start_time": "2023-02-04T09:49:23.540Z"
   },
   {
    "duration": 12,
    "start_time": "2023-02-04T09:49:23.548Z"
   },
   {
    "duration": 5,
    "start_time": "2023-02-04T09:49:23.562Z"
   },
   {
    "duration": 24,
    "start_time": "2023-02-04T09:49:23.569Z"
   },
   {
    "duration": 19,
    "start_time": "2023-02-04T09:49:23.595Z"
   },
   {
    "duration": 40,
    "start_time": "2023-02-04T09:49:23.616Z"
   },
   {
    "duration": 80,
    "start_time": "2023-02-04T09:49:23.658Z"
   },
   {
    "duration": 83,
    "start_time": "2023-02-04T09:49:23.740Z"
   },
   {
    "duration": 67,
    "start_time": "2023-02-04T09:49:23.825Z"
   },
   {
    "duration": 2,
    "start_time": "2023-02-04T09:49:23.894Z"
   },
   {
    "duration": 7,
    "start_time": "2023-02-04T09:49:23.897Z"
   },
   {
    "duration": 5,
    "start_time": "2023-02-04T09:49:23.905Z"
   },
   {
    "duration": 7,
    "start_time": "2023-02-04T09:49:23.912Z"
   },
   {
    "duration": 17,
    "start_time": "2023-02-04T09:49:23.920Z"
   },
   {
    "duration": 5,
    "start_time": "2023-02-04T09:49:23.939Z"
   },
   {
    "duration": 7,
    "start_time": "2023-02-04T09:49:23.945Z"
   },
   {
    "duration": 6,
    "start_time": "2023-02-04T09:49:23.954Z"
   },
   {
    "duration": 5,
    "start_time": "2023-02-04T09:49:23.961Z"
   },
   {
    "duration": 5,
    "start_time": "2023-02-04T09:49:23.967Z"
   },
   {
    "duration": 6,
    "start_time": "2023-02-04T09:49:23.973Z"
   },
   {
    "duration": 5,
    "start_time": "2023-02-04T09:49:23.980Z"
   },
   {
    "duration": 5,
    "start_time": "2023-02-04T09:49:23.986Z"
   },
   {
    "duration": 6,
    "start_time": "2023-02-04T09:49:23.994Z"
   },
   {
    "duration": 5,
    "start_time": "2023-02-04T09:49:24.001Z"
   },
   {
    "duration": 66,
    "start_time": "2023-02-04T09:49:24.007Z"
   },
   {
    "duration": 0,
    "start_time": "2023-02-04T09:49:24.075Z"
   },
   {
    "duration": 0,
    "start_time": "2023-02-04T09:49:24.076Z"
   },
   {
    "duration": 0,
    "start_time": "2023-02-04T09:49:24.077Z"
   },
   {
    "duration": 0,
    "start_time": "2023-02-04T09:49:24.078Z"
   },
   {
    "duration": 0,
    "start_time": "2023-02-04T09:49:24.079Z"
   },
   {
    "duration": 0,
    "start_time": "2023-02-04T09:49:24.080Z"
   },
   {
    "duration": 0,
    "start_time": "2023-02-04T09:49:24.081Z"
   },
   {
    "duration": 0,
    "start_time": "2023-02-04T09:49:24.082Z"
   },
   {
    "duration": 415,
    "start_time": "2023-02-04T09:51:19.857Z"
   },
   {
    "duration": 158,
    "start_time": "2023-02-04T09:51:20.274Z"
   },
   {
    "duration": 16,
    "start_time": "2023-02-04T09:51:20.434Z"
   },
   {
    "duration": 26,
    "start_time": "2023-02-04T09:51:20.452Z"
   },
   {
    "duration": 3,
    "start_time": "2023-02-04T09:51:20.480Z"
   },
   {
    "duration": 8,
    "start_time": "2023-02-04T09:51:20.485Z"
   },
   {
    "duration": 16,
    "start_time": "2023-02-04T09:51:20.494Z"
   },
   {
    "duration": 3,
    "start_time": "2023-02-04T09:51:20.538Z"
   },
   {
    "duration": 34,
    "start_time": "2023-02-04T09:51:20.543Z"
   },
   {
    "duration": 26,
    "start_time": "2023-02-04T09:51:20.579Z"
   },
   {
    "duration": 40,
    "start_time": "2023-02-04T09:51:20.607Z"
   },
   {
    "duration": 60,
    "start_time": "2023-02-04T09:51:20.649Z"
   },
   {
    "duration": 88,
    "start_time": "2023-02-04T09:51:20.711Z"
   },
   {
    "duration": 67,
    "start_time": "2023-02-04T09:51:20.802Z"
   },
   {
    "duration": 2,
    "start_time": "2023-02-04T09:51:20.871Z"
   },
   {
    "duration": 6,
    "start_time": "2023-02-04T09:51:20.875Z"
   },
   {
    "duration": 11,
    "start_time": "2023-02-04T09:51:20.882Z"
   },
   {
    "duration": 8,
    "start_time": "2023-02-04T09:51:20.894Z"
   },
   {
    "duration": 8,
    "start_time": "2023-02-04T09:51:20.904Z"
   },
   {
    "duration": 9,
    "start_time": "2023-02-04T09:51:20.915Z"
   },
   {
    "duration": 31,
    "start_time": "2023-02-04T09:51:20.926Z"
   },
   {
    "duration": 9,
    "start_time": "2023-02-04T09:51:20.959Z"
   },
   {
    "duration": 4,
    "start_time": "2023-02-04T09:51:20.971Z"
   },
   {
    "duration": 9,
    "start_time": "2023-02-04T09:51:20.976Z"
   },
   {
    "duration": 9,
    "start_time": "2023-02-04T09:51:20.987Z"
   },
   {
    "duration": 6,
    "start_time": "2023-02-04T09:51:20.997Z"
   },
   {
    "duration": 6,
    "start_time": "2023-02-04T09:51:21.004Z"
   },
   {
    "duration": 9,
    "start_time": "2023-02-04T09:51:21.012Z"
   },
   {
    "duration": 6,
    "start_time": "2023-02-04T09:51:21.022Z"
   },
   {
    "duration": 39,
    "start_time": "2023-02-04T09:51:21.030Z"
   },
   {
    "duration": 0,
    "start_time": "2023-02-04T09:51:21.071Z"
   },
   {
    "duration": 0,
    "start_time": "2023-02-04T09:51:21.072Z"
   },
   {
    "duration": 0,
    "start_time": "2023-02-04T09:51:21.074Z"
   },
   {
    "duration": 0,
    "start_time": "2023-02-04T09:51:21.075Z"
   },
   {
    "duration": 0,
    "start_time": "2023-02-04T09:51:21.076Z"
   },
   {
    "duration": 0,
    "start_time": "2023-02-04T09:51:21.077Z"
   },
   {
    "duration": 0,
    "start_time": "2023-02-04T09:51:21.079Z"
   },
   {
    "duration": 0,
    "start_time": "2023-02-04T09:51:21.080Z"
   },
   {
    "duration": 444,
    "start_time": "2023-02-04T09:51:52.028Z"
   },
   {
    "duration": 150,
    "start_time": "2023-02-04T09:51:53.923Z"
   },
   {
    "duration": 21,
    "start_time": "2023-02-04T09:51:55.097Z"
   },
   {
    "duration": 32,
    "start_time": "2023-02-04T09:51:57.123Z"
   },
   {
    "duration": 3,
    "start_time": "2023-02-04T09:52:00.462Z"
   },
   {
    "duration": 4,
    "start_time": "2023-02-04T09:52:02.057Z"
   },
   {
    "duration": 10,
    "start_time": "2023-02-04T09:52:03.828Z"
   },
   {
    "duration": 4,
    "start_time": "2023-02-04T09:52:04.957Z"
   },
   {
    "duration": 24,
    "start_time": "2023-02-04T09:52:06.790Z"
   },
   {
    "duration": 21,
    "start_time": "2023-02-04T09:52:08.657Z"
   },
   {
    "duration": 22,
    "start_time": "2023-02-04T09:52:09.968Z"
   },
   {
    "duration": 68,
    "start_time": "2023-02-04T09:52:11.962Z"
   },
   {
    "duration": 93,
    "start_time": "2023-02-04T09:52:13.528Z"
   },
   {
    "duration": 101,
    "start_time": "2023-02-04T09:53:03.217Z"
   },
   {
    "duration": 62,
    "start_time": "2023-02-04T09:53:26.256Z"
   },
   {
    "duration": 449,
    "start_time": "2023-02-04T09:53:49.233Z"
   },
   {
    "duration": 160,
    "start_time": "2023-02-04T09:53:50.628Z"
   },
   {
    "duration": 16,
    "start_time": "2023-02-04T09:53:52.276Z"
   },
   {
    "duration": 28,
    "start_time": "2023-02-04T09:53:54.977Z"
   },
   {
    "duration": 2,
    "start_time": "2023-02-04T09:54:00.626Z"
   },
   {
    "duration": 5,
    "start_time": "2023-02-04T09:54:02.217Z"
   },
   {
    "duration": 11,
    "start_time": "2023-02-04T09:54:04.691Z"
   },
   {
    "duration": 8,
    "start_time": "2023-02-04T09:54:06.019Z"
   },
   {
    "duration": 22,
    "start_time": "2023-02-04T09:54:07.979Z"
   },
   {
    "duration": 21,
    "start_time": "2023-02-04T09:54:30.455Z"
   },
   {
    "duration": 23,
    "start_time": "2023-02-04T09:54:35.129Z"
   },
   {
    "duration": 87,
    "start_time": "2023-02-04T09:54:44.359Z"
   },
   {
    "duration": 76,
    "start_time": "2023-02-04T09:54:50.063Z"
   },
   {
    "duration": 84,
    "start_time": "2023-02-04T09:55:28.703Z"
   },
   {
    "duration": 58,
    "start_time": "2023-02-04T09:55:32.881Z"
   },
   {
    "duration": 63,
    "start_time": "2023-02-04T09:59:56.572Z"
   },
   {
    "duration": 10,
    "start_time": "2023-02-04T10:00:55.161Z"
   },
   {
    "duration": 8,
    "start_time": "2023-02-04T10:01:07.644Z"
   },
   {
    "duration": 9,
    "start_time": "2023-02-04T10:02:13.255Z"
   },
   {
    "duration": 31,
    "start_time": "2023-02-04T10:02:16.520Z"
   },
   {
    "duration": 35,
    "start_time": "2023-02-04T10:02:25.222Z"
   },
   {
    "duration": 11,
    "start_time": "2023-02-04T10:05:44.323Z"
   },
   {
    "duration": 16,
    "start_time": "2023-02-04T10:05:51.000Z"
   },
   {
    "duration": 51,
    "start_time": "2023-02-04T10:06:13.060Z"
   },
   {
    "duration": 50,
    "start_time": "2023-02-06T06:53:30.887Z"
   },
   {
    "duration": 6,
    "start_time": "2023-02-06T06:53:53.356Z"
   },
   {
    "duration": 6,
    "start_time": "2023-02-06T06:53:55.029Z"
   },
   {
    "duration": 415,
    "start_time": "2023-02-06T06:54:00.532Z"
   },
   {
    "duration": 334,
    "start_time": "2023-02-06T06:54:01.935Z"
   },
   {
    "duration": 18,
    "start_time": "2023-02-06T06:54:03.342Z"
   },
   {
    "duration": 37,
    "start_time": "2023-02-06T06:54:05.159Z"
   },
   {
    "duration": 6,
    "start_time": "2023-02-06T06:54:09.677Z"
   },
   {
    "duration": 12,
    "start_time": "2023-02-06T06:54:56.731Z"
   },
   {
    "duration": 4,
    "start_time": "2023-02-06T06:54:58.901Z"
   },
   {
    "duration": 28,
    "start_time": "2023-02-06T06:55:01.050Z"
   },
   {
    "duration": 36,
    "start_time": "2023-02-06T06:55:03.703Z"
   },
   {
    "duration": 26,
    "start_time": "2023-02-06T06:55:05.547Z"
   },
   {
    "duration": 69,
    "start_time": "2023-02-06T06:55:08.303Z"
   },
   {
    "duration": 75,
    "start_time": "2023-02-06T06:55:10.709Z"
   },
   {
    "duration": 81,
    "start_time": "2023-02-06T06:55:12.658Z"
   },
   {
    "duration": 53,
    "start_time": "2023-02-06T06:55:15.598Z"
   },
   {
    "duration": 15,
    "start_time": "2023-02-06T06:55:20.708Z"
   },
   {
    "duration": 45,
    "start_time": "2023-02-06T06:55:22.828Z"
   },
   {
    "duration": 37,
    "start_time": "2023-02-06T06:55:28.295Z"
   },
   {
    "duration": 16,
    "start_time": "2023-02-06T06:55:55.211Z"
   },
   {
    "duration": 47,
    "start_time": "2023-02-06T06:57:43.003Z"
   },
   {
    "duration": 15,
    "start_time": "2023-02-06T06:58:00.783Z"
   },
   {
    "duration": 5,
    "start_time": "2023-02-06T07:06:26.150Z"
   },
   {
    "duration": 26,
    "start_time": "2023-02-06T07:08:36.914Z"
   },
   {
    "duration": 24,
    "start_time": "2023-02-06T07:08:51.151Z"
   },
   {
    "duration": 17,
    "start_time": "2023-02-06T07:09:11.732Z"
   },
   {
    "duration": 16,
    "start_time": "2023-02-06T07:09:21.877Z"
   },
   {
    "duration": 19,
    "start_time": "2023-02-06T07:09:28.445Z"
   },
   {
    "duration": 16,
    "start_time": "2023-02-06T07:09:36.805Z"
   },
   {
    "duration": 32,
    "start_time": "2023-02-06T07:16:16.436Z"
   },
   {
    "duration": 9,
    "start_time": "2023-02-06T07:20:20.509Z"
   },
   {
    "duration": 11,
    "start_time": "2023-02-06T07:22:30.753Z"
   },
   {
    "duration": 22,
    "start_time": "2023-02-06T07:22:45.771Z"
   },
   {
    "duration": 10,
    "start_time": "2023-02-06T07:23:04.048Z"
   },
   {
    "duration": 4,
    "start_time": "2023-02-06T07:29:08.357Z"
   },
   {
    "duration": 18,
    "start_time": "2023-02-06T07:29:45.145Z"
   },
   {
    "duration": 14,
    "start_time": "2023-02-06T07:29:58.640Z"
   },
   {
    "duration": 23,
    "start_time": "2023-02-06T07:30:38.798Z"
   },
   {
    "duration": 21,
    "start_time": "2023-02-06T07:30:41.606Z"
   },
   {
    "duration": 15,
    "start_time": "2023-02-06T07:31:10.504Z"
   },
   {
    "duration": 8,
    "start_time": "2023-02-06T07:33:38.609Z"
   },
   {
    "duration": 5,
    "start_time": "2023-02-06T07:34:03.152Z"
   },
   {
    "duration": 6,
    "start_time": "2023-02-06T07:34:43.928Z"
   },
   {
    "duration": 5,
    "start_time": "2023-02-06T07:35:03.028Z"
   }
  ],
  "celltoolbar": "Edit Metadata",
  "colab": {
   "collapsed_sections": [
    "E0vqbgi9ay0H",
    "VUC88oWjTJw2"
   ],
   "provenance": []
  },
  "kernelspec": {
   "display_name": "practicum",
   "language": "python",
   "name": "python3"
  },
  "language_info": {
   "codemirror_mode": {
    "name": "ipython",
    "version": 3
   },
   "file_extension": ".py",
   "mimetype": "text/x-python",
   "name": "python",
   "nbconvert_exporter": "python",
   "pygments_lexer": "ipython3",
   "version": "3.9.16"
  },
  "toc": {
   "base_numbering": 1,
   "nav_menu": {
    "height": "215px",
    "width": "403px"
   },
   "number_sections": true,
   "sideBar": true,
   "skip_h1_title": true,
   "title_cell": "Table of Contents",
   "title_sidebar": "Contents",
   "toc_cell": false,
   "toc_position": {
    "height": "calc(100% - 180px)",
    "left": "10px",
    "top": "150px",
    "width": "285.825px"
   },
   "toc_section_display": true,
   "toc_window_display": false
  },
  "vscode": {
   "interpreter": {
    "hash": "89f90dcd35a69389149ad683cca4b3829b0f1451329a755b247ff0a132bacaf4"
   }
  }
 },
 "nbformat": 4,
 "nbformat_minor": 1
}
