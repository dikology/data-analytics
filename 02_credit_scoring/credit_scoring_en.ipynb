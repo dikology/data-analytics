{
 "cells": [
  {
   "attachments": {},
   "cell_type": "markdown",
   "id": "386f2ae7",
   "metadata": {
    "deletable": false,
    "editable": false,
    "id": "386f2ae7"
   },
   "source": [
    "# Study of the reliability of borrowers\n"
   ]
  },
  {
   "attachments": {},
   "cell_type": "markdown",
   "id": "e0b5e595",
   "metadata": {},
   "source": [
    "## Description of the project\n",
    "\n",
    "The customer is the credit department of the bank. It is necessary to find out whether the marital status and the number of children of the client affect the fact of repaying the loan on time. Input data from the bank - statistics on the solvency of customers.\n",
    "\n",
    "The results of the study will be taken into account when building a credit scoring model - a special system that assesses the ability of a potential borrower to return a loan to a bank.\n",
    "\n",
    "### Description of data\n",
    "* `children` - the number of children in the family\n",
    "* `days_employed` - total work experience in days\n",
    "* `dob_years` — client's age in years\n",
    "* `education` - the level of education of the client\n",
    "* `education_id` — education level identifier\n",
    "* `family_status` - marital status\n",
    "* `family_status_id` - marital status identifier\n",
    "* `gender` — gender of the client\n",
    "* `income_type` - employment type\n",
    "* `debt` - whether he had a debt to repay loans\n",
    "* `total_income` - monthly income\n",
    "* `purpose` - the purpose of the loan\n",
    "\n",
    "### Work plan\n",
    "\n",
    "We will carry out the work in two stages.\n",
    "At the first stage, we will evaluate the dataset, check it for missing values and duplicates, and process anomalous values, if any.\n",
    "Next, let's see if we need any changes in the data, additional categories or aggregates.\n",
    "At the second stage, we will try to answer the research questions:\n",
    "- Is there a relationship between the number of children and loan repayment on time?\n",
    "- Is there a relationship between marital status and loan repayment on time?\n",
    "- Is there a relationship between the level of income and repayment of the loan on time?\n",
    "- How do different purposes of the loan affect its repayment on time?"
   ]
  },
  {
   "attachments": {},
   "cell_type": "markdown",
   "id": "26613308",
   "metadata": {
    "deletable": false,
    "editable": false,
    "id": "26613308"
   },
   "source": [
    "## Open the table and examine the general information about the data"
   ]
  },
  {
   "attachments": {},
   "cell_type": "markdown",
   "id": "3c9f838e",
   "metadata": {
    "deletable": false,
    "editable": false,
    "id": "3c9f838e"
   },
   "source": [
    "**Import the pandas library. Read the data from the csv file into a dataframe and store it in the `data` variable.**"
   ]
  },
  {
   "cell_type": "code",
   "execution_count": 46,
   "id": "77a68a90",
   "metadata": {
    "deletable": false,
    "id": "77a68a90"
   },
   "outputs": [],
   "source": [
    "import pandas as pd\n",
    "\n",
    "try:\n",
    "    data = pd.read_csv('../datasets/data.csv')\n",
    "except:\n",
    "    print('No data to load')"
   ]
  },
  {
   "attachments": {},
   "cell_type": "markdown",
   "id": "45365635",
   "metadata": {
    "deletable": false,
    "editable": false,
    "id": "45365635"
   },
   "source": [
    "**Display the first 20 lines of the `data` dataframe on the screen.**"
   ]
  },
  {
   "cell_type": "code",
   "execution_count": 47,
   "id": "b0451a9a",
   "metadata": {
    "deletable": false,
    "id": "b0451a9a",
    "outputId": "1a8f3ef2-d323-4ec2-ddf7-89670b5944c4"
   },
   "outputs": [
    {
     "data": {
      "text/html": [
       "<div>\n",
       "<style scoped>\n",
       "    .dataframe tbody tr th:only-of-type {\n",
       "        vertical-align: middle;\n",
       "    }\n",
       "\n",
       "    .dataframe tbody tr th {\n",
       "        vertical-align: top;\n",
       "    }\n",
       "\n",
       "    .dataframe thead th {\n",
       "        text-align: right;\n",
       "    }\n",
       "</style>\n",
       "<table border=\"1\" class=\"dataframe\">\n",
       "  <thead>\n",
       "    <tr style=\"text-align: right;\">\n",
       "      <th></th>\n",
       "      <th>children</th>\n",
       "      <th>days_employed</th>\n",
       "      <th>dob_years</th>\n",
       "      <th>education</th>\n",
       "      <th>education_id</th>\n",
       "      <th>family_status</th>\n",
       "      <th>family_status_id</th>\n",
       "      <th>gender</th>\n",
       "      <th>income_type</th>\n",
       "      <th>debt</th>\n",
       "      <th>total_income</th>\n",
       "      <th>purpose</th>\n",
       "    </tr>\n",
       "  </thead>\n",
       "  <tbody>\n",
       "    <tr>\n",
       "      <th>0</th>\n",
       "      <td>1</td>\n",
       "      <td>-8437.673028</td>\n",
       "      <td>42</td>\n",
       "      <td>высшее</td>\n",
       "      <td>0</td>\n",
       "      <td>женат / замужем</td>\n",
       "      <td>0</td>\n",
       "      <td>F</td>\n",
       "      <td>сотрудник</td>\n",
       "      <td>0</td>\n",
       "      <td>253875.639453</td>\n",
       "      <td>покупка жилья</td>\n",
       "    </tr>\n",
       "    <tr>\n",
       "      <th>1</th>\n",
       "      <td>1</td>\n",
       "      <td>-4024.803754</td>\n",
       "      <td>36</td>\n",
       "      <td>среднее</td>\n",
       "      <td>1</td>\n",
       "      <td>женат / замужем</td>\n",
       "      <td>0</td>\n",
       "      <td>F</td>\n",
       "      <td>сотрудник</td>\n",
       "      <td>0</td>\n",
       "      <td>112080.014102</td>\n",
       "      <td>приобретение автомобиля</td>\n",
       "    </tr>\n",
       "    <tr>\n",
       "      <th>2</th>\n",
       "      <td>0</td>\n",
       "      <td>-5623.422610</td>\n",
       "      <td>33</td>\n",
       "      <td>Среднее</td>\n",
       "      <td>1</td>\n",
       "      <td>женат / замужем</td>\n",
       "      <td>0</td>\n",
       "      <td>M</td>\n",
       "      <td>сотрудник</td>\n",
       "      <td>0</td>\n",
       "      <td>145885.952297</td>\n",
       "      <td>покупка жилья</td>\n",
       "    </tr>\n",
       "    <tr>\n",
       "      <th>3</th>\n",
       "      <td>3</td>\n",
       "      <td>-4124.747207</td>\n",
       "      <td>32</td>\n",
       "      <td>среднее</td>\n",
       "      <td>1</td>\n",
       "      <td>женат / замужем</td>\n",
       "      <td>0</td>\n",
       "      <td>M</td>\n",
       "      <td>сотрудник</td>\n",
       "      <td>0</td>\n",
       "      <td>267628.550329</td>\n",
       "      <td>дополнительное образование</td>\n",
       "    </tr>\n",
       "    <tr>\n",
       "      <th>4</th>\n",
       "      <td>0</td>\n",
       "      <td>340266.072047</td>\n",
       "      <td>53</td>\n",
       "      <td>среднее</td>\n",
       "      <td>1</td>\n",
       "      <td>гражданский брак</td>\n",
       "      <td>1</td>\n",
       "      <td>F</td>\n",
       "      <td>пенсионер</td>\n",
       "      <td>0</td>\n",
       "      <td>158616.077870</td>\n",
       "      <td>сыграть свадьбу</td>\n",
       "    </tr>\n",
       "    <tr>\n",
       "      <th>5</th>\n",
       "      <td>0</td>\n",
       "      <td>-926.185831</td>\n",
       "      <td>27</td>\n",
       "      <td>высшее</td>\n",
       "      <td>0</td>\n",
       "      <td>гражданский брак</td>\n",
       "      <td>1</td>\n",
       "      <td>M</td>\n",
       "      <td>компаньон</td>\n",
       "      <td>0</td>\n",
       "      <td>255763.565419</td>\n",
       "      <td>покупка жилья</td>\n",
       "    </tr>\n",
       "    <tr>\n",
       "      <th>6</th>\n",
       "      <td>0</td>\n",
       "      <td>-2879.202052</td>\n",
       "      <td>43</td>\n",
       "      <td>высшее</td>\n",
       "      <td>0</td>\n",
       "      <td>женат / замужем</td>\n",
       "      <td>0</td>\n",
       "      <td>F</td>\n",
       "      <td>компаньон</td>\n",
       "      <td>0</td>\n",
       "      <td>240525.971920</td>\n",
       "      <td>операции с жильем</td>\n",
       "    </tr>\n",
       "    <tr>\n",
       "      <th>7</th>\n",
       "      <td>0</td>\n",
       "      <td>-152.779569</td>\n",
       "      <td>50</td>\n",
       "      <td>СРЕДНЕЕ</td>\n",
       "      <td>1</td>\n",
       "      <td>женат / замужем</td>\n",
       "      <td>0</td>\n",
       "      <td>M</td>\n",
       "      <td>сотрудник</td>\n",
       "      <td>0</td>\n",
       "      <td>135823.934197</td>\n",
       "      <td>образование</td>\n",
       "    </tr>\n",
       "    <tr>\n",
       "      <th>8</th>\n",
       "      <td>2</td>\n",
       "      <td>-6929.865299</td>\n",
       "      <td>35</td>\n",
       "      <td>ВЫСШЕЕ</td>\n",
       "      <td>0</td>\n",
       "      <td>гражданский брак</td>\n",
       "      <td>1</td>\n",
       "      <td>F</td>\n",
       "      <td>сотрудник</td>\n",
       "      <td>0</td>\n",
       "      <td>95856.832424</td>\n",
       "      <td>на проведение свадьбы</td>\n",
       "    </tr>\n",
       "    <tr>\n",
       "      <th>9</th>\n",
       "      <td>0</td>\n",
       "      <td>-2188.756445</td>\n",
       "      <td>41</td>\n",
       "      <td>среднее</td>\n",
       "      <td>1</td>\n",
       "      <td>женат / замужем</td>\n",
       "      <td>0</td>\n",
       "      <td>M</td>\n",
       "      <td>сотрудник</td>\n",
       "      <td>0</td>\n",
       "      <td>144425.938277</td>\n",
       "      <td>покупка жилья для семьи</td>\n",
       "    </tr>\n",
       "    <tr>\n",
       "      <th>10</th>\n",
       "      <td>2</td>\n",
       "      <td>-4171.483647</td>\n",
       "      <td>36</td>\n",
       "      <td>высшее</td>\n",
       "      <td>0</td>\n",
       "      <td>женат / замужем</td>\n",
       "      <td>0</td>\n",
       "      <td>M</td>\n",
       "      <td>компаньон</td>\n",
       "      <td>0</td>\n",
       "      <td>113943.491460</td>\n",
       "      <td>покупка недвижимости</td>\n",
       "    </tr>\n",
       "    <tr>\n",
       "      <th>11</th>\n",
       "      <td>0</td>\n",
       "      <td>-792.701887</td>\n",
       "      <td>40</td>\n",
       "      <td>среднее</td>\n",
       "      <td>1</td>\n",
       "      <td>женат / замужем</td>\n",
       "      <td>0</td>\n",
       "      <td>F</td>\n",
       "      <td>сотрудник</td>\n",
       "      <td>0</td>\n",
       "      <td>77069.234271</td>\n",
       "      <td>покупка коммерческой недвижимости</td>\n",
       "    </tr>\n",
       "    <tr>\n",
       "      <th>12</th>\n",
       "      <td>0</td>\n",
       "      <td>NaN</td>\n",
       "      <td>65</td>\n",
       "      <td>среднее</td>\n",
       "      <td>1</td>\n",
       "      <td>гражданский брак</td>\n",
       "      <td>1</td>\n",
       "      <td>M</td>\n",
       "      <td>пенсионер</td>\n",
       "      <td>0</td>\n",
       "      <td>NaN</td>\n",
       "      <td>сыграть свадьбу</td>\n",
       "    </tr>\n",
       "    <tr>\n",
       "      <th>13</th>\n",
       "      <td>0</td>\n",
       "      <td>-1846.641941</td>\n",
       "      <td>54</td>\n",
       "      <td>неоконченное высшее</td>\n",
       "      <td>2</td>\n",
       "      <td>женат / замужем</td>\n",
       "      <td>0</td>\n",
       "      <td>F</td>\n",
       "      <td>сотрудник</td>\n",
       "      <td>0</td>\n",
       "      <td>130458.228857</td>\n",
       "      <td>приобретение автомобиля</td>\n",
       "    </tr>\n",
       "    <tr>\n",
       "      <th>14</th>\n",
       "      <td>0</td>\n",
       "      <td>-1844.956182</td>\n",
       "      <td>56</td>\n",
       "      <td>высшее</td>\n",
       "      <td>0</td>\n",
       "      <td>гражданский брак</td>\n",
       "      <td>1</td>\n",
       "      <td>F</td>\n",
       "      <td>компаньон</td>\n",
       "      <td>1</td>\n",
       "      <td>165127.911772</td>\n",
       "      <td>покупка жилой недвижимости</td>\n",
       "    </tr>\n",
       "    <tr>\n",
       "      <th>15</th>\n",
       "      <td>1</td>\n",
       "      <td>-972.364419</td>\n",
       "      <td>26</td>\n",
       "      <td>среднее</td>\n",
       "      <td>1</td>\n",
       "      <td>женат / замужем</td>\n",
       "      <td>0</td>\n",
       "      <td>F</td>\n",
       "      <td>сотрудник</td>\n",
       "      <td>0</td>\n",
       "      <td>116820.904450</td>\n",
       "      <td>строительство собственной недвижимости</td>\n",
       "    </tr>\n",
       "    <tr>\n",
       "      <th>16</th>\n",
       "      <td>0</td>\n",
       "      <td>-1719.934226</td>\n",
       "      <td>35</td>\n",
       "      <td>среднее</td>\n",
       "      <td>1</td>\n",
       "      <td>женат / замужем</td>\n",
       "      <td>0</td>\n",
       "      <td>F</td>\n",
       "      <td>сотрудник</td>\n",
       "      <td>0</td>\n",
       "      <td>289202.704229</td>\n",
       "      <td>недвижимость</td>\n",
       "    </tr>\n",
       "    <tr>\n",
       "      <th>17</th>\n",
       "      <td>0</td>\n",
       "      <td>-2369.999720</td>\n",
       "      <td>33</td>\n",
       "      <td>высшее</td>\n",
       "      <td>0</td>\n",
       "      <td>гражданский брак</td>\n",
       "      <td>1</td>\n",
       "      <td>M</td>\n",
       "      <td>сотрудник</td>\n",
       "      <td>0</td>\n",
       "      <td>90410.586745</td>\n",
       "      <td>строительство недвижимости</td>\n",
       "    </tr>\n",
       "    <tr>\n",
       "      <th>18</th>\n",
       "      <td>0</td>\n",
       "      <td>400281.136913</td>\n",
       "      <td>53</td>\n",
       "      <td>среднее</td>\n",
       "      <td>1</td>\n",
       "      <td>вдовец / вдова</td>\n",
       "      <td>2</td>\n",
       "      <td>F</td>\n",
       "      <td>пенсионер</td>\n",
       "      <td>0</td>\n",
       "      <td>56823.777243</td>\n",
       "      <td>на покупку подержанного автомобиля</td>\n",
       "    </tr>\n",
       "    <tr>\n",
       "      <th>19</th>\n",
       "      <td>0</td>\n",
       "      <td>-10038.818549</td>\n",
       "      <td>48</td>\n",
       "      <td>СРЕДНЕЕ</td>\n",
       "      <td>1</td>\n",
       "      <td>в разводе</td>\n",
       "      <td>3</td>\n",
       "      <td>F</td>\n",
       "      <td>сотрудник</td>\n",
       "      <td>0</td>\n",
       "      <td>242831.107982</td>\n",
       "      <td>на покупку своего автомобиля</td>\n",
       "    </tr>\n",
       "  </tbody>\n",
       "</table>\n",
       "</div>"
      ],
      "text/plain": [
       "    children  days_employed  dob_years            education  education_id  \\\n",
       "0          1   -8437.673028         42               высшее             0   \n",
       "1          1   -4024.803754         36              среднее             1   \n",
       "2          0   -5623.422610         33              Среднее             1   \n",
       "3          3   -4124.747207         32              среднее             1   \n",
       "4          0  340266.072047         53              среднее             1   \n",
       "5          0    -926.185831         27               высшее             0   \n",
       "6          0   -2879.202052         43               высшее             0   \n",
       "7          0    -152.779569         50              СРЕДНЕЕ             1   \n",
       "8          2   -6929.865299         35               ВЫСШЕЕ             0   \n",
       "9          0   -2188.756445         41              среднее             1   \n",
       "10         2   -4171.483647         36               высшее             0   \n",
       "11         0    -792.701887         40              среднее             1   \n",
       "12         0            NaN         65              среднее             1   \n",
       "13         0   -1846.641941         54  неоконченное высшее             2   \n",
       "14         0   -1844.956182         56               высшее             0   \n",
       "15         1    -972.364419         26              среднее             1   \n",
       "16         0   -1719.934226         35              среднее             1   \n",
       "17         0   -2369.999720         33               высшее             0   \n",
       "18         0  400281.136913         53              среднее             1   \n",
       "19         0  -10038.818549         48              СРЕДНЕЕ             1   \n",
       "\n",
       "       family_status  family_status_id gender income_type  debt  \\\n",
       "0    женат / замужем                 0      F   сотрудник     0   \n",
       "1    женат / замужем                 0      F   сотрудник     0   \n",
       "2    женат / замужем                 0      M   сотрудник     0   \n",
       "3    женат / замужем                 0      M   сотрудник     0   \n",
       "4   гражданский брак                 1      F   пенсионер     0   \n",
       "5   гражданский брак                 1      M   компаньон     0   \n",
       "6    женат / замужем                 0      F   компаньон     0   \n",
       "7    женат / замужем                 0      M   сотрудник     0   \n",
       "8   гражданский брак                 1      F   сотрудник     0   \n",
       "9    женат / замужем                 0      M   сотрудник     0   \n",
       "10   женат / замужем                 0      M   компаньон     0   \n",
       "11   женат / замужем                 0      F   сотрудник     0   \n",
       "12  гражданский брак                 1      M   пенсионер     0   \n",
       "13   женат / замужем                 0      F   сотрудник     0   \n",
       "14  гражданский брак                 1      F   компаньон     1   \n",
       "15   женат / замужем                 0      F   сотрудник     0   \n",
       "16   женат / замужем                 0      F   сотрудник     0   \n",
       "17  гражданский брак                 1      M   сотрудник     0   \n",
       "18    вдовец / вдова                 2      F   пенсионер     0   \n",
       "19         в разводе                 3      F   сотрудник     0   \n",
       "\n",
       "     total_income                                 purpose  \n",
       "0   253875.639453                           покупка жилья  \n",
       "1   112080.014102                 приобретение автомобиля  \n",
       "2   145885.952297                           покупка жилья  \n",
       "3   267628.550329              дополнительное образование  \n",
       "4   158616.077870                         сыграть свадьбу  \n",
       "5   255763.565419                           покупка жилья  \n",
       "6   240525.971920                       операции с жильем  \n",
       "7   135823.934197                             образование  \n",
       "8    95856.832424                   на проведение свадьбы  \n",
       "9   144425.938277                 покупка жилья для семьи  \n",
       "10  113943.491460                    покупка недвижимости  \n",
       "11   77069.234271       покупка коммерческой недвижимости  \n",
       "12            NaN                         сыграть свадьбу  \n",
       "13  130458.228857                 приобретение автомобиля  \n",
       "14  165127.911772              покупка жилой недвижимости  \n",
       "15  116820.904450  строительство собственной недвижимости  \n",
       "16  289202.704229                            недвижимость  \n",
       "17   90410.586745              строительство недвижимости  \n",
       "18   56823.777243      на покупку подержанного автомобиля  \n",
       "19  242831.107982            на покупку своего автомобиля  "
      ]
     },
     "execution_count": 47,
     "metadata": {},
     "output_type": "execute_result"
    }
   ],
   "source": [
    "data.head(20)"
   ]
  },
  {
   "attachments": {},
   "cell_type": "markdown",
   "id": "0ed8f27f",
   "metadata": {
    "deletable": false,
    "editable": false,
    "id": "0ed8f27f"
   },
   "source": [
    "**Display basic dataframe information using the `info()` method.**"
   ]
  },
  {
   "cell_type": "code",
   "execution_count": 48,
   "id": "ab3f863b",
   "metadata": {
    "deletable": false,
    "id": "ab3f863b",
    "outputId": "15376089-8dad-46c9-b520-c05248d43158"
   },
   "outputs": [
    {
     "name": "stdout",
     "output_type": "stream",
     "text": [
      "<class 'pandas.core.frame.DataFrame'>\n",
      "RangeIndex: 21525 entries, 0 to 21524\n",
      "Data columns (total 12 columns):\n",
      " #   Column            Non-Null Count  Dtype  \n",
      "---  ------            --------------  -----  \n",
      " 0   children          21525 non-null  int64  \n",
      " 1   days_employed     19351 non-null  float64\n",
      " 2   dob_years         21525 non-null  int64  \n",
      " 3   education         21525 non-null  object \n",
      " 4   education_id      21525 non-null  int64  \n",
      " 5   family_status     21525 non-null  object \n",
      " 6   family_status_id  21525 non-null  int64  \n",
      " 7   gender            21525 non-null  object \n",
      " 8   income_type       21525 non-null  object \n",
      " 9   debt              21525 non-null  int64  \n",
      " 10  total_income      19351 non-null  float64\n",
      " 11  purpose           21525 non-null  object \n",
      "dtypes: float64(2), int64(5), object(5)\n",
      "memory usage: 2.0+ MB\n"
     ]
    }
   ],
   "source": [
    "data.info()"
   ]
  },
  {
   "attachments": {},
   "cell_type": "markdown",
   "id": "60e3e22d",
   "metadata": {
    "deletable": false,
    "editable": false,
    "id": "60e3e22d"
   },
   "source": [
    "## Data preprocessing"
   ]
  },
  {
   "attachments": {},
   "cell_type": "markdown",
   "id": "03dc170c",
   "metadata": {
    "deletable": false,
    "editable": false,
    "id": "03dc170c"
   },
   "source": [
    "### Remove missing values"
   ]
  },
  {
   "attachments": {},
   "cell_type": "markdown",
   "id": "a4f54eef",
   "metadata": {
    "deletable": false,
    "editable": false,
    "id": "a4f54eef"
   },
   "source": [
    "**Print the number of missing values for each column. Use a combination of the two methods.**"
   ]
  },
  {
   "cell_type": "code",
   "execution_count": 49,
   "id": "2dc372b2",
   "metadata": {
    "deletable": false,
    "id": "2dc372b2",
    "outputId": "81f4d817-781c-465c-ed15-91ce4446810d"
   },
   "outputs": [
    {
     "data": {
      "text/plain": [
       "children               0\n",
       "days_employed       2174\n",
       "dob_years              0\n",
       "education              0\n",
       "education_id           0\n",
       "family_status          0\n",
       "family_status_id       0\n",
       "gender                 0\n",
       "income_type            0\n",
       "debt                   0\n",
       "total_income        2174\n",
       "purpose                0\n",
       "dtype: int64"
      ]
     },
     "execution_count": 49,
     "metadata": {},
     "output_type": "execute_result"
    }
   ],
   "source": [
    "data.isna().sum()"
   ]
  },
  {
   "attachments": {},
   "cell_type": "markdown",
   "id": "14f011b1",
   "metadata": {
    "deletable": false,
    "editable": false,
    "id": "14f011b1"
   },
   "source": [
    "**There are missing values in two columns. One of them is `days_employed`. The gaps in this column will be dealt with in the next step. Another column with missing values, `total_income`, stores income data. The amount of income is most affected by the type of employment, so we'll fill in the gaps in this column with the median value for each type from the `income_type` column. For example, for a person with an employment type of `employee`, the gap in the `total_income` column must be filled by the median income among all records with the same type.**"
   ]
  },
  {
   "cell_type": "code",
   "execution_count": 50,
   "id": "bdabfb6e",
   "metadata": {
    "deletable": false,
    "id": "bdabfb6e"
   },
   "outputs": [],
   "source": [
    "for t in data['income_type'].unique():\n",
    "    data.loc[(data['income_type'] == t) & (data['total_income'].isna()), 'total_income'] = \\\n",
    "    data.loc[(data['income_type'] == t), 'total_income'].median()"
   ]
  },
  {
   "attachments": {},
   "cell_type": "markdown",
   "id": "5be34059",
   "metadata": {
    "deletable": false,
    "editable": false,
    "id": "5be34059"
   },
   "source": [
    "### Handling anomalous values"
   ]
  },
  {
   "attachments": {},
   "cell_type": "markdown",
   "id": "a87606cb",
   "metadata": {
    "deletable": false,
    "editable": false,
    "id": "a87606cb"
   },
   "source": [
    "**Artifacts (anomalies) may occur in the data - values that do not reflect reality and appeared due to some kind of error. such an artifact would be the negative number of days of work experience in the `days_employed` column. For real data, this is normal. We'll process the values in this column: replace all negative values with positive ones using the `abs()` method.**"
   ]
  },
  {
   "cell_type": "code",
   "execution_count": 51,
   "id": "020c46cc",
   "metadata": {
    "deletable": false,
    "id": "020c46cc"
   },
   "outputs": [],
   "source": [
    "data['days_employed'] = data['days_employed'].abs()"
   ]
  },
  {
   "attachments": {},
   "cell_type": "markdown",
   "id": "45538a3a",
   "metadata": {
    "deletable": false,
    "editable": false,
    "id": "45538a3a"
   },
   "source": [
    "**For each type of employment, print the median `days_employed` in days.**"
   ]
  },
  {
   "cell_type": "code",
   "execution_count": 52,
   "id": "cd3e6328",
   "metadata": {
    "deletable": false,
    "id": "cd3e6328",
    "outputId": "801ef80e-522b-4668-f34e-565af7432bcf"
   },
   "outputs": [
    {
     "data": {
      "text/plain": [
       "income_type\n",
       "безработный        366413.652744\n",
       "в декрете            3296.759962\n",
       "госслужащий          2689.368353\n",
       "компаньон            1547.382223\n",
       "пенсионер          365213.306266\n",
       "предприниматель       520.848083\n",
       "сотрудник            1574.202821\n",
       "студент               578.751554\n",
       "Name: days_employed, dtype: float64"
      ]
     },
     "execution_count": 52,
     "metadata": {},
     "output_type": "execute_result"
    }
   ],
   "source": [
    "data.groupby('income_type')['days_employed'].agg('median')"
   ]
  },
  {
   "attachments": {},
   "cell_type": "markdown",
   "id": "90c5f058",
   "metadata": {
    "deletable": false,
    "editable": false,
    "id": "90c5f058"
   },
   "source": [
    "Two types (unemployed and pensioners) will get abnormally large values. Correcting such values is difficult, so we'll leave them as they are."
   ]
  },
  {
   "attachments": {},
   "cell_type": "markdown",
   "id": "9652e50d",
   "metadata": {
    "deletable": false,
    "editable": false,
    "id": "9652e50d"
   },
   "source": [
    "**List the unique values of the `children` column.**"
   ]
  },
  {
   "cell_type": "code",
   "execution_count": 53,
   "id": "dbb37b8e",
   "metadata": {
    "deletable": false,
    "id": "dbb37b8e",
    "outputId": "6975b15c-7f95-4697-d16d-a0c79b657b03"
   },
   "outputs": [
    {
     "data": {
      "text/plain": [
       "array([ 1,  0,  3,  2, -1,  4, 20,  5])"
      ]
     },
     "execution_count": 53,
     "metadata": {},
     "output_type": "execute_result"
    }
   ],
   "source": [
    "data['children'].unique()"
   ]
  },
  {
   "attachments": {},
   "cell_type": "markdown",
   "id": "2b8b0715",
   "metadata": {
    "deletable": false,
    "editable": false,
    "id": "2b8b0715"
   },
   "source": [
    "**There are two abnormal values in the `children` column. Remove lines containing such anomalous values from the `data` dataframe.**"
   ]
  },
  {
   "cell_type": "code",
   "execution_count": 54,
   "id": "20009df8",
   "metadata": {
    "deletable": false,
    "id": "20009df8"
   },
   "outputs": [],
   "source": [
    "data = data[(data['children'] != -1) & (data['children'] != 20)]"
   ]
  },
  {
   "attachments": {},
   "cell_type": "markdown",
   "id": "8c6ac9f1",
   "metadata": {
    "deletable": false,
    "editable": false,
    "id": "8c6ac9f1"
   },
   "source": [
    "**List the unique values of the `children` column again to make sure the artifacts have been removed.**"
   ]
  },
  {
   "cell_type": "code",
   "execution_count": 55,
   "id": "07337b81",
   "metadata": {
    "deletable": false,
    "id": "07337b81",
    "outputId": "b2097101-d49d-44d9-901b-32a65c9463d1"
   },
   "outputs": [
    {
     "data": {
      "text/plain": [
       "array([1, 0, 3, 2, 4, 5])"
      ]
     },
     "execution_count": 55,
     "metadata": {},
     "output_type": "execute_result"
    }
   ],
   "source": [
    "data['children'].unique()"
   ]
  },
  {
   "attachments": {},
   "cell_type": "markdown",
   "id": "ee3f52d4",
   "metadata": {
    "deletable": false,
    "editable": false,
    "id": "ee3f52d4"
   },
   "source": [
    "### Removing missing values (continued)"
   ]
  },
  {
   "attachments": {},
   "cell_type": "markdown",
   "id": "a700b0e4",
   "metadata": {
    "deletable": false,
    "editable": false,
    "id": "a700b0e4"
   },
   "source": [
    "**Fill in the gaps in the `days_employed` column with the median values for each `income_type` employment type.**"
   ]
  },
  {
   "cell_type": "code",
   "execution_count": 56,
   "id": "61946b83",
   "metadata": {
    "deletable": false,
    "id": "61946b83"
   },
   "outputs": [],
   "source": [
    "for t in data['income_type'].unique():\n",
    "    data.loc[(data['income_type'] == t) & (data['days_employed'].isna()), 'days_employed'] = \\\n",
    "    data.loc[(data['income_type'] == t), 'days_employed'].median()"
   ]
  },
  {
   "attachments": {},
   "cell_type": "markdown",
   "id": "550dcd9b",
   "metadata": {
    "deletable": false,
    "editable": false,
    "id": "550dcd9b"
   },
   "source": [
    "**Make sure all gaps are filled. Test ourselves and print the number of missing values for each column again using two methods.**"
   ]
  },
  {
   "cell_type": "code",
   "execution_count": 57,
   "id": "937c7014",
   "metadata": {
    "deletable": false,
    "id": "937c7014",
    "outputId": "8da1e4e1-358e-4e87-98c9-f261bce0a7b2"
   },
   "outputs": [
    {
     "data": {
      "text/plain": [
       "children            0\n",
       "days_employed       0\n",
       "dob_years           0\n",
       "education           0\n",
       "education_id        0\n",
       "family_status       0\n",
       "family_status_id    0\n",
       "gender              0\n",
       "income_type         0\n",
       "debt                0\n",
       "total_income        0\n",
       "purpose             0\n",
       "dtype: int64"
      ]
     },
     "execution_count": 57,
     "metadata": {},
     "output_type": "execute_result"
    }
   ],
   "source": [
    "data.isna().sum()"
   ]
  },
  {
   "attachments": {},
   "cell_type": "markdown",
   "id": "d522e295",
   "metadata": {
    "deletable": false,
    "editable": false,
    "id": "d522e295"
   },
   "source": [
    "### Changing data types"
   ]
  },
  {
   "attachments": {},
   "cell_type": "markdown",
   "id": "c229c581",
   "metadata": {
    "deletable": false,
    "editable": false,
    "id": "c229c581"
   },
   "source": [
    "**Replace the data type in the `total_income` column with an integer using the `astype()` method.**"
   ]
  },
  {
   "cell_type": "code",
   "execution_count": 58,
   "id": "31036462",
   "metadata": {
    "deletable": false,
    "id": "31036462"
   },
   "outputs": [],
   "source": [
    "data['total_income'] = data['total_income'].astype(int)"
   ]
  },
  {
   "attachments": {},
   "cell_type": "markdown",
   "id": "b8e3d1d9",
   "metadata": {
    "deletable": false,
    "editable": false,
    "id": "b8e3d1d9"
   },
   "source": [
    "### Handling duplicates"
   ]
  },
  {
   "attachments": {},
   "cell_type": "markdown",
   "id": "9be53c49",
   "metadata": {
    "deletable": false,
    "editable": false,
    "id": "9be53c49"
   },
   "source": [
    "**Handle implicit duplicates in the `education` column. This column has the same values, but written differently: using uppercase and lowercase letters. Convert them to lowercase.**"
   ]
  },
  {
   "cell_type": "code",
   "execution_count": 59,
   "id": "d89e73e1",
   "metadata": {
    "deletable": false,
    "id": "d89e73e1"
   },
   "outputs": [],
   "source": [
    "data['education'] = data['education'].str.lower()"
   ]
  },
  {
   "attachments": {},
   "cell_type": "markdown",
   "id": "01d4500e",
   "metadata": {
    "deletable": false,
    "editable": false,
    "id": "01d4500e"
   },
   "source": [
    "**Display the number of duplicate rows in the data. If such lines are present, remove them.**"
   ]
  },
  {
   "cell_type": "code",
   "execution_count": 60,
   "id": "e10efb23",
   "metadata": {
    "deletable": false,
    "id": "e10efb23",
    "outputId": "9684deba-1934-42d1-99e1-cda61740f822"
   },
   "outputs": [
    {
     "data": {
      "text/plain": [
       "71"
      ]
     },
     "execution_count": 60,
     "metadata": {},
     "output_type": "execute_result"
    }
   ],
   "source": [
    "data.duplicated().sum()"
   ]
  },
  {
   "cell_type": "code",
   "execution_count": 61,
   "id": "df853f20",
   "metadata": {
    "deletable": false,
    "id": "df853f20"
   },
   "outputs": [],
   "source": [
    "data = data.drop_duplicates()"
   ]
  },
  {
   "attachments": {},
   "cell_type": "markdown",
   "id": "627be38f",
   "metadata": {
    "deletable": false,
    "editable": false,
    "id": "627be38f"
   },
   "source": [
    "### Data categorization"
   ]
  },
  {
   "attachments": {},
   "cell_type": "markdown",
   "id": "4684c3e0",
   "metadata": {
    "deletable": false,
    "editable": false,
    "id": "4684c3e0"
   },
   "source": [
    "**Based on the ranges below, create a `total_income_category` column with categories in the `data` dataframe:**\n",
    "\n",
    "- 0–30000 - `'E'`;\n",
    "- 30001–50000 - ``D'`;\n",
    "- 50001–200000 - ``C'`;\n",
    "- 200001–1000000 - ``B'`;\n",
    "- 1000001 and above - `'A'`.\n",
    "\n",
    "\n",
    "**For example, a borrower with an income of 25,000 should be assigned an `'E'` category, and a customer with an income of 235,000 should be assigned a `'B'` category. Use function named `categorize_income()` and method `apply()`.**"
   ]
  },
  {
   "cell_type": "code",
   "execution_count": 62,
   "id": "78965238",
   "metadata": {
    "deletable": false,
    "id": "78965238"
   },
   "outputs": [],
   "source": [
    "def categorize_income(income):\n",
    "    try:\n",
    "        if 0 <= income <= 30000:\n",
    "            return 'E'\n",
    "        elif 30001 <= income <= 50000:\n",
    "            return 'D'\n",
    "        elif 50001 <= income <= 200000:\n",
    "            return 'C'\n",
    "        elif 200001 <= income <= 1000000:\n",
    "            return 'B'\n",
    "        elif income >= 1000001:\n",
    "            return 'A'\n",
    "    except:\n",
    "        pass"
   ]
  },
  {
   "cell_type": "code",
   "execution_count": 63,
   "id": "0980ada1",
   "metadata": {
    "deletable": false,
    "id": "0980ada1"
   },
   "outputs": [],
   "source": [
    "data['total_income_category'] = data['total_income'].apply(categorize_income)"
   ]
  },
  {
   "attachments": {},
   "cell_type": "markdown",
   "id": "9917bba0",
   "metadata": {
    "deletable": false,
    "editable": false,
    "id": "9917bba0"
   },
   "source": [
    "**Display a list of unique loan purposes from the `purpose` column.**"
   ]
  },
  {
   "cell_type": "code",
   "execution_count": 64,
   "id": "ee07b65e",
   "metadata": {
    "deletable": false,
    "id": "ee07b65e",
    "outputId": "673c12d9-7d7e-4ae0-9812-c622c89dd244"
   },
   "outputs": [
    {
     "data": {
      "text/plain": [
       "array(['покупка жилья', 'приобретение автомобиля',\n",
       "       'дополнительное образование', 'сыграть свадьбу',\n",
       "       'операции с жильем', 'образование', 'на проведение свадьбы',\n",
       "       'покупка жилья для семьи', 'покупка недвижимости',\n",
       "       'покупка коммерческой недвижимости', 'покупка жилой недвижимости',\n",
       "       'строительство собственной недвижимости', 'недвижимость',\n",
       "       'строительство недвижимости', 'на покупку подержанного автомобиля',\n",
       "       'на покупку своего автомобиля',\n",
       "       'операции с коммерческой недвижимостью',\n",
       "       'строительство жилой недвижимости', 'жилье',\n",
       "       'операции со своей недвижимостью', 'автомобили',\n",
       "       'заняться образованием', 'сделка с подержанным автомобилем',\n",
       "       'получение образования', 'автомобиль', 'свадьба',\n",
       "       'получение дополнительного образования', 'покупка своего жилья',\n",
       "       'операции с недвижимостью', 'получение высшего образования',\n",
       "       'свой автомобиль', 'сделка с автомобилем',\n",
       "       'профильное образование', 'высшее образование',\n",
       "       'покупка жилья для сдачи', 'на покупку автомобиля', 'ремонт жилью',\n",
       "       'заняться высшим образованием'], dtype=object)"
      ]
     },
     "execution_count": 64,
     "metadata": {},
     "output_type": "execute_result"
    }
   ],
   "source": [
    "data['purpose'].unique()"
   ]
  },
  {
   "attachments": {},
   "cell_type": "markdown",
   "id": "52b79d56",
   "metadata": {
    "deletable": false,
    "editable": false,
    "id": "52b79d56"
   },
   "source": [
    "**Create a function that, based on the data from the `purpose` column, will form a new `purpose_category` column, which will include the following categories:**\n",
    "\n",
    "- ``car operations'`,\n",
    "- ``real estate transactions'`,\n",
    "- ``conducting a wedding'`,\n",
    "- ``getting an education'`.\n",
    "\n",
    "**For example, if the `purpose` column contains the substring `'car purchase'`, then the `purpose_category` column should contain the string `'car operations'`.**\n",
    "\n",
    "**Use your own function named `categorize_purpose()` and method `apply()`. Examine the data in the `purpose` column and determine which substrings will help you correctly identify the category.**"
   ]
  },
  {
   "cell_type": "code",
   "execution_count": 65,
   "id": "be41da5d",
   "metadata": {
    "deletable": false,
    "id": "be41da5d"
   },
   "outputs": [],
   "source": [
    "def categorize_purpose(row):\n",
    "    try:\n",
    "        if 'автом' in row:\n",
    "            return 'операции с автомобилем'\n",
    "        elif 'жил' in row or 'недвиж' in row:\n",
    "            return 'операции с недвижимостью'\n",
    "        elif 'свад' in row:\n",
    "            return 'проведение свадьбы'\n",
    "        elif 'образов' in row:\n",
    "            return 'получение образования'\n",
    "    except:\n",
    "        return 'нет категории'"
   ]
  },
  {
   "cell_type": "code",
   "execution_count": 66,
   "id": "94c4a19a",
   "metadata": {
    "deletable": false,
    "id": "94c4a19a"
   },
   "outputs": [],
   "source": [
    "data['purpose_category'] = data['purpose'].apply(categorize_purpose)"
   ]
  },
  {
   "attachments": {},
   "cell_type": "markdown",
   "id": "3d596c34",
   "metadata": {
    "deletable": false,
    "editable": false,
    "id": "3d596c34"
   },
   "source": [
    "### Step 3: Explore the data and answer the questions"
   ]
  },
  {
   "cell_type": "code",
   "execution_count": 67,
   "id": "6067ed97",
   "metadata": {},
   "outputs": [],
   "source": [
    "# add matplotlib for plots\n",
    "import matplotlib.pyplot as plt\n",
    "plt.style.use('ggplot')\n"
   ]
  },
  {
   "attachments": {},
   "cell_type": "markdown",
   "id": "648db036",
   "metadata": {
    "deletable": false,
    "editable": false,
    "id": "648db036"
   },
   "source": [
    "#### 3.1 Is there a relationship between the number of children and loan repayment on time?"
   ]
  },
  {
   "attachments": {},
   "cell_type": "markdown",
   "id": "d06d4965",
   "metadata": {},
   "source": [
    "##### Review\n",
    "\n",
    "Let's look at the resulting data again to determine which part of the dataset we need for analysis."
   ]
  },
  {
   "cell_type": "code",
   "execution_count": 68,
   "id": "7fcff25e",
   "metadata": {
    "deletable": false,
    "id": "7fcff25e",
    "scrolled": true
   },
   "outputs": [
    {
     "data": {
      "text/html": [
       "<div>\n",
       "<style scoped>\n",
       "    .dataframe tbody tr th:only-of-type {\n",
       "        vertical-align: middle;\n",
       "    }\n",
       "\n",
       "    .dataframe tbody tr th {\n",
       "        vertical-align: top;\n",
       "    }\n",
       "\n",
       "    .dataframe thead th {\n",
       "        text-align: right;\n",
       "    }\n",
       "</style>\n",
       "<table border=\"1\" class=\"dataframe\">\n",
       "  <thead>\n",
       "    <tr style=\"text-align: right;\">\n",
       "      <th></th>\n",
       "      <th>children</th>\n",
       "      <th>days_employed</th>\n",
       "      <th>dob_years</th>\n",
       "      <th>education</th>\n",
       "      <th>education_id</th>\n",
       "      <th>family_status</th>\n",
       "      <th>family_status_id</th>\n",
       "      <th>gender</th>\n",
       "      <th>income_type</th>\n",
       "      <th>debt</th>\n",
       "      <th>total_income</th>\n",
       "      <th>purpose</th>\n",
       "      <th>total_income_category</th>\n",
       "      <th>purpose_category</th>\n",
       "    </tr>\n",
       "  </thead>\n",
       "  <tbody>\n",
       "    <tr>\n",
       "      <th>0</th>\n",
       "      <td>1</td>\n",
       "      <td>8437.673028</td>\n",
       "      <td>42</td>\n",
       "      <td>высшее</td>\n",
       "      <td>0</td>\n",
       "      <td>женат / замужем</td>\n",
       "      <td>0</td>\n",
       "      <td>F</td>\n",
       "      <td>сотрудник</td>\n",
       "      <td>0</td>\n",
       "      <td>253875</td>\n",
       "      <td>покупка жилья</td>\n",
       "      <td>B</td>\n",
       "      <td>операции с недвижимостью</td>\n",
       "    </tr>\n",
       "    <tr>\n",
       "      <th>1</th>\n",
       "      <td>1</td>\n",
       "      <td>4024.803754</td>\n",
       "      <td>36</td>\n",
       "      <td>среднее</td>\n",
       "      <td>1</td>\n",
       "      <td>женат / замужем</td>\n",
       "      <td>0</td>\n",
       "      <td>F</td>\n",
       "      <td>сотрудник</td>\n",
       "      <td>0</td>\n",
       "      <td>112080</td>\n",
       "      <td>приобретение автомобиля</td>\n",
       "      <td>C</td>\n",
       "      <td>операции с автомобилем</td>\n",
       "    </tr>\n",
       "    <tr>\n",
       "      <th>2</th>\n",
       "      <td>0</td>\n",
       "      <td>5623.422610</td>\n",
       "      <td>33</td>\n",
       "      <td>среднее</td>\n",
       "      <td>1</td>\n",
       "      <td>женат / замужем</td>\n",
       "      <td>0</td>\n",
       "      <td>M</td>\n",
       "      <td>сотрудник</td>\n",
       "      <td>0</td>\n",
       "      <td>145885</td>\n",
       "      <td>покупка жилья</td>\n",
       "      <td>C</td>\n",
       "      <td>операции с недвижимостью</td>\n",
       "    </tr>\n",
       "    <tr>\n",
       "      <th>3</th>\n",
       "      <td>3</td>\n",
       "      <td>4124.747207</td>\n",
       "      <td>32</td>\n",
       "      <td>среднее</td>\n",
       "      <td>1</td>\n",
       "      <td>женат / замужем</td>\n",
       "      <td>0</td>\n",
       "      <td>M</td>\n",
       "      <td>сотрудник</td>\n",
       "      <td>0</td>\n",
       "      <td>267628</td>\n",
       "      <td>дополнительное образование</td>\n",
       "      <td>B</td>\n",
       "      <td>получение образования</td>\n",
       "    </tr>\n",
       "    <tr>\n",
       "      <th>4</th>\n",
       "      <td>0</td>\n",
       "      <td>340266.072047</td>\n",
       "      <td>53</td>\n",
       "      <td>среднее</td>\n",
       "      <td>1</td>\n",
       "      <td>гражданский брак</td>\n",
       "      <td>1</td>\n",
       "      <td>F</td>\n",
       "      <td>пенсионер</td>\n",
       "      <td>0</td>\n",
       "      <td>158616</td>\n",
       "      <td>сыграть свадьбу</td>\n",
       "      <td>C</td>\n",
       "      <td>проведение свадьбы</td>\n",
       "    </tr>\n",
       "    <tr>\n",
       "      <th>5</th>\n",
       "      <td>0</td>\n",
       "      <td>926.185831</td>\n",
       "      <td>27</td>\n",
       "      <td>высшее</td>\n",
       "      <td>0</td>\n",
       "      <td>гражданский брак</td>\n",
       "      <td>1</td>\n",
       "      <td>M</td>\n",
       "      <td>компаньон</td>\n",
       "      <td>0</td>\n",
       "      <td>255763</td>\n",
       "      <td>покупка жилья</td>\n",
       "      <td>B</td>\n",
       "      <td>операции с недвижимостью</td>\n",
       "    </tr>\n",
       "    <tr>\n",
       "      <th>6</th>\n",
       "      <td>0</td>\n",
       "      <td>2879.202052</td>\n",
       "      <td>43</td>\n",
       "      <td>высшее</td>\n",
       "      <td>0</td>\n",
       "      <td>женат / замужем</td>\n",
       "      <td>0</td>\n",
       "      <td>F</td>\n",
       "      <td>компаньон</td>\n",
       "      <td>0</td>\n",
       "      <td>240525</td>\n",
       "      <td>операции с жильем</td>\n",
       "      <td>B</td>\n",
       "      <td>операции с недвижимостью</td>\n",
       "    </tr>\n",
       "    <tr>\n",
       "      <th>7</th>\n",
       "      <td>0</td>\n",
       "      <td>152.779569</td>\n",
       "      <td>50</td>\n",
       "      <td>среднее</td>\n",
       "      <td>1</td>\n",
       "      <td>женат / замужем</td>\n",
       "      <td>0</td>\n",
       "      <td>M</td>\n",
       "      <td>сотрудник</td>\n",
       "      <td>0</td>\n",
       "      <td>135823</td>\n",
       "      <td>образование</td>\n",
       "      <td>C</td>\n",
       "      <td>получение образования</td>\n",
       "    </tr>\n",
       "    <tr>\n",
       "      <th>8</th>\n",
       "      <td>2</td>\n",
       "      <td>6929.865299</td>\n",
       "      <td>35</td>\n",
       "      <td>высшее</td>\n",
       "      <td>0</td>\n",
       "      <td>гражданский брак</td>\n",
       "      <td>1</td>\n",
       "      <td>F</td>\n",
       "      <td>сотрудник</td>\n",
       "      <td>0</td>\n",
       "      <td>95856</td>\n",
       "      <td>на проведение свадьбы</td>\n",
       "      <td>C</td>\n",
       "      <td>проведение свадьбы</td>\n",
       "    </tr>\n",
       "    <tr>\n",
       "      <th>9</th>\n",
       "      <td>0</td>\n",
       "      <td>2188.756445</td>\n",
       "      <td>41</td>\n",
       "      <td>среднее</td>\n",
       "      <td>1</td>\n",
       "      <td>женат / замужем</td>\n",
       "      <td>0</td>\n",
       "      <td>M</td>\n",
       "      <td>сотрудник</td>\n",
       "      <td>0</td>\n",
       "      <td>144425</td>\n",
       "      <td>покупка жилья для семьи</td>\n",
       "      <td>C</td>\n",
       "      <td>операции с недвижимостью</td>\n",
       "    </tr>\n",
       "  </tbody>\n",
       "</table>\n",
       "</div>"
      ],
      "text/plain": [
       "   children  days_employed  dob_years education  education_id  \\\n",
       "0         1    8437.673028         42    высшее             0   \n",
       "1         1    4024.803754         36   среднее             1   \n",
       "2         0    5623.422610         33   среднее             1   \n",
       "3         3    4124.747207         32   среднее             1   \n",
       "4         0  340266.072047         53   среднее             1   \n",
       "5         0     926.185831         27    высшее             0   \n",
       "6         0    2879.202052         43    высшее             0   \n",
       "7         0     152.779569         50   среднее             1   \n",
       "8         2    6929.865299         35    высшее             0   \n",
       "9         0    2188.756445         41   среднее             1   \n",
       "\n",
       "      family_status  family_status_id gender income_type  debt  total_income  \\\n",
       "0   женат / замужем                 0      F   сотрудник     0        253875   \n",
       "1   женат / замужем                 0      F   сотрудник     0        112080   \n",
       "2   женат / замужем                 0      M   сотрудник     0        145885   \n",
       "3   женат / замужем                 0      M   сотрудник     0        267628   \n",
       "4  гражданский брак                 1      F   пенсионер     0        158616   \n",
       "5  гражданский брак                 1      M   компаньон     0        255763   \n",
       "6   женат / замужем                 0      F   компаньон     0        240525   \n",
       "7   женат / замужем                 0      M   сотрудник     0        135823   \n",
       "8  гражданский брак                 1      F   сотрудник     0         95856   \n",
       "9   женат / замужем                 0      M   сотрудник     0        144425   \n",
       "\n",
       "                      purpose total_income_category          purpose_category  \n",
       "0               покупка жилья                     B  операции с недвижимостью  \n",
       "1     приобретение автомобиля                     C    операции с автомобилем  \n",
       "2               покупка жилья                     C  операции с недвижимостью  \n",
       "3  дополнительное образование                     B     получение образования  \n",
       "4             сыграть свадьбу                     C        проведение свадьбы  \n",
       "5               покупка жилья                     B  операции с недвижимостью  \n",
       "6           операции с жильем                     B  операции с недвижимостью  \n",
       "7                 образование                     C     получение образования  \n",
       "8       на проведение свадьбы                     C        проведение свадьбы  \n",
       "9     покупка жилья для семьи                     C  операции с недвижимостью  "
      ]
     },
     "execution_count": 68,
     "metadata": {},
     "output_type": "execute_result"
    }
   ],
   "source": [
    "# print the first 10 rows of the dataset\n",
    "data.head(10)"
   ]
  },
  {
   "attachments": {},
   "cell_type": "markdown",
   "id": "448fe937",
   "metadata": {},
   "source": [
    "The data we need for analysis:\n",
    "- `children` - the number of children in the family\n",
    "- `debt` — whether he had a debt to repay loans\n",
    "\n",
    "Earlier we saw that unique `children` values from 0 to 5 were left in the data. Let's leave them as categories without additional dilution.\n",
    "We need to see what % of debtors in each category by the number of children.\n",
    "\n",
    "Let's group by `children` - this way we will see debtors and non-debtors and we will be able to calculate the column with shares."
   ]
  },
  {
   "cell_type": "code",
   "execution_count": 69,
   "id": "5feeb8d9",
   "metadata": {
    "scrolled": true
   },
   "outputs": [
    {
     "data": {
      "text/html": [
       "<div>\n",
       "<style scoped>\n",
       "    .dataframe tbody tr th:only-of-type {\n",
       "        vertical-align: middle;\n",
       "    }\n",
       "\n",
       "    .dataframe tbody tr th {\n",
       "        vertical-align: top;\n",
       "    }\n",
       "\n",
       "    .dataframe thead tr th {\n",
       "        text-align: left;\n",
       "    }\n",
       "\n",
       "    .dataframe thead tr:last-of-type th {\n",
       "        text-align: right;\n",
       "    }\n",
       "</style>\n",
       "<table border=\"1\" class=\"dataframe\">\n",
       "  <thead>\n",
       "    <tr>\n",
       "      <th></th>\n",
       "      <th colspan=\"2\" halign=\"left\">debt</th>\n",
       "      <th>debt_pct</th>\n",
       "    </tr>\n",
       "    <tr>\n",
       "      <th></th>\n",
       "      <th>all_clients</th>\n",
       "      <th>debt_clients</th>\n",
       "      <th></th>\n",
       "    </tr>\n",
       "    <tr>\n",
       "      <th>children</th>\n",
       "      <th></th>\n",
       "      <th></th>\n",
       "      <th></th>\n",
       "    </tr>\n",
       "  </thead>\n",
       "  <tbody>\n",
       "    <tr>\n",
       "      <th>4</th>\n",
       "      <td>41</td>\n",
       "      <td>4</td>\n",
       "      <td>0.097561</td>\n",
       "    </tr>\n",
       "    <tr>\n",
       "      <th>2</th>\n",
       "      <td>2052</td>\n",
       "      <td>194</td>\n",
       "      <td>0.094542</td>\n",
       "    </tr>\n",
       "    <tr>\n",
       "      <th>1</th>\n",
       "      <td>4808</td>\n",
       "      <td>444</td>\n",
       "      <td>0.092346</td>\n",
       "    </tr>\n",
       "    <tr>\n",
       "      <th>3</th>\n",
       "      <td>330</td>\n",
       "      <td>27</td>\n",
       "      <td>0.081818</td>\n",
       "    </tr>\n",
       "    <tr>\n",
       "      <th>0</th>\n",
       "      <td>14091</td>\n",
       "      <td>1063</td>\n",
       "      <td>0.075438</td>\n",
       "    </tr>\n",
       "    <tr>\n",
       "      <th>5</th>\n",
       "      <td>9</td>\n",
       "      <td>0</td>\n",
       "      <td>0.000000</td>\n",
       "    </tr>\n",
       "  </tbody>\n",
       "</table>\n",
       "</div>"
      ],
      "text/plain": [
       "                debt               debt_pct\n",
       "         all_clients debt_clients          \n",
       "children                                   \n",
       "4                 41            4  0.097561\n",
       "2               2052          194  0.094542\n",
       "1               4808          444  0.092346\n",
       "3                330           27  0.081818\n",
       "0              14091         1063  0.075438\n",
       "5                  9            0  0.000000"
      ]
     },
     "execution_count": 69,
     "metadata": {},
     "output_type": "execute_result"
    }
   ],
   "source": [
    "# Summary table for debtors\n",
    "data_grouped = data.groupby(['children']).agg({'debt':['count', 'sum',]})\n",
    "# The `groupby()` and `agg()`` methods are useful when you need to apply a function to a column with grouped data\n",
    "# or create a new column based on it\n",
    "# Add a column with the share of debtors\n",
    "data_grouped['debt_pct'] = data_grouped['debt']['sum'] / data_grouped['debt']['count']\n",
    "# Rename aggregated columns for better readability\n",
    "data_grouped = data_grouped.rename(columns={'count' : 'all_clients', 'sum':'debt_clients'})\n",
    "# Sort the data by the probability of debt occurrence\n",
    "data_grouped.sort_values(by='debt_pct', ascending=False)"
   ]
  },
  {
   "cell_type": "code",
   "execution_count": 70,
   "id": "694d5a54",
   "metadata": {
    "scrolled": true
   },
   "outputs": [
    {
     "data": {
      "image/png": "[encoded data removed]",
      "text/plain": [
       "<Figure size 640x480 with 2 Axes>"
      ]
     },
     "metadata": {},
     "output_type": "display_data"
    }
   ],
   "source": [
    "# build a graph\n",
    "ax = data_grouped['debt'].plot(kind='bar')\n",
    "plt.ylabel(\"Number of clients\")\n",
    "\n",
    "# numeric values for columns\n",
    "for bar in ax.patches:\n",
    "    height = round(bar.get_height())\n",
    "    width = bar.get_width()\n",
    "    x = bar.get_x()\n",
    "    y = bar.get_y()\n",
    "    label_text = height\n",
    "    label_x = x + width / 2\n",
    "    label_y = y + height / 2\n",
    "    ax.text(label_x, label_y, label_text, ha='center',    \n",
    "            va='center')\n",
    "\n",
    "# add information about the probability of debt occurrence\n",
    "data_grouped['debt_pct'].plot(secondary_y=True)\n",
    "\n",
    "plt.ylabel(\"Percentage\")\n",
    "\n",
    "plt.show()"
   ]
  },
  {
   "attachments": {},
   "cell_type": "markdown",
   "id": "c445a9cb",
   "metadata": {},
   "source": [
    "According to the graph, it seems that in quantitative terms the cohort of debtors \"without children\" is the most numerous, and in general, the more children, the less debtors. However, the probability of an increase in the number of debtors with an increase in the number of clients in a cohort is on average higher than in the current largest one. The exception is 5 children in the family, but there are only 9 clients, there is a possibility that the 10th one will become a debtor and the % will rise to the expected values."
   ]
  },
  {
   "cell_type": "code",
   "execution_count": 71,
   "id": "6f7029f4",
   "metadata": {
    "scrolled": true
   },
   "outputs": [
    {
     "data": {
      "text/html": [
       "<div>\n",
       "<style scoped>\n",
       "    .dataframe tbody tr th:only-of-type {\n",
       "        vertical-align: middle;\n",
       "    }\n",
       "\n",
       "    .dataframe tbody tr th {\n",
       "        vertical-align: top;\n",
       "    }\n",
       "\n",
       "    .dataframe thead tr th {\n",
       "        text-align: left;\n",
       "    }\n",
       "\n",
       "    .dataframe thead tr:last-of-type th {\n",
       "        text-align: right;\n",
       "    }\n",
       "</style>\n",
       "<table border=\"1\" class=\"dataframe\">\n",
       "  <thead>\n",
       "    <tr>\n",
       "      <th></th>\n",
       "      <th colspan=\"2\" halign=\"left\">debt</th>\n",
       "      <th>debt_pct</th>\n",
       "    </tr>\n",
       "    <tr>\n",
       "      <th></th>\n",
       "      <th>all_clients</th>\n",
       "      <th>debt_clients</th>\n",
       "      <th></th>\n",
       "    </tr>\n",
       "    <tr>\n",
       "      <th>children</th>\n",
       "      <th></th>\n",
       "      <th></th>\n",
       "      <th></th>\n",
       "    </tr>\n",
       "  </thead>\n",
       "  <tbody>\n",
       "    <tr>\n",
       "      <th>0</th>\n",
       "      <td>14091</td>\n",
       "      <td>1063</td>\n",
       "      <td>0.075438</td>\n",
       "    </tr>\n",
       "    <tr>\n",
       "      <th>1</th>\n",
       "      <td>4808</td>\n",
       "      <td>444</td>\n",
       "      <td>0.092346</td>\n",
       "    </tr>\n",
       "    <tr>\n",
       "      <th>2</th>\n",
       "      <td>2052</td>\n",
       "      <td>194</td>\n",
       "      <td>0.094542</td>\n",
       "    </tr>\n",
       "    <tr>\n",
       "      <th>3</th>\n",
       "      <td>330</td>\n",
       "      <td>27</td>\n",
       "      <td>0.081818</td>\n",
       "    </tr>\n",
       "    <tr>\n",
       "      <th>4</th>\n",
       "      <td>41</td>\n",
       "      <td>4</td>\n",
       "      <td>0.097561</td>\n",
       "    </tr>\n",
       "    <tr>\n",
       "      <th>5</th>\n",
       "      <td>9</td>\n",
       "      <td>0</td>\n",
       "      <td>0.000000</td>\n",
       "    </tr>\n",
       "  </tbody>\n",
       "</table>\n",
       "</div>"
      ],
      "text/plain": [
       "                debt               debt_pct\n",
       "         all_clients debt_clients          \n",
       "children                                   \n",
       "0              14091         1063  0.075438\n",
       "1               4808          444  0.092346\n",
       "2               2052          194  0.094542\n",
       "3                330           27  0.081818\n",
       "4                 41            4  0.097561\n",
       "5                  9            0  0.000000"
      ]
     },
     "execution_count": 71,
     "metadata": {},
     "output_type": "execute_result"
    }
   ],
   "source": [
    "# sort by number of debtors\n",
    "data_grouped.sort_values(by=('debt','debt_clients'), ascending=False)"
   ]
  },
  {
   "attachments": {},
   "cell_type": "markdown",
   "id": "b32b5a3c",
   "metadata": {},
   "source": [
    "In isolation from other parameters, **number** of children is not indicative of the likelihood of debt. Families with 1, 2 and 4 children have approximately the same share of debt (9-10%). At the same time, families with 5 children have not yet appeared as debtors at all.\n",
    "\n",
    "- It can be taken into account that families without children are the most numerous and have a smaller share of debts.\n",
    "- Families with 5 children are very poorly represented in the sample\n",
    "\n",
    "Let's try to make the same table by changing the categories to \"with children\" and \"without children\""
   ]
  },
  {
   "cell_type": "code",
   "execution_count": 72,
   "id": "f9e94744",
   "metadata": {},
   "outputs": [
    {
     "data": {
      "text/html": [
       "<div>\n",
       "<style scoped>\n",
       "    .dataframe tbody tr th:only-of-type {\n",
       "        vertical-align: middle;\n",
       "    }\n",
       "\n",
       "    .dataframe tbody tr th {\n",
       "        vertical-align: top;\n",
       "    }\n",
       "\n",
       "    .dataframe thead tr th {\n",
       "        text-align: left;\n",
       "    }\n",
       "\n",
       "    .dataframe thead tr:last-of-type th {\n",
       "        text-align: right;\n",
       "    }\n",
       "</style>\n",
       "<table border=\"1\" class=\"dataframe\">\n",
       "  <thead>\n",
       "    <tr>\n",
       "      <th></th>\n",
       "      <th colspan=\"2\" halign=\"left\">debt</th>\n",
       "      <th>debt_pct</th>\n",
       "    </tr>\n",
       "    <tr>\n",
       "      <th></th>\n",
       "      <th>all_clients</th>\n",
       "      <th>debt_clients</th>\n",
       "      <th></th>\n",
       "    </tr>\n",
       "    <tr>\n",
       "      <th>children_category</th>\n",
       "      <th></th>\n",
       "      <th></th>\n",
       "      <th></th>\n",
       "    </tr>\n",
       "  </thead>\n",
       "  <tbody>\n",
       "    <tr>\n",
       "      <th>have_kids</th>\n",
       "      <td>7240</td>\n",
       "      <td>669</td>\n",
       "      <td>0.092403</td>\n",
       "    </tr>\n",
       "    <tr>\n",
       "      <th>no_kids</th>\n",
       "      <td>14091</td>\n",
       "      <td>1063</td>\n",
       "      <td>0.075438</td>\n",
       "    </tr>\n",
       "  </tbody>\n",
       "</table>\n",
       "</div>"
      ],
      "text/plain": [
       "                         debt               debt_pct\n",
       "                  all_clients debt_clients          \n",
       "children_category                                   \n",
       "have_kids                7240          669  0.092403\n",
       "no_kids                 14091         1063  0.075438"
      ]
     },
     "execution_count": 72,
     "metadata": {},
     "output_type": "execute_result"
    }
   ],
   "source": [
    "def categorize_children(children):\n",
    "    \"\"\"\n",
    "    Returns a group by the value of the number of children in the family, using the rules:\n",
    "    - 'no_kids', if no children (0);\n",
    "    - 'have_kids', if children > 0 \n",
    "    \"\"\"\n",
    "\n",
    "    try:\n",
    "        if children == 0:\n",
    "            return 'no_kids'\n",
    "        elif children > 0:\n",
    "            return 'have_kids'\n",
    "    except:\n",
    "        pass\n",
    "\n",
    "# create a new dataframe with selected columns\n",
    "data_children = data.loc[:,['children', 'debt']]\n",
    "# get the categories in the new column using the categorize_children function\n",
    "data_children['children_category'] = data_children['children'].apply(categorize_children)\n",
    "data_children_drouped = data_children.groupby(['children_category']).agg({'debt':['count', 'sum',]})\n",
    "# The `groupby()` and `agg()`` methods are useful when you need to apply a function to a column with grouped data or create a new column based on it\n",
    "# Add a column with the share of debtors\n",
    "data_children_drouped['debt_pct'] = data_children_drouped['debt']['sum'] / data_children_drouped['debt']['count']\n",
    "# Rename aggregated columns for better readability\n",
    "data_children_drouped = data_children_drouped.rename(columns={'count' : 'all_clients', 'sum':'debt_clients'})\n",
    "data_children_drouped.sort_values(by='debt_pct', ascending=False)"
   ]
  },
  {
   "attachments": {},
   "cell_type": "markdown",
   "id": "2eb9088e",
   "metadata": {
    "deletable": false,
    "id": "2eb9088e"
   },
   "source": [
    "**Conclusion:**\n",
    "\n",
    "The relationship between the **number** of children and the repayment of the loan on time does not have a pronounced character and pattern. It can be seen that the *number* of debtors follows the size of the cohorts, and they, in turn, correlate with the number of children in the family (the more children in the family, the fewer such families in the dataset)\n",
    "\n",
    "In this part, you can divide clients into 2 categories - **\"with children\"** and **\"without children\"**. Then it can be argued that families with children (regardless of the number) are at risk of incurring debt more often. (0.5%-2%)\n",
    "\n",
    "That is, it is now clear from the data that the growth of cohorts with children, with the exception of families with 5 children, is *more likely* to increase the number of debtors. But in quantitative terms, at the moment, the largest number of debtors is in the category of families without children."
   ]
  },
  {
   "attachments": {},
   "cell_type": "markdown",
   "id": "74c9b3a7",
   "metadata": {
    "deletable": false,
    "editable": false,
    "id": "74c9b3a7"
   },
   "source": [
    "#### 3.2 Is there a relationship between marital status and loan repayment on time?"
   ]
  },
  {
   "attachments": {},
   "cell_type": "markdown",
   "id": "c99eaf15",
   "metadata": {},
   "source": [
    "##### Review\n",
    "\n",
    "- The same `debt` is responsible for returning the loan on time.\n",
    "- `family_status` and `family_status_id` columns are responsible for marital status\n",
    "\n",
    "Let's see what values are there and how they can be used."
   ]
  },
  {
   "cell_type": "code",
   "execution_count": 73,
   "id": "8098ab3b",
   "metadata": {
    "deletable": false,
    "id": "8098ab3b",
    "scrolled": true
   },
   "outputs": [
    {
     "data": {
      "text/plain": [
       "array(['женат / замужем', 'гражданский брак', 'вдовец / вдова',\n",
       "       'в разводе', 'Не женат / не замужем'], dtype=object)"
      ]
     },
     "execution_count": 73,
     "metadata": {},
     "output_type": "execute_result"
    }
   ],
   "source": [
    "# unique family_status values\n",
    "data['family_status'].unique()"
   ]
  },
  {
   "cell_type": "code",
   "execution_count": 74,
   "id": "51697b12",
   "metadata": {
    "scrolled": true
   },
   "outputs": [
    {
     "data": {
      "text/plain": [
       "array([0, 1, 2, 3, 4])"
      ]
     },
     "execution_count": 74,
     "metadata": {},
     "output_type": "execute_result"
    }
   ],
   "source": [
    "# unique family_status_id values\n",
    "data['family_status_id'].unique()"
   ]
  },
  {
   "attachments": {},
   "cell_type": "markdown",
   "id": "41d012ed",
   "metadata": {},
   "source": [
    "We use marital status as categories and look at the shares of debtors depending on marital status"
   ]
  },
  {
   "cell_type": "code",
   "execution_count": 75,
   "id": "1d36014a",
   "metadata": {},
   "outputs": [
    {
     "data": {
      "text/html": [
       "<div>\n",
       "<style scoped>\n",
       "    .dataframe tbody tr th:only-of-type {\n",
       "        vertical-align: middle;\n",
       "    }\n",
       "\n",
       "    .dataframe tbody tr th {\n",
       "        vertical-align: top;\n",
       "    }\n",
       "\n",
       "    .dataframe thead tr th {\n",
       "        text-align: left;\n",
       "    }\n",
       "\n",
       "    .dataframe thead tr:last-of-type th {\n",
       "        text-align: right;\n",
       "    }\n",
       "</style>\n",
       "<table border=\"1\" class=\"dataframe\">\n",
       "  <thead>\n",
       "    <tr>\n",
       "      <th></th>\n",
       "      <th colspan=\"2\" halign=\"left\">debt</th>\n",
       "      <th>debt_pct</th>\n",
       "    </tr>\n",
       "    <tr>\n",
       "      <th></th>\n",
       "      <th>all_clients</th>\n",
       "      <th>debt_clients</th>\n",
       "      <th></th>\n",
       "    </tr>\n",
       "    <tr>\n",
       "      <th>family_status</th>\n",
       "      <th></th>\n",
       "      <th></th>\n",
       "      <th></th>\n",
       "    </tr>\n",
       "  </thead>\n",
       "  <tbody>\n",
       "    <tr>\n",
       "      <th>Не женат / не замужем</th>\n",
       "      <td>2796</td>\n",
       "      <td>273</td>\n",
       "      <td>0.097639</td>\n",
       "    </tr>\n",
       "    <tr>\n",
       "      <th>гражданский брак</th>\n",
       "      <td>4134</td>\n",
       "      <td>385</td>\n",
       "      <td>0.093130</td>\n",
       "    </tr>\n",
       "    <tr>\n",
       "      <th>женат / замужем</th>\n",
       "      <td>12261</td>\n",
       "      <td>927</td>\n",
       "      <td>0.075606</td>\n",
       "    </tr>\n",
       "    <tr>\n",
       "      <th>в разводе</th>\n",
       "      <td>1189</td>\n",
       "      <td>84</td>\n",
       "      <td>0.070648</td>\n",
       "    </tr>\n",
       "    <tr>\n",
       "      <th>вдовец / вдова</th>\n",
       "      <td>951</td>\n",
       "      <td>63</td>\n",
       "      <td>0.066246</td>\n",
       "    </tr>\n",
       "  </tbody>\n",
       "</table>\n",
       "</div>"
      ],
      "text/plain": [
       "                             debt               debt_pct\n",
       "                      all_clients debt_clients          \n",
       "family_status                                           \n",
       "Не женат / не замужем        2796          273  0.097639\n",
       "гражданский брак             4134          385  0.093130\n",
       "женат / замужем             12261          927  0.075606\n",
       "в разводе                    1189           84  0.070648\n",
       "вдовец / вдова                951           63  0.066246"
      ]
     },
     "execution_count": 75,
     "metadata": {},
     "output_type": "execute_result"
    }
   ],
   "source": [
    "# Summary table for debtors\n",
    "data_grouped_family = data.groupby(['family_status']).agg({'debt':['count', 'sum',]})\n",
    "# Add a column with the share of debtors\n",
    "data_grouped_family['debt_pct'] = data_grouped_family['debt']['sum'] / data_grouped_family['debt']['count']\n",
    "# Rename aggregated columns for better readability\n",
    "data_grouped_family = data_grouped_family.rename(columns={'count' : 'all_clients', 'sum':'debt_clients'})\n",
    "data_grouped_family.sort_values(by='debt_pct', ascending=False)"
   ]
  },
  {
   "attachments": {},
   "cell_type": "markdown",
   "id": "fc96f1f1",
   "metadata": {},
   "source": [
    "The spread is quite significant. What can be seen:\n",
    "- Singles (single / unmarried) are more likely to become debtors\n",
    "- However, those who are single in a situation after a divorce or loss of a spouse - on the contrary, become debtors much less often\n",
    "- The largest cohort is married. They show the same % as the \"no children\" cohort from the previous analysis\n",
    "- There is a noticeable difference between a civil marriage and an official one. Civil marriage by % of debtors is closer to the \"single/single\" cohort"
   ]
  },
  {
   "cell_type": "code",
   "execution_count": 76,
   "id": "0ebff7b0",
   "metadata": {
    "scrolled": true
   },
   "outputs": [
    {
     "data": {
      "image/png": "[encoded data removed]",
      "text/plain": [
       "<Figure size 1500x700 with 2 Axes>"
      ]
     },
     "metadata": {},
     "output_type": "display_data"
    }
   ],
   "source": [
    "# build a graph\n",
    "ax = data_grouped_family.plot(kind='bar', y='debt', figsize=(15, 7))\n",
    "plt.ylabel(\"Number of clients\")\n",
    "\n",
    "for bar in ax.patches:\n",
    "    height = round(bar.get_height())\n",
    "    width = bar.get_width()\n",
    "    x = bar.get_x()\n",
    "    y = bar.get_y()\n",
    "    label_text = height\n",
    "    label_x = x + width / 2\n",
    "    label_y = y + height / 2\n",
    "    ax.text(label_x, label_y, label_text, ha='center',    \n",
    "            va='center')\n",
    "\n",
    "# add information about the probability of debt occurrence\n",
    "data_grouped_family['debt_pct'].plot(secondary_y=True, color='#444444')\n",
    "\n",
    "plt.title('Clients and debt by family status')\n",
    "plt.ylabel(\"Percentage\")\n",
    "\n",
    "plt.show()"
   ]
  },
  {
   "cell_type": "code",
   "execution_count": 77,
   "id": "a7a195e7",
   "metadata": {},
   "outputs": [
    {
     "data": {
      "text/html": [
       "<div>\n",
       "<style scoped>\n",
       "    .dataframe tbody tr th:only-of-type {\n",
       "        vertical-align: middle;\n",
       "    }\n",
       "\n",
       "    .dataframe tbody tr th {\n",
       "        vertical-align: top;\n",
       "    }\n",
       "\n",
       "    .dataframe thead th {\n",
       "        text-align: right;\n",
       "    }\n",
       "</style>\n",
       "<table border=\"1\" class=\"dataframe\">\n",
       "  <thead>\n",
       "    <tr style=\"text-align: right;\">\n",
       "      <th>children</th>\n",
       "      <th>0</th>\n",
       "      <th>1</th>\n",
       "      <th>2</th>\n",
       "      <th>3</th>\n",
       "      <th>4</th>\n",
       "      <th>5</th>\n",
       "    </tr>\n",
       "    <tr>\n",
       "      <th>family_status</th>\n",
       "      <th></th>\n",
       "      <th></th>\n",
       "      <th></th>\n",
       "      <th></th>\n",
       "      <th></th>\n",
       "      <th></th>\n",
       "    </tr>\n",
       "  </thead>\n",
       "  <tbody>\n",
       "    <tr>\n",
       "      <th>Не женат / не замужем</th>\n",
       "      <td>210.0</td>\n",
       "      <td>52.0</td>\n",
       "      <td>9.0</td>\n",
       "      <td>1.0</td>\n",
       "      <td>1.0</td>\n",
       "      <td>NaN</td>\n",
       "    </tr>\n",
       "    <tr>\n",
       "      <th>в разводе</th>\n",
       "      <td>55.0</td>\n",
       "      <td>21.0</td>\n",
       "      <td>7.0</td>\n",
       "      <td>1.0</td>\n",
       "      <td>0.0</td>\n",
       "      <td>NaN</td>\n",
       "    </tr>\n",
       "    <tr>\n",
       "      <th>вдовец / вдова</th>\n",
       "      <td>53.0</td>\n",
       "      <td>7.0</td>\n",
       "      <td>3.0</td>\n",
       "      <td>0.0</td>\n",
       "      <td>0.0</td>\n",
       "      <td>NaN</td>\n",
       "    </tr>\n",
       "    <tr>\n",
       "      <th>гражданский брак</th>\n",
       "      <td>229.0</td>\n",
       "      <td>118.0</td>\n",
       "      <td>30.0</td>\n",
       "      <td>8.0</td>\n",
       "      <td>0.0</td>\n",
       "      <td>0.0</td>\n",
       "    </tr>\n",
       "    <tr>\n",
       "      <th>женат / замужем</th>\n",
       "      <td>516.0</td>\n",
       "      <td>246.0</td>\n",
       "      <td>145.0</td>\n",
       "      <td>17.0</td>\n",
       "      <td>3.0</td>\n",
       "      <td>0.0</td>\n",
       "    </tr>\n",
       "  </tbody>\n",
       "</table>\n",
       "</div>"
      ],
      "text/plain": [
       "children                   0      1      2     3    4    5\n",
       "family_status                                             \n",
       "Не женат / не замужем  210.0   52.0    9.0   1.0  1.0  NaN\n",
       "в разводе               55.0   21.0    7.0   1.0  0.0  NaN\n",
       "вдовец / вдова          53.0    7.0    3.0   0.0  0.0  NaN\n",
       "гражданский брак       229.0  118.0   30.0   8.0  0.0  0.0\n",
       "женат / замужем        516.0  246.0  145.0  17.0  3.0  0.0"
      ]
     },
     "execution_count": 77,
     "metadata": {},
     "output_type": "execute_result"
    }
   ],
   "source": [
    "# create a pivot table\n",
    "pivot_table = data.pivot_table(index='family_status', columns='children', values='debt', aggfunc='sum')\n",
    "pivot_table"
   ]
  },
  {
   "attachments": {},
   "cell_type": "markdown",
   "id": "1c4f63ec",
   "metadata": {},
   "source": [
    "- the presence of children in the status of \"widower / widow\" has a significantly smaller impact than in other groups (compared to a similar number of \"divorced\", for example)\n",
    "- \"civil marriage\" is strongly influenced by the presence of children (stronger than for a group of similar numbers \"single / not married\")\n",
    "- An interesting category \"Single / not married\" (not divorced, not in a civil marriage), but with children."
   ]
  },
  {
   "cell_type": "code",
   "execution_count": 78,
   "id": "77094fa3",
   "metadata": {},
   "outputs": [
    {
     "data": {
      "text/html": [
       "<div>\n",
       "<style scoped>\n",
       "    .dataframe tbody tr th:only-of-type {\n",
       "        vertical-align: middle;\n",
       "    }\n",
       "\n",
       "    .dataframe tbody tr th {\n",
       "        vertical-align: top;\n",
       "    }\n",
       "\n",
       "    .dataframe thead tr th {\n",
       "        text-align: left;\n",
       "    }\n",
       "\n",
       "    .dataframe thead tr:last-of-type th {\n",
       "        text-align: right;\n",
       "    }\n",
       "</style>\n",
       "<table border=\"1\" class=\"dataframe\">\n",
       "  <thead>\n",
       "    <tr>\n",
       "      <th></th>\n",
       "      <th colspan=\"2\" halign=\"left\">debt</th>\n",
       "      <th>debt_pct</th>\n",
       "    </tr>\n",
       "    <tr>\n",
       "      <th></th>\n",
       "      <th>all_clients</th>\n",
       "      <th>debt_clients</th>\n",
       "      <th></th>\n",
       "    </tr>\n",
       "    <tr>\n",
       "      <th>children</th>\n",
       "      <th></th>\n",
       "      <th></th>\n",
       "      <th></th>\n",
       "    </tr>\n",
       "  </thead>\n",
       "  <tbody>\n",
       "    <tr>\n",
       "      <th>4</th>\n",
       "      <td>2</td>\n",
       "      <td>1</td>\n",
       "      <td>0.500000</td>\n",
       "    </tr>\n",
       "    <tr>\n",
       "      <th>3</th>\n",
       "      <td>8</td>\n",
       "      <td>1</td>\n",
       "      <td>0.125000</td>\n",
       "    </tr>\n",
       "    <tr>\n",
       "      <th>2</th>\n",
       "      <td>75</td>\n",
       "      <td>9</td>\n",
       "      <td>0.120000</td>\n",
       "    </tr>\n",
       "    <tr>\n",
       "      <th>1</th>\n",
       "      <td>449</td>\n",
       "      <td>52</td>\n",
       "      <td>0.115813</td>\n",
       "    </tr>\n",
       "    <tr>\n",
       "      <th>0</th>\n",
       "      <td>2262</td>\n",
       "      <td>210</td>\n",
       "      <td>0.092838</td>\n",
       "    </tr>\n",
       "  </tbody>\n",
       "</table>\n",
       "</div>"
      ],
      "text/plain": [
       "                debt               debt_pct\n",
       "         all_clients debt_clients          \n",
       "children                                   \n",
       "4                  2            1  0.500000\n",
       "3                  8            1  0.125000\n",
       "2                 75            9  0.120000\n",
       "1                449           52  0.115813\n",
       "0               2262          210  0.092838"
      ]
     },
     "execution_count": 78,
     "metadata": {},
     "output_type": "execute_result"
    }
   ],
   "source": [
    "# Summary table for debtors \"Не женат / не замужем\"\n",
    "data_grouped_alone = data[data['family_status'] == 'Не женат / не замужем'].groupby(['children']).agg({'debt':['count', 'sum',]})\n",
    "# The `groupby()` and `agg()`` methods are useful when you need to apply a function to a column with grouped data or create a new column based on it\n",
    "# Add a column with the share of debtors\n",
    "data_grouped_alone['debt_pct'] = data_grouped_alone['debt']['sum'] / data_grouped_alone['debt']['count']\n",
    "# Rename aggregated columns for better readability\n",
    "data_grouped_alone = data_grouped_alone.rename(columns={'count' : 'all_clients', 'sum':'debt_clients'})\n",
    "# Sort the data by the probability of debt occurrence\n",
    "data_grouped_alone.sort_values(by='debt_pct', ascending=False)"
   ]
  },
  {
   "attachments": {},
   "cell_type": "markdown",
   "id": "8f4b8ca3",
   "metadata": {},
   "source": [
    "The values are ~2% higher than in the item about the impact of the number of children, but they are higher both in the case of the absence of children and the presence of children. This can be neglected for now."
   ]
  },
  {
   "attachments": {},
   "cell_type": "markdown",
   "id": "c389ca63",
   "metadata": {
    "deletable": false,
    "id": "c389ca63"
   },
   "source": [
    "**Conclusion:**\n",
    "\n",
    "- \"single / unmarried\" and \"civil marriage\" - groups with a high percentage of debtors. It is better not to grow these cohorts actively, with an increase in the number of clients in them, the number of debtors can be equal to the number of debtors of the largest group \"married / married\".\n",
    "- \"divorced\" and \"widower/widow\" groups appear to be less prone to incurring debt"
   ]
  },
  {
   "attachments": {},
   "cell_type": "markdown",
   "id": "9529de68",
   "metadata": {
    "deletable": false,
    "editable": false,
    "id": "9529de68"
   },
   "source": [
    "#### 3.3 Is there a relationship between income and loan repayment on time?"
   ]
  },
  {
   "attachments": {},
   "cell_type": "markdown",
   "id": "813e6ffa",
   "metadata": {},
   "source": [
    "Previously, we identified categories by income level, in the analysis we will use them:\n",
    "`total_income_category` column with categories\n",
    "\n",
    "- 0–30000 — `'E'`;\n",
    "- 30001–50000 — `'D'`;\n",
    "- 50001–200000 — `'C'`;\n",
    "- 200001–1000000 — `'B'`;\n",
    "- 1000001 и выше — `'A'`."
   ]
  },
  {
   "cell_type": "code",
   "execution_count": 79,
   "id": "8787f44a",
   "metadata": {
    "deletable": false,
    "id": "8787f44a",
    "scrolled": true
   },
   "outputs": [
    {
     "data": {
      "text/html": [
       "<div>\n",
       "<style scoped>\n",
       "    .dataframe tbody tr th:only-of-type {\n",
       "        vertical-align: middle;\n",
       "    }\n",
       "\n",
       "    .dataframe tbody tr th {\n",
       "        vertical-align: top;\n",
       "    }\n",
       "\n",
       "    .dataframe thead tr th {\n",
       "        text-align: left;\n",
       "    }\n",
       "\n",
       "    .dataframe thead tr:last-of-type th {\n",
       "        text-align: right;\n",
       "    }\n",
       "</style>\n",
       "<table border=\"1\" class=\"dataframe\">\n",
       "  <thead>\n",
       "    <tr>\n",
       "      <th></th>\n",
       "      <th colspan=\"2\" halign=\"left\">debt</th>\n",
       "      <th>debt_pct</th>\n",
       "    </tr>\n",
       "    <tr>\n",
       "      <th></th>\n",
       "      <th>all_clients</th>\n",
       "      <th>debt_clients</th>\n",
       "      <th></th>\n",
       "    </tr>\n",
       "    <tr>\n",
       "      <th>total_income_category</th>\n",
       "      <th></th>\n",
       "      <th></th>\n",
       "      <th></th>\n",
       "    </tr>\n",
       "  </thead>\n",
       "  <tbody>\n",
       "    <tr>\n",
       "      <th>E</th>\n",
       "      <td>22</td>\n",
       "      <td>2</td>\n",
       "      <td>0.090909</td>\n",
       "    </tr>\n",
       "    <tr>\n",
       "      <th>C</th>\n",
       "      <td>15921</td>\n",
       "      <td>1353</td>\n",
       "      <td>0.084982</td>\n",
       "    </tr>\n",
       "    <tr>\n",
       "      <th>A</th>\n",
       "      <td>25</td>\n",
       "      <td>2</td>\n",
       "      <td>0.080000</td>\n",
       "    </tr>\n",
       "    <tr>\n",
       "      <th>B</th>\n",
       "      <td>5014</td>\n",
       "      <td>354</td>\n",
       "      <td>0.070602</td>\n",
       "    </tr>\n",
       "    <tr>\n",
       "      <th>D</th>\n",
       "      <td>349</td>\n",
       "      <td>21</td>\n",
       "      <td>0.060172</td>\n",
       "    </tr>\n",
       "  </tbody>\n",
       "</table>\n",
       "</div>"
      ],
      "text/plain": [
       "                             debt               debt_pct\n",
       "                      all_clients debt_clients          \n",
       "total_income_category                                   \n",
       "E                              22            2  0.090909\n",
       "C                           15921         1353  0.084982\n",
       "A                              25            2  0.080000\n",
       "B                            5014          354  0.070602\n",
       "D                             349           21  0.060172"
      ]
     },
     "execution_count": 79,
     "metadata": {},
     "output_type": "execute_result"
    }
   ],
   "source": [
    "# Summary table for debtors\n",
    "data_grouped_income = data.groupby(['total_income_category']).agg({'debt':['count', 'sum',]})\n",
    "# Add a column with the share of debtors\n",
    "data_grouped_income['debt_pct'] = data_grouped_income['debt']['sum'] / data_grouped_income['debt']['count']\n",
    "# Rename aggregated columns for better readability\n",
    "data_grouped_income = data_grouped_income.rename(columns={'count' : 'all_clients', 'sum':'debt_clients'})\n",
    "data_grouped_income.sort_values(by='debt_pct', ascending=False)"
   ]
  },
  {
   "cell_type": "code",
   "execution_count": 80,
   "id": "50451165",
   "metadata": {
    "scrolled": true
   },
   "outputs": [
    {
     "data": {
      "image/png": "[encoded data removed]",
      "text/plain": [
       "<Figure size 1500x700 with 2 Axes>"
      ]
     },
     "metadata": {},
     "output_type": "display_data"
    }
   ],
   "source": [
    "# build a graph\n",
    "ax = data_grouped_income.plot(kind='bar', y='debt', figsize=(15, 7))\n",
    "plt.ylabel(\"Number of clients\")\n",
    "\n",
    "\n",
    "for bar in ax.patches:\n",
    "    height = round(bar.get_height())\n",
    "    width = bar.get_width()\n",
    "    x = bar.get_x()\n",
    "    y = bar.get_y()\n",
    "    label_text = height\n",
    "    label_x = x + width / 2\n",
    "    label_y = y + height / 2\n",
    "    ax.text(label_x, label_y, label_text, ha='center',    \n",
    "            va='center')\n",
    "\n",
    "# add information about the probability of debt occurrence\n",
    "data_grouped_income['debt_pct'].plot(secondary_y=True)\n",
    "\n",
    "plt.ylabel(\"Percentage\")\n",
    "\n",
    "plt.show()"
   ]
  },
  {
   "attachments": {},
   "cell_type": "markdown",
   "id": "9ab39be6",
   "metadata": {},
   "source": [
    "Let's check if there is an influence of the previous factors on this one."
   ]
  },
  {
   "cell_type": "code",
   "execution_count": 81,
   "id": "2603cfbe",
   "metadata": {},
   "outputs": [
    {
     "data": {
      "text/html": [
       "<div>\n",
       "<style scoped>\n",
       "    .dataframe tbody tr th:only-of-type {\n",
       "        vertical-align: middle;\n",
       "    }\n",
       "\n",
       "    .dataframe tbody tr th {\n",
       "        vertical-align: top;\n",
       "    }\n",
       "\n",
       "    .dataframe thead th {\n",
       "        text-align: right;\n",
       "    }\n",
       "</style>\n",
       "<table border=\"1\" class=\"dataframe\">\n",
       "  <thead>\n",
       "    <tr style=\"text-align: right;\">\n",
       "      <th>children</th>\n",
       "      <th>0</th>\n",
       "      <th>1</th>\n",
       "      <th>2</th>\n",
       "      <th>3</th>\n",
       "      <th>4</th>\n",
       "      <th>5</th>\n",
       "    </tr>\n",
       "    <tr>\n",
       "      <th>total_income_category</th>\n",
       "      <th></th>\n",
       "      <th></th>\n",
       "      <th></th>\n",
       "      <th></th>\n",
       "      <th></th>\n",
       "      <th></th>\n",
       "    </tr>\n",
       "  </thead>\n",
       "  <tbody>\n",
       "    <tr>\n",
       "      <th>A</th>\n",
       "      <td>1.0</td>\n",
       "      <td>1.0</td>\n",
       "      <td>0.0</td>\n",
       "      <td>0.0</td>\n",
       "      <td>NaN</td>\n",
       "      <td>NaN</td>\n",
       "    </tr>\n",
       "    <tr>\n",
       "      <th>B</th>\n",
       "      <td>220.0</td>\n",
       "      <td>88.0</td>\n",
       "      <td>41.0</td>\n",
       "      <td>4.0</td>\n",
       "      <td>1.0</td>\n",
       "      <td>0.0</td>\n",
       "    </tr>\n",
       "    <tr>\n",
       "      <th>C</th>\n",
       "      <td>828.0</td>\n",
       "      <td>351.0</td>\n",
       "      <td>149.0</td>\n",
       "      <td>22.0</td>\n",
       "      <td>3.0</td>\n",
       "      <td>0.0</td>\n",
       "    </tr>\n",
       "    <tr>\n",
       "      <th>D</th>\n",
       "      <td>12.0</td>\n",
       "      <td>4.0</td>\n",
       "      <td>4.0</td>\n",
       "      <td>1.0</td>\n",
       "      <td>NaN</td>\n",
       "      <td>0.0</td>\n",
       "    </tr>\n",
       "    <tr>\n",
       "      <th>E</th>\n",
       "      <td>2.0</td>\n",
       "      <td>0.0</td>\n",
       "      <td>0.0</td>\n",
       "      <td>NaN</td>\n",
       "      <td>NaN</td>\n",
       "      <td>NaN</td>\n",
       "    </tr>\n",
       "  </tbody>\n",
       "</table>\n",
       "</div>"
      ],
      "text/plain": [
       "children                   0      1      2     3    4    5\n",
       "total_income_category                                     \n",
       "A                        1.0    1.0    0.0   0.0  NaN  NaN\n",
       "B                      220.0   88.0   41.0   4.0  1.0  0.0\n",
       "C                      828.0  351.0  149.0  22.0  3.0  0.0\n",
       "D                       12.0    4.0    4.0   1.0  NaN  0.0\n",
       "E                        2.0    0.0    0.0   NaN  NaN  NaN"
      ]
     },
     "execution_count": 81,
     "metadata": {},
     "output_type": "execute_result"
    }
   ],
   "source": [
    "# create a pivot table\n",
    "pivot_table = data.pivot_table(index='total_income_category', columns='children', values='debt', aggfunc='sum')\n",
    "pivot_table"
   ]
  },
  {
   "cell_type": "code",
   "execution_count": 82,
   "id": "761b5996",
   "metadata": {},
   "outputs": [
    {
     "data": {
      "text/html": [
       "<div>\n",
       "<style scoped>\n",
       "    .dataframe tbody tr th:only-of-type {\n",
       "        vertical-align: middle;\n",
       "    }\n",
       "\n",
       "    .dataframe tbody tr th {\n",
       "        vertical-align: top;\n",
       "    }\n",
       "\n",
       "    .dataframe thead th {\n",
       "        text-align: right;\n",
       "    }\n",
       "</style>\n",
       "<table border=\"1\" class=\"dataframe\">\n",
       "  <thead>\n",
       "    <tr style=\"text-align: right;\">\n",
       "      <th>family_status</th>\n",
       "      <th>Не женат / не замужем</th>\n",
       "      <th>в разводе</th>\n",
       "      <th>вдовец / вдова</th>\n",
       "      <th>гражданский брак</th>\n",
       "      <th>женат / замужем</th>\n",
       "    </tr>\n",
       "    <tr>\n",
       "      <th>total_income_category</th>\n",
       "      <th></th>\n",
       "      <th></th>\n",
       "      <th></th>\n",
       "      <th></th>\n",
       "      <th></th>\n",
       "    </tr>\n",
       "  </thead>\n",
       "  <tbody>\n",
       "    <tr>\n",
       "      <th>A</th>\n",
       "      <td>0.0</td>\n",
       "      <td>0.0</td>\n",
       "      <td>NaN</td>\n",
       "      <td>1.0</td>\n",
       "      <td>1.0</td>\n",
       "    </tr>\n",
       "    <tr>\n",
       "      <th>B</th>\n",
       "      <td>62.0</td>\n",
       "      <td>18.0</td>\n",
       "      <td>9.0</td>\n",
       "      <td>64.0</td>\n",
       "      <td>201.0</td>\n",
       "    </tr>\n",
       "    <tr>\n",
       "      <th>C</th>\n",
       "      <td>209.0</td>\n",
       "      <td>64.0</td>\n",
       "      <td>54.0</td>\n",
       "      <td>315.0</td>\n",
       "      <td>711.0</td>\n",
       "    </tr>\n",
       "    <tr>\n",
       "      <th>D</th>\n",
       "      <td>2.0</td>\n",
       "      <td>2.0</td>\n",
       "      <td>0.0</td>\n",
       "      <td>5.0</td>\n",
       "      <td>12.0</td>\n",
       "    </tr>\n",
       "    <tr>\n",
       "      <th>E</th>\n",
       "      <td>0.0</td>\n",
       "      <td>NaN</td>\n",
       "      <td>NaN</td>\n",
       "      <td>0.0</td>\n",
       "      <td>2.0</td>\n",
       "    </tr>\n",
       "  </tbody>\n",
       "</table>\n",
       "</div>"
      ],
      "text/plain": [
       "family_status          Не женат / не замужем  в разводе  вдовец / вдова  \\\n",
       "total_income_category                                                     \n",
       "A                                        0.0        0.0             NaN   \n",
       "B                                       62.0       18.0             9.0   \n",
       "C                                      209.0       64.0            54.0   \n",
       "D                                        2.0        2.0             0.0   \n",
       "E                                        0.0        NaN             NaN   \n",
       "\n",
       "family_status          гражданский брак  женат / замужем  \n",
       "total_income_category                                     \n",
       "A                                   1.0              1.0  \n",
       "B                                  64.0            201.0  \n",
       "C                                 315.0            711.0  \n",
       "D                                   5.0             12.0  \n",
       "E                                   0.0              2.0  "
      ]
     },
     "execution_count": 82,
     "metadata": {},
     "output_type": "execute_result"
    }
   ],
   "source": [
    "# create a pivot table\n",
    "pivot_table = data.pivot_table(index='total_income_category', columns='family_status', values='debt', aggfunc='sum')\n",
    "pivot_table"
   ]
  },
  {
   "attachments": {},
   "cell_type": "markdown",
   "id": "6dd14b57",
   "metadata": {
    "deletable": false,
    "id": "6dd14b57"
   },
   "source": [
    "**Conclusion:**\n",
    "\n",
    "The number of borrowers in all categories except B and C is incomparably smaller, therefore, to identify the dependence, it makes sense to compare only them.\n",
    "\n",
    "- the most numerous category of \"average income\" at the same time has a high probability of loan default\n",
    "- in the group with an income above the average - the indicator is better. This cohort should be grown, it will bring fewer debtors."
   ]
  },
  {
   "attachments": {},
   "cell_type": "markdown",
   "id": "1dcc9b12",
   "metadata": {
    "deletable": false,
    "editable": false,
    "id": "1dcc9b12"
   },
   "source": [
    "#### 3.4 How do different purposes of a loan affect its repayment on time?"
   ]
  },
  {
   "attachments": {},
   "cell_type": "markdown",
   "id": "27581d0f",
   "metadata": {},
   "source": [
    "Earlier, we highlighted the `purpose_category` column, which included the categories:\n",
    "\n",
    "- ``car operations'`,\n",
    "- ``real estate transactions'`,\n",
    "- ``conducting a wedding'`,\n",
    "- ``getting an education'`.\n",
    "\n",
    "We will use it to analyze"
   ]
  },
  {
   "cell_type": "code",
   "execution_count": 83,
   "id": "c602bc8b",
   "metadata": {
    "deletable": false,
    "id": "c602bc8b",
    "scrolled": true
   },
   "outputs": [
    {
     "data": {
      "text/html": [
       "<div>\n",
       "<style scoped>\n",
       "    .dataframe tbody tr th:only-of-type {\n",
       "        vertical-align: middle;\n",
       "    }\n",
       "\n",
       "    .dataframe tbody tr th {\n",
       "        vertical-align: top;\n",
       "    }\n",
       "\n",
       "    .dataframe thead tr th {\n",
       "        text-align: left;\n",
       "    }\n",
       "\n",
       "    .dataframe thead tr:last-of-type th {\n",
       "        text-align: right;\n",
       "    }\n",
       "</style>\n",
       "<table border=\"1\" class=\"dataframe\">\n",
       "  <thead>\n",
       "    <tr>\n",
       "      <th></th>\n",
       "      <th colspan=\"2\" halign=\"left\">debt</th>\n",
       "      <th>debt_pct</th>\n",
       "    </tr>\n",
       "    <tr>\n",
       "      <th></th>\n",
       "      <th>all_clients</th>\n",
       "      <th>debt_clients</th>\n",
       "      <th></th>\n",
       "    </tr>\n",
       "    <tr>\n",
       "      <th>purpose_category</th>\n",
       "      <th></th>\n",
       "      <th></th>\n",
       "      <th></th>\n",
       "    </tr>\n",
       "  </thead>\n",
       "  <tbody>\n",
       "    <tr>\n",
       "      <th>операции с автомобилем</th>\n",
       "      <td>4279</td>\n",
       "      <td>400</td>\n",
       "      <td>0.093480</td>\n",
       "    </tr>\n",
       "    <tr>\n",
       "      <th>получение образования</th>\n",
       "      <td>3988</td>\n",
       "      <td>369</td>\n",
       "      <td>0.092528</td>\n",
       "    </tr>\n",
       "    <tr>\n",
       "      <th>проведение свадьбы</th>\n",
       "      <td>2313</td>\n",
       "      <td>183</td>\n",
       "      <td>0.079118</td>\n",
       "    </tr>\n",
       "    <tr>\n",
       "      <th>операции с недвижимостью</th>\n",
       "      <td>10751</td>\n",
       "      <td>780</td>\n",
       "      <td>0.072551</td>\n",
       "    </tr>\n",
       "  </tbody>\n",
       "</table>\n",
       "</div>"
      ],
      "text/plain": [
       "                                debt               debt_pct\n",
       "                         all_clients debt_clients          \n",
       "purpose_category                                           \n",
       "операции с автомобилем          4279          400  0.093480\n",
       "получение образования           3988          369  0.092528\n",
       "проведение свадьбы              2313          183  0.079118\n",
       "операции с недвижимостью       10751          780  0.072551"
      ]
     },
     "execution_count": 83,
     "metadata": {},
     "output_type": "execute_result"
    }
   ],
   "source": [
    "# Summary table for debtors\n",
    "data_grouped_purpose = data.groupby(['purpose_category']).agg({'debt':['count', 'sum',]})\n",
    "# Add a column with the share of debtors\n",
    "data_grouped_purpose['debt_pct'] = data_grouped_purpose['debt']['sum'] / data_grouped_purpose['debt']['count']\n",
    "# Rename aggregated columns for better readability\n",
    "data_grouped_purpose = data_grouped_purpose.rename(columns={'count' : 'all_clients', 'sum':'debt_clients'})\n",
    "data_grouped_purpose.sort_values(by='debt_pct', ascending=False)"
   ]
  },
  {
   "cell_type": "code",
   "execution_count": 84,
   "id": "3485ee76",
   "metadata": {},
   "outputs": [
    {
     "data": {
      "image/png": "[encoded data removed]",
      "text/plain": [
       "<Figure size 1500x700 with 2 Axes>"
      ]
     },
     "metadata": {},
     "output_type": "display_data"
    }
   ],
   "source": [
    "ax = data_grouped_purpose.plot(kind='bar', y='debt', figsize=(15, 7))\n",
    "plt.ylabel(\"Number of clients\")\n",
    "\n",
    "\n",
    "for bar in ax.patches:\n",
    "    height = round(bar.get_height())\n",
    "    width = bar.get_width()\n",
    "    x = bar.get_x()\n",
    "    y = bar.get_y()\n",
    "    label_text = height\n",
    "    label_x = x + width / 2\n",
    "    label_y = y + height / 2\n",
    "    ax.text(label_x, label_y, label_text, ha='center',    \n",
    "            va='center')\n",
    "\n",
    "\n",
    "data_grouped_purpose['debt_pct'].plot(secondary_y=True)\n",
    "\n",
    "plt.ylabel(\"Percentage\")\n",
    "\n",
    "plt.show()"
   ]
  },
  {
   "attachments": {},
   "cell_type": "markdown",
   "id": "fc18d477",
   "metadata": {},
   "source": [
    "Let's check if there is an influence of the previous factors on this"
   ]
  },
  {
   "cell_type": "code",
   "execution_count": 85,
   "id": "7a61ff9a",
   "metadata": {
    "scrolled": true
   },
   "outputs": [
    {
     "data": {
      "text/html": [
       "<div>\n",
       "<style scoped>\n",
       "    .dataframe tbody tr th:only-of-type {\n",
       "        vertical-align: middle;\n",
       "    }\n",
       "\n",
       "    .dataframe tbody tr th {\n",
       "        vertical-align: top;\n",
       "    }\n",
       "\n",
       "    .dataframe thead th {\n",
       "        text-align: right;\n",
       "    }\n",
       "</style>\n",
       "<table border=\"1\" class=\"dataframe\">\n",
       "  <thead>\n",
       "    <tr style=\"text-align: right;\">\n",
       "      <th>children</th>\n",
       "      <th>0</th>\n",
       "      <th>1</th>\n",
       "      <th>2</th>\n",
       "      <th>3</th>\n",
       "      <th>4</th>\n",
       "      <th>5</th>\n",
       "    </tr>\n",
       "    <tr>\n",
       "      <th>purpose_category</th>\n",
       "      <th></th>\n",
       "      <th></th>\n",
       "      <th></th>\n",
       "      <th></th>\n",
       "      <th></th>\n",
       "      <th></th>\n",
       "    </tr>\n",
       "  </thead>\n",
       "  <tbody>\n",
       "    <tr>\n",
       "      <th>операции с автомобилем</th>\n",
       "      <td>243</td>\n",
       "      <td>103</td>\n",
       "      <td>48</td>\n",
       "      <td>5</td>\n",
       "      <td>1</td>\n",
       "      <td>0</td>\n",
       "    </tr>\n",
       "    <tr>\n",
       "      <th>операции с недвижимостью</th>\n",
       "      <td>476</td>\n",
       "      <td>200</td>\n",
       "      <td>88</td>\n",
       "      <td>13</td>\n",
       "      <td>3</td>\n",
       "      <td>0</td>\n",
       "    </tr>\n",
       "    <tr>\n",
       "      <th>получение образования</th>\n",
       "      <td>229</td>\n",
       "      <td>90</td>\n",
       "      <td>46</td>\n",
       "      <td>4</td>\n",
       "      <td>0</td>\n",
       "      <td>0</td>\n",
       "    </tr>\n",
       "    <tr>\n",
       "      <th>проведение свадьбы</th>\n",
       "      <td>115</td>\n",
       "      <td>51</td>\n",
       "      <td>12</td>\n",
       "      <td>5</td>\n",
       "      <td>0</td>\n",
       "      <td>0</td>\n",
       "    </tr>\n",
       "  </tbody>\n",
       "</table>\n",
       "</div>"
      ],
      "text/plain": [
       "children                    0    1   2   3  4  5\n",
       "purpose_category                                \n",
       "операции с автомобилем    243  103  48   5  1  0\n",
       "операции с недвижимостью  476  200  88  13  3  0\n",
       "получение образования     229   90  46   4  0  0\n",
       "проведение свадьбы        115   51  12   5  0  0"
      ]
     },
     "execution_count": 85,
     "metadata": {},
     "output_type": "execute_result"
    }
   ],
   "source": [
    "# create pivot table\n",
    "pivot_table = data.pivot_table(index='purpose_category', columns='children', values='debt', aggfunc='sum')\n",
    "pivot_table"
   ]
  },
  {
   "cell_type": "code",
   "execution_count": 86,
   "id": "73a95bdf",
   "metadata": {},
   "outputs": [
    {
     "data": {
      "text/html": [
       "<div>\n",
       "<style scoped>\n",
       "    .dataframe tbody tr th:only-of-type {\n",
       "        vertical-align: middle;\n",
       "    }\n",
       "\n",
       "    .dataframe tbody tr th {\n",
       "        vertical-align: top;\n",
       "    }\n",
       "\n",
       "    .dataframe thead th {\n",
       "        text-align: right;\n",
       "    }\n",
       "</style>\n",
       "<table border=\"1\" class=\"dataframe\">\n",
       "  <thead>\n",
       "    <tr style=\"text-align: right;\">\n",
       "      <th>family_status</th>\n",
       "      <th>Не женат / не замужем</th>\n",
       "      <th>в разводе</th>\n",
       "      <th>вдовец / вдова</th>\n",
       "      <th>гражданский брак</th>\n",
       "      <th>женат / замужем</th>\n",
       "    </tr>\n",
       "    <tr>\n",
       "      <th>purpose_category</th>\n",
       "      <th></th>\n",
       "      <th></th>\n",
       "      <th></th>\n",
       "      <th></th>\n",
       "      <th></th>\n",
       "    </tr>\n",
       "  </thead>\n",
       "  <tbody>\n",
       "    <tr>\n",
       "      <th>операции с автомобилем</th>\n",
       "      <td>82.0</td>\n",
       "      <td>21.0</td>\n",
       "      <td>20.0</td>\n",
       "      <td>51.0</td>\n",
       "      <td>226.0</td>\n",
       "    </tr>\n",
       "    <tr>\n",
       "      <th>операции с недвижимостью</th>\n",
       "      <td>129.0</td>\n",
       "      <td>46.0</td>\n",
       "      <td>28.0</td>\n",
       "      <td>91.0</td>\n",
       "      <td>486.0</td>\n",
       "    </tr>\n",
       "    <tr>\n",
       "      <th>получение образования</th>\n",
       "      <td>62.0</td>\n",
       "      <td>17.0</td>\n",
       "      <td>15.0</td>\n",
       "      <td>60.0</td>\n",
       "      <td>215.0</td>\n",
       "    </tr>\n",
       "    <tr>\n",
       "      <th>проведение свадьбы</th>\n",
       "      <td>NaN</td>\n",
       "      <td>NaN</td>\n",
       "      <td>NaN</td>\n",
       "      <td>183.0</td>\n",
       "      <td>NaN</td>\n",
       "    </tr>\n",
       "  </tbody>\n",
       "</table>\n",
       "</div>"
      ],
      "text/plain": [
       "family_status             Не женат / не замужем  в разводе  вдовец / вдова  \\\n",
       "purpose_category                                                             \n",
       "операции с автомобилем                     82.0       21.0            20.0   \n",
       "операции с недвижимостью                  129.0       46.0            28.0   \n",
       "получение образования                      62.0       17.0            15.0   \n",
       "проведение свадьбы                          NaN        NaN             NaN   \n",
       "\n",
       "family_status             гражданский брак  женат / замужем  \n",
       "purpose_category                                             \n",
       "операции с автомобилем                51.0            226.0  \n",
       "операции с недвижимостью              91.0            486.0  \n",
       "получение образования                 60.0            215.0  \n",
       "проведение свадьбы                   183.0              NaN  "
      ]
     },
     "execution_count": 86,
     "metadata": {},
     "output_type": "execute_result"
    }
   ],
   "source": [
    "# create pivot table\n",
    "pivot_table = data.pivot_table(index='purpose_category', columns='family_status', values='debt', aggfunc='sum')\n",
    "pivot_table"
   ]
  },
  {
   "cell_type": "code",
   "execution_count": 87,
   "id": "875fde17",
   "metadata": {},
   "outputs": [
    {
     "data": {
      "text/html": [
       "<div>\n",
       "<style scoped>\n",
       "    .dataframe tbody tr th:only-of-type {\n",
       "        vertical-align: middle;\n",
       "    }\n",
       "\n",
       "    .dataframe tbody tr th {\n",
       "        vertical-align: top;\n",
       "    }\n",
       "\n",
       "    .dataframe thead th {\n",
       "        text-align: right;\n",
       "    }\n",
       "</style>\n",
       "<table border=\"1\" class=\"dataframe\">\n",
       "  <thead>\n",
       "    <tr style=\"text-align: right;\">\n",
       "      <th>total_income_category</th>\n",
       "      <th>A</th>\n",
       "      <th>B</th>\n",
       "      <th>C</th>\n",
       "      <th>D</th>\n",
       "      <th>E</th>\n",
       "    </tr>\n",
       "    <tr>\n",
       "      <th>purpose_category</th>\n",
       "      <th></th>\n",
       "      <th></th>\n",
       "      <th></th>\n",
       "      <th></th>\n",
       "      <th></th>\n",
       "    </tr>\n",
       "  </thead>\n",
       "  <tbody>\n",
       "    <tr>\n",
       "      <th>операции с автомобилем</th>\n",
       "      <td>0</td>\n",
       "      <td>85</td>\n",
       "      <td>305</td>\n",
       "      <td>10</td>\n",
       "      <td>0</td>\n",
       "    </tr>\n",
       "    <tr>\n",
       "      <th>операции с недвижимостью</th>\n",
       "      <td>1</td>\n",
       "      <td>172</td>\n",
       "      <td>599</td>\n",
       "      <td>6</td>\n",
       "      <td>2</td>\n",
       "    </tr>\n",
       "    <tr>\n",
       "      <th>получение образования</th>\n",
       "      <td>1</td>\n",
       "      <td>69</td>\n",
       "      <td>297</td>\n",
       "      <td>2</td>\n",
       "      <td>0</td>\n",
       "    </tr>\n",
       "    <tr>\n",
       "      <th>проведение свадьбы</th>\n",
       "      <td>0</td>\n",
       "      <td>28</td>\n",
       "      <td>152</td>\n",
       "      <td>3</td>\n",
       "      <td>0</td>\n",
       "    </tr>\n",
       "  </tbody>\n",
       "</table>\n",
       "</div>"
      ],
      "text/plain": [
       "total_income_category     A    B    C   D  E\n",
       "purpose_category                            \n",
       "операции с автомобилем    0   85  305  10  0\n",
       "операции с недвижимостью  1  172  599   6  2\n",
       "получение образования     1   69  297   2  0\n",
       "проведение свадьбы        0   28  152   3  0"
      ]
     },
     "execution_count": 87,
     "metadata": {},
     "output_type": "execute_result"
    }
   ],
   "source": [
    "# create pivot table\n",
    "pivot_table = data.pivot_table(index='purpose_category', columns='total_income_category', values='debt', aggfunc='sum')\n",
    "pivot_table"
   ]
  },
  {
   "attachments": {},
   "cell_type": "markdown",
   "id": "cf05ed63",
   "metadata": {
    "deletable": false,
    "id": "cf05ed63"
   },
   "source": [
    "**Conclusion:**\n",
    "\n",
    "- the largest cohort of real estate transactions, although it has the largest number of debtors, it also has the lowest risk of their occurrence\n",
    "- high risk of debt - in transactions with a car and education - together these two groups have almost the same number of debtors as the most numerous, and there are fewer clients in them."
   ]
  },
  {
   "attachments": {},
   "cell_type": "markdown",
   "id": "46c1f10b",
   "metadata": {
    "deletable": false,
    "editable": false,
    "id": "46c1f10b"
   },
   "source": [
    "#### 3.5 Possible reasons for missing values in the source data."
   ]
  },
  {
   "attachments": {},
   "cell_type": "markdown",
   "id": "3697d2a9",
   "metadata": {
    "deletable": false,
    "id": "3697d2a9"
   },
   "source": [
    "- maybe `days_employed` and `total_income` are requested and loaded from an external system (eg tax?). For some reason, there may be errors in obtaining this data - the service did not respond or the data was not there\n",
    "- if the data is entered manually - it may be a human factor\n",
    "- if the data is entered by the clients themselves, they can skip this data due to ignorance (the rest of the data is simpler)\n",
    "- there may have been errors in the calculation of the total (total) - there may have been gaps in the data that were not processed"
   ]
  },
  {
   "attachments": {},
   "cell_type": "markdown",
   "id": "3137d257",
   "metadata": {
    "deletable": false,
    "editable": false,
    "id": "3137d257"
   },
   "source": [
    "#### Why filling gaps with the median is the best solution for scale variables."
   ]
  },
  {
   "attachments": {},
   "cell_type": "markdown",
   "id": "cf40012a",
   "metadata": {
    "deletable": false,
    "id": "cf40012a"
   },
   "source": [
    "- If data are missing completely randomly, then it is fair to assume that the missing values are likely to be very close to the value of the mean or median of the distribution, since they represent the most common/averaged observation. In addition, we may have data for similar categories - this biases the sample to a lesser extent.\n",
    "- Sampling bias is not very noticeable if no more than 5% of the variable contains missing data. (in our case, 2174 out of 21525 is 10%, but this is also tolerable)\n",
    "- If the variable is skewed, the mean is biased by values on one side of the distribution. Therefore, the median is the best representation of most of the values of the variable. (in our data, `total_income` is biased towards higher income)"
   ]
  },
  {
   "attachments": {},
   "cell_type": "markdown",
   "id": "57bc304e",
   "metadata": {
    "deletable": false,
    "editable": false,
    "id": "57bc304e"
   },
   "source": [
    "### Step 4: general conclusion."
   ]
  },
  {
   "attachments": {},
   "cell_type": "markdown",
   "id": "1ab75d1c",
   "metadata": {
    "deletable": false,
    "id": "1ab75d1c"
   },
   "source": [
    "**Data**\n",
    "\n",
    "For the analysis, unloading of statistics on the solvency of customers was used. In the process of processing the dataset, several shortcomings were discovered that had to be processed.\n",
    "\n",
    "- There are missing values in two columns. These are `days_employed` (work experience) and `total_income` - stores income data. The gaps in these columns were filled with the median value for each type from the `income_type` column.\n",
    "Also, negative values were found in the `days_employed` column and values are not in days, but in hours. We recommend that you pay attention to the completion and format of data that fall into these columns, as incorrect and missing values \\u200b\\u200bmay distort the results.\n",
    "\n",
    "- There are two anomalous values in the `children` column - -1 and 20. Rows with these values were not taken into account in this study. In the future, we recommend that you study the reasons for the appearance of these values in the upload (how are they filled in - by clients or automatically from other systems?)\n",
    "\n",
    "- The `education` column has the same values, but written differently: using uppercase and lowercase letters. For processing, they brought them to lower case.\n",
    "\n",
    "For convenience, the study combined part of the data into categories.\n",
    "- *by income level*:\n",
    "   - 0–30000 - 'E';\n",
    "   - 30001–50000 - 'D';\n",
    "   - 50001–200000 - 'C';\n",
    "   - 200001–1000000 - 'B';\n",
    "   - 1000001 and above - 'A'.\n",
    "\n",
    "- *for the purpose of taking a loan*:\n",
    "   - 'car operations',\n",
    "   - 'real estate transactions',\n",
    "   - 'holding a wedding',\n",
    "   - 'getting an education'.\n",
    "\n",
    "**Research results**\n",
    "\n",
    "We looked at four parameters that can affect the return of a loan on time. Found out the following:\n",
    "1. The presence of children negatively affects the repayment of the loan on time, however, the number of children is of relatively little importance.\n",
    "2. \"not married / not married\" and \"civil marriage\" - groups with a high percentage of debtors.\n",
    "3. Loan repayment on time is better provided by clients with \"above average\" incomes (200,001–1,000,000)\n",
    "4. Wedding and real estate transactions - more likely to repay the loan on time than car transactions and education purposes"
   ]
  }
 ],
 "metadata": {
  "ExecuteTimeLog": [
   {
    "duration": 562,
    "start_time": "2023-02-24T07:40:12.375Z"
   },
   {
    "duration": 50,
    "start_time": "2023-02-24T07:40:12.945Z"
   },
   {
    "duration": 42,
    "start_time": "2023-02-24T07:40:13.002Z"
   },
   {
    "duration": 54,
    "start_time": "2023-02-24T07:40:13.051Z"
   },
   {
    "duration": 81,
    "start_time": "2023-02-24T07:40:13.108Z"
   },
   {
    "duration": 7,
    "start_time": "2023-02-24T07:40:13.196Z"
   },
   {
    "duration": 67,
    "start_time": "2023-02-24T07:40:13.207Z"
   },
   {
    "duration": 40,
    "start_time": "2023-02-24T07:40:13.276Z"
   },
   {
    "duration": 79,
    "start_time": "2023-02-24T07:40:13.318Z"
   },
   {
    "duration": 77,
    "start_time": "2023-02-24T07:40:13.406Z"
   },
   {
    "duration": 67,
    "start_time": "2023-02-24T07:40:13.487Z"
   },
   {
    "duration": 32,
    "start_time": "2023-02-24T07:40:13.561Z"
   },
   {
    "duration": 15,
    "start_time": "2023-02-24T07:40:13.601Z"
   },
   {
    "duration": 28,
    "start_time": "2023-02-24T07:40:13.618Z"
   },
   {
    "duration": 90,
    "start_time": "2023-02-24T07:40:13.651Z"
   },
   {
    "duration": 41,
    "start_time": "2023-02-24T07:40:13.745Z"
   },
   {
    "duration": 5,
    "start_time": "2023-02-24T07:40:13.789Z"
   },
   {
    "duration": 37,
    "start_time": "2023-02-24T07:40:13.796Z"
   },
   {
    "duration": 12,
    "start_time": "2023-02-24T07:40:13.835Z"
   },
   {
    "duration": 41,
    "start_time": "2023-02-24T07:40:13.850Z"
   },
   {
    "duration": 13,
    "start_time": "2023-02-24T07:40:13.893Z"
   },
   {
    "duration": 13,
    "start_time": "2023-02-24T07:40:13.908Z"
   },
   {
    "duration": 56,
    "start_time": "2023-02-24T07:40:13.923Z"
   },
   {
    "duration": 10,
    "start_time": "2023-02-24T07:40:13.981Z"
   },
   {
    "duration": 9,
    "start_time": "2023-02-24T07:40:13.993Z"
   },
   {
    "duration": 1125,
    "start_time": "2023-02-24T08:03:11.165Z"
   },
   {
    "duration": 74,
    "start_time": "2023-02-24T08:03:12.292Z"
   },
   {
    "duration": 187,
    "start_time": "2023-02-24T08:03:12.367Z"
   },
   {
    "duration": 162,
    "start_time": "2023-02-24T08:03:12.556Z"
   },
   {
    "duration": 323,
    "start_time": "2023-02-24T08:03:12.719Z"
   },
   {
    "duration": 24,
    "start_time": "2023-02-24T08:03:13.058Z"
   },
   {
    "duration": 203,
    "start_time": "2023-02-24T08:03:13.099Z"
   },
   {
    "duration": 149,
    "start_time": "2023-02-24T08:03:13.318Z"
   },
   {
    "duration": 229,
    "start_time": "2023-02-24T08:03:13.469Z"
   },
   {
    "duration": 187,
    "start_time": "2023-02-24T08:03:13.702Z"
   },
   {
    "duration": 240,
    "start_time": "2023-02-24T08:03:13.894Z"
   },
   {
    "duration": 79,
    "start_time": "2023-02-24T08:03:14.140Z"
   },
   {
    "duration": 157,
    "start_time": "2023-02-24T08:03:14.225Z"
   },
   {
    "duration": 218,
    "start_time": "2023-02-24T08:03:14.392Z"
   },
   {
    "duration": 161,
    "start_time": "2023-02-24T08:03:14.620Z"
   },
   {
    "duration": 275,
    "start_time": "2023-02-24T08:03:14.789Z"
   },
   {
    "duration": 133,
    "start_time": "2023-02-24T08:03:15.083Z"
   },
   {
    "duration": 103,
    "start_time": "2023-02-24T08:03:15.219Z"
   },
   {
    "duration": 89,
    "start_time": "2023-02-24T08:03:15.327Z"
   },
   {
    "duration": 110,
    "start_time": "2023-02-24T08:03:15.422Z"
   },
   {
    "duration": 37,
    "start_time": "2023-02-24T08:03:15.537Z"
   },
   {
    "duration": 73,
    "start_time": "2023-02-24T08:03:15.581Z"
   },
   {
    "duration": 167,
    "start_time": "2023-02-24T08:03:15.659Z"
   },
   {
    "duration": 111,
    "start_time": "2023-02-24T08:03:15.833Z"
   },
   {
    "duration": 80,
    "start_time": "2023-02-24T08:03:15.954Z"
   },
   {
    "duration": 841,
    "start_time": "2023-02-27T12:04:33.372Z"
   },
   {
    "duration": 32,
    "start_time": "2023-02-27T12:04:34.215Z"
   },
   {
    "duration": 20,
    "start_time": "2023-02-27T12:04:34.249Z"
   },
   {
    "duration": 9,
    "start_time": "2023-02-27T12:04:34.272Z"
   },
   {
    "duration": 60,
    "start_time": "2023-02-27T12:04:34.283Z"
   },
   {
    "duration": 4,
    "start_time": "2023-02-27T12:04:34.345Z"
   },
   {
    "duration": 10,
    "start_time": "2023-02-27T12:04:34.351Z"
   },
   {
    "duration": 5,
    "start_time": "2023-02-27T12:04:34.363Z"
   },
   {
    "duration": 8,
    "start_time": "2023-02-27T12:04:34.370Z"
   },
   {
    "duration": 31,
    "start_time": "2023-02-27T12:04:34.381Z"
   },
   {
    "duration": 50,
    "start_time": "2023-02-27T12:04:34.414Z"
   },
   {
    "duration": 12,
    "start_time": "2023-02-27T12:04:34.466Z"
   },
   {
    "duration": 4,
    "start_time": "2023-02-27T12:04:34.480Z"
   },
   {
    "duration": 19,
    "start_time": "2023-02-27T12:04:34.485Z"
   },
   {
    "duration": 40,
    "start_time": "2023-02-27T12:04:34.506Z"
   },
   {
    "duration": 28,
    "start_time": "2023-02-27T12:04:34.549Z"
   },
   {
    "duration": 5,
    "start_time": "2023-02-27T12:04:34.579Z"
   },
   {
    "duration": 45,
    "start_time": "2023-02-27T12:04:34.586Z"
   },
   {
    "duration": 22,
    "start_time": "2023-02-27T12:04:34.633Z"
   },
   {
    "duration": 10,
    "start_time": "2023-02-27T12:04:34.658Z"
   },
   {
    "duration": 14,
    "start_time": "2023-02-27T12:04:34.670Z"
   },
   {
    "duration": 6,
    "start_time": "2023-02-27T12:04:34.686Z"
   },
   {
    "duration": 28,
    "start_time": "2023-02-27T12:04:34.694Z"
   },
   {
    "duration": 9,
    "start_time": "2023-02-27T12:04:34.723Z"
   },
   {
    "duration": 13,
    "start_time": "2023-02-27T12:04:34.734Z"
   },
   {
    "duration": 535,
    "start_time": "2023-02-27T12:06:55.292Z"
   },
   {
    "duration": 33,
    "start_time": "2023-02-27T12:06:55.829Z"
   },
   {
    "duration": 37,
    "start_time": "2023-02-27T12:06:55.864Z"
   },
   {
    "duration": 15,
    "start_time": "2023-02-27T12:06:55.904Z"
   },
   {
    "duration": 51,
    "start_time": "2023-02-27T12:06:55.921Z"
   },
   {
    "duration": 9,
    "start_time": "2023-02-27T12:06:55.991Z"
   },
   {
    "duration": 40,
    "start_time": "2023-02-27T12:06:56.002Z"
   },
   {
    "duration": 5,
    "start_time": "2023-02-27T12:06:56.044Z"
   },
   {
    "duration": 16,
    "start_time": "2023-02-27T12:06:56.052Z"
   },
   {
    "duration": 10,
    "start_time": "2023-02-27T12:06:56.071Z"
   },
   {
    "duration": 51,
    "start_time": "2023-02-27T12:06:56.083Z"
   },
   {
    "duration": 11,
    "start_time": "2023-02-27T12:06:56.137Z"
   },
   {
    "duration": 7,
    "start_time": "2023-02-27T12:06:56.150Z"
   },
   {
    "duration": 33,
    "start_time": "2023-02-27T12:06:56.159Z"
   },
   {
    "duration": 32,
    "start_time": "2023-02-27T12:06:56.194Z"
   },
   {
    "duration": 22,
    "start_time": "2023-02-27T12:06:56.228Z"
   },
   {
    "duration": 4,
    "start_time": "2023-02-27T12:06:56.251Z"
   },
   {
    "duration": 37,
    "start_time": "2023-02-27T12:06:56.258Z"
   },
   {
    "duration": 18,
    "start_time": "2023-02-27T12:06:56.297Z"
   },
   {
    "duration": 7,
    "start_time": "2023-02-27T12:06:56.317Z"
   },
   {
    "duration": 23,
    "start_time": "2023-02-27T12:06:56.326Z"
   },
   {
    "duration": 5,
    "start_time": "2023-02-27T12:06:56.351Z"
   },
   {
    "duration": 8,
    "start_time": "2023-02-27T12:06:56.358Z"
   },
   {
    "duration": 8,
    "start_time": "2023-02-27T12:06:56.368Z"
   },
   {
    "duration": 15,
    "start_time": "2023-02-27T12:06:56.378Z"
   },
   {
    "duration": 499,
    "start_time": "2023-02-27T12:08:57.564Z"
   },
   {
    "duration": 38,
    "start_time": "2023-02-27T12:09:35.685Z"
   },
   {
    "duration": 37,
    "start_time": "2023-02-27T12:10:34.725Z"
   },
   {
    "duration": 338,
    "start_time": "2023-02-27T12:10:50.850Z"
   },
   {
    "duration": 10,
    "start_time": "2023-02-27T12:11:20.452Z"
   },
   {
    "duration": 12,
    "start_time": "2023-02-27T12:11:38.837Z"
   },
   {
    "duration": 34,
    "start_time": "2023-02-27T12:11:57.590Z"
   },
   {
    "duration": 8,
    "start_time": "2023-02-27T12:13:26.359Z"
   },
   {
    "duration": 5,
    "start_time": "2023-02-27T12:13:33.577Z"
   },
   {
    "duration": 23,
    "start_time": "2023-02-27T12:13:55.611Z"
   },
   {
    "duration": 349,
    "start_time": "2023-02-27T12:14:17.302Z"
   },
   {
    "duration": 28,
    "start_time": "2023-02-27T12:14:39.318Z"
   },
   {
    "duration": 27,
    "start_time": "2023-02-27T12:14:59.982Z"
   },
   {
    "duration": 19,
    "start_time": "2023-02-27T12:15:39.937Z"
   },
   {
    "duration": 391,
    "start_time": "2023-02-27T12:15:52.653Z"
   },
   {
    "duration": 27,
    "start_time": "2023-02-27T12:16:12.681Z"
   },
   {
    "duration": 25,
    "start_time": "2023-02-27T12:16:19.474Z"
   },
   {
    "duration": 20,
    "start_time": "2023-02-27T12:16:51.068Z"
   },
   {
    "duration": 270,
    "start_time": "2023-02-27T12:16:57.408Z"
   },
   {
    "duration": 20,
    "start_time": "2023-02-27T12:17:20.957Z"
   },
   {
    "duration": 25,
    "start_time": "2023-02-27T12:17:27.475Z"
   },
   {
    "duration": 20,
    "start_time": "2023-02-27T12:17:35.430Z"
   },
   {
    "duration": 493,
    "start_time": "2023-02-27T12:19:30.452Z"
   },
   {
    "duration": 24,
    "start_time": "2023-02-27T12:19:30.947Z"
   },
   {
    "duration": 46,
    "start_time": "2023-02-27T12:19:30.972Z"
   },
   {
    "duration": 50,
    "start_time": "2023-02-27T12:19:31.021Z"
   },
   {
    "duration": 64,
    "start_time": "2023-02-27T12:19:31.074Z"
   },
   {
    "duration": 7,
    "start_time": "2023-02-27T12:19:31.140Z"
   },
   {
    "duration": 44,
    "start_time": "2023-02-27T12:19:31.149Z"
   },
   {
    "duration": 47,
    "start_time": "2023-02-27T12:19:31.196Z"
   },
   {
    "duration": 34,
    "start_time": "2023-02-27T12:19:31.245Z"
   },
   {
    "duration": 60,
    "start_time": "2023-02-27T12:19:31.281Z"
   },
   {
    "duration": 86,
    "start_time": "2023-02-27T12:19:31.343Z"
   },
   {
    "duration": 16,
    "start_time": "2023-02-27T12:19:31.430Z"
   },
   {
    "duration": 18,
    "start_time": "2023-02-27T12:19:31.448Z"
   },
   {
    "duration": 49,
    "start_time": "2023-02-27T12:19:31.469Z"
   },
   {
    "duration": 46,
    "start_time": "2023-02-27T12:19:31.520Z"
   },
   {
    "duration": 52,
    "start_time": "2023-02-27T12:19:31.568Z"
   },
   {
    "duration": 6,
    "start_time": "2023-02-27T12:19:31.622Z"
   },
   {
    "duration": 46,
    "start_time": "2023-02-27T12:19:31.629Z"
   },
   {
    "duration": 29,
    "start_time": "2023-02-27T12:19:31.678Z"
   },
   {
    "duration": 12,
    "start_time": "2023-02-27T12:19:31.709Z"
   },
   {
    "duration": 23,
    "start_time": "2023-02-27T12:19:31.723Z"
   },
   {
    "duration": 284,
    "start_time": "2023-02-27T12:19:31.748Z"
   },
   {
    "duration": 18,
    "start_time": "2023-02-27T12:19:32.033Z"
   },
   {
    "duration": 114,
    "start_time": "2023-02-27T12:19:32.054Z"
   },
   {
    "duration": 375,
    "start_time": "2023-02-27T12:19:32.170Z"
   },
   {
    "duration": 9,
    "start_time": "2023-02-27T12:19:32.546Z"
   },
   {
    "duration": 45,
    "start_time": "2023-02-27T12:19:32.557Z"
   },
   {
    "duration": 7,
    "start_time": "2023-02-27T12:19:32.604Z"
   },
   {
    "duration": 21,
    "start_time": "2023-02-27T12:19:32.613Z"
   },
   {
    "duration": 30,
    "start_time": "2023-02-27T12:19:32.636Z"
   },
   {
    "duration": 307,
    "start_time": "2023-02-27T12:19:32.667Z"
   },
   {
    "duration": 43,
    "start_time": "2023-02-27T12:19:32.975Z"
   },
   {
    "duration": 22,
    "start_time": "2023-02-27T12:19:33.019Z"
   },
   {
    "duration": 20,
    "start_time": "2023-02-27T12:19:33.042Z"
   },
   {
    "duration": 319,
    "start_time": "2023-02-27T12:19:33.064Z"
   },
   {
    "duration": 32,
    "start_time": "2023-02-27T12:19:33.384Z"
   },
   {
    "duration": 25,
    "start_time": "2023-02-27T12:19:33.418Z"
   },
   {
    "duration": 20,
    "start_time": "2023-02-27T12:19:33.445Z"
   },
   {
    "duration": 315,
    "start_time": "2023-02-27T12:19:33.493Z"
   },
   {
    "duration": 21,
    "start_time": "2023-02-27T12:19:33.811Z"
   },
   {
    "duration": 74,
    "start_time": "2023-02-27T12:19:33.836Z"
   },
   {
    "duration": 29,
    "start_time": "2023-02-27T12:19:33.913Z"
   },
   {
    "duration": 25,
    "start_time": "2023-02-27T12:22:46.430Z"
   },
   {
    "duration": 303,
    "start_time": "2023-02-27T12:24:33.954Z"
   },
   {
    "duration": 342,
    "start_time": "2023-02-27T12:26:21.688Z"
   },
   {
    "duration": 309,
    "start_time": "2023-02-27T12:27:10.973Z"
   },
   {
    "duration": 254,
    "start_time": "2023-02-27T12:27:42.101Z"
   },
   {
    "duration": 715,
    "start_time": "2023-02-28T08:24:22.397Z"
   },
   {
    "duration": 21,
    "start_time": "2023-02-28T08:24:23.114Z"
   },
   {
    "duration": 14,
    "start_time": "2023-02-28T08:24:23.137Z"
   },
   {
    "duration": 11,
    "start_time": "2023-02-28T08:24:23.152Z"
   },
   {
    "duration": 51,
    "start_time": "2023-02-28T08:24:23.165Z"
   },
   {
    "duration": 4,
    "start_time": "2023-02-28T08:24:23.218Z"
   },
   {
    "duration": 10,
    "start_time": "2023-02-28T08:24:23.224Z"
   },
   {
    "duration": 5,
    "start_time": "2023-02-28T08:24:23.236Z"
   },
   {
    "duration": 8,
    "start_time": "2023-02-28T08:24:23.242Z"
   },
   {
    "duration": 4,
    "start_time": "2023-02-28T08:24:23.254Z"
   },
   {
    "duration": 64,
    "start_time": "2023-02-28T08:24:23.259Z"
   },
   {
    "duration": 10,
    "start_time": "2023-02-28T08:24:23.325Z"
   },
   {
    "duration": 5,
    "start_time": "2023-02-28T08:24:23.336Z"
   },
   {
    "duration": 13,
    "start_time": "2023-02-28T08:24:23.343Z"
   },
   {
    "duration": 36,
    "start_time": "2023-02-28T08:24:23.357Z"
   },
   {
    "duration": 17,
    "start_time": "2023-02-28T08:24:23.394Z"
   },
   {
    "duration": 3,
    "start_time": "2023-02-28T08:24:23.412Z"
   },
   {
    "duration": 15,
    "start_time": "2023-02-28T08:24:23.417Z"
   },
   {
    "duration": 6,
    "start_time": "2023-02-28T08:24:23.433Z"
   },
   {
    "duration": 7,
    "start_time": "2023-02-28T08:24:23.440Z"
   },
   {
    "duration": 10,
    "start_time": "2023-02-28T08:24:23.449Z"
   },
   {
    "duration": 246,
    "start_time": "2023-02-28T08:24:23.461Z"
   },
   {
    "duration": 13,
    "start_time": "2023-02-28T08:24:23.709Z"
   },
   {
    "duration": 20,
    "start_time": "2023-02-28T08:24:23.724Z"
   },
   {
    "duration": 279,
    "start_time": "2023-02-28T08:24:23.745Z"
   },
   {
    "duration": 9,
    "start_time": "2023-02-28T08:24:24.026Z"
   },
   {
    "duration": 27,
    "start_time": "2023-02-28T08:24:24.037Z"
   },
   {
    "duration": 25,
    "start_time": "2023-02-28T08:24:24.068Z"
   },
   {
    "duration": 4,
    "start_time": "2023-02-28T08:24:24.095Z"
   },
   {
    "duration": 21,
    "start_time": "2023-02-28T08:24:24.101Z"
   },
   {
    "duration": 263,
    "start_time": "2023-02-28T08:24:24.123Z"
   },
   {
    "duration": 22,
    "start_time": "2023-02-28T08:24:24.391Z"
   },
   {
    "duration": 19,
    "start_time": "2023-02-28T08:24:24.415Z"
   },
   {
    "duration": 18,
    "start_time": "2023-02-28T08:24:24.436Z"
   },
   {
    "duration": 317,
    "start_time": "2023-02-28T08:24:24.455Z"
   },
   {
    "duration": 35,
    "start_time": "2023-02-28T08:24:24.773Z"
   },
   {
    "duration": 22,
    "start_time": "2023-02-28T08:24:24.810Z"
   },
   {
    "duration": 21,
    "start_time": "2023-02-28T08:24:24.834Z"
   },
   {
    "duration": 285,
    "start_time": "2023-02-28T08:24:24.856Z"
   },
   {
    "duration": 19,
    "start_time": "2023-02-28T08:24:25.142Z"
   },
   {
    "duration": 35,
    "start_time": "2023-02-28T08:24:25.162Z"
   },
   {
    "duration": 19,
    "start_time": "2023-02-28T08:24:25.198Z"
   },
   {
    "duration": 702,
    "start_time": "2023-02-28T15:01:27.116Z"
   },
   {
    "duration": 22,
    "start_time": "2023-02-28T15:01:27.820Z"
   },
   {
    "duration": 14,
    "start_time": "2023-02-28T15:01:27.844Z"
   },
   {
    "duration": 29,
    "start_time": "2023-02-28T15:01:27.860Z"
   },
   {
    "duration": 42,
    "start_time": "2023-02-28T15:01:27.891Z"
   },
   {
    "duration": 4,
    "start_time": "2023-02-28T15:01:27.935Z"
   },
   {
    "duration": 28,
    "start_time": "2023-02-28T15:01:27.940Z"
   },
   {
    "duration": 15,
    "start_time": "2023-02-28T15:01:27.969Z"
   },
   {
    "duration": 39,
    "start_time": "2023-02-28T15:01:27.986Z"
   },
   {
    "duration": 17,
    "start_time": "2023-02-28T15:01:28.027Z"
   },
   {
    "duration": 66,
    "start_time": "2023-02-28T15:01:28.045Z"
   },
   {
    "duration": 8,
    "start_time": "2023-02-28T15:01:28.113Z"
   },
   {
    "duration": 28,
    "start_time": "2023-02-28T15:01:28.123Z"
   },
   {
    "duration": 38,
    "start_time": "2023-02-28T15:01:28.154Z"
   },
   {
    "duration": 36,
    "start_time": "2023-02-28T15:01:28.193Z"
   },
   {
    "duration": 31,
    "start_time": "2023-02-28T15:01:28.230Z"
   },
   {
    "duration": 25,
    "start_time": "2023-02-28T15:01:28.262Z"
   },
   {
    "duration": 33,
    "start_time": "2023-02-28T15:01:28.289Z"
   },
   {
    "duration": 31,
    "start_time": "2023-02-28T15:01:28.324Z"
   },
   {
    "duration": 21,
    "start_time": "2023-02-28T15:01:28.357Z"
   },
   {
    "duration": 59,
    "start_time": "2023-02-28T15:01:28.380Z"
   },
   {
    "duration": 476,
    "start_time": "2023-02-28T15:01:28.441Z"
   },
   {
    "duration": 18,
    "start_time": "2023-02-28T15:01:28.919Z"
   },
   {
    "duration": 38,
    "start_time": "2023-02-28T15:01:28.939Z"
   },
   {
    "duration": 272,
    "start_time": "2023-02-28T15:01:28.979Z"
   },
   {
    "duration": 9,
    "start_time": "2023-02-28T15:01:29.253Z"
   },
   {
    "duration": 52,
    "start_time": "2023-02-28T15:01:29.264Z"
   },
   {
    "duration": 17,
    "start_time": "2023-02-28T15:01:29.318Z"
   },
   {
    "duration": 20,
    "start_time": "2023-02-28T15:01:29.337Z"
   },
   {
    "duration": 31,
    "start_time": "2023-02-28T15:01:29.359Z"
   },
   {
    "duration": 285,
    "start_time": "2023-02-28T15:01:29.392Z"
   },
   {
    "duration": 24,
    "start_time": "2023-02-28T15:01:29.679Z"
   },
   {
    "duration": 35,
    "start_time": "2023-02-28T15:01:29.705Z"
   },
   {
    "duration": 81,
    "start_time": "2023-02-28T15:01:29.742Z"
   },
   {
    "duration": 292,
    "start_time": "2023-02-28T15:01:29.825Z"
   },
   {
    "duration": 35,
    "start_time": "2023-02-28T15:01:30.118Z"
   },
   {
    "duration": 24,
    "start_time": "2023-02-28T15:01:30.155Z"
   },
   {
    "duration": 19,
    "start_time": "2023-02-28T15:01:30.181Z"
   },
   {
    "duration": 271,
    "start_time": "2023-02-28T15:01:30.202Z"
   },
   {
    "duration": 26,
    "start_time": "2023-02-28T15:01:30.475Z"
   },
   {
    "duration": 36,
    "start_time": "2023-02-28T15:01:30.505Z"
   },
   {
    "duration": 21,
    "start_time": "2023-02-28T15:01:30.542Z"
   },
   {
    "duration": 278,
    "start_time": "2023-02-28T15:02:00.945Z"
   },
   {
    "duration": 272,
    "start_time": "2023-02-28T15:02:30.615Z"
   },
   {
    "duration": 272,
    "start_time": "2023-02-28T15:02:37.941Z"
   },
   {
    "duration": 288,
    "start_time": "2023-02-28T15:02:47.667Z"
   },
   {
    "duration": 416,
    "start_time": "2023-02-28T15:03:28.722Z"
   },
   {
    "duration": 465,
    "start_time": "2023-02-28T15:03:45.871Z"
   },
   {
    "duration": 280,
    "start_time": "2023-02-28T15:04:07.626Z"
   },
   {
    "duration": 506,
    "start_time": "2023-02-28T15:04:55.044Z"
   },
   {
    "duration": 510,
    "start_time": "2023-02-28T15:05:09.846Z"
   },
   {
    "duration": 271,
    "start_time": "2023-02-28T15:05:32.118Z"
   },
   {
    "duration": 8,
    "start_time": "2023-02-28T15:05:54.214Z"
   },
   {
    "duration": 298,
    "start_time": "2023-02-28T15:06:11.818Z"
   },
   {
    "duration": 3,
    "start_time": "2023-02-28T15:06:26.003Z"
   },
   {
    "duration": 483,
    "start_time": "2023-02-28T15:07:23.903Z"
   },
   {
    "duration": 414,
    "start_time": "2023-02-28T15:07:44.141Z"
   },
   {
    "duration": 262,
    "start_time": "2023-02-28T15:07:51.947Z"
   },
   {
    "duration": 438,
    "start_time": "2023-02-28T15:14:15.085Z"
   },
   {
    "duration": 24,
    "start_time": "2023-02-28T15:14:15.525Z"
   },
   {
    "duration": 14,
    "start_time": "2023-02-28T15:14:15.551Z"
   },
   {
    "duration": 9,
    "start_time": "2023-02-28T15:14:15.567Z"
   },
   {
    "duration": 43,
    "start_time": "2023-02-28T15:14:15.578Z"
   },
   {
    "duration": 14,
    "start_time": "2023-02-28T15:14:15.622Z"
   },
   {
    "duration": 7,
    "start_time": "2023-02-28T15:14:15.638Z"
   },
   {
    "duration": 26,
    "start_time": "2023-02-28T15:14:15.647Z"
   },
   {
    "duration": 20,
    "start_time": "2023-02-28T15:14:15.675Z"
   },
   {
    "duration": 15,
    "start_time": "2023-02-28T15:14:15.698Z"
   },
   {
    "duration": 58,
    "start_time": "2023-02-28T15:14:15.715Z"
   },
   {
    "duration": 9,
    "start_time": "2023-02-28T15:14:15.774Z"
   },
   {
    "duration": 27,
    "start_time": "2023-02-28T15:14:15.785Z"
   },
   {
    "duration": 20,
    "start_time": "2023-02-28T15:14:15.814Z"
   },
   {
    "duration": 34,
    "start_time": "2023-02-28T15:14:15.836Z"
   },
   {
    "duration": 17,
    "start_time": "2023-02-28T15:14:15.872Z"
   },
   {
    "duration": 4,
    "start_time": "2023-02-28T15:14:15.890Z"
   },
   {
    "duration": 40,
    "start_time": "2023-02-28T15:14:15.895Z"
   },
   {
    "duration": 22,
    "start_time": "2023-02-28T15:14:15.937Z"
   },
   {
    "duration": 21,
    "start_time": "2023-02-28T15:14:15.962Z"
   },
   {
    "duration": 26,
    "start_time": "2023-02-28T15:14:15.985Z"
   },
   {
    "duration": 249,
    "start_time": "2023-02-28T15:14:16.013Z"
   },
   {
    "duration": 16,
    "start_time": "2023-02-28T15:14:16.263Z"
   },
   {
    "duration": 38,
    "start_time": "2023-02-28T15:14:16.281Z"
   },
   {
    "duration": 300,
    "start_time": "2023-02-28T15:14:16.321Z"
   },
   {
    "duration": 14,
    "start_time": "2023-02-28T15:14:16.624Z"
   },
   {
    "duration": 40,
    "start_time": "2023-02-28T15:14:16.639Z"
   },
   {
    "duration": 19,
    "start_time": "2023-02-28T15:14:16.682Z"
   },
   {
    "duration": 32,
    "start_time": "2023-02-28T15:14:16.703Z"
   },
   {
    "duration": 48,
    "start_time": "2023-02-28T15:14:16.737Z"
   },
   {
    "duration": 287,
    "start_time": "2023-02-28T15:14:16.787Z"
   },
   {
    "duration": 32,
    "start_time": "2023-02-28T15:14:17.076Z"
   },
   {
    "duration": 35,
    "start_time": "2023-02-28T15:14:17.110Z"
   },
   {
    "duration": 43,
    "start_time": "2023-02-28T15:14:17.147Z"
   },
   {
    "duration": 362,
    "start_time": "2023-02-28T15:14:17.191Z"
   },
   {
    "duration": 26,
    "start_time": "2023-02-28T15:14:17.554Z"
   },
   {
    "duration": 28,
    "start_time": "2023-02-28T15:14:17.582Z"
   },
   {
    "duration": 42,
    "start_time": "2023-02-28T15:14:17.612Z"
   },
   {
    "duration": 249,
    "start_time": "2023-02-28T15:14:17.655Z"
   },
   {
    "duration": 30,
    "start_time": "2023-02-28T15:14:17.907Z"
   },
   {
    "duration": 26,
    "start_time": "2023-02-28T15:14:17.939Z"
   },
   {
    "duration": 24,
    "start_time": "2023-02-28T15:14:17.967Z"
   },
   {
    "duration": 469,
    "start_time": "2023-02-28T16:02:23.293Z"
   },
   {
    "duration": 22,
    "start_time": "2023-02-28T16:02:23.765Z"
   },
   {
    "duration": 15,
    "start_time": "2023-02-28T16:02:23.789Z"
   },
   {
    "duration": 28,
    "start_time": "2023-02-28T16:02:23.806Z"
   },
   {
    "duration": 35,
    "start_time": "2023-02-28T16:02:23.837Z"
   },
   {
    "duration": 5,
    "start_time": "2023-02-28T16:02:23.874Z"
   },
   {
    "duration": 11,
    "start_time": "2023-02-28T16:02:23.880Z"
   },
   {
    "duration": 8,
    "start_time": "2023-02-28T16:02:23.894Z"
   },
   {
    "duration": 32,
    "start_time": "2023-02-28T16:02:23.904Z"
   },
   {
    "duration": 4,
    "start_time": "2023-02-28T16:02:23.939Z"
   },
   {
    "duration": 37,
    "start_time": "2023-02-28T16:02:23.945Z"
   },
   {
    "duration": 9,
    "start_time": "2023-02-28T16:02:23.984Z"
   },
   {
    "duration": 6,
    "start_time": "2023-02-28T16:02:23.995Z"
   },
   {
    "duration": 39,
    "start_time": "2023-02-28T16:02:24.004Z"
   },
   {
    "duration": 26,
    "start_time": "2023-02-28T16:02:24.045Z"
   },
   {
    "duration": 18,
    "start_time": "2023-02-28T16:02:24.073Z"
   },
   {
    "duration": 4,
    "start_time": "2023-02-28T16:02:24.092Z"
   },
   {
    "duration": 24,
    "start_time": "2023-02-28T16:02:24.098Z"
   },
   {
    "duration": 29,
    "start_time": "2023-02-28T16:02:24.124Z"
   },
   {
    "duration": 20,
    "start_time": "2023-02-28T16:02:24.155Z"
   },
   {
    "duration": 25,
    "start_time": "2023-02-28T16:02:24.176Z"
   },
   {
    "duration": 300,
    "start_time": "2023-02-28T16:02:24.202Z"
   },
   {
    "duration": 16,
    "start_time": "2023-02-28T16:02:24.505Z"
   },
   {
    "duration": 34,
    "start_time": "2023-02-28T16:02:24.523Z"
   },
   {
    "duration": 280,
    "start_time": "2023-02-28T16:02:24.559Z"
   },
   {
    "duration": 10,
    "start_time": "2023-02-28T16:02:24.841Z"
   },
   {
    "duration": 84,
    "start_time": "2023-02-28T16:02:24.852Z"
   },
   {
    "duration": 12,
    "start_time": "2023-02-28T16:02:24.937Z"
   },
   {
    "duration": 24,
    "start_time": "2023-02-28T16:02:24.951Z"
   },
   {
    "duration": 56,
    "start_time": "2023-02-28T16:02:24.976Z"
   },
   {
    "duration": 289,
    "start_time": "2023-02-28T16:02:25.034Z"
   },
   {
    "duration": 34,
    "start_time": "2023-02-28T16:02:25.325Z"
   },
   {
    "duration": 22,
    "start_time": "2023-02-28T16:02:25.361Z"
   },
   {
    "duration": 28,
    "start_time": "2023-02-28T16:02:25.384Z"
   },
   {
    "duration": 367,
    "start_time": "2023-02-28T16:02:25.414Z"
   },
   {
    "duration": 24,
    "start_time": "2023-02-28T16:02:25.783Z"
   },
   {
    "duration": 39,
    "start_time": "2023-02-28T16:02:25.808Z"
   },
   {
    "duration": 29,
    "start_time": "2023-02-28T16:02:25.849Z"
   },
   {
    "duration": 262,
    "start_time": "2023-02-28T16:02:25.880Z"
   },
   {
    "duration": 24,
    "start_time": "2023-02-28T16:02:26.144Z"
   },
   {
    "duration": 24,
    "start_time": "2023-02-28T16:02:26.171Z"
   },
   {
    "duration": 47,
    "start_time": "2023-02-28T16:02:26.197Z"
   },
   {
    "duration": 681,
    "start_time": "2023-02-28T16:45:39.983Z"
   },
   {
    "duration": 31,
    "start_time": "2023-02-28T16:45:40.667Z"
   },
   {
    "duration": 16,
    "start_time": "2023-02-28T16:45:40.699Z"
   },
   {
    "duration": 20,
    "start_time": "2023-02-28T16:45:40.717Z"
   },
   {
    "duration": 34,
    "start_time": "2023-02-28T16:45:40.739Z"
   },
   {
    "duration": 3,
    "start_time": "2023-02-28T16:45:40.775Z"
   },
   {
    "duration": 12,
    "start_time": "2023-02-28T16:45:40.780Z"
   },
   {
    "duration": 4,
    "start_time": "2023-02-28T16:45:40.794Z"
   },
   {
    "duration": 24,
    "start_time": "2023-02-28T16:45:40.800Z"
   },
   {
    "duration": 9,
    "start_time": "2023-02-28T16:45:40.840Z"
   },
   {
    "duration": 36,
    "start_time": "2023-02-28T16:45:40.851Z"
   },
   {
    "duration": 11,
    "start_time": "2023-02-28T16:45:40.888Z"
   },
   {
    "duration": 11,
    "start_time": "2023-02-28T16:45:40.900Z"
   },
   {
    "duration": 33,
    "start_time": "2023-02-28T16:45:40.913Z"
   },
   {
    "duration": 21,
    "start_time": "2023-02-28T16:45:40.948Z"
   },
   {
    "duration": 19,
    "start_time": "2023-02-28T16:45:40.971Z"
   },
   {
    "duration": 4,
    "start_time": "2023-02-28T16:45:40.992Z"
   },
   {
    "duration": 15,
    "start_time": "2023-02-28T16:45:40.998Z"
   },
   {
    "duration": 24,
    "start_time": "2023-02-28T16:45:41.015Z"
   },
   {
    "duration": 4,
    "start_time": "2023-02-28T16:45:41.041Z"
   },
   {
    "duration": 11,
    "start_time": "2023-02-28T16:45:41.046Z"
   },
   {
    "duration": 229,
    "start_time": "2023-02-28T16:45:41.058Z"
   },
   {
    "duration": 15,
    "start_time": "2023-02-28T16:45:41.288Z"
   },
   {
    "duration": 43,
    "start_time": "2023-02-28T16:45:41.305Z"
   },
   {
    "duration": 307,
    "start_time": "2023-02-28T16:45:41.350Z"
   },
   {
    "duration": 11,
    "start_time": "2023-02-28T16:45:41.659Z"
   },
   {
    "duration": 36,
    "start_time": "2023-02-28T16:45:41.672Z"
   },
   {
    "duration": 5,
    "start_time": "2023-02-28T16:45:41.713Z"
   },
   {
    "duration": 8,
    "start_time": "2023-02-28T16:45:41.737Z"
   },
   {
    "duration": 26,
    "start_time": "2023-02-28T16:45:41.747Z"
   },
   {
    "duration": 285,
    "start_time": "2023-02-28T16:45:41.775Z"
   },
   {
    "duration": 24,
    "start_time": "2023-02-28T16:45:42.062Z"
   },
   {
    "duration": 21,
    "start_time": "2023-02-28T16:45:42.088Z"
   },
   {
    "duration": 37,
    "start_time": "2023-02-28T16:45:42.110Z"
   },
   {
    "duration": 335,
    "start_time": "2023-02-28T16:45:42.149Z"
   },
   {
    "duration": 27,
    "start_time": "2023-02-28T16:45:42.486Z"
   },
   {
    "duration": 36,
    "start_time": "2023-02-28T16:45:42.515Z"
   },
   {
    "duration": 18,
    "start_time": "2023-02-28T16:45:42.553Z"
   },
   {
    "duration": 252,
    "start_time": "2023-02-28T16:45:42.573Z"
   },
   {
    "duration": 20,
    "start_time": "2023-02-28T16:45:42.835Z"
   },
   {
    "duration": 22,
    "start_time": "2023-02-28T16:45:42.856Z"
   },
   {
    "duration": 19,
    "start_time": "2023-02-28T16:45:42.880Z"
   },
   {
    "duration": 289,
    "start_time": "2023-02-28T16:46:05.532Z"
   },
   {
    "duration": 290,
    "start_time": "2023-02-28T16:47:51.935Z"
   },
   {
    "duration": 251,
    "start_time": "2023-02-28T16:48:02.177Z"
   },
   {
    "duration": 277,
    "start_time": "2023-02-28T16:48:08.149Z"
   },
   {
    "duration": 303,
    "start_time": "2023-02-28T16:48:17.178Z"
   },
   {
    "duration": 378,
    "start_time": "2023-02-28T16:50:05.741Z"
   },
   {
    "duration": 296,
    "start_time": "2023-02-28T16:50:14.048Z"
   }
  ],
  "colab": {
   "provenance": []
  },
  "kernelspec": {
   "display_name": "practicum",
   "language": "python",
   "name": "python3"
  },
  "language_info": {
   "codemirror_mode": {
    "name": "ipython",
    "version": 3
   },
   "file_extension": ".py",
   "mimetype": "text/x-python",
   "name": "python",
   "nbconvert_exporter": "python",
   "pygments_lexer": "ipython3",
   "version": "3.9.16"
  },
  "toc": {
   "base_numbering": 1,
   "nav_menu": {},
   "number_sections": true,
   "sideBar": true,
   "skip_h1_title": true,
   "title_cell": "Table of Contents",
   "title_sidebar": "Contents",
   "toc_cell": false,
   "toc_position": {},
   "toc_section_display": true,
   "toc_window_display": false
  },
  "vscode": {
   "interpreter": {
    "hash": "89f90dcd35a69389149ad683cca4b3829b0f1451329a755b247ff0a132bacaf4"
   }
  }
 },
 "nbformat": 4,
 "nbformat_minor": 5
}
